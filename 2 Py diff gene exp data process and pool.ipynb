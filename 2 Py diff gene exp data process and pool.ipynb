{
 "cells": [
  {
   "cell_type": "code",
   "execution_count": 1,
   "metadata": {},
   "outputs": [
    {
     "data": {
      "text/html": [
       "<style>.container { width:100% !important; }</style>"
      ],
      "text/plain": [
       "<IPython.core.display.HTML object>"
      ]
     },
     "metadata": {},
     "output_type": "display_data"
    }
   ],
   "source": [
    "from IPython.core.display import display, HTML\n",
    "display(HTML(\"<style>.container { width:100% !important; }</style>\"))\n",
    "%matplotlib inline"
   ]
  },
  {
   "cell_type": "code",
   "execution_count": 2,
   "metadata": {},
   "outputs": [],
   "source": [
    "project_dir_path = '/n/data1/hms/dbmi/farhat/Roger/gatesMRI/Projects/Biomarkers'"
   ]
  },
  {
   "cell_type": "markdown",
   "metadata": {},
   "source": [
    "#### Load Packages"
   ]
  },
  {
   "cell_type": "code",
   "execution_count": 3,
   "metadata": {},
   "outputs": [],
   "source": [
    "import os\n",
    "import pandas as pd\n",
    "import numpy as np\n",
    "from collections import Counter\n",
    "import matplotlib.pyplot as plt\n",
    "import matplotlib as mpl\n",
    "\n",
    "#for exporting to Adobe Illustrator\n",
    "mpl.rcParams['pdf.fonttype'] = 42\n",
    "mpl.rcParams['ps.fonttype'] = 42"
   ]
  },
  {
   "cell_type": "markdown",
   "metadata": {},
   "source": [
    "Create directory for figures"
   ]
  },
  {
   "cell_type": "code",
   "execution_count": 4,
   "metadata": {},
   "outputs": [],
   "source": [
    "figures_dir_path = f'{project_dir_path}/Figures/Notebook 2'\n",
    "if not os.path.exists(figures_dir_path):\n",
    "    os.makedirs(figures_dir_path)"
   ]
  },
  {
   "cell_type": "markdown",
   "metadata": {},
   "source": [
    "Create directory to store the *pooled* differential gene expression data"
   ]
  },
  {
   "cell_type": "code",
   "execution_count": 5,
   "metadata": {},
   "outputs": [],
   "source": [
    "pooled_diff_gene_exp_data = f'{project_dir_path}/Data/Pooled Differential Gene Expression'\n",
    "if not os.path.exists(pooled_diff_gene_exp_data):\n",
    "    os.makedirs(pooled_diff_gene_exp_data)"
   ]
  },
  {
   "cell_type": "markdown",
   "metadata": {},
   "source": [
    "Set parameters for plotting"
   ]
  },
  {
   "cell_type": "code",
   "execution_count": 6,
   "metadata": {},
   "outputs": [],
   "source": [
    "plt.style.use('ggplot')\n",
    "plt.rcParams['lines.linewidth']=3\n",
    "plt.rcParams['axes.facecolor']='1.0'\n",
    "plt.rcParams['xtick.color']='black'\n",
    "plt.rcParams['axes.grid']=True\n",
    "plt.rcParams['axes.edgecolor']='black'\n",
    "plt.rcParams['grid.color']= '1.0'\n",
    "plt.rcParams.update({'font.size': 12})"
   ]
  },
  {
   "cell_type": "markdown",
   "metadata": {},
   "source": [
    "### *Function* to parse through *differential expression* CSV files and returns:\n",
    "1. Gene Symbols\n",
    "1. log2FC\n",
    "1.  B-H adjusted p-value for different microarray platforms"
   ]
  },
  {
   "cell_type": "markdown",
   "metadata": {},
   "source": [
    "For each microarray experiment - iterate through each row (e.g. probe), find corresponding gene symbol (if one exists) and return corresponding log2FC & adjusted p-val"
   ]
  },
  {
   "cell_type": "code",
   "execution_count": 7,
   "metadata": {},
   "outputs": [],
   "source": [
    "def extract_gene_logFC_pval_from_diff_exp_csv(microarray_diff_exp_data_filepath_i):\n",
    "    \n",
    "    '''\n",
    "    input: path to differential expression CSV file\n",
    "    '''\n",
    "\n",
    "    diff_exp_data_df = pd.read_csv(microarray_diff_exp_data_filepath_i) #load dataframe from csv file\n",
    "\n",
    "    gene_symbols_list_microarray_i = [] \n",
    "    logFC_list_microarray_i = []\n",
    "    pval_list_microarray_i = []\n",
    "\n",
    "    microarray_platform = microarray_platform_dict[microarray_diff_exp_data_filepath_i.split('/')[-1].split('.')[0]]\n",
    "\n",
    "    if (microarray_platform == 'GPL6947') or (microarray_platform == 'GPL4133') or (microarray_platform == 'GPL10558') or (microarray_platform == 'GPL570') or (microarray_platform == 'GPL11532') or (microarray_platform == 'GPL6102') or (microarray_platform == 'GPL6480') or (microarray_platform == 'GPL6883'):\n",
    "                \n",
    "        diff_exp_data_df = diff_exp_data_df.loc[: , ['Gene.symbol' , 'logFC' , 'adj.P.Val']] #subset to relevant columns\n",
    "\n",
    "        for row_i in diff_exp_data_df.index:\n",
    "\n",
    "            gene_symbol_i , logFC_i , pval_i = diff_exp_data_df.loc[row_i , :]\n",
    "\n",
    "            #multiple genes, store logFC & pval for each gene\n",
    "            if (type(gene_symbol_i) == str) and ('///' in gene_symbol_i) and (np.isnan(logFC_i) == False) and (np.isnan(pval_i) == False):\n",
    "                for gene_symbol_i in list(set([gene for gene in gene_symbol_i.split('///')])):                                \n",
    "                    gene_symbols_list_microarray_i.append(gene_symbol_i.strip())\n",
    "                    logFC_list_microarray_i.append(logFC_i)\n",
    "                    pval_list_microarray_i.append(pval_i)\n",
    "\n",
    "            #one gene, if gene symbol exists, and logFC/pval exist, store data\n",
    "            elif (type(gene_symbol_i) == str) and (np.isnan(logFC_i) == False) and (np.isnan(pval_i) == False):\n",
    "                gene_symbols_list_microarray_i.append(gene_symbol_i.strip())\n",
    "                logFC_list_microarray_i.append(logFC_i)\n",
    "                pval_list_microarray_i.append(pval_i)\n",
    "                \n",
    "    elif (microarray_platform == 'GPL5175'):\n",
    "\n",
    "        diff_exp_data_df = diff_exp_data_df.loc[: , ['gene_assignment' , 'logFC' , 'adj.P.Val']]\n",
    "\n",
    "        for row_i in diff_exp_data_df.index:\n",
    "\n",
    "            gene_assignment_i , logFC_i , pval_i = diff_exp_data_df.loc[row_i , :]\n",
    "\n",
    "            #multiple genes, store logFC & pval for each gene\n",
    "            if (type(gene_assignment_i) == str) and ('///' in gene_assignment_i) and (np.isnan(logFC_i) == False) and (np.isnan(pval_i) == False):\n",
    "                for gene_symbol_i in list(set([gene_info.split('//')[1] for gene_info in gene_assignment_i.split('///')])):                                \n",
    "                    gene_symbols_list_microarray_i.append(gene_symbol_i.strip())\n",
    "                    logFC_list_microarray_i.append(logFC_i)\n",
    "                    pval_list_microarray_i.append(pval_i)\n",
    "\n",
    "            #one gene\n",
    "            elif (type(gene_assignment_i) == str) and ('//' in gene_assignment_i) and (np.isnan(logFC_i) == False) and (np.isnan(pval_i) == False):\n",
    "                gene_symbol_i = gene_assignment_i.split('//')[1]\n",
    "                gene_symbols_list_microarray_i.append(gene_symbol_i.strip())\n",
    "                logFC_list_microarray_i.append(logFC_i)\n",
    "                pval_list_microarray_i.append(pval_i)\n",
    "\n",
    "    elif (microarray_platform == 'GPL16951'):\n",
    "\n",
    "        diff_exp_data_df = diff_exp_data_df.loc[: , ['Gene_symbol' , 'logFC' , 'adj.P.Val']]\n",
    "\n",
    "        for row_i in diff_exp_data_df.index:\n",
    "\n",
    "            gene_symbol_i , logFC_i , pval_i = diff_exp_data_df.loc[row_i , :]\n",
    "\n",
    "            #multiple genes\n",
    "            if (gene_symbol_i != 'previous version conserved probe') and (type(gene_symbol_i) == str) and ('|' in gene_symbol_i) and (np.isnan(logFC_i) == False) and (np.isnan(pval_i) == False):\n",
    "                for gene_symbol_i in list(set([gene for gene in gene_symbol_i.split('|')])):                                \n",
    "                    gene_symbols_list_microarray_i.append(gene_symbol_i.strip())\n",
    "                    logFC_list_microarray_i.append(logFC_i)\n",
    "                    pval_list_microarray_i.append(pval_i)\n",
    "\n",
    "            #one gene\n",
    "            elif (gene_symbol_i != 'previous version conserved probe') and (type(gene_symbol_i) == str) and (np.isnan(logFC_i) == False) and (np.isnan(pval_i) == False):\n",
    "                gene_symbols_list_microarray_i.append(gene_symbol_i.strip())\n",
    "                logFC_list_microarray_i.append(logFC_i)\n",
    "                pval_list_microarray_i.append(pval_i)\n",
    "                \n",
    "                \n",
    "    elif (microarray_platform == 'RNAseq'):\n",
    "                \n",
    "        diff_exp_data_df = diff_exp_data_df.loc[: , ['genes' , 'logFC' , 'adj.P.Val']] #subset to relevant columns\n",
    "\n",
    "        for row_i in diff_exp_data_df.index:\n",
    "\n",
    "            gene_symbol_i , logFC_i , pval_i = diff_exp_data_df.loc[row_i , :]\n",
    "\n",
    "            #one gene, if gene symbol exists, and logFC/pval exist, store data\n",
    "            if (type(gene_symbol_i) == str) and (np.isnan(logFC_i) == False) and (np.isnan(pval_i) == False):\n",
    "                gene_symbols_list_microarray_i.append(gene_symbol_i.strip())\n",
    "                logFC_list_microarray_i.append(logFC_i)\n",
    "                pval_list_microarray_i.append(pval_i)\n",
    "\n",
    "    gene_logFC_pval_df = pd.DataFrame()\n",
    "    gene_logFC_pval_df['gene'] = gene_symbols_list_microarray_i\n",
    "    gene_logFC_pval_df['logFC'] = logFC_list_microarray_i\n",
    "    gene_logFC_pval_df['pval'] = pval_list_microarray_i\n",
    "    \n",
    "    #set index to gene symbol\n",
    "    gene_logFC_pval_df.set_index('gene' , inplace = True , drop = True)\n",
    "\n",
    "    return gene_logFC_pval_df"
   ]
  },
  {
   "cell_type": "markdown",
   "metadata": {},
   "source": [
    "### *Function* to parse through *processed differential expression* dataframes (gene symbols-logFC-pval) and return series with genes & logFC that have - "
   ]
  },
  {
   "cell_type": "markdown",
   "metadata": {},
   "source": [
    "1. $|\\log_2(FC)| > \\log_2(1.5)$\n",
    "1. $\\text{BH adjusted pval} \\le 0.05$\n",
    "1. If a gene has multiple rows (e.g. probes) that fit criteria for (1) and (2), report mean $\\log_2(FC)$ for all rows with $\\text{BH adj. pval} \\le 0.05$"
   ]
  },
  {
   "cell_type": "markdown",
   "metadata": {},
   "source": [
    "#### Run all cells in this notebook for q-val thresholds $\\in \\{0.05, 0.01, 0.005, 0.001\\}$!"
   ]
  },
  {
   "cell_type": "code",
   "execution_count": 8,
   "metadata": {},
   "outputs": [],
   "source": [
    "#set thresholds for logFC & pval\n",
    "logFC_thresh = np.log2(1.5)\n",
    "pval_thresh = 0.05 #0.01, 0.005, 0.001"
   ]
  },
  {
   "cell_type": "code",
   "execution_count": 9,
   "metadata": {},
   "outputs": [],
   "source": [
    "def extract_significant_gene_logFC(gene_logFC_pval_df, analysis_ID):\n",
    "\n",
    "    #get dictionary that counts the instances of each gene in this data (most will coorespond to 1 row)\n",
    "    num_rows_per_gene_dict = Counter(gene_logFC_pval_df.index) #keys:unique genes, values:number of rows w/ logFC\n",
    "    logFC_series = pd.Series(index = list(num_rows_per_gene_dict.keys()), name = analysis_ID) #empty series that stores logFC or NaN for each gene\n",
    "\n",
    "    #iterate through each gene, check if logFC & pval pass thresholds\n",
    "    for gene_i in logFC_series.index:\n",
    "\n",
    "        #one logFC measurement for gene\n",
    "        if num_rows_per_gene_dict[gene_i] == 1:\n",
    "\n",
    "            logFC_i , pval_i = gene_logFC_pval_df.loc[gene_i , :]\n",
    "\n",
    "            if (abs(logFC_i) > logFC_thresh) and (pval_i <= pval_thresh): #gene exp measurement meets thresholds\n",
    "                logFC_series[gene_i] = logFC_i\n",
    "            else:\n",
    "                logFC_series[gene_i] = 0.0\n",
    "\n",
    "        #multiple logFC measurements for gene\n",
    "        elif num_rows_per_gene_dict[gene_i] > 1:\n",
    "\n",
    "            valid_logFC_meas = [] #list of valid logFC measurements that meet thresholds\n",
    "            for logFC_i , pval_i in zip(gene_logFC_pval_df.loc[gene_i , 'logFC'], gene_logFC_pval_df.loc[gene_i , 'pval']):\n",
    "\n",
    "                if (abs(logFC_i) > logFC_thresh) and (pval_i <= pval_thresh):\n",
    "                    valid_logFC_meas.append(logFC_i)\n",
    "\n",
    "            if len(valid_logFC_meas) == 1: #one valid logFC measurement\n",
    "                logFC_series[gene_i] = valid_logFC_meas[0]\n",
    "            elif len(valid_logFC_meas) > 1: #multiple valid logFC measurements\n",
    "                logFC_series[gene_i] = np.mean(valid_logFC_meas)\n",
    "            elif len(valid_logFC_meas) == 0:\n",
    "                logFC_series[gene_i] = 0.0\n",
    "                \n",
    "    return logFC_series"
   ]
  },
  {
   "cell_type": "markdown",
   "metadata": {},
   "source": [
    "#### Mapping of microarray platform used for each study"
   ]
  },
  {
   "cell_type": "code",
   "execution_count": 10,
   "metadata": {},
   "outputs": [],
   "source": [
    "microarray_platform_dict = {\n",
    "'GSE19439' : 'GPL6947',\n",
    "'GSE19442' : 'GPL6947',\n",
    "'GSE19444' : 'GPL6947',\n",
    "'GSE22098' : 'GPL6947',\n",
    "'GSE28623' : 'GPL4133',\n",
    "'GSE29536' : 'GPL6102',\n",
    "'GSE34608' : 'GPL6480',\n",
    "'GSE37250' : 'GPL10558',\n",
    "'GSE39939' : 'GPL10558',\n",
    "'GSE39940' : 'GPL10558',\n",
    "'GSE41055' : 'GPL5175',\n",
    "'GSE42825' : 'GPL10558',\n",
    "'GSE42826' : 'GPL10558',\n",
    "'GSE42830' : 'GPL10558',\n",
    "'GSE50834' : 'GPL10558',\n",
    "'GSE56153' : 'GPL6883',\n",
    "'GSE54992' : 'GPL570',\n",
    "'GSE62147' : 'GPL6480',\n",
    "'GSE62525' : 'GPL16951',\n",
    "'GSE69581' : 'GPL10558',\n",
    "'GSE73408' : 'GPL11532',\n",
    "'GSE83456' : 'GPL10558',\n",
    "'GSE84076' : 'RNAseq',\n",
    "'GSE101705' : 'RNAseq',\n",
    "'GSE107993' : 'RNAseq',\n",
    "'GSE107994' : 'RNAseq'}"
   ]
  },
  {
   "cell_type": "markdown",
   "metadata": {},
   "source": [
    "# [1] ATB vs LTBI "
   ]
  },
  {
   "cell_type": "markdown",
   "metadata": {},
   "source": [
    "#### Directory where the Differential Gene Expression Data is stored"
   ]
  },
  {
   "cell_type": "code",
   "execution_count": 11,
   "metadata": {},
   "outputs": [],
   "source": [
    "microarray_diff_exp_data = f\"{project_dir_path}/Data/Microarray Differential Gene Expression/ATB_v_LTBI/\"\n",
    "if not os.path.exists(microarray_diff_exp_data):\n",
    "    os.makedirs(microarray_diff_exp_data)\n",
    "\n",
    "#seperate differential gene expression files from different studies\n",
    "microarray_diff_exp_data_files = [\n",
    "'GSE19439.csv', \n",
    "'GSE19442.csv', \n",
    "'GSE19444.csv', \n",
    "'GSE28623.csv', \n",
    "'GSE37250.csv', \n",
    "'GSE39939.csv', \n",
    "'GSE39940.csv', \n",
    "'GSE41055.csv',\n",
    "'GSE50834.csv',\n",
    "'GSE54992.csv', \n",
    "'GSE62525.csv', \n",
    "'GSE69581.csv', \n",
    "'GSE73408.csv']\n",
    "\n",
    "RNAseq_diff_exp_data = f\"{project_dir_path}/Data/RNAseq Differential Gene Expression/ATB_v_LTBI/\"\n",
    "if not os.path.exists(RNAseq_diff_exp_data):\n",
    "    os.makedirs(RNAseq_diff_exp_data)\n",
    "\n",
    "#seperate differential gene expression files from different studies\n",
    "RNAseq_diff_exp_data_files = [\n",
    "'GSE84076.csv', \n",
    "'GSE101705.csv', \n",
    "'GSE107994.csv']"
   ]
  },
  {
   "cell_type": "markdown",
   "metadata": {},
   "source": [
    "#### Extract significant logFC measurements from each differential gene expression analysis"
   ]
  },
  {
   "cell_type": "code",
   "execution_count": 12,
   "metadata": {},
   "outputs": [
    {
     "name": "stdout",
     "output_type": "stream",
     "text": [
      "processing file GSE19439\n"
     ]
    },
    {
     "name": "stderr",
     "output_type": "stream",
     "text": [
      "/home/rv76/anaconda2/envs/py36_MRI_virtualenv/lib/python3.6/site-packages/ipykernel_launcher.py:5: DeprecationWarning: The default dtype for empty Series will be 'object' instead of 'float64' in a future version. Specify a dtype explicitly to silence this warning.\n",
      "  \"\"\"\n"
     ]
    },
    {
     "name": "stdout",
     "output_type": "stream",
     "text": [
      "processing file GSE19442\n",
      "processing file GSE19444\n",
      "processing file GSE28623\n",
      "processing file GSE37250\n",
      "processing file GSE39939\n",
      "processing file GSE39940\n",
      "processing file GSE41055\n",
      "processing file GSE50834\n",
      "processing file GSE54992\n",
      "processing file GSE62525\n",
      "processing file GSE69581\n",
      "processing file GSE73408\n",
      "processing file GSE84076\n",
      "processing file GSE101705\n",
      "processing file GSE107994\n"
     ]
    }
   ],
   "source": [
    "#construct a dictionary to hold the logFC series for each analysis\n",
    "sig_gene_logFC_per_experiment_dict = {}\n",
    "\n",
    "for microarray_diff_exp_data_file_i in microarray_diff_exp_data_files:\n",
    "    \n",
    "    analysis_ID = microarray_diff_exp_data_file_i.split('.')[0]\n",
    "    print('processing file {0}'.format(analysis_ID))\n",
    "\n",
    "    #get logFC & pvals for all genes (and all probes) from diff gene exp experiment\n",
    "    gene_logFC_pval_df = extract_gene_logFC_pval_from_diff_exp_csv(microarray_diff_exp_data + microarray_diff_exp_data_file_i)\n",
    "\n",
    "    #filter for significant genes (with logFC > logFC_thresh, pval >= pval_thresh, ensure 1 gene measurement per analysis/experiment)\n",
    "    logFC_series = extract_significant_gene_logFC(gene_logFC_pval_df, analysis_ID)\n",
    "    \n",
    "    #store significant logFC per gene in dict\n",
    "    sig_gene_logFC_per_experiment_dict[analysis_ID] = logFC_series\n",
    "    \n",
    "for RNAseq_diff_exp_data_file_i in RNAseq_diff_exp_data_files:\n",
    "    \n",
    "    analysis_ID = RNAseq_diff_exp_data_file_i.split('.')[0]\n",
    "    print('processing file {0}'.format(analysis_ID))\n",
    "\n",
    "    #get logFC & pvals for all genes (and all probes) from diff gene exp experiment\n",
    "    gene_logFC_pval_df = extract_gene_logFC_pval_from_diff_exp_csv(RNAseq_diff_exp_data + RNAseq_diff_exp_data_file_i)\n",
    "\n",
    "    #filter for significant genes (with logFC > logFC_thresh, pval >= pval_thresh, ensure 1 gene measurement per analysis/experiment)\n",
    "    logFC_series = extract_significant_gene_logFC(gene_logFC_pval_df, analysis_ID)\n",
    "    \n",
    "    #store significant logFC per gene in dict\n",
    "    sig_gene_logFC_per_experiment_dict[analysis_ID] = logFC_series"
   ]
  },
  {
   "cell_type": "markdown",
   "metadata": {},
   "source": [
    "#### Create DataFrame to store all of the significant logFC changes across all analyses"
   ]
  },
  {
   "cell_type": "code",
   "execution_count": 13,
   "metadata": {},
   "outputs": [],
   "source": [
    "#construct a set of non-redundant genes across all studies for index of DataFrame\n",
    "unique_genes = set([])\n",
    "for analysis_ID in sig_gene_logFC_per_experiment_dict.keys():\n",
    "    \n",
    "    gene_set_i = set(sig_gene_logFC_per_experiment_dict[analysis_ID].index) #genes analyzed in experiment\n",
    "    unique_genes = unique_genes.union(gene_set_i) #append to set of genes\n",
    "    \n",
    "unique_genes = list(unique_genes) #convert to list\n",
    "\n",
    "#create DataFrame with zeros\n",
    "ATB_v_LTBI_diff_gene_exp_df = pd.DataFrame(index = unique_genes)\n",
    "\n",
    "#iterate over logFC series from each differential gene expression analysis and fill DataFrame\n",
    "for analysis_ID in sig_gene_logFC_per_experiment_dict.keys():\n",
    "    \n",
    "    #merge the series holding the logFC values from a specific dataset to the master dataframe with the significant logFC values from all datasets\n",
    "    ATB_v_LTBI_diff_gene_exp_df = ATB_v_LTBI_diff_gene_exp_df.join(sig_gene_logFC_per_experiment_dict[analysis_ID])\n",
    "    \n",
    "#fill any NaN values in the DataFrame with zeros (some microarray platforms may not have probes for specific genes)\n",
    "ATB_v_LTBI_diff_gene_exp_df.fillna(0.0 , inplace = True)"
   ]
  },
  {
   "cell_type": "code",
   "execution_count": 14,
   "metadata": {},
   "outputs": [
    {
     "data": {
      "text/html": [
       "<div>\n",
       "<style scoped>\n",
       "    .dataframe tbody tr th:only-of-type {\n",
       "        vertical-align: middle;\n",
       "    }\n",
       "\n",
       "    .dataframe tbody tr th {\n",
       "        vertical-align: top;\n",
       "    }\n",
       "\n",
       "    .dataframe thead th {\n",
       "        text-align: right;\n",
       "    }\n",
       "</style>\n",
       "<table border=\"1\" class=\"dataframe\">\n",
       "  <thead>\n",
       "    <tr style=\"text-align: right;\">\n",
       "      <th></th>\n",
       "      <th>GSE19439</th>\n",
       "      <th>GSE19442</th>\n",
       "      <th>GSE19444</th>\n",
       "      <th>GSE28623</th>\n",
       "      <th>GSE37250</th>\n",
       "      <th>GSE39939</th>\n",
       "      <th>GSE39940</th>\n",
       "      <th>GSE41055</th>\n",
       "      <th>GSE50834</th>\n",
       "      <th>GSE54992</th>\n",
       "      <th>GSE62525</th>\n",
       "      <th>GSE69581</th>\n",
       "      <th>GSE73408</th>\n",
       "      <th>GSE84076</th>\n",
       "      <th>GSE101705</th>\n",
       "      <th>GSE107994</th>\n",
       "    </tr>\n",
       "  </thead>\n",
       "  <tbody>\n",
       "    <tr>\n",
       "      <th>LINC00113</th>\n",
       "      <td>0.000000</td>\n",
       "      <td>0.000000</td>\n",
       "      <td>0.000000</td>\n",
       "      <td>0.0</td>\n",
       "      <td>0.000000</td>\n",
       "      <td>0.000000</td>\n",
       "      <td>0.000000</td>\n",
       "      <td>0.0</td>\n",
       "      <td>0.0</td>\n",
       "      <td>0.000000</td>\n",
       "      <td>0.000000</td>\n",
       "      <td>0.000000</td>\n",
       "      <td>0.000000</td>\n",
       "      <td>0.0</td>\n",
       "      <td>0.000000</td>\n",
       "      <td>0.000000</td>\n",
       "    </tr>\n",
       "    <tr>\n",
       "      <th>SPOCK2</th>\n",
       "      <td>-1.149654</td>\n",
       "      <td>-0.759268</td>\n",
       "      <td>-0.743008</td>\n",
       "      <td>0.0</td>\n",
       "      <td>-1.195263</td>\n",
       "      <td>-1.448967</td>\n",
       "      <td>-1.018452</td>\n",
       "      <td>0.0</td>\n",
       "      <td>0.0</td>\n",
       "      <td>-1.349311</td>\n",
       "      <td>-0.636208</td>\n",
       "      <td>-0.587279</td>\n",
       "      <td>-0.768834</td>\n",
       "      <td>0.0</td>\n",
       "      <td>-1.225744</td>\n",
       "      <td>-0.849987</td>\n",
       "    </tr>\n",
       "    <tr>\n",
       "      <th>HS3ST5</th>\n",
       "      <td>0.000000</td>\n",
       "      <td>0.000000</td>\n",
       "      <td>0.000000</td>\n",
       "      <td>0.0</td>\n",
       "      <td>0.000000</td>\n",
       "      <td>0.000000</td>\n",
       "      <td>0.000000</td>\n",
       "      <td>0.0</td>\n",
       "      <td>0.0</td>\n",
       "      <td>0.000000</td>\n",
       "      <td>0.000000</td>\n",
       "      <td>0.000000</td>\n",
       "      <td>0.000000</td>\n",
       "      <td>0.0</td>\n",
       "      <td>0.000000</td>\n",
       "      <td>0.000000</td>\n",
       "    </tr>\n",
       "    <tr>\n",
       "      <th>CTD-2201I18.1</th>\n",
       "      <td>0.000000</td>\n",
       "      <td>0.000000</td>\n",
       "      <td>0.000000</td>\n",
       "      <td>0.0</td>\n",
       "      <td>0.000000</td>\n",
       "      <td>0.000000</td>\n",
       "      <td>0.000000</td>\n",
       "      <td>0.0</td>\n",
       "      <td>0.0</td>\n",
       "      <td>0.000000</td>\n",
       "      <td>0.000000</td>\n",
       "      <td>0.000000</td>\n",
       "      <td>0.000000</td>\n",
       "      <td>0.0</td>\n",
       "      <td>-0.694726</td>\n",
       "      <td>0.000000</td>\n",
       "    </tr>\n",
       "    <tr>\n",
       "      <th>HSFY1P1</th>\n",
       "      <td>0.000000</td>\n",
       "      <td>0.000000</td>\n",
       "      <td>0.000000</td>\n",
       "      <td>0.0</td>\n",
       "      <td>0.000000</td>\n",
       "      <td>0.000000</td>\n",
       "      <td>0.000000</td>\n",
       "      <td>0.0</td>\n",
       "      <td>0.0</td>\n",
       "      <td>0.000000</td>\n",
       "      <td>0.000000</td>\n",
       "      <td>0.000000</td>\n",
       "      <td>0.000000</td>\n",
       "      <td>0.0</td>\n",
       "      <td>0.000000</td>\n",
       "      <td>0.000000</td>\n",
       "    </tr>\n",
       "    <tr>\n",
       "      <th>...</th>\n",
       "      <td>...</td>\n",
       "      <td>...</td>\n",
       "      <td>...</td>\n",
       "      <td>...</td>\n",
       "      <td>...</td>\n",
       "      <td>...</td>\n",
       "      <td>...</td>\n",
       "      <td>...</td>\n",
       "      <td>...</td>\n",
       "      <td>...</td>\n",
       "      <td>...</td>\n",
       "      <td>...</td>\n",
       "      <td>...</td>\n",
       "      <td>...</td>\n",
       "      <td>...</td>\n",
       "      <td>...</td>\n",
       "    </tr>\n",
       "    <tr>\n",
       "      <th>DACT3</th>\n",
       "      <td>0.000000</td>\n",
       "      <td>0.000000</td>\n",
       "      <td>0.000000</td>\n",
       "      <td>0.0</td>\n",
       "      <td>0.000000</td>\n",
       "      <td>0.000000</td>\n",
       "      <td>0.000000</td>\n",
       "      <td>0.0</td>\n",
       "      <td>0.0</td>\n",
       "      <td>0.000000</td>\n",
       "      <td>0.000000</td>\n",
       "      <td>0.000000</td>\n",
       "      <td>0.000000</td>\n",
       "      <td>0.0</td>\n",
       "      <td>0.000000</td>\n",
       "      <td>0.000000</td>\n",
       "    </tr>\n",
       "    <tr>\n",
       "      <th>ACCN2</th>\n",
       "      <td>0.000000</td>\n",
       "      <td>0.000000</td>\n",
       "      <td>0.000000</td>\n",
       "      <td>0.0</td>\n",
       "      <td>0.000000</td>\n",
       "      <td>0.000000</td>\n",
       "      <td>0.000000</td>\n",
       "      <td>0.0</td>\n",
       "      <td>0.0</td>\n",
       "      <td>0.000000</td>\n",
       "      <td>0.000000</td>\n",
       "      <td>0.000000</td>\n",
       "      <td>0.000000</td>\n",
       "      <td>0.0</td>\n",
       "      <td>0.000000</td>\n",
       "      <td>0.000000</td>\n",
       "    </tr>\n",
       "    <tr>\n",
       "      <th>GOLGA2P7</th>\n",
       "      <td>0.000000</td>\n",
       "      <td>0.000000</td>\n",
       "      <td>0.000000</td>\n",
       "      <td>0.0</td>\n",
       "      <td>0.000000</td>\n",
       "      <td>0.000000</td>\n",
       "      <td>0.000000</td>\n",
       "      <td>0.0</td>\n",
       "      <td>0.0</td>\n",
       "      <td>0.000000</td>\n",
       "      <td>0.000000</td>\n",
       "      <td>0.000000</td>\n",
       "      <td>0.000000</td>\n",
       "      <td>0.0</td>\n",
       "      <td>0.000000</td>\n",
       "      <td>0.000000</td>\n",
       "    </tr>\n",
       "    <tr>\n",
       "      <th>LOC400748</th>\n",
       "      <td>0.000000</td>\n",
       "      <td>0.000000</td>\n",
       "      <td>0.000000</td>\n",
       "      <td>0.0</td>\n",
       "      <td>0.000000</td>\n",
       "      <td>0.000000</td>\n",
       "      <td>0.000000</td>\n",
       "      <td>0.0</td>\n",
       "      <td>0.0</td>\n",
       "      <td>0.000000</td>\n",
       "      <td>0.000000</td>\n",
       "      <td>0.000000</td>\n",
       "      <td>0.000000</td>\n",
       "      <td>0.0</td>\n",
       "      <td>0.000000</td>\n",
       "      <td>0.000000</td>\n",
       "    </tr>\n",
       "    <tr>\n",
       "      <th>LINC01198</th>\n",
       "      <td>0.000000</td>\n",
       "      <td>0.000000</td>\n",
       "      <td>0.000000</td>\n",
       "      <td>0.0</td>\n",
       "      <td>0.000000</td>\n",
       "      <td>0.000000</td>\n",
       "      <td>0.000000</td>\n",
       "      <td>0.0</td>\n",
       "      <td>0.0</td>\n",
       "      <td>0.000000</td>\n",
       "      <td>0.000000</td>\n",
       "      <td>0.000000</td>\n",
       "      <td>0.000000</td>\n",
       "      <td>0.0</td>\n",
       "      <td>0.000000</td>\n",
       "      <td>0.000000</td>\n",
       "    </tr>\n",
       "  </tbody>\n",
       "</table>\n",
       "<p>30641 rows × 16 columns</p>\n",
       "</div>"
      ],
      "text/plain": [
       "               GSE19439  GSE19442  GSE19444  GSE28623  GSE37250  GSE39939  \\\n",
       "LINC00113      0.000000  0.000000  0.000000       0.0  0.000000  0.000000   \n",
       "SPOCK2        -1.149654 -0.759268 -0.743008       0.0 -1.195263 -1.448967   \n",
       "HS3ST5         0.000000  0.000000  0.000000       0.0  0.000000  0.000000   \n",
       "CTD-2201I18.1  0.000000  0.000000  0.000000       0.0  0.000000  0.000000   \n",
       "HSFY1P1        0.000000  0.000000  0.000000       0.0  0.000000  0.000000   \n",
       "...                 ...       ...       ...       ...       ...       ...   \n",
       "DACT3          0.000000  0.000000  0.000000       0.0  0.000000  0.000000   \n",
       "ACCN2          0.000000  0.000000  0.000000       0.0  0.000000  0.000000   \n",
       "GOLGA2P7       0.000000  0.000000  0.000000       0.0  0.000000  0.000000   \n",
       "LOC400748      0.000000  0.000000  0.000000       0.0  0.000000  0.000000   \n",
       "LINC01198      0.000000  0.000000  0.000000       0.0  0.000000  0.000000   \n",
       "\n",
       "               GSE39940  GSE41055  GSE50834  GSE54992  GSE62525  GSE69581  \\\n",
       "LINC00113      0.000000       0.0       0.0  0.000000  0.000000  0.000000   \n",
       "SPOCK2        -1.018452       0.0       0.0 -1.349311 -0.636208 -0.587279   \n",
       "HS3ST5         0.000000       0.0       0.0  0.000000  0.000000  0.000000   \n",
       "CTD-2201I18.1  0.000000       0.0       0.0  0.000000  0.000000  0.000000   \n",
       "HSFY1P1        0.000000       0.0       0.0  0.000000  0.000000  0.000000   \n",
       "...                 ...       ...       ...       ...       ...       ...   \n",
       "DACT3          0.000000       0.0       0.0  0.000000  0.000000  0.000000   \n",
       "ACCN2          0.000000       0.0       0.0  0.000000  0.000000  0.000000   \n",
       "GOLGA2P7       0.000000       0.0       0.0  0.000000  0.000000  0.000000   \n",
       "LOC400748      0.000000       0.0       0.0  0.000000  0.000000  0.000000   \n",
       "LINC01198      0.000000       0.0       0.0  0.000000  0.000000  0.000000   \n",
       "\n",
       "               GSE73408  GSE84076  GSE101705  GSE107994  \n",
       "LINC00113      0.000000       0.0   0.000000   0.000000  \n",
       "SPOCK2        -0.768834       0.0  -1.225744  -0.849987  \n",
       "HS3ST5         0.000000       0.0   0.000000   0.000000  \n",
       "CTD-2201I18.1  0.000000       0.0  -0.694726   0.000000  \n",
       "HSFY1P1        0.000000       0.0   0.000000   0.000000  \n",
       "...                 ...       ...        ...        ...  \n",
       "DACT3          0.000000       0.0   0.000000   0.000000  \n",
       "ACCN2          0.000000       0.0   0.000000   0.000000  \n",
       "GOLGA2P7       0.000000       0.0   0.000000   0.000000  \n",
       "LOC400748      0.000000       0.0   0.000000   0.000000  \n",
       "LINC01198      0.000000       0.0   0.000000   0.000000  \n",
       "\n",
       "[30641 rows x 16 columns]"
      ]
     },
     "execution_count": 14,
     "metadata": {},
     "output_type": "execute_result"
    }
   ],
   "source": [
    "ATB_v_LTBI_diff_gene_exp_df"
   ]
  },
  {
   "cell_type": "markdown",
   "metadata": {},
   "source": [
    "#### Output DataFrame as a CSV"
   ]
  },
  {
   "cell_type": "code",
   "execution_count": 15,
   "metadata": {},
   "outputs": [],
   "source": [
    "ATB_v_LTBI_diff_gene_exp_df.to_csv(f'{pooled_diff_gene_exp_data}/ATB_v_LTBI_signif_logFC_qval_thresh_{pval_thresh}.csv')"
   ]
  },
  {
   "cell_type": "markdown",
   "metadata": {},
   "source": [
    "#### Across how many datasets was each gene *significantly* differentially expressed in?"
   ]
  },
  {
   "cell_type": "code",
   "execution_count": 16,
   "metadata": {},
   "outputs": [
    {
     "name": "stderr",
     "output_type": "stream",
     "text": [
      "/home/rv76/anaconda2/envs/py36_MRI_virtualenv/lib/python3.6/site-packages/ipykernel_launcher.py:1: DeprecationWarning: The default dtype for empty Series will be 'object' instead of 'float64' in a future version. Specify a dtype explicitly to silence this warning.\n",
      "  \"\"\"Entry point for launching an IPython kernel.\n"
     ]
    }
   ],
   "source": [
    "num_datasets_diff_exp_per_gene = pd.Series(index = ATB_v_LTBI_diff_gene_exp_df.index)\n",
    "\n",
    "#iterate through each gene\n",
    "for gene_i in num_datasets_diff_exp_per_gene.index:\n",
    "    \n",
    "    #boolean filter for specific gene that is TRUE is gene was significantly differentially expressed in study & FALSE otherwise\n",
    "    num_datasets_diff_exp_per_gene[gene_i] = np.sum(ATB_v_LTBI_diff_gene_exp_df.loc[gene_i , :] != 0.0)"
   ]
  },
  {
   "cell_type": "code",
   "execution_count": 17,
   "metadata": {},
   "outputs": [
    {
     "data": {
      "text/plain": [
       "FCGR1B    14.0\n",
       "IFITM3    13.0\n",
       "FBXO6     13.0\n",
       "GPR183    13.0\n",
       "FCGR1A    13.0\n",
       "dtype: float64"
      ]
     },
     "execution_count": 17,
     "metadata": {},
     "output_type": "execute_result"
    }
   ],
   "source": [
    "num_datasets_diff_exp_per_gene.sort_values(ascending = False).head(n = 5)"
   ]
  },
  {
   "cell_type": "code",
   "execution_count": 18,
   "metadata": {},
   "outputs": [
    {
     "data": {
      "image/png": "[encoded data removed]",
      "text/plain": [
       "<Figure size 540x306 with 1 Axes>"
      ]
     },
     "metadata": {},
     "output_type": "display_data"
    }
   ],
   "source": [
    "fig , ax = plt.subplots()\n",
    "\n",
    "n , bins , patches = plt.hist(num_datasets_diff_exp_per_gene ,bins = np.arange(np.min(num_datasets_diff_exp_per_gene), np.max(num_datasets_diff_exp_per_gene) + 1.5) , color = 'k' , rwidth = 1.0 , edgecolor='white', linewidth=1.35 , align = 'left')\n",
    "\n",
    "plt.xlabel('number of datasets gene is significantly differentially expressed in', fontweight = 'bold' , fontsize = 10, color = 'k')\n",
    "plt.ylabel('number of genes', fontweight = 'bold' , fontsize = 10, color = 'k')\n",
    "\n",
    "ax.spines['right'].set_visible(False)\n",
    "ax.spines['top'].set_visible(False)\n",
    "\n",
    "ax.tick_params(labelcolor = 'k')\n",
    "ax.set_yscale('log')\n",
    "\n",
    "fig = plt.gcf()\n",
    "fig.set_size_inches(7.5, 4.25)\n",
    "fig.tight_layout()\n",
    "\n",
    "plt.tick_params(axis='y', which='major', labelsize=12 , labelcolor = 'k')\n",
    "plt.tick_params(axis='x', which='major', labelsize=12 , labelcolor = 'k')\n",
    "\n",
    "file_name = f'{figures_dir_path}/ATB_v_LTBI_num_genes_diff_expressed_across_datasets_{pval_thresh}.pdf'\n",
    "plt.savefig(file_name, bbox_inches='tight', dpi = 300 , transparent = True)\n",
    "\n",
    "plt.show()"
   ]
  },
  {
   "cell_type": "markdown",
   "metadata": {},
   "source": [
    "# [2] ATB vs HC"
   ]
  },
  {
   "cell_type": "markdown",
   "metadata": {},
   "source": [
    "#### Directory where the Differential Gene Expression Data is stored"
   ]
  },
  {
   "cell_type": "code",
   "execution_count": 19,
   "metadata": {},
   "outputs": [],
   "source": [
    "microarray_diff_exp_data = f\"{project_dir_path}/Data/Microarray Differential Gene Expression/ATB_v_HC/\"\n",
    "if not os.path.exists(microarray_diff_exp_data):\n",
    "    os.makedirs(microarray_diff_exp_data)\n",
    "\n",
    "#seperate differential gene expression files from different studies\n",
    "microarray_diff_exp_data_files = [\n",
    "'GSE19439.csv', \n",
    "'GSE19444.csv', \n",
    "'GSE28623.csv', \n",
    "'GSE29536.csv', \n",
    "'GSE34608.csv', \n",
    "'GSE41055.csv', \n",
    "'GSE42825.csv', \n",
    "'GSE42826.csv', \n",
    "'GSE42830.csv', \n",
    "'GSE54992.csv',\n",
    "'GSE56153.csv', \n",
    "'GSE62525.csv',\n",
    "'GSE83456.csv']\n",
    "\n",
    "RNAseq_diff_exp_data = f\"{project_dir_path}/Data/RNAseq Differential Gene Expression/ATB_v_HC/\"\n",
    "if not os.path.exists(RNAseq_diff_exp_data):\n",
    "    os.makedirs(RNAseq_diff_exp_data)\n",
    "\n",
    "#seperate differential gene expression files from different studies\n",
    "RNAseq_diff_exp_data_files = [\n",
    "'GSE84076.csv', \n",
    "'GSE107994.csv']"
   ]
  },
  {
   "cell_type": "markdown",
   "metadata": {},
   "source": [
    "#### Extract significant logFC measurements from each differential gene expression analysis"
   ]
  },
  {
   "cell_type": "code",
   "execution_count": 20,
   "metadata": {},
   "outputs": [
    {
     "name": "stdout",
     "output_type": "stream",
     "text": [
      "processing file GSE19439\n"
     ]
    },
    {
     "name": "stderr",
     "output_type": "stream",
     "text": [
      "/home/rv76/anaconda2/envs/py36_MRI_virtualenv/lib/python3.6/site-packages/ipykernel_launcher.py:5: DeprecationWarning: The default dtype for empty Series will be 'object' instead of 'float64' in a future version. Specify a dtype explicitly to silence this warning.\n",
      "  \"\"\"\n"
     ]
    },
    {
     "name": "stdout",
     "output_type": "stream",
     "text": [
      "processing file GSE19444\n",
      "processing file GSE28623\n",
      "processing file GSE29536\n",
      "processing file GSE34608\n",
      "processing file GSE41055\n",
      "processing file GSE42825\n",
      "processing file GSE42826\n",
      "processing file GSE42830\n",
      "processing file GSE54992\n",
      "processing file GSE56153\n",
      "processing file GSE62525\n",
      "processing file GSE83456\n",
      "processing file GSE84076\n",
      "processing file GSE107994\n"
     ]
    }
   ],
   "source": [
    "#construct a dictionary to hold the logFC series for each analysis\n",
    "sig_gene_logFC_per_experiment_dict = {}\n",
    "\n",
    "for microarray_diff_exp_data_file_i in microarray_diff_exp_data_files:\n",
    "    \n",
    "    analysis_ID = microarray_diff_exp_data_file_i.split('.')[0]\n",
    "    print('processing file {0}'.format(analysis_ID))\n",
    "\n",
    "    #get logFC & pvals for all genes (and all probes) from diff gene exp experiment\n",
    "    gene_logFC_pval_df = extract_gene_logFC_pval_from_diff_exp_csv(microarray_diff_exp_data + microarray_diff_exp_data_file_i)\n",
    "\n",
    "    #filter for significant genes (with logFC > logFC_thresh, pval >= pval_thresh, ensure 1 gene measurement per analysis/experiment)\n",
    "    logFC_series = extract_significant_gene_logFC(gene_logFC_pval_df, analysis_ID)\n",
    "    \n",
    "    #store significant logFC per gene in dict\n",
    "    sig_gene_logFC_per_experiment_dict[analysis_ID] = logFC_series\n",
    "    \n",
    "for RNAseq_diff_exp_data_file_i in RNAseq_diff_exp_data_files:\n",
    "    \n",
    "    analysis_ID = RNAseq_diff_exp_data_file_i.split('.')[0]\n",
    "    print('processing file {0}'.format(analysis_ID))\n",
    "\n",
    "    #get logFC & pvals for all genes (and all probes) from diff gene exp experiment\n",
    "    gene_logFC_pval_df = extract_gene_logFC_pval_from_diff_exp_csv(RNAseq_diff_exp_data + RNAseq_diff_exp_data_file_i)\n",
    "\n",
    "    #filter for significant genes (with logFC > logFC_thresh, pval >= pval_thresh, ensure 1 gene measurement per analysis/experiment)\n",
    "    logFC_series = extract_significant_gene_logFC(gene_logFC_pval_df, analysis_ID)\n",
    "    \n",
    "    #store significant logFC per gene in dict\n",
    "    sig_gene_logFC_per_experiment_dict[analysis_ID] = logFC_series"
   ]
  },
  {
   "cell_type": "markdown",
   "metadata": {},
   "source": [
    "#### Create DataFrame to store all of the significant logFC changes across all analyses"
   ]
  },
  {
   "cell_type": "code",
   "execution_count": 21,
   "metadata": {},
   "outputs": [],
   "source": [
    "#construct a set of non-redundant genes across all studies for index of DataFrame\n",
    "unique_genes = set([])\n",
    "for analysis_ID in sig_gene_logFC_per_experiment_dict.keys():\n",
    "    \n",
    "    gene_set_i = set(sig_gene_logFC_per_experiment_dict[analysis_ID].index) #genes analyzed in experiment\n",
    "    unique_genes = unique_genes.union(gene_set_i) #append to set of genes\n",
    "    \n",
    "unique_genes = list(unique_genes) #convert to list\n",
    "\n",
    "#create DataFrame with zeros\n",
    "ATB_v_HC_diff_gene_exp_df = pd.DataFrame(index = unique_genes)\n",
    "\n",
    "#iterate over logFC series from each differential gene expression analysis and fill DataFrame\n",
    "for analysis_ID in sig_gene_logFC_per_experiment_dict.keys():\n",
    "    \n",
    "    #merge the series holding the logFC values from a specific dataset to the master dataframe with the significant logFC values from all datasets\n",
    "    ATB_v_HC_diff_gene_exp_df = ATB_v_HC_diff_gene_exp_df.join(sig_gene_logFC_per_experiment_dict[analysis_ID])\n",
    "    \n",
    "#fill any NaN values in the DataFrame with zeros (some microarray platforms may not have probes for specific genes)\n",
    "ATB_v_HC_diff_gene_exp_df.fillna(0.0 , inplace = True)"
   ]
  },
  {
   "cell_type": "code",
   "execution_count": 22,
   "metadata": {},
   "outputs": [
    {
     "data": {
      "text/html": [
       "<div>\n",
       "<style scoped>\n",
       "    .dataframe tbody tr th:only-of-type {\n",
       "        vertical-align: middle;\n",
       "    }\n",
       "\n",
       "    .dataframe tbody tr th {\n",
       "        vertical-align: top;\n",
       "    }\n",
       "\n",
       "    .dataframe thead th {\n",
       "        text-align: right;\n",
       "    }\n",
       "</style>\n",
       "<table border=\"1\" class=\"dataframe\">\n",
       "  <thead>\n",
       "    <tr style=\"text-align: right;\">\n",
       "      <th></th>\n",
       "      <th>GSE19439</th>\n",
       "      <th>GSE19444</th>\n",
       "      <th>GSE28623</th>\n",
       "      <th>GSE29536</th>\n",
       "      <th>GSE34608</th>\n",
       "      <th>GSE41055</th>\n",
       "      <th>GSE42825</th>\n",
       "      <th>GSE42826</th>\n",
       "      <th>GSE42830</th>\n",
       "      <th>GSE54992</th>\n",
       "      <th>GSE56153</th>\n",
       "      <th>GSE62525</th>\n",
       "      <th>GSE83456</th>\n",
       "      <th>GSE84076</th>\n",
       "      <th>GSE107994</th>\n",
       "    </tr>\n",
       "  </thead>\n",
       "  <tbody>\n",
       "    <tr>\n",
       "      <th>LINC00113</th>\n",
       "      <td>0.0</td>\n",
       "      <td>0.000000</td>\n",
       "      <td>0.0</td>\n",
       "      <td>0.000000</td>\n",
       "      <td>0.000000</td>\n",
       "      <td>0.0</td>\n",
       "      <td>0.00000</td>\n",
       "      <td>0.000000</td>\n",
       "      <td>0.000000</td>\n",
       "      <td>0.000000</td>\n",
       "      <td>0.0</td>\n",
       "      <td>0.000000</td>\n",
       "      <td>0.000000</td>\n",
       "      <td>0.0</td>\n",
       "      <td>0.000000</td>\n",
       "    </tr>\n",
       "    <tr>\n",
       "      <th>SPOCK2</th>\n",
       "      <td>0.0</td>\n",
       "      <td>-0.728576</td>\n",
       "      <td>0.0</td>\n",
       "      <td>-1.313967</td>\n",
       "      <td>-2.141097</td>\n",
       "      <td>0.0</td>\n",
       "      <td>-0.97137</td>\n",
       "      <td>-0.897573</td>\n",
       "      <td>-1.140355</td>\n",
       "      <td>-1.417705</td>\n",
       "      <td>0.0</td>\n",
       "      <td>-1.078002</td>\n",
       "      <td>-0.779516</td>\n",
       "      <td>0.0</td>\n",
       "      <td>-0.926442</td>\n",
       "    </tr>\n",
       "    <tr>\n",
       "      <th>HS3ST5</th>\n",
       "      <td>0.0</td>\n",
       "      <td>0.000000</td>\n",
       "      <td>0.0</td>\n",
       "      <td>0.000000</td>\n",
       "      <td>0.000000</td>\n",
       "      <td>0.0</td>\n",
       "      <td>0.00000</td>\n",
       "      <td>0.000000</td>\n",
       "      <td>0.000000</td>\n",
       "      <td>0.000000</td>\n",
       "      <td>0.0</td>\n",
       "      <td>0.941096</td>\n",
       "      <td>0.000000</td>\n",
       "      <td>0.0</td>\n",
       "      <td>0.000000</td>\n",
       "    </tr>\n",
       "    <tr>\n",
       "      <th>HSFY1P1</th>\n",
       "      <td>0.0</td>\n",
       "      <td>0.000000</td>\n",
       "      <td>0.0</td>\n",
       "      <td>0.000000</td>\n",
       "      <td>0.000000</td>\n",
       "      <td>0.0</td>\n",
       "      <td>0.00000</td>\n",
       "      <td>0.000000</td>\n",
       "      <td>0.000000</td>\n",
       "      <td>0.000000</td>\n",
       "      <td>0.0</td>\n",
       "      <td>0.000000</td>\n",
       "      <td>0.000000</td>\n",
       "      <td>0.0</td>\n",
       "      <td>0.000000</td>\n",
       "    </tr>\n",
       "    <tr>\n",
       "      <th>LOC102723557</th>\n",
       "      <td>0.0</td>\n",
       "      <td>0.000000</td>\n",
       "      <td>0.0</td>\n",
       "      <td>0.000000</td>\n",
       "      <td>0.000000</td>\n",
       "      <td>0.0</td>\n",
       "      <td>0.00000</td>\n",
       "      <td>0.000000</td>\n",
       "      <td>0.000000</td>\n",
       "      <td>0.000000</td>\n",
       "      <td>0.0</td>\n",
       "      <td>0.000000</td>\n",
       "      <td>0.000000</td>\n",
       "      <td>0.0</td>\n",
       "      <td>0.000000</td>\n",
       "    </tr>\n",
       "    <tr>\n",
       "      <th>...</th>\n",
       "      <td>...</td>\n",
       "      <td>...</td>\n",
       "      <td>...</td>\n",
       "      <td>...</td>\n",
       "      <td>...</td>\n",
       "      <td>...</td>\n",
       "      <td>...</td>\n",
       "      <td>...</td>\n",
       "      <td>...</td>\n",
       "      <td>...</td>\n",
       "      <td>...</td>\n",
       "      <td>...</td>\n",
       "      <td>...</td>\n",
       "      <td>...</td>\n",
       "      <td>...</td>\n",
       "    </tr>\n",
       "    <tr>\n",
       "      <th>DACT3</th>\n",
       "      <td>0.0</td>\n",
       "      <td>0.000000</td>\n",
       "      <td>0.0</td>\n",
       "      <td>0.000000</td>\n",
       "      <td>0.000000</td>\n",
       "      <td>0.0</td>\n",
       "      <td>0.00000</td>\n",
       "      <td>0.000000</td>\n",
       "      <td>0.000000</td>\n",
       "      <td>0.000000</td>\n",
       "      <td>0.0</td>\n",
       "      <td>0.000000</td>\n",
       "      <td>0.000000</td>\n",
       "      <td>0.0</td>\n",
       "      <td>0.000000</td>\n",
       "    </tr>\n",
       "    <tr>\n",
       "      <th>ACCN2</th>\n",
       "      <td>0.0</td>\n",
       "      <td>0.000000</td>\n",
       "      <td>0.0</td>\n",
       "      <td>0.000000</td>\n",
       "      <td>0.000000</td>\n",
       "      <td>0.0</td>\n",
       "      <td>0.00000</td>\n",
       "      <td>0.000000</td>\n",
       "      <td>0.000000</td>\n",
       "      <td>0.000000</td>\n",
       "      <td>0.0</td>\n",
       "      <td>0.000000</td>\n",
       "      <td>0.000000</td>\n",
       "      <td>0.0</td>\n",
       "      <td>0.000000</td>\n",
       "    </tr>\n",
       "    <tr>\n",
       "      <th>GOLGA2P7</th>\n",
       "      <td>0.0</td>\n",
       "      <td>0.000000</td>\n",
       "      <td>0.0</td>\n",
       "      <td>0.000000</td>\n",
       "      <td>-1.192115</td>\n",
       "      <td>0.0</td>\n",
       "      <td>0.00000</td>\n",
       "      <td>0.000000</td>\n",
       "      <td>0.000000</td>\n",
       "      <td>0.000000</td>\n",
       "      <td>0.0</td>\n",
       "      <td>0.000000</td>\n",
       "      <td>0.000000</td>\n",
       "      <td>0.0</td>\n",
       "      <td>0.000000</td>\n",
       "    </tr>\n",
       "    <tr>\n",
       "      <th>LOC400748</th>\n",
       "      <td>0.0</td>\n",
       "      <td>0.000000</td>\n",
       "      <td>0.0</td>\n",
       "      <td>0.000000</td>\n",
       "      <td>0.000000</td>\n",
       "      <td>0.0</td>\n",
       "      <td>0.00000</td>\n",
       "      <td>0.000000</td>\n",
       "      <td>0.000000</td>\n",
       "      <td>0.000000</td>\n",
       "      <td>0.0</td>\n",
       "      <td>0.000000</td>\n",
       "      <td>0.000000</td>\n",
       "      <td>0.0</td>\n",
       "      <td>0.000000</td>\n",
       "    </tr>\n",
       "    <tr>\n",
       "      <th>LINC01198</th>\n",
       "      <td>0.0</td>\n",
       "      <td>0.000000</td>\n",
       "      <td>0.0</td>\n",
       "      <td>0.000000</td>\n",
       "      <td>0.000000</td>\n",
       "      <td>0.0</td>\n",
       "      <td>0.00000</td>\n",
       "      <td>0.000000</td>\n",
       "      <td>0.000000</td>\n",
       "      <td>0.000000</td>\n",
       "      <td>0.0</td>\n",
       "      <td>0.000000</td>\n",
       "      <td>0.000000</td>\n",
       "      <td>0.0</td>\n",
       "      <td>0.000000</td>\n",
       "    </tr>\n",
       "  </tbody>\n",
       "</table>\n",
       "<p>30465 rows × 15 columns</p>\n",
       "</div>"
      ],
      "text/plain": [
       "              GSE19439  GSE19444  GSE28623  GSE29536  GSE34608  GSE41055  \\\n",
       "LINC00113          0.0  0.000000       0.0  0.000000  0.000000       0.0   \n",
       "SPOCK2             0.0 -0.728576       0.0 -1.313967 -2.141097       0.0   \n",
       "HS3ST5             0.0  0.000000       0.0  0.000000  0.000000       0.0   \n",
       "HSFY1P1            0.0  0.000000       0.0  0.000000  0.000000       0.0   \n",
       "LOC102723557       0.0  0.000000       0.0  0.000000  0.000000       0.0   \n",
       "...                ...       ...       ...       ...       ...       ...   \n",
       "DACT3              0.0  0.000000       0.0  0.000000  0.000000       0.0   \n",
       "ACCN2              0.0  0.000000       0.0  0.000000  0.000000       0.0   \n",
       "GOLGA2P7           0.0  0.000000       0.0  0.000000 -1.192115       0.0   \n",
       "LOC400748          0.0  0.000000       0.0  0.000000  0.000000       0.0   \n",
       "LINC01198          0.0  0.000000       0.0  0.000000  0.000000       0.0   \n",
       "\n",
       "              GSE42825  GSE42826  GSE42830  GSE54992  GSE56153  GSE62525  \\\n",
       "LINC00113      0.00000  0.000000  0.000000  0.000000       0.0  0.000000   \n",
       "SPOCK2        -0.97137 -0.897573 -1.140355 -1.417705       0.0 -1.078002   \n",
       "HS3ST5         0.00000  0.000000  0.000000  0.000000       0.0  0.941096   \n",
       "HSFY1P1        0.00000  0.000000  0.000000  0.000000       0.0  0.000000   \n",
       "LOC102723557   0.00000  0.000000  0.000000  0.000000       0.0  0.000000   \n",
       "...                ...       ...       ...       ...       ...       ...   \n",
       "DACT3          0.00000  0.000000  0.000000  0.000000       0.0  0.000000   \n",
       "ACCN2          0.00000  0.000000  0.000000  0.000000       0.0  0.000000   \n",
       "GOLGA2P7       0.00000  0.000000  0.000000  0.000000       0.0  0.000000   \n",
       "LOC400748      0.00000  0.000000  0.000000  0.000000       0.0  0.000000   \n",
       "LINC01198      0.00000  0.000000  0.000000  0.000000       0.0  0.000000   \n",
       "\n",
       "              GSE83456  GSE84076  GSE107994  \n",
       "LINC00113     0.000000       0.0   0.000000  \n",
       "SPOCK2       -0.779516       0.0  -0.926442  \n",
       "HS3ST5        0.000000       0.0   0.000000  \n",
       "HSFY1P1       0.000000       0.0   0.000000  \n",
       "LOC102723557  0.000000       0.0   0.000000  \n",
       "...                ...       ...        ...  \n",
       "DACT3         0.000000       0.0   0.000000  \n",
       "ACCN2         0.000000       0.0   0.000000  \n",
       "GOLGA2P7      0.000000       0.0   0.000000  \n",
       "LOC400748     0.000000       0.0   0.000000  \n",
       "LINC01198     0.000000       0.0   0.000000  \n",
       "\n",
       "[30465 rows x 15 columns]"
      ]
     },
     "execution_count": 22,
     "metadata": {},
     "output_type": "execute_result"
    }
   ],
   "source": [
    "ATB_v_HC_diff_gene_exp_df"
   ]
  },
  {
   "cell_type": "markdown",
   "metadata": {},
   "source": [
    "#### Output DataFrame as a CSV"
   ]
  },
  {
   "cell_type": "code",
   "execution_count": 23,
   "metadata": {},
   "outputs": [],
   "source": [
    "ATB_v_HC_diff_gene_exp_df.to_csv(f'{pooled_diff_gene_exp_data}/ATB_v_HC_signif_logFC_qval_thresh_{pval_thresh}.csv')"
   ]
  },
  {
   "cell_type": "markdown",
   "metadata": {},
   "source": [
    "#### Across how many datasets was each gene *significantly* differentially expressed in?"
   ]
  },
  {
   "cell_type": "code",
   "execution_count": 24,
   "metadata": {},
   "outputs": [
    {
     "name": "stderr",
     "output_type": "stream",
     "text": [
      "/home/rv76/anaconda2/envs/py36_MRI_virtualenv/lib/python3.6/site-packages/ipykernel_launcher.py:1: DeprecationWarning: The default dtype for empty Series will be 'object' instead of 'float64' in a future version. Specify a dtype explicitly to silence this warning.\n",
      "  \"\"\"Entry point for launching an IPython kernel.\n"
     ]
    }
   ],
   "source": [
    "num_datasets_diff_exp_per_gene = pd.Series(index = ATB_v_HC_diff_gene_exp_df.index)\n",
    "\n",
    "#iterate through each gene\n",
    "for gene_i in num_datasets_diff_exp_per_gene.index:\n",
    "    \n",
    "    #boolean filter for specific gene that is TRUE is gene was significantly differentially expressed in study & FALSE otherwise\n",
    "    num_datasets_diff_exp_per_gene[gene_i] = np.sum(ATB_v_HC_diff_gene_exp_df.loc[gene_i , :] != 0.0)"
   ]
  },
  {
   "cell_type": "code",
   "execution_count": 25,
   "metadata": {},
   "outputs": [
    {
     "data": {
      "text/plain": [
       "IFITM3     12.0\n",
       "ADM        12.0\n",
       "GBP5       12.0\n",
       "KCNJ2      12.0\n",
       "PIK3IP1    12.0\n",
       "dtype: float64"
      ]
     },
     "execution_count": 25,
     "metadata": {},
     "output_type": "execute_result"
    }
   ],
   "source": [
    "num_datasets_diff_exp_per_gene.sort_values(ascending = False).head(n = 5)"
   ]
  },
  {
   "cell_type": "code",
   "execution_count": 26,
   "metadata": {},
   "outputs": [
    {
     "data": {
      "image/png": "[encoded data removed]",
      "text/plain": [
       "<Figure size 540x306 with 1 Axes>"
      ]
     },
     "metadata": {},
     "output_type": "display_data"
    }
   ],
   "source": [
    "fig , ax = plt.subplots()\n",
    "\n",
    "n , bins , patches = plt.hist(num_datasets_diff_exp_per_gene ,bins = np.arange(np.min(num_datasets_diff_exp_per_gene), np.max(num_datasets_diff_exp_per_gene) + 1.5) , color = 'k' , rwidth = 1.0 , edgecolor='white', linewidth=1.35 , align = 'left')\n",
    "\n",
    "plt.xlabel('number of datasets gene is significantly differentially expressed in', fontweight = 'bold' , fontsize = 10, color = 'k')\n",
    "plt.ylabel('number of genes', fontweight = 'bold' , fontsize = 10, color = 'k')\n",
    "\n",
    "ax.spines['right'].set_visible(False)\n",
    "ax.spines['top'].set_visible(False)\n",
    "\n",
    "ax.tick_params(labelcolor = 'k')\n",
    "ax.set_yscale('log')\n",
    "\n",
    "fig = plt.gcf()\n",
    "fig.set_size_inches(7.5, 4.25)\n",
    "fig.tight_layout()\n",
    "\n",
    "plt.tick_params(axis='y', which='major', labelsize=12 , labelcolor = 'k')\n",
    "plt.tick_params(axis='x', which='major', labelsize=12 , labelcolor = 'k')\n",
    "\n",
    "file_name = f'{figures_dir_path}/ATB_v_HC_num_genes_diff_expressed_across_datasets_{pval_thresh}.pdf'\n",
    "plt.savefig(file_name, bbox_inches='tight', dpi = 300 , transparent = True)\n",
    "\n",
    "plt.show()"
   ]
  },
  {
   "cell_type": "markdown",
   "metadata": {},
   "source": [
    "# [3] ATB vs OD"
   ]
  },
  {
   "cell_type": "markdown",
   "metadata": {},
   "source": [
    "#### Directory where the Differential Gene Expression Data is stored"
   ]
  },
  {
   "cell_type": "code",
   "execution_count": 27,
   "metadata": {},
   "outputs": [],
   "source": [
    "microarray_diff_exp_data = f\"{project_dir_path}/Data/Microarray Differential Gene Expression/ATB_v_OD/\"\n",
    "if not os.path.exists(microarray_diff_exp_data):\n",
    "    os.makedirs(microarray_diff_exp_data)\n",
    "\n",
    "#seperate differential gene expression files from different studies\n",
    "microarray_diff_exp_data_files = [\n",
    "'GSE34608.csv',\n",
    "'GSE37250.csv',\n",
    "'GSE39939.csv',\n",
    "'GSE39940.csv',\n",
    "'GSE42825.csv',\n",
    "'GSE42826.csv',\n",
    "'GSE42830.csv',\n",
    "'GSE62147.csv',\n",
    "'GSE73408.csv',\n",
    "'GSE83456.csv']"
   ]
  },
  {
   "cell_type": "markdown",
   "metadata": {},
   "source": [
    "#### Extract significant logFC measurements from each differential gene expression analysis"
   ]
  },
  {
   "cell_type": "code",
   "execution_count": 28,
   "metadata": {},
   "outputs": [
    {
     "name": "stdout",
     "output_type": "stream",
     "text": [
      "processing file GSE34608\n"
     ]
    },
    {
     "name": "stderr",
     "output_type": "stream",
     "text": [
      "/home/rv76/anaconda2/envs/py36_MRI_virtualenv/lib/python3.6/site-packages/ipykernel_launcher.py:5: DeprecationWarning: The default dtype for empty Series will be 'object' instead of 'float64' in a future version. Specify a dtype explicitly to silence this warning.\n",
      "  \"\"\"\n"
     ]
    },
    {
     "name": "stdout",
     "output_type": "stream",
     "text": [
      "processing file GSE37250\n",
      "processing file GSE39939\n",
      "processing file GSE39940\n",
      "processing file GSE42825\n",
      "processing file GSE42826\n",
      "processing file GSE42830\n",
      "processing file GSE62147\n",
      "processing file GSE73408\n",
      "processing file GSE83456\n"
     ]
    }
   ],
   "source": [
    "#construct a dictionary to hold the logFC series for each analysis\n",
    "sig_gene_logFC_per_experiment_dict = {}\n",
    "\n",
    "for microarray_diff_exp_data_file_i in microarray_diff_exp_data_files:\n",
    "    \n",
    "    analysis_ID = microarray_diff_exp_data_file_i.split('.')[0]\n",
    "    print('processing file {0}'.format(analysis_ID))\n",
    "\n",
    "    #get logFC & pvals for all genes (and all probes) from diff gene exp experiment\n",
    "    gene_logFC_pval_df = extract_gene_logFC_pval_from_diff_exp_csv(microarray_diff_exp_data + microarray_diff_exp_data_file_i)\n",
    "\n",
    "    #filter for significant genes (with logFC > logFC_thresh, pval >= pval_thresh, ensure 1 gene measurement per analysis/experiment)\n",
    "    logFC_series = extract_significant_gene_logFC(gene_logFC_pval_df, analysis_ID)\n",
    "    \n",
    "    #store significant logFC per gene in dict\n",
    "    sig_gene_logFC_per_experiment_dict[analysis_ID] = logFC_series"
   ]
  },
  {
   "cell_type": "markdown",
   "metadata": {},
   "source": [
    "#### Create DataFrame to store all of the significant logFC changes across all analyses"
   ]
  },
  {
   "cell_type": "code",
   "execution_count": 29,
   "metadata": {},
   "outputs": [],
   "source": [
    "#construct a set of non-redundant genes across all studies for index of DataFrame\n",
    "unique_genes = set([])\n",
    "for analysis_ID in sig_gene_logFC_per_experiment_dict.keys():\n",
    "    \n",
    "    gene_set_i = set(sig_gene_logFC_per_experiment_dict[analysis_ID].index) #genes analyzed in experiment\n",
    "    unique_genes = unique_genes.union(gene_set_i) #append to set of genes\n",
    "    \n",
    "unique_genes = list(unique_genes) #convert to list\n",
    "\n",
    "#create DataFrame with zeros\n",
    "ATB_v_OD_diff_gene_exp_df = pd.DataFrame(index = unique_genes)\n",
    "\n",
    "#iterate over logFC series from each differential gene expression analysis and fill DataFrame\n",
    "for analysis_ID in sig_gene_logFC_per_experiment_dict.keys():\n",
    "    \n",
    "    #merge the series holding the logFC values from a specific dataset to the master dataframe with the significant logFC values from all datasets\n",
    "    ATB_v_OD_diff_gene_exp_df = ATB_v_OD_diff_gene_exp_df.join(sig_gene_logFC_per_experiment_dict[analysis_ID])\n",
    "    \n",
    "#fill any NaN values in the DataFrame with zeros (some microarray platforms may not have probes for specific genes)\n",
    "ATB_v_OD_diff_gene_exp_df.fillna(0.0 , inplace = True)"
   ]
  },
  {
   "cell_type": "code",
   "execution_count": 30,
   "metadata": {},
   "outputs": [
    {
     "data": {
      "text/html": [
       "<div>\n",
       "<style scoped>\n",
       "    .dataframe tbody tr th:only-of-type {\n",
       "        vertical-align: middle;\n",
       "    }\n",
       "\n",
       "    .dataframe tbody tr th {\n",
       "        vertical-align: top;\n",
       "    }\n",
       "\n",
       "    .dataframe thead th {\n",
       "        text-align: right;\n",
       "    }\n",
       "</style>\n",
       "<table border=\"1\" class=\"dataframe\">\n",
       "  <thead>\n",
       "    <tr style=\"text-align: right;\">\n",
       "      <th></th>\n",
       "      <th>GSE34608</th>\n",
       "      <th>GSE37250</th>\n",
       "      <th>GSE39939</th>\n",
       "      <th>GSE39940</th>\n",
       "      <th>GSE42825</th>\n",
       "      <th>GSE42826</th>\n",
       "      <th>GSE42830</th>\n",
       "      <th>GSE62147</th>\n",
       "      <th>GSE73408</th>\n",
       "      <th>GSE83456</th>\n",
       "    </tr>\n",
       "  </thead>\n",
       "  <tbody>\n",
       "    <tr>\n",
       "      <th>SPOCK2</th>\n",
       "      <td>0.0</td>\n",
       "      <td>0.0</td>\n",
       "      <td>0.0</td>\n",
       "      <td>0.0</td>\n",
       "      <td>0.0</td>\n",
       "      <td>0.0</td>\n",
       "      <td>0.0</td>\n",
       "      <td>0.0</td>\n",
       "      <td>0.0</td>\n",
       "      <td>0.0</td>\n",
       "    </tr>\n",
       "    <tr>\n",
       "      <th>HSFY1P1</th>\n",
       "      <td>0.0</td>\n",
       "      <td>0.0</td>\n",
       "      <td>0.0</td>\n",
       "      <td>0.0</td>\n",
       "      <td>0.0</td>\n",
       "      <td>0.0</td>\n",
       "      <td>0.0</td>\n",
       "      <td>0.0</td>\n",
       "      <td>0.0</td>\n",
       "      <td>0.0</td>\n",
       "    </tr>\n",
       "    <tr>\n",
       "      <th>OR5H15</th>\n",
       "      <td>0.0</td>\n",
       "      <td>0.0</td>\n",
       "      <td>0.0</td>\n",
       "      <td>0.0</td>\n",
       "      <td>0.0</td>\n",
       "      <td>0.0</td>\n",
       "      <td>0.0</td>\n",
       "      <td>0.0</td>\n",
       "      <td>0.0</td>\n",
       "      <td>0.0</td>\n",
       "    </tr>\n",
       "    <tr>\n",
       "      <th>ABCA8</th>\n",
       "      <td>0.0</td>\n",
       "      <td>0.0</td>\n",
       "      <td>0.0</td>\n",
       "      <td>0.0</td>\n",
       "      <td>0.0</td>\n",
       "      <td>0.0</td>\n",
       "      <td>0.0</td>\n",
       "      <td>0.0</td>\n",
       "      <td>0.0</td>\n",
       "      <td>0.0</td>\n",
       "    </tr>\n",
       "    <tr>\n",
       "      <th>MEIS1</th>\n",
       "      <td>0.0</td>\n",
       "      <td>0.0</td>\n",
       "      <td>0.0</td>\n",
       "      <td>0.0</td>\n",
       "      <td>0.0</td>\n",
       "      <td>0.0</td>\n",
       "      <td>0.0</td>\n",
       "      <td>0.0</td>\n",
       "      <td>0.0</td>\n",
       "      <td>0.0</td>\n",
       "    </tr>\n",
       "    <tr>\n",
       "      <th>...</th>\n",
       "      <td>...</td>\n",
       "      <td>...</td>\n",
       "      <td>...</td>\n",
       "      <td>...</td>\n",
       "      <td>...</td>\n",
       "      <td>...</td>\n",
       "      <td>...</td>\n",
       "      <td>...</td>\n",
       "      <td>...</td>\n",
       "      <td>...</td>\n",
       "    </tr>\n",
       "    <tr>\n",
       "      <th>ANXA2P2</th>\n",
       "      <td>0.0</td>\n",
       "      <td>0.0</td>\n",
       "      <td>0.0</td>\n",
       "      <td>0.0</td>\n",
       "      <td>0.0</td>\n",
       "      <td>0.0</td>\n",
       "      <td>0.0</td>\n",
       "      <td>0.0</td>\n",
       "      <td>0.0</td>\n",
       "      <td>0.0</td>\n",
       "    </tr>\n",
       "    <tr>\n",
       "      <th>SEPT5-GP1BB</th>\n",
       "      <td>0.0</td>\n",
       "      <td>0.0</td>\n",
       "      <td>0.0</td>\n",
       "      <td>0.0</td>\n",
       "      <td>0.0</td>\n",
       "      <td>0.0</td>\n",
       "      <td>0.0</td>\n",
       "      <td>0.0</td>\n",
       "      <td>0.0</td>\n",
       "      <td>0.0</td>\n",
       "    </tr>\n",
       "    <tr>\n",
       "      <th>SPG11</th>\n",
       "      <td>0.0</td>\n",
       "      <td>0.0</td>\n",
       "      <td>0.0</td>\n",
       "      <td>0.0</td>\n",
       "      <td>0.0</td>\n",
       "      <td>0.0</td>\n",
       "      <td>0.0</td>\n",
       "      <td>0.0</td>\n",
       "      <td>0.0</td>\n",
       "      <td>0.0</td>\n",
       "    </tr>\n",
       "    <tr>\n",
       "      <th>DENND6A</th>\n",
       "      <td>0.0</td>\n",
       "      <td>0.0</td>\n",
       "      <td>0.0</td>\n",
       "      <td>0.0</td>\n",
       "      <td>0.0</td>\n",
       "      <td>0.0</td>\n",
       "      <td>0.0</td>\n",
       "      <td>0.0</td>\n",
       "      <td>0.0</td>\n",
       "      <td>0.0</td>\n",
       "    </tr>\n",
       "    <tr>\n",
       "      <th>LOC729970</th>\n",
       "      <td>0.0</td>\n",
       "      <td>0.0</td>\n",
       "      <td>0.0</td>\n",
       "      <td>0.0</td>\n",
       "      <td>0.0</td>\n",
       "      <td>0.0</td>\n",
       "      <td>0.0</td>\n",
       "      <td>0.0</td>\n",
       "      <td>0.0</td>\n",
       "      <td>0.0</td>\n",
       "    </tr>\n",
       "  </tbody>\n",
       "</table>\n",
       "<p>23187 rows × 10 columns</p>\n",
       "</div>"
      ],
      "text/plain": [
       "             GSE34608  GSE37250  GSE39939  GSE39940  GSE42825  GSE42826  \\\n",
       "SPOCK2            0.0       0.0       0.0       0.0       0.0       0.0   \n",
       "HSFY1P1           0.0       0.0       0.0       0.0       0.0       0.0   \n",
       "OR5H15            0.0       0.0       0.0       0.0       0.0       0.0   \n",
       "ABCA8             0.0       0.0       0.0       0.0       0.0       0.0   \n",
       "MEIS1             0.0       0.0       0.0       0.0       0.0       0.0   \n",
       "...               ...       ...       ...       ...       ...       ...   \n",
       "ANXA2P2           0.0       0.0       0.0       0.0       0.0       0.0   \n",
       "SEPT5-GP1BB       0.0       0.0       0.0       0.0       0.0       0.0   \n",
       "SPG11             0.0       0.0       0.0       0.0       0.0       0.0   \n",
       "DENND6A           0.0       0.0       0.0       0.0       0.0       0.0   \n",
       "LOC729970         0.0       0.0       0.0       0.0       0.0       0.0   \n",
       "\n",
       "             GSE42830  GSE62147  GSE73408  GSE83456  \n",
       "SPOCK2            0.0       0.0       0.0       0.0  \n",
       "HSFY1P1           0.0       0.0       0.0       0.0  \n",
       "OR5H15            0.0       0.0       0.0       0.0  \n",
       "ABCA8             0.0       0.0       0.0       0.0  \n",
       "MEIS1             0.0       0.0       0.0       0.0  \n",
       "...               ...       ...       ...       ...  \n",
       "ANXA2P2           0.0       0.0       0.0       0.0  \n",
       "SEPT5-GP1BB       0.0       0.0       0.0       0.0  \n",
       "SPG11             0.0       0.0       0.0       0.0  \n",
       "DENND6A           0.0       0.0       0.0       0.0  \n",
       "LOC729970         0.0       0.0       0.0       0.0  \n",
       "\n",
       "[23187 rows x 10 columns]"
      ]
     },
     "execution_count": 30,
     "metadata": {},
     "output_type": "execute_result"
    }
   ],
   "source": [
    "ATB_v_OD_diff_gene_exp_df"
   ]
  },
  {
   "cell_type": "markdown",
   "metadata": {},
   "source": [
    "#### Output DataFrame as a CSV"
   ]
  },
  {
   "cell_type": "code",
   "execution_count": 31,
   "metadata": {},
   "outputs": [],
   "source": [
    "ATB_v_OD_diff_gene_exp_df.to_csv(f'{pooled_diff_gene_exp_data}/ATB_v_OD_signif_logFC_qval_thresh_{pval_thresh}.csv')"
   ]
  },
  {
   "cell_type": "markdown",
   "metadata": {},
   "source": [
    "#### Across how many datasets was each gene *significantly* differentially expressed in?"
   ]
  },
  {
   "cell_type": "code",
   "execution_count": 32,
   "metadata": {},
   "outputs": [
    {
     "name": "stderr",
     "output_type": "stream",
     "text": [
      "/home/rv76/anaconda2/envs/py36_MRI_virtualenv/lib/python3.6/site-packages/ipykernel_launcher.py:1: DeprecationWarning: The default dtype for empty Series will be 'object' instead of 'float64' in a future version. Specify a dtype explicitly to silence this warning.\n",
      "  \"\"\"Entry point for launching an IPython kernel.\n"
     ]
    }
   ],
   "source": [
    "num_datasets_diff_exp_per_gene = pd.Series(index = ATB_v_OD_diff_gene_exp_df.index)\n",
    "\n",
    "#iterate through each gene\n",
    "for gene_i in num_datasets_diff_exp_per_gene.index:\n",
    "    \n",
    "    #boolean filter for specific gene that is TRUE is gene was significantly differentially expressed in study & FALSE otherwise\n",
    "    num_datasets_diff_exp_per_gene[gene_i] = np.sum(ATB_v_OD_diff_gene_exp_df.loc[gene_i , :] != 0.0)"
   ]
  },
  {
   "cell_type": "code",
   "execution_count": 33,
   "metadata": {},
   "outputs": [
    {
     "data": {
      "text/plain": [
       "VAMP5      5.0\n",
       "C1QB       5.0\n",
       "FCGR1A     5.0\n",
       "BATF2      5.0\n",
       "ANKRD22    5.0\n",
       "dtype: float64"
      ]
     },
     "execution_count": 33,
     "metadata": {},
     "output_type": "execute_result"
    }
   ],
   "source": [
    "num_datasets_diff_exp_per_gene.sort_values(ascending = False).head(n = 5)"
   ]
  },
  {
   "cell_type": "code",
   "execution_count": 34,
   "metadata": {},
   "outputs": [
    {
     "data": {
      "image/png": "[encoded data removed]",
      "text/plain": [
       "<Figure size 540x306 with 1 Axes>"
      ]
     },
     "metadata": {},
     "output_type": "display_data"
    }
   ],
   "source": [
    "fig , ax = plt.subplots()\n",
    "\n",
    "n , bins , patches = plt.hist(num_datasets_diff_exp_per_gene ,bins = np.arange(np.min(num_datasets_diff_exp_per_gene), np.max(num_datasets_diff_exp_per_gene) + 1.5) , color = 'k' , rwidth = 1.0 , edgecolor='white', linewidth=1.35 , align = 'left')\n",
    "\n",
    "plt.xlabel('number of datasets gene is significantly differentially expressed in', fontweight = 'bold' , fontsize = 10, color = 'k')\n",
    "plt.ylabel('number of genes', fontweight = 'bold' , fontsize = 10, color = 'k')\n",
    "\n",
    "ax.spines['right'].set_visible(False)\n",
    "ax.spines['top'].set_visible(False)\n",
    "\n",
    "ax.tick_params(labelcolor = 'k')\n",
    "ax.set_yscale('log')\n",
    "\n",
    "fig = plt.gcf()\n",
    "fig.set_size_inches(7.5, 4.25)\n",
    "fig.tight_layout()\n",
    "\n",
    "plt.tick_params(axis='y', which='major', labelsize=12 , labelcolor = 'k')\n",
    "plt.tick_params(axis='x', which='major', labelsize=12 , labelcolor = 'k')\n",
    "\n",
    "file_name = f'{figures_dir_path}/ATB_v_OD_num_genes_diff_expressed_across_datasets_{pval_thresh}.pdf'\n",
    "plt.savefig(file_name, bbox_inches='tight', dpi = 300 , transparent = True)\n",
    "\n",
    "plt.show()"
   ]
  },
  {
   "cell_type": "markdown",
   "metadata": {},
   "source": [
    "# [4] LTBI vs HC"
   ]
  },
  {
   "cell_type": "markdown",
   "metadata": {},
   "source": [
    "#### Directory where the Differential Gene Expression Data is stored"
   ]
  },
  {
   "cell_type": "code",
   "execution_count": 35,
   "metadata": {},
   "outputs": [],
   "source": [
    "microarray_diff_exp_data = f\"{project_dir_path}/Data/Microarray Differential Gene Expression/LTBI_v_HC/\"\n",
    "if not os.path.exists(microarray_diff_exp_data):\n",
    "    os.makedirs(microarray_diff_exp_data)\n",
    "\n",
    "#seperate differential gene expression files from different studies\n",
    "microarray_diff_exp_data_files = [\n",
    "'GSE19439.csv',\n",
    "'GSE19444.csv',\n",
    "'GSE28623.csv',\n",
    "'GSE41055.csv',\n",
    "'GSE54992.csv',\n",
    "'GSE62525.csv']\n",
    "\n",
    "RNAseq_diff_exp_data = f\"{project_dir_path}/Data/RNAseq Differential Gene Expression/LTBI_v_HC/\"\n",
    "if not os.path.exists(RNAseq_diff_exp_data):\n",
    "    os.makedirs(RNAseq_diff_exp_data)\n",
    "\n",
    "#seperate differential gene expression files from different studies\n",
    "RNAseq_diff_exp_data_files = [\n",
    "'GSE84076.csv', \n",
    "'GSE107993.csv',\n",
    "'GSE107994.csv']"
   ]
  },
  {
   "cell_type": "markdown",
   "metadata": {},
   "source": [
    "#### Extract significant logFC measurements from each differential gene expression analysis"
   ]
  },
  {
   "cell_type": "code",
   "execution_count": 36,
   "metadata": {},
   "outputs": [
    {
     "name": "stdout",
     "output_type": "stream",
     "text": [
      "processing file GSE19439\n"
     ]
    },
    {
     "name": "stderr",
     "output_type": "stream",
     "text": [
      "/home/rv76/anaconda2/envs/py36_MRI_virtualenv/lib/python3.6/site-packages/ipykernel_launcher.py:5: DeprecationWarning: The default dtype for empty Series will be 'object' instead of 'float64' in a future version. Specify a dtype explicitly to silence this warning.\n",
      "  \"\"\"\n"
     ]
    },
    {
     "name": "stdout",
     "output_type": "stream",
     "text": [
      "processing file GSE19444\n",
      "processing file GSE28623\n",
      "processing file GSE41055\n",
      "processing file GSE54992\n",
      "processing file GSE62525\n",
      "processing file GSE84076\n",
      "processing file GSE107993\n",
      "processing file GSE107994\n"
     ]
    }
   ],
   "source": [
    "#construct a dictionary to hold the logFC series for each analysis\n",
    "sig_gene_logFC_per_experiment_dict = {}\n",
    "\n",
    "for microarray_diff_exp_data_file_i in microarray_diff_exp_data_files:\n",
    "    \n",
    "    analysis_ID = microarray_diff_exp_data_file_i.split('.')[0]\n",
    "    print('processing file {0}'.format(analysis_ID))\n",
    "\n",
    "    #get logFC & pvals for all genes (and all probes) from diff gene exp experiment\n",
    "    gene_logFC_pval_df = extract_gene_logFC_pval_from_diff_exp_csv(microarray_diff_exp_data + microarray_diff_exp_data_file_i)\n",
    "\n",
    "    #filter for significant genes (with logFC > logFC_thresh, pval >= pval_thresh, ensure 1 gene measurement per analysis/experiment)\n",
    "    logFC_series = extract_significant_gene_logFC(gene_logFC_pval_df, analysis_ID)\n",
    "    \n",
    "    #store significant logFC per gene in dict\n",
    "    sig_gene_logFC_per_experiment_dict[analysis_ID] = logFC_series\n",
    "    \n",
    "for RNAseq_diff_exp_data_file_i in RNAseq_diff_exp_data_files:\n",
    "    \n",
    "    analysis_ID = RNAseq_diff_exp_data_file_i.split('.')[0]\n",
    "    print('processing file {0}'.format(analysis_ID))\n",
    "\n",
    "    #get logFC & pvals for all genes (and all probes) from diff gene exp experiment\n",
    "    gene_logFC_pval_df = extract_gene_logFC_pval_from_diff_exp_csv(RNAseq_diff_exp_data + RNAseq_diff_exp_data_file_i)\n",
    "\n",
    "    #filter for significant genes (with logFC > logFC_thresh, pval >= pval_thresh, ensure 1 gene measurement per analysis/experiment)\n",
    "    logFC_series = extract_significant_gene_logFC(gene_logFC_pval_df, analysis_ID)\n",
    "    \n",
    "    #store significant logFC per gene in dict\n",
    "    sig_gene_logFC_per_experiment_dict[analysis_ID] = logFC_series"
   ]
  },
  {
   "cell_type": "markdown",
   "metadata": {},
   "source": [
    "#### Create DataFrame to store all of the significant logFC changes across all analyses"
   ]
  },
  {
   "cell_type": "code",
   "execution_count": 37,
   "metadata": {},
   "outputs": [],
   "source": [
    "#construct a set of non-redundant genes across all studies for index of DataFrame\n",
    "unique_genes = set([])\n",
    "for analysis_ID in sig_gene_logFC_per_experiment_dict.keys():\n",
    "    \n",
    "    gene_set_i = set(sig_gene_logFC_per_experiment_dict[analysis_ID].index) #genes analyzed in experiment\n",
    "    unique_genes = unique_genes.union(gene_set_i) #append to set of genes\n",
    "    \n",
    "unique_genes = list(unique_genes) #convert to list\n",
    "\n",
    "#create DataFrame with zeros\n",
    "LTBI_v_HC_diff_gene_exp_df = pd.DataFrame(index = unique_genes)\n",
    "\n",
    "#iterate over logFC series from each differential gene expression analysis and fill DataFrame\n",
    "for analysis_ID in sig_gene_logFC_per_experiment_dict.keys():\n",
    "    \n",
    "    #merge the series holding the logFC values from a specific dataset to the master dataframe with the significant logFC values from all datasets\n",
    "    LTBI_v_HC_diff_gene_exp_df = LTBI_v_HC_diff_gene_exp_df.join(sig_gene_logFC_per_experiment_dict[analysis_ID])\n",
    "    \n",
    "#fill any NaN values in the DataFrame with zeros (some microarray platforms may not have probes for specific genes)\n",
    "LTBI_v_HC_diff_gene_exp_df.fillna(0.0 , inplace = True)"
   ]
  },
  {
   "cell_type": "code",
   "execution_count": 38,
   "metadata": {},
   "outputs": [
    {
     "data": {
      "text/html": [
       "<div>\n",
       "<style scoped>\n",
       "    .dataframe tbody tr th:only-of-type {\n",
       "        vertical-align: middle;\n",
       "    }\n",
       "\n",
       "    .dataframe tbody tr th {\n",
       "        vertical-align: top;\n",
       "    }\n",
       "\n",
       "    .dataframe thead th {\n",
       "        text-align: right;\n",
       "    }\n",
       "</style>\n",
       "<table border=\"1\" class=\"dataframe\">\n",
       "  <thead>\n",
       "    <tr style=\"text-align: right;\">\n",
       "      <th></th>\n",
       "      <th>GSE19439</th>\n",
       "      <th>GSE19444</th>\n",
       "      <th>GSE28623</th>\n",
       "      <th>GSE41055</th>\n",
       "      <th>GSE54992</th>\n",
       "      <th>GSE62525</th>\n",
       "      <th>GSE84076</th>\n",
       "      <th>GSE107993</th>\n",
       "      <th>GSE107994</th>\n",
       "    </tr>\n",
       "  </thead>\n",
       "  <tbody>\n",
       "    <tr>\n",
       "      <th>LINC00113</th>\n",
       "      <td>0.0</td>\n",
       "      <td>0.0</td>\n",
       "      <td>0.0</td>\n",
       "      <td>0.0</td>\n",
       "      <td>0.0</td>\n",
       "      <td>0.0</td>\n",
       "      <td>0.0</td>\n",
       "      <td>0.0</td>\n",
       "      <td>0.0</td>\n",
       "    </tr>\n",
       "    <tr>\n",
       "      <th>SPOCK2</th>\n",
       "      <td>0.0</td>\n",
       "      <td>0.0</td>\n",
       "      <td>0.0</td>\n",
       "      <td>0.0</td>\n",
       "      <td>0.0</td>\n",
       "      <td>0.0</td>\n",
       "      <td>0.0</td>\n",
       "      <td>0.0</td>\n",
       "      <td>0.0</td>\n",
       "    </tr>\n",
       "    <tr>\n",
       "      <th>HS3ST5</th>\n",
       "      <td>0.0</td>\n",
       "      <td>0.0</td>\n",
       "      <td>0.0</td>\n",
       "      <td>0.0</td>\n",
       "      <td>0.0</td>\n",
       "      <td>0.0</td>\n",
       "      <td>0.0</td>\n",
       "      <td>0.0</td>\n",
       "      <td>0.0</td>\n",
       "    </tr>\n",
       "    <tr>\n",
       "      <th>HSFY1P1</th>\n",
       "      <td>0.0</td>\n",
       "      <td>0.0</td>\n",
       "      <td>0.0</td>\n",
       "      <td>0.0</td>\n",
       "      <td>0.0</td>\n",
       "      <td>0.0</td>\n",
       "      <td>0.0</td>\n",
       "      <td>0.0</td>\n",
       "      <td>0.0</td>\n",
       "    </tr>\n",
       "    <tr>\n",
       "      <th>LOC102723557</th>\n",
       "      <td>0.0</td>\n",
       "      <td>0.0</td>\n",
       "      <td>0.0</td>\n",
       "      <td>0.0</td>\n",
       "      <td>0.0</td>\n",
       "      <td>0.0</td>\n",
       "      <td>0.0</td>\n",
       "      <td>0.0</td>\n",
       "      <td>0.0</td>\n",
       "    </tr>\n",
       "    <tr>\n",
       "      <th>...</th>\n",
       "      <td>...</td>\n",
       "      <td>...</td>\n",
       "      <td>...</td>\n",
       "      <td>...</td>\n",
       "      <td>...</td>\n",
       "      <td>...</td>\n",
       "      <td>...</td>\n",
       "      <td>...</td>\n",
       "      <td>...</td>\n",
       "    </tr>\n",
       "    <tr>\n",
       "      <th>DACT3</th>\n",
       "      <td>0.0</td>\n",
       "      <td>0.0</td>\n",
       "      <td>0.0</td>\n",
       "      <td>0.0</td>\n",
       "      <td>0.0</td>\n",
       "      <td>0.0</td>\n",
       "      <td>0.0</td>\n",
       "      <td>0.0</td>\n",
       "      <td>0.0</td>\n",
       "    </tr>\n",
       "    <tr>\n",
       "      <th>ACCN2</th>\n",
       "      <td>0.0</td>\n",
       "      <td>0.0</td>\n",
       "      <td>0.0</td>\n",
       "      <td>0.0</td>\n",
       "      <td>0.0</td>\n",
       "      <td>0.0</td>\n",
       "      <td>0.0</td>\n",
       "      <td>0.0</td>\n",
       "      <td>0.0</td>\n",
       "    </tr>\n",
       "    <tr>\n",
       "      <th>GOLGA2P7</th>\n",
       "      <td>0.0</td>\n",
       "      <td>0.0</td>\n",
       "      <td>0.0</td>\n",
       "      <td>0.0</td>\n",
       "      <td>0.0</td>\n",
       "      <td>0.0</td>\n",
       "      <td>0.0</td>\n",
       "      <td>0.0</td>\n",
       "      <td>0.0</td>\n",
       "    </tr>\n",
       "    <tr>\n",
       "      <th>LOC400748</th>\n",
       "      <td>0.0</td>\n",
       "      <td>0.0</td>\n",
       "      <td>0.0</td>\n",
       "      <td>0.0</td>\n",
       "      <td>0.0</td>\n",
       "      <td>0.0</td>\n",
       "      <td>0.0</td>\n",
       "      <td>0.0</td>\n",
       "      <td>0.0</td>\n",
       "    </tr>\n",
       "    <tr>\n",
       "      <th>LINC01198</th>\n",
       "      <td>0.0</td>\n",
       "      <td>0.0</td>\n",
       "      <td>0.0</td>\n",
       "      <td>0.0</td>\n",
       "      <td>0.0</td>\n",
       "      <td>0.0</td>\n",
       "      <td>0.0</td>\n",
       "      <td>0.0</td>\n",
       "      <td>0.0</td>\n",
       "    </tr>\n",
       "  </tbody>\n",
       "</table>\n",
       "<p>29968 rows × 9 columns</p>\n",
       "</div>"
      ],
      "text/plain": [
       "              GSE19439  GSE19444  GSE28623  GSE41055  GSE54992  GSE62525  \\\n",
       "LINC00113          0.0       0.0       0.0       0.0       0.0       0.0   \n",
       "SPOCK2             0.0       0.0       0.0       0.0       0.0       0.0   \n",
       "HS3ST5             0.0       0.0       0.0       0.0       0.0       0.0   \n",
       "HSFY1P1            0.0       0.0       0.0       0.0       0.0       0.0   \n",
       "LOC102723557       0.0       0.0       0.0       0.0       0.0       0.0   \n",
       "...                ...       ...       ...       ...       ...       ...   \n",
       "DACT3              0.0       0.0       0.0       0.0       0.0       0.0   \n",
       "ACCN2              0.0       0.0       0.0       0.0       0.0       0.0   \n",
       "GOLGA2P7           0.0       0.0       0.0       0.0       0.0       0.0   \n",
       "LOC400748          0.0       0.0       0.0       0.0       0.0       0.0   \n",
       "LINC01198          0.0       0.0       0.0       0.0       0.0       0.0   \n",
       "\n",
       "              GSE84076  GSE107993  GSE107994  \n",
       "LINC00113          0.0        0.0        0.0  \n",
       "SPOCK2             0.0        0.0        0.0  \n",
       "HS3ST5             0.0        0.0        0.0  \n",
       "HSFY1P1            0.0        0.0        0.0  \n",
       "LOC102723557       0.0        0.0        0.0  \n",
       "...                ...        ...        ...  \n",
       "DACT3              0.0        0.0        0.0  \n",
       "ACCN2              0.0        0.0        0.0  \n",
       "GOLGA2P7           0.0        0.0        0.0  \n",
       "LOC400748          0.0        0.0        0.0  \n",
       "LINC01198          0.0        0.0        0.0  \n",
       "\n",
       "[29968 rows x 9 columns]"
      ]
     },
     "execution_count": 38,
     "metadata": {},
     "output_type": "execute_result"
    }
   ],
   "source": [
    "LTBI_v_HC_diff_gene_exp_df"
   ]
  },
  {
   "cell_type": "markdown",
   "metadata": {},
   "source": [
    "#### Output DataFrame as a CSV"
   ]
  },
  {
   "cell_type": "code",
   "execution_count": 39,
   "metadata": {},
   "outputs": [],
   "source": [
    "LTBI_v_HC_diff_gene_exp_df.to_csv(f'{pooled_diff_gene_exp_data}/LTBI_v_HC_signif_logFC_qval_thresh_{pval_thresh}.csv')"
   ]
  },
  {
   "cell_type": "markdown",
   "metadata": {},
   "source": [
    "#### Across how many datasets was each gene *significantly* differentially expressed in?"
   ]
  },
  {
   "cell_type": "code",
   "execution_count": 40,
   "metadata": {
    "scrolled": true
   },
   "outputs": [
    {
     "name": "stderr",
     "output_type": "stream",
     "text": [
      "/home/rv76/anaconda2/envs/py36_MRI_virtualenv/lib/python3.6/site-packages/ipykernel_launcher.py:1: DeprecationWarning: The default dtype for empty Series will be 'object' instead of 'float64' in a future version. Specify a dtype explicitly to silence this warning.\n",
      "  \"\"\"Entry point for launching an IPython kernel.\n"
     ]
    }
   ],
   "source": [
    "num_datasets_diff_exp_per_gene = pd.Series(index = LTBI_v_HC_diff_gene_exp_df.index)\n",
    "\n",
    "#iterate through each gene\n",
    "for gene_i in num_datasets_diff_exp_per_gene.index:\n",
    "    \n",
    "    #boolean filter for specific gene that is TRUE is gene was significantly differentially expressed in study & FALSE otherwise\n",
    "    num_datasets_diff_exp_per_gene[gene_i] = np.sum(LTBI_v_HC_diff_gene_exp_df.loc[gene_i , :] != 0.0)"
   ]
  },
  {
   "cell_type": "code",
   "execution_count": 41,
   "metadata": {},
   "outputs": [
    {
     "data": {
      "text/plain": [
       "ATF3      3.0\n",
       "ATP2B1    2.0\n",
       "TMOD1     2.0\n",
       "RBPMS2    2.0\n",
       "THEM5     2.0\n",
       "dtype: float64"
      ]
     },
     "execution_count": 41,
     "metadata": {},
     "output_type": "execute_result"
    }
   ],
   "source": [
    "num_datasets_diff_exp_per_gene.sort_values(ascending = False).head(n = 5)"
   ]
  },
  {
   "cell_type": "code",
   "execution_count": 42,
   "metadata": {},
   "outputs": [
    {
     "data": {
      "image/png": "[encoded data removed]",
      "text/plain": [
       "<Figure size 540x306 with 1 Axes>"
      ]
     },
     "metadata": {},
     "output_type": "display_data"
    }
   ],
   "source": [
    "fig , ax = plt.subplots()\n",
    "\n",
    "n , bins , patches = plt.hist(num_datasets_diff_exp_per_gene ,bins = np.arange(np.min(num_datasets_diff_exp_per_gene), np.max(num_datasets_diff_exp_per_gene) + 1.5) , color = 'k' , rwidth = 1.0 , edgecolor='white', linewidth=1.35 , align = 'left')\n",
    "\n",
    "plt.xlabel('number of datasets gene is significantly differentially expressed in', fontweight = 'bold' , fontsize = 10, color = 'k')\n",
    "plt.ylabel('number of genes', fontweight = 'bold' , fontsize = 10, color = 'k')\n",
    "\n",
    "ax.spines['right'].set_visible(False)\n",
    "ax.spines['top'].set_visible(False)\n",
    "\n",
    "ax.tick_params(labelcolor = 'k')\n",
    "ax.set_yscale('log')\n",
    "\n",
    "fig = plt.gcf()\n",
    "fig.set_size_inches(7.5, 4.25)\n",
    "fig.tight_layout()\n",
    "\n",
    "plt.tick_params(axis='y', which='major', labelsize=12 , labelcolor = 'k')\n",
    "plt.tick_params(axis='x', which='major', labelsize=12 , labelcolor = 'k')\n",
    "\n",
    "file_name = f'{figures_dir_path}/LTBI_v_HC_num_genes_diff_expressed_across_datasets_{pval_thresh}.pdf'\n",
    "plt.savefig(file_name, bbox_inches='tight', dpi = 300 , transparent = True)\n",
    "\n",
    "plt.show()"
   ]
  }
 ],
 "metadata": {
  "kernelspec": {
   "display_name": "Python [conda env:py36_MRI_virtualenv]",
   "language": "python",
   "name": "conda-env-py36_MRI_virtualenv-py"
  },
  "language_info": {
   "codemirror_mode": {
    "name": "ipython",
    "version": 3
   },
   "file_extension": ".py",
   "mimetype": "text/x-python",
   "name": "python",
   "nbconvert_exporter": "python",
   "pygments_lexer": "ipython3",
   "version": "3.6.10"
  }
 },
 "nbformat": 4,
 "nbformat_minor": 4
}

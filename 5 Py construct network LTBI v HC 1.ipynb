{
 "cells": [
  {
   "cell_type": "code",
   "execution_count": 1,
   "metadata": {},
   "outputs": [
    {
     "data": {
      "text/html": [
       "<style>.container { width:100% !important; }</style>"
      ],
      "text/plain": [
       "<IPython.core.display.HTML object>"
      ]
     },
     "metadata": {},
     "output_type": "display_data"
    }
   ],
   "source": [
    "from IPython.core.display import display, HTML\n",
    "display(HTML(\"<style>.container { width:100% !important; }</style>\"))\n",
    "%matplotlib inline"
   ]
  },
  {
   "cell_type": "code",
   "execution_count": 2,
   "metadata": {},
   "outputs": [],
   "source": [
    "import os\n",
    "import pandas as pd\n",
    "import numpy as np\n",
    "\n",
    "import matplotlib.pyplot as plt\n",
    "import matplotlib as mpl\n",
    "from matplotlib.ticker import FormatStrFormatter\n",
    "from matplotlib.ticker import MaxNLocator\n",
    "from matplotlib.gridspec import GridSpec\n",
    "import matplotlib.pylab as pl\n",
    "import matplotlib.colors as mcolors\n",
    "import matplotlib.patches as mpatches\n",
    "\n",
    "import fastcluster\n",
    "from scipy.cluster.hierarchy import dendrogram\n",
    "import scipy.cluster.hierarchy as hier\n",
    "\n",
    "import networkx as nx\n",
    "import networkx.algorithms.community as nxcom\n",
    "import community\n",
    "from collections import Counter\n",
    "import pickle"
   ]
  },
  {
   "cell_type": "code",
   "execution_count": 3,
   "metadata": {},
   "outputs": [],
   "source": [
    "num_datasets_per_comparison = {\n",
    "'ATB_v_LTBI': 16,\n",
    "'ATB_v_HC' : 15,\n",
    "'ATB_v_OD': 10,\n",
    "'LTBI_v_HC': 9}"
   ]
  },
  {
   "cell_type": "markdown",
   "metadata": {},
   "source": [
    "#### set the *q-value* threshold & comparison"
   ]
  },
  {
   "cell_type": "code",
   "execution_count": 4,
   "metadata": {},
   "outputs": [],
   "source": [
    "qval_thresh = 0.05"
   ]
  },
  {
   "cell_type": "code",
   "execution_count": 5,
   "metadata": {},
   "outputs": [],
   "source": [
    "comparison_X = 'LTBI_v_HC'"
   ]
  },
  {
   "cell_type": "markdown",
   "metadata": {},
   "source": [
    "#### set parameters for plotting"
   ]
  },
  {
   "cell_type": "code",
   "execution_count": 6,
   "metadata": {},
   "outputs": [],
   "source": [
    "plt.style.use('ggplot')\n",
    "plt.rcParams['lines.linewidth']=1.0\n",
    "plt.rcParams['axes.facecolor']='1.0'\n",
    "plt.rcParams['xtick.color']='black'\n",
    "plt.rcParams['axes.grid']=False\n",
    "plt.rcParams['axes.edgecolor']='black'\n",
    "plt.rcParams['grid.color']= '1.0'\n",
    "plt.rcParams.update({'font.size': 14})"
   ]
  },
  {
   "cell_type": "markdown",
   "metadata": {},
   "source": [
    "#### specify directory where differential gene data is stored"
   ]
  },
  {
   "cell_type": "code",
   "execution_count": 7,
   "metadata": {},
   "outputs": [],
   "source": [
    "#use this path for personal computer\n",
    "#diff_exp_data_dir = \"/Users/rogervargas/OneDrive - Bill & Melinda Gates Medical Research Institute/Projects/Biomarkers/Data/Pooled Differential Gene Expression/\"\n",
    "\n",
    "#use this path for Gates MRI computer\n",
    "#diff_exp_data_dir = \"/Users/RogerVargas/OneDrive - Bill & Melinda Gates Medical Research Institute/Projects/Biomarkers/Data/Pooled Differential Gene Expression/\"\n",
    "\n",
    "#use this path for O2 computing cluster\n",
    "diff_exp_data_dir = \"/n/data1/hms/dbmi/farhat/Roger/gatesMRI/Projects/Biomarkers/Data/Pooled Differential Gene Expression/\""
   ]
  },
  {
   "cell_type": "markdown",
   "metadata": {},
   "source": [
    "#### specify directory for pickling objects"
   ]
  },
  {
   "cell_type": "code",
   "execution_count": 8,
   "metadata": {},
   "outputs": [],
   "source": [
    "#use this path for O2 computing cluster\n",
    "pickled_objects_dir = '/n/data1/hms/dbmi/farhat/Roger/gatesMRI/Projects/Biomarkers/Data/Pickled Files/'"
   ]
  },
  {
   "cell_type": "markdown",
   "metadata": {},
   "source": [
    "### *Function* for visualizing distribution of edge weights from pooled (significant) logFC changes across datasets"
   ]
  },
  {
   "cell_type": "code",
   "execution_count": 9,
   "metadata": {},
   "outputs": [],
   "source": [
    "def plot_distribution_of_edge_weights(ax, edge_weight_distr_counter_dict, plot_title, linecolor):\n",
    "    \n",
    "    #convert Counter dict to series\n",
    "    edge_weight_distr_series = pd.Series(edge_weight_distr_counter_dict).sort_index()\n",
    "    \n",
    "    #get the keys & values from Counter dict (with Edge Weight distr)\n",
    "    edge_weight_values = edge_weight_distr_series.index\n",
    "    edge_weight_count = edge_weight_distr_series.values\n",
    "    edge_weight_count_norm = np.array(edge_weight_count) / float(np.sum(edge_weight_count)) #normalize counts\n",
    "    \n",
    "    ax.bar(edge_weight_values , edge_weight_count_norm, color = 'white' , width = 1.0 , edgecolor='black', linewidth=0.5)\n",
    "    ax.bar(edge_weight_values[edge_weight_distr_series.index <= -3] , edge_weight_count_norm[edge_weight_distr_series.index <= -3], color = 'blue' , width = 1.0 , edgecolor='black', linewidth=0.5)\n",
    "    ax.bar(edge_weight_values[edge_weight_distr_series.index >= 3] , edge_weight_count_norm[edge_weight_distr_series.index >= 3], color = 'blue' , width = 1.0 , edgecolor='black', linewidth=0.5)\n",
    "    ax.plot(edge_weight_values , edge_weight_count_norm, color = linecolor , linewidth = 2.5)\n",
    "    \n",
    "    # calculate the number of the edges that had weight <= -3\n",
    "    negative_edge_weights_for_network = edge_weight_count[edge_weight_distr_series.index <= -3].sum()\n",
    "    \n",
    "    # calculate the number of the edges that had weight >= 3\n",
    "    positive_edge_weights_for_network = edge_weight_count[edge_weight_distr_series.index >= 3].sum()\n",
    "\n",
    "    ax.set_title(plot_title, fontsize = 12, color = 'k')\n",
    "    ax.set_ylabel('Proportion of Edges', fontsize = 12, color = 'k')\n",
    "    ax.set_xlabel(f'Edge Weights \\n (Num Edges <= -3: {negative_edge_weights_for_network}) \\n (Num Edges >= 3: {positive_edge_weights_for_network})' , fontsize = 12, color = 'k')\n",
    "\n",
    "    ax.spines['right'].set_visible(False)\n",
    "    ax.spines['top'].set_visible(False)\n",
    "    ax.grid(False)\n",
    "    ax.set_yscale('log')\n",
    "\n",
    "    ax.tick_params(labelcolor = 'k')\n",
    "    ax.tick_params(axis='y', which='major', labelsize=12 , labelcolor = 'k')\n",
    "    ax.tick_params(axis='x', which='major', labelsize=12 , labelcolor = 'k')\n",
    "    \n",
    "    for axis in [ax.yaxis]:\n",
    "        axis.set_major_formatter(FormatStrFormatter('%.5f'))\n",
    "        \n",
    "    ax.xaxis.set_major_locator(MaxNLocator(integer=True))"
   ]
  },
  {
   "cell_type": "markdown",
   "metadata": {},
   "source": [
    "## Compute Edges (and corresponding weights) from pooled logFC matrix"
   ]
  },
  {
   "cell_type": "code",
   "execution_count": 11,
   "metadata": {},
   "outputs": [],
   "source": [
    "logFC_table_filename = f'{comparison_X}_signif_logFC_qval_thresh_{qval_thresh}.csv'\n",
    "\n",
    "# read in CSV file with significant logFC changes for genes between comparison X samples collected from various datasets\n",
    "diff_gene_exp_df = pd.read_csv(diff_exp_data_dir + logFC_table_filename).set_index('Unnamed: 0')\n",
    "diff_gene_exp_df.rename_axis('gene' , inplace = True)\n",
    "\n",
    "# Construct simplified matrix of logFC direction from DataFrame with significant logFC changes across all analyses by converting values:\n",
    "# +1 if logFC > 0\n",
    "#  0 if logFC = 0\n",
    "# -1 if logFC < 0\n",
    "\n",
    "# store copy of array from dataframe with sig. logFC values (rows = genes, columns = GSE ID)\n",
    "direc_diff_gene_exp_matrix = diff_gene_exp_df.copy().values \n",
    "\n",
    "# replace values in logFC matrix\n",
    "direc_diff_gene_exp_matrix[direc_diff_gene_exp_matrix > 0.0] = 1\n",
    "direc_diff_gene_exp_matrix[direc_diff_gene_exp_matrix == 0.0] = 0\n",
    "direc_diff_gene_exp_matrix[direc_diff_gene_exp_matrix < 0.0] = -1\n",
    "\n",
    "# convert to lower memory int8 datatype\n",
    "direc_diff_gene_exp_matrix = direc_diff_gene_exp_matrix.astype('int8')\n",
    "\n",
    "# compute the dot product between every two pairs of gene vectors (will calculate the edges weights for our network)\n",
    "# Compute $M \\cdot M^T \\text{ to get } i \\cdot j \\text{ , } \\forall \\text{ pairs of rows } i, j \\text{ in matrix } M$\n",
    "# multiply direction logFC matrix by its transpose to get the dot products between all pairs of rows\n",
    "network_edge_weight_matrix = direc_diff_gene_exp_matrix.dot(direc_diff_gene_exp_matrix.T)\n",
    "\n",
    "# the row/column annotation (genes) can be copied from the logFC differential gene expression DataFrame\n",
    "network_edge_weight_matrix_labels = pd.Series(list(diff_gene_exp_df.index) , index = range(0 , len(diff_gene_exp_df.index)))\n",
    "\n",
    "# DISTRIBUTION OF EDGE WEIGHTS\n",
    "\n",
    "#number of rows / columns\n",
    "num_genes = np.shape(network_edge_weight_matrix)[0]\n",
    "\n",
    "# retrieve the distribution of the Edge Weights by returning the upper triangular part of the matrix\n",
    "edge_weight_array = network_edge_weight_matrix[np.triu_indices(num_genes, k = 0)]\n",
    "\n",
    "#convert array to a Counter dict to save space (keys: edge weight values, values: count of edge weights in edge weight distribution)\n",
    "edge_weight_distr_counter_dict = Counter(list(edge_weight_array))"
   ]
  },
  {
   "cell_type": "code",
   "execution_count": 12,
   "metadata": {},
   "outputs": [
    {
     "data": {
      "text/plain": [
       "array([[ 1,  0, -1, ...,  0,  0,  0],\n",
       "       [ 0,  0,  0, ...,  0,  0,  0],\n",
       "       [-1,  0,  1, ...,  0,  0,  0],\n",
       "       ...,\n",
       "       [ 0,  0,  0, ...,  0,  0,  0],\n",
       "       [ 0,  0,  0, ...,  0,  0,  0],\n",
       "       [ 0,  0,  0, ...,  0,  0,  0]], dtype=int8)"
      ]
     },
     "execution_count": 12,
     "metadata": {},
     "output_type": "execute_result"
    }
   ],
   "source": [
    "network_edge_weight_matrix"
   ]
  },
  {
   "cell_type": "code",
   "execution_count": 13,
   "metadata": {},
   "outputs": [
    {
     "data": {
      "text/plain": [
       "(29968, 29968)"
      ]
     },
     "execution_count": 13,
     "metadata": {},
     "output_type": "execute_result"
    }
   ],
   "source": [
    "np.shape(network_edge_weight_matrix)"
   ]
  },
  {
   "cell_type": "code",
   "execution_count": 14,
   "metadata": {},
   "outputs": [
    {
     "data": {
      "text/plain": [
       "0     KRT36\n",
       "1     KIFC3\n",
       "2      REG4\n",
       "3     FADS2\n",
       "4    FANCD2\n",
       "dtype: object"
      ]
     },
     "execution_count": 14,
     "metadata": {},
     "output_type": "execute_result"
    }
   ],
   "source": [
    "network_edge_weight_matrix_labels.head()"
   ]
  },
  {
   "cell_type": "code",
   "execution_count": 15,
   "metadata": {},
   "outputs": [
    {
     "data": {
      "text/plain": [
       "(29968,)"
      ]
     },
     "execution_count": 15,
     "metadata": {},
     "output_type": "execute_result"
    }
   ],
   "source": [
    "np.shape(network_edge_weight_matrix_labels)"
   ]
  },
  {
   "cell_type": "code",
   "execution_count": 16,
   "metadata": {},
   "outputs": [
    {
     "data": {
      "image/png": "[encoded data removed]",
      "text/plain": [
       "<Figure size 540x396 with 1 Axes>"
      ]
     },
     "metadata": {},
     "output_type": "display_data"
    }
   ],
   "source": [
    "fig , ax = plt.subplots()\n",
    "\n",
    "plot_distribution_of_edge_weights(ax, edge_weight_distr_counter_dict, f'Distribution of Edge Weights for {comparison_X}', 'xkcd:green')\n",
    "\n",
    "fig = plt.gcf()\n",
    "fig.set_size_inches(7.5, 5.5)\n",
    "fig.tight_layout()\n",
    "\n",
    "#file_name = '/n/data1/hms/dbmi/farhat/Roger/homoplasy_project/Figures/lab_meeting_12_12_19/pairwise_SNP_distance/distribution_of_pairwise_SNP_distances.png'\n",
    "#plt.savefig(file_name, bbox_inches='tight', dpi = 300 , transparent = True)\n",
    "\n",
    "plt.show()"
   ]
  },
  {
   "cell_type": "markdown",
   "metadata": {},
   "source": [
    "#### minimum/maximum edge weights"
   ]
  },
  {
   "cell_type": "code",
   "execution_count": 17,
   "metadata": {},
   "outputs": [
    {
     "data": {
      "text/plain": [
       "-2"
      ]
     },
     "execution_count": 17,
     "metadata": {},
     "output_type": "execute_result"
    }
   ],
   "source": [
    "np.min(network_edge_weight_matrix)"
   ]
  },
  {
   "cell_type": "code",
   "execution_count": 18,
   "metadata": {},
   "outputs": [
    {
     "data": {
      "text/plain": [
       "3"
      ]
     },
     "execution_count": 18,
     "metadata": {},
     "output_type": "execute_result"
    }
   ],
   "source": [
    "np.max(network_edge_weight_matrix)"
   ]
  },
  {
   "cell_type": "markdown",
   "metadata": {},
   "source": [
    "## Construct NetworkX graph from edge weight matrix"
   ]
  },
  {
   "cell_type": "markdown",
   "metadata": {},
   "source": [
    "#### Retrieve the indices for the upper-triangular part of the matrix, normalize edge weights & construct list of edges"
   ]
  },
  {
   "cell_type": "markdown",
   "metadata": {},
   "source": [
    "Have to (1) retrieve the edges from the upper-triangle of the matrix, (2) convert all to positive edge weights & (3) divide by the number of datasets"
   ]
  },
  {
   "cell_type": "code",
   "execution_count": 19,
   "metadata": {},
   "outputs": [],
   "source": [
    "#Return the upper triangular part of the matrix with elements in lower part ZEROED out\n",
    "upper_tri_network_edge_weight_matrix = np.triu(network_edge_weight_matrix, k = 0)\n",
    "\n",
    "#Return a boolean for elements in the upper triangular part of the matrix for elments that are <= -3 OR >= 3\n",
    "upper_tri_network_edge_weight_matrix_bool = abs(upper_tri_network_edge_weight_matrix) >= 3\n",
    "\n",
    "#get the indices for the elements in the upper triangle where elements (edge weights) <= -3 OR >= 3\n",
    "node_i_indices = upper_tri_network_edge_weight_matrix_bool.nonzero()[0]\n",
    "node_j_indices = upper_tri_network_edge_weight_matrix_bool.nonzero()[1]\n",
    "\n",
    "#get the normalization factor (number of datasets used to construct edge weights = maximum possible weight)\n",
    "edge_weight_norm_factor = float(num_datasets_per_comparison[comparison_X])\n",
    "\n",
    "#Create list of edges for NetworkX graph by iterating through numpy (adjancency) matrix (with edge weights) + node labels (rows/columns of matrix) & storing edges with weights <= -3 OR >= 3\n",
    "G_edge_list = [ ( network_edge_weight_matrix_labels[node_i], network_edge_weight_matrix_labels[node_j], (float(abs(network_edge_weight_matrix[node_i, node_j]))/edge_weight_norm_factor) ) for node_i, node_j in zip(node_i_indices, node_j_indices)]"
   ]
  },
  {
   "cell_type": "code",
   "execution_count": 20,
   "metadata": {},
   "outputs": [
    {
     "data": {
      "text/plain": [
       "[('ATF3', 'ATF3', 0.3333333333333333)]"
      ]
     },
     "execution_count": 20,
     "metadata": {},
     "output_type": "execute_result"
    }
   ],
   "source": [
    "G_edge_list[0:10]"
   ]
  },
  {
   "cell_type": "code",
   "execution_count": 21,
   "metadata": {},
   "outputs": [
    {
     "data": {
      "text/plain": [
       "1"
      ]
     },
     "execution_count": 21,
     "metadata": {},
     "output_type": "execute_result"
    }
   ],
   "source": [
    "len(G_edge_list) #number of edges (gene-gene pairs with edge weights <= -3 OR >= 3)"
   ]
  },
  {
   "cell_type": "markdown",
   "metadata": {},
   "source": [
    "#### Construct NetworkX graph from list of Edges"
   ]
  },
  {
   "cell_type": "code",
   "execution_count": 22,
   "metadata": {},
   "outputs": [],
   "source": [
    "G = nx.Graph()\n",
    "G.add_weighted_edges_from(G_edge_list)"
   ]
  },
  {
   "cell_type": "code",
   "execution_count": 23,
   "metadata": {},
   "outputs": [
    {
     "name": "stdout",
     "output_type": "stream",
     "text": [
      "Name: \n",
      "Type: Graph\n",
      "Number of nodes: 1\n",
      "Number of edges: 1\n",
      "Average degree:   2.0000\n"
     ]
    }
   ],
   "source": [
    "print(nx.info(G))"
   ]
  },
  {
   "cell_type": "markdown",
   "metadata": {},
   "source": [
    "Pickle the network for downstream analysis"
   ]
  },
  {
   "cell_type": "code",
   "execution_count": 24,
   "metadata": {},
   "outputs": [],
   "source": [
    "nx.write_gpickle(G , pickled_objects_dir + f'Network Files/networks/{comparison_X}.pkl')\n",
    "# use nx.read_gpickle( pickled_objects_dir + f'Network Files/networks/{comparison_X}.pkl') to load"
   ]
  },
  {
   "cell_type": "markdown",
   "metadata": {},
   "source": [
    "## Get mean $log_2$(Fold Change) for all genes in network"
   ]
  },
  {
   "cell_type": "markdown",
   "metadata": {},
   "source": [
    "Create a series that stores the mean $log2(FC)$ across datasets from the $log2(FC)$ matrix (rows = genes & columns = datasets)"
   ]
  },
  {
   "cell_type": "markdown",
   "metadata": {},
   "source": [
    "when averaging $log2(FC)$ across datasets, **only include the non-zero** datasets (columns)???\n",
    "\n",
    "- datasets in which logFC for a gene = 0 are due to q-value threshold or logFC threshold???"
   ]
  },
  {
   "cell_type": "code",
   "execution_count": 27,
   "metadata": {},
   "outputs": [
    {
     "name": "stderr",
     "output_type": "stream",
     "text": [
      "/home/rv76/anaconda2/envs/py36_MRI_virtualenv/lib/python3.6/site-packages/ipykernel_launcher.py:2: DeprecationWarning: The default dtype for empty Series will be 'object' instead of 'float64' in a future version. Specify a dtype explicitly to silence this warning.\n",
      "  \n"
     ]
    }
   ],
   "source": [
    "genes_in_network = list(G.nodes()) #get all nodes in the network\n",
    "mean_logFC_series = pd.Series(index = genes_in_network) #create series\n",
    "\n",
    "for gene_i in mean_logFC_series.index:\n",
    "    \n",
    "    #use code below to calculate average logFC for gene across datasets (ignoring the entries where logFC = 0)\n",
    "    #gene_i_mean_logFC = float(diff_gene_exp_df.loc[gene_i , :].sum()) / float(np.sum(diff_gene_exp_df.loc[gene_i , :] != 0.0))\n",
    "    \n",
    "    #use code below to calculate average logFC for gene across ALL datasets/studies\n",
    "    gene_i_mean_logFC = diff_gene_exp_df.loc[gene_i , :].mean()\n",
    "    \n",
    "    #append to series\n",
    "    mean_logFC_series[gene_i] = gene_i_mean_logFC\n",
    "    \n",
    "mean_logFC_series.sort_values(inplace = True, ascending = False)"
   ]
  },
  {
   "cell_type": "code",
   "execution_count": 30,
   "metadata": {},
   "outputs": [
    {
     "data": {
      "text/plain": [
       "GSE19439     0.000000\n",
       "GSE19444     0.000000\n",
       "GSE28623     0.000000\n",
       "GSE41055     0.000000\n",
       "GSE54992     0.000000\n",
       "GSE62525    -1.879255\n",
       "GSE84076     0.000000\n",
       "GSE107993    0.639942\n",
       "GSE107994    0.686461\n",
       "Name: ATF3, dtype: float64"
      ]
     },
     "execution_count": 30,
     "metadata": {},
     "output_type": "execute_result"
    }
   ],
   "source": [
    "diff_gene_exp_df.loc[gene_i , :]"
   ]
  },
  {
   "cell_type": "code",
   "execution_count": 28,
   "metadata": {},
   "outputs": [
    {
     "data": {
      "text/plain": [
       "ATF3   -0.061428\n",
       "dtype: float64"
      ]
     },
     "execution_count": 28,
     "metadata": {},
     "output_type": "execute_result"
    }
   ],
   "source": [
    "mean_logFC_series.head(n = 15)"
   ]
  },
  {
   "cell_type": "code",
   "execution_count": 29,
   "metadata": {},
   "outputs": [
    {
     "data": {
      "text/plain": [
       "ATF3   -0.061428\n",
       "dtype: float64"
      ]
     },
     "execution_count": 29,
     "metadata": {},
     "output_type": "execute_result"
    }
   ],
   "source": [
    "mean_logFC_series.tail(n = 15)"
   ]
  },
  {
   "cell_type": "code",
   "execution_count": 32,
   "metadata": {},
   "outputs": [
    {
     "data": {
      "text/plain": [
       "(1,)"
      ]
     },
     "execution_count": 32,
     "metadata": {},
     "output_type": "execute_result"
    }
   ],
   "source": [
    "np.shape(mean_logFC_series)"
   ]
  },
  {
   "cell_type": "markdown",
   "metadata": {},
   "source": [
    "Pickle **mean $log2(FC)$** series for comparison with other networks and downstream analysis"
   ]
  },
  {
   "cell_type": "code",
   "execution_count": 31,
   "metadata": {},
   "outputs": [],
   "source": [
    "mean_logFC_series.to_pickle(pickled_objects_dir + f'Network Files/mean logFC network nodes series/{comparison_X}.pkl')"
   ]
  },
  {
   "cell_type": "code",
   "execution_count": null,
   "metadata": {},
   "outputs": [],
   "source": []
  },
  {
   "cell_type": "code",
   "execution_count": null,
   "metadata": {},
   "outputs": [],
   "source": []
  }
 ],
 "metadata": {
  "kernelspec": {
   "display_name": "Python [conda env:py36_MRI_virtualenv]",
   "language": "python",
   "name": "conda-env-py36_MRI_virtualenv-py"
  },
  "language_info": {
   "codemirror_mode": {
    "name": "ipython",
    "version": 3
   },
   "file_extension": ".py",
   "mimetype": "text/x-python",
   "name": "python",
   "nbconvert_exporter": "python",
   "pygments_lexer": "ipython3",
   "version": "3.6.10"
  }
 },
 "nbformat": 4,
 "nbformat_minor": 4
}

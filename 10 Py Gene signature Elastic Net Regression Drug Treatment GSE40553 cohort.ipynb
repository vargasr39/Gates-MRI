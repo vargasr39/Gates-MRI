{
 "cells": [
  {
   "cell_type": "code",
   "execution_count": 6,
   "metadata": {},
   "outputs": [
    {
     "data": {
      "text/html": [
       "<style>.container { width:100% !important; }</style>"
      ],
      "text/plain": [
       "<IPython.core.display.HTML object>"
      ]
     },
     "metadata": {},
     "output_type": "display_data"
    }
   ],
   "source": [
    "from IPython.core.display import display, HTML\n",
    "display(HTML(\"<style>.container { width:100% !important; }</style>\"))\n",
    "%matplotlib inline"
   ]
  },
  {
   "cell_type": "code",
   "execution_count": 7,
   "metadata": {},
   "outputs": [],
   "source": [
    "project_dir_path = '/n/data1/hms/dbmi/farhat/Roger/gatesMRI/Projects/Biomarkers'"
   ]
  },
  {
   "cell_type": "markdown",
   "metadata": {},
   "source": [
    "#### Load Packages"
   ]
  },
  {
   "cell_type": "code",
   "execution_count": 8,
   "metadata": {},
   "outputs": [],
   "source": [
    "import os\n",
    "import pandas as pd\n",
    "import numpy as np\n",
    "from numpy import absolute\n",
    "from numpy import mean\n",
    "from numpy import std\n",
    "import matplotlib.pyplot as plt\n",
    "import matplotlib as mpl\n",
    "from matplotlib.ticker import FormatStrFormatter\n",
    "from matplotlib.ticker import MaxNLocator\n",
    "from matplotlib.gridspec import GridSpec\n",
    "import matplotlib.pylab as pl\n",
    "import matplotlib.colors as mcolors\n",
    "import matplotlib.patches as mpatches\n",
    "import scipy.stats\n",
    "from collections import Counter\n",
    "import pickle\n",
    "import seaborn as sns\n",
    "from sklearn.model_selection import cross_val_score\n",
    "from sklearn.model_selection import RepeatedKFold\n",
    "from sklearn.linear_model import ElasticNetCV\n",
    "from sklearn.metrics import mean_squared_error\n",
    "\n",
    "#for exporting to Adobe Illustrator\n",
    "mpl.rcParams['pdf.fonttype'] = 42\n",
    "mpl.rcParams['ps.fonttype'] = 42"
   ]
  },
  {
   "cell_type": "markdown",
   "metadata": {},
   "source": [
    "Create directory for figures"
   ]
  },
  {
   "cell_type": "code",
   "execution_count": 9,
   "metadata": {},
   "outputs": [],
   "source": [
    "figures_dir_path = f'{project_dir_path}/Figures/Notebook 10/'\n",
    "if not os.path.exists(figures_dir_path):\n",
    "    os.makedirs(figures_dir_path)"
   ]
  },
  {
   "cell_type": "markdown",
   "metadata": {},
   "source": [
    "Specify directory paths"
   ]
  },
  {
   "cell_type": "code",
   "execution_count": 10,
   "metadata": {},
   "outputs": [],
   "source": [
    "#directoy for Pickled Objects\n",
    "pickled_objects_dir = f'{project_dir_path}/Data/Pickled Files/'\n",
    "\n",
    "#specify directory for Data\n",
    "data_dir = f'{project_dir_path}/Data/'\n",
    "\n",
    "#RNAseq Data\n",
    "RNAseq_annotation_file = f'{data_dir}Drug Treatment RNAseq Expression/CSV files/GSE40553/GSE40553_TreatMonitoring_MultivariateModel_input Info.csv'\n",
    "RNAseq_gene_exp_matrix_file = f'{data_dir}Drug Treatment RNAseq Expression/CSV files/GSE40553/GSE40553_TreatMonitoring_MultivariateModel_input Exp_EachGene.csv'"
   ]
  },
  {
   "cell_type": "markdown",
   "metadata": {},
   "source": [
    "Set parameters for plotting"
   ]
  },
  {
   "cell_type": "code",
   "execution_count": 11,
   "metadata": {},
   "outputs": [],
   "source": [
    "plt.style.use('ggplot')\n",
    "plt.rcParams['lines.linewidth']=1.0\n",
    "plt.rcParams['axes.facecolor']='1.0'\n",
    "plt.rcParams['xtick.color']='black'\n",
    "plt.rcParams['axes.grid']=False\n",
    "plt.rcParams['axes.edgecolor']='black'\n",
    "plt.rcParams['grid.color']= '1.0'\n",
    "plt.rcParams.update({'font.size': 14})"
   ]
  },
  {
   "cell_type": "markdown",
   "metadata": {},
   "source": [
    "## [1] Load Data"
   ]
  },
  {
   "cell_type": "markdown",
   "metadata": {},
   "source": [
    "### [1.1] Weighted Degrees for Nodes (genes) & Mean $log_2(Fold Change)$ for Nodes (genes)"
   ]
  },
  {
   "cell_type": "markdown",
   "metadata": {},
   "source": [
    "#### ATB v HC"
   ]
  },
  {
   "cell_type": "code",
   "execution_count": 12,
   "metadata": {},
   "outputs": [],
   "source": [
    "weighted_deg_ATB_HC_series = pd.read_pickle(pickled_objects_dir + 'Network Files/weighted degree series/ATB_v_HC.pkl')\n",
    "mean_logFC_ATB_HC_series = pd.read_pickle(pickled_objects_dir + 'Network Files/mean logFC network nodes series/ATB_v_HC.pkl')\n",
    "\n",
    "ATB_HC_df = pd.DataFrame(index = mean_logFC_ATB_HC_series.index)\n",
    "ATB_HC_df['mean_log2FC'] = mean_logFC_ATB_HC_series.values\n",
    "ATB_HC_df['weighted_degree'] = weighted_deg_ATB_HC_series[mean_logFC_ATB_HC_series.index].values"
   ]
  },
  {
   "cell_type": "markdown",
   "metadata": {},
   "source": [
    "#### ATB v LTBI"
   ]
  },
  {
   "cell_type": "code",
   "execution_count": 13,
   "metadata": {},
   "outputs": [],
   "source": [
    "weighted_deg_ATB_LTBI_series = pd.read_pickle(pickled_objects_dir + 'Network Files/weighted degree series/ATB_v_LTBI.pkl')\n",
    "mean_logFC_ATB_LTBI_series = pd.read_pickle(pickled_objects_dir + 'Network Files/mean logFC network nodes series/ATB_v_LTBI.pkl')\n",
    "\n",
    "ATB_LTBI_df = pd.DataFrame(index = mean_logFC_ATB_LTBI_series.index)\n",
    "ATB_LTBI_df['mean_log2FC'] = mean_logFC_ATB_LTBI_series.values\n",
    "ATB_LTBI_df['weighted_degree'] = weighted_deg_ATB_LTBI_series[mean_logFC_ATB_LTBI_series.index].values"
   ]
  },
  {
   "cell_type": "markdown",
   "metadata": {},
   "source": [
    "#### ATB v OD"
   ]
  },
  {
   "cell_type": "code",
   "execution_count": 14,
   "metadata": {},
   "outputs": [],
   "source": [
    "weighted_deg_ATB_OD_series = pd.read_pickle(pickled_objects_dir + 'Network Files/weighted degree series/ATB_v_OD.pkl')\n",
    "mean_logFC_ATB_OD_series = pd.read_pickle(pickled_objects_dir + 'Network Files/mean logFC network nodes series/ATB_v_OD.pkl')\n",
    "\n",
    "ATB_OD_df = pd.DataFrame(index = mean_logFC_ATB_OD_series.index)\n",
    "ATB_OD_df['mean_log2FC'] = mean_logFC_ATB_OD_series.values\n",
    "ATB_OD_df['weighted_degree'] = weighted_deg_ATB_OD_series[mean_logFC_ATB_OD_series.index].values"
   ]
  },
  {
   "cell_type": "markdown",
   "metadata": {},
   "source": [
    "### [1.2] Top weighted nodes in (1) ATB/HC & ATB/LTBI & ATB/OD networks $(n = 24)$ and (2) ATB/HC & ATB/LTBI networks $(n = 23)$"
   ]
  },
  {
   "cell_type": "code",
   "execution_count": 15,
   "metadata": {},
   "outputs": [],
   "source": [
    "with open(f'{pickled_objects_dir}Network Files/top weighted node lists/ATB_HC_and_ATB_LTBI_and_ATB_OD.pkl', 'rb') as f:\n",
    "    top_genes_ATB_HC_and_ATB_LTBI_and_ATB_OD = pickle.load(f)"
   ]
  },
  {
   "cell_type": "code",
   "execution_count": 16,
   "metadata": {},
   "outputs": [
    {
     "data": {
      "text/plain": [
       "24"
      ]
     },
     "execution_count": 16,
     "metadata": {},
     "output_type": "execute_result"
    }
   ],
   "source": [
    "len(top_genes_ATB_HC_and_ATB_LTBI_and_ATB_OD)"
   ]
  },
  {
   "cell_type": "code",
   "execution_count": 17,
   "metadata": {},
   "outputs": [],
   "source": [
    "with open(f'{pickled_objects_dir}Network Files/top weighted node lists/ATB_HC_and_ATB_LTBI.pkl', 'rb') as f:\n",
    "    top_genes_ATB_HC_and_ATB_LTBI = pickle.load(f)"
   ]
  },
  {
   "cell_type": "code",
   "execution_count": 18,
   "metadata": {},
   "outputs": [
    {
     "data": {
      "text/plain": [
       "23"
      ]
     },
     "execution_count": 18,
     "metadata": {},
     "output_type": "execute_result"
    }
   ],
   "source": [
    "len(top_genes_ATB_HC_and_ATB_LTBI)"
   ]
  },
  {
   "cell_type": "markdown",
   "metadata": {},
   "source": [
    "#### combine genes into a *single gene set*"
   ]
  },
  {
   "cell_type": "code",
   "execution_count": 19,
   "metadata": {},
   "outputs": [],
   "source": [
    "gene_sig_set = top_genes_ATB_HC_and_ATB_LTBI_and_ATB_OD + top_genes_ATB_HC_and_ATB_LTBI"
   ]
  },
  {
   "cell_type": "code",
   "execution_count": 20,
   "metadata": {},
   "outputs": [
    {
     "data": {
      "text/plain": [
       "47"
      ]
     },
     "execution_count": 20,
     "metadata": {},
     "output_type": "execute_result"
    }
   ],
   "source": [
    "len(gene_sig_set)"
   ]
  },
  {
   "cell_type": "markdown",
   "metadata": {},
   "source": [
    "### [1.3] Drug Treatment data from Wen-Han"
   ]
  },
  {
   "cell_type": "code",
   "execution_count": 21,
   "metadata": {},
   "outputs": [],
   "source": [
    "gene_exp_info_df = pd.read_csv(RNAseq_annotation_file).set_index('Unnamed: 0')\n",
    "gene_exp_info_df.index.rename('GSM_ID', inplace = True)"
   ]
  },
  {
   "cell_type": "code",
   "execution_count": 22,
   "metadata": {},
   "outputs": [
    {
     "data": {
      "text/html": [
       "<div>\n",
       "<style scoped>\n",
       "    .dataframe tbody tr th:only-of-type {\n",
       "        vertical-align: middle;\n",
       "    }\n",
       "\n",
       "    .dataframe tbody tr th {\n",
       "        vertical-align: top;\n",
       "    }\n",
       "\n",
       "    .dataframe thead th {\n",
       "        text-align: right;\n",
       "    }\n",
       "</style>\n",
       "<table border=\"1\" class=\"dataframe\">\n",
       "  <thead>\n",
       "    <tr style=\"text-align: right;\">\n",
       "      <th></th>\n",
       "      <th>title</th>\n",
       "      <th>geographical location</th>\n",
       "      <th>status</th>\n",
       "      <th>time</th>\n",
       "      <th>disease</th>\n",
       "      <th>ID</th>\n",
       "      <th>group</th>\n",
       "      <th>groupName</th>\n",
       "    </tr>\n",
       "    <tr>\n",
       "      <th>GSM_ID</th>\n",
       "      <th></th>\n",
       "      <th></th>\n",
       "      <th></th>\n",
       "      <th></th>\n",
       "      <th></th>\n",
       "      <th></th>\n",
       "      <th></th>\n",
       "      <th></th>\n",
       "    </tr>\n",
       "  </thead>\n",
       "  <tbody>\n",
       "    <tr>\n",
       "      <th>GSM996408</th>\n",
       "      <td>active TB pre-treatment [401/0]</td>\n",
       "      <td>South Africa patient blood</td>\n",
       "      <td>active TB pre-treatment</td>\n",
       "      <td>0</td>\n",
       "      <td>PTB</td>\n",
       "      <td>401</td>\n",
       "      <td>1</td>\n",
       "      <td>0d prior to treatment</td>\n",
       "    </tr>\n",
       "    <tr>\n",
       "      <th>GSM996330</th>\n",
       "      <td>active TB 12 months post treatment [401/12]</td>\n",
       "      <td>South Africa patient blood</td>\n",
       "      <td>active TB 12 months post treatment</td>\n",
       "      <td>360</td>\n",
       "      <td>PTB</td>\n",
       "      <td>401</td>\n",
       "      <td>7</td>\n",
       "      <td>360d after treatment</td>\n",
       "    </tr>\n",
       "    <tr>\n",
       "      <th>GSM996398</th>\n",
       "      <td>active TB pre-treatment [402/0]</td>\n",
       "      <td>South Africa patient blood</td>\n",
       "      <td>active TB pre-treatment</td>\n",
       "      <td>0</td>\n",
       "      <td>PTB</td>\n",
       "      <td>402</td>\n",
       "      <td>1</td>\n",
       "      <td>0d prior to treatment</td>\n",
       "    </tr>\n",
       "    <tr>\n",
       "      <th>GSM996365</th>\n",
       "      <td>active TB 6 months post treatment [402/06]</td>\n",
       "      <td>South Africa patient blood</td>\n",
       "      <td>active TB 6 months post treatment</td>\n",
       "      <td>180</td>\n",
       "      <td>PTB</td>\n",
       "      <td>402</td>\n",
       "      <td>6</td>\n",
       "      <td>180d after treatment</td>\n",
       "    </tr>\n",
       "    <tr>\n",
       "      <th>GSM996453</th>\n",
       "      <td>active TB 12 months post treatment [402/12]</td>\n",
       "      <td>South Africa patient blood</td>\n",
       "      <td>active TB 12 months post treatment</td>\n",
       "      <td>360</td>\n",
       "      <td>PTB</td>\n",
       "      <td>402</td>\n",
       "      <td>7</td>\n",
       "      <td>360d after treatment</td>\n",
       "    </tr>\n",
       "  </tbody>\n",
       "</table>\n",
       "</div>"
      ],
      "text/plain": [
       "                                                 title  \\\n",
       "GSM_ID                                                   \n",
       "GSM996408              active TB pre-treatment [401/0]   \n",
       "GSM996330  active TB 12 months post treatment [401/12]   \n",
       "GSM996398              active TB pre-treatment [402/0]   \n",
       "GSM996365   active TB 6 months post treatment [402/06]   \n",
       "GSM996453  active TB 12 months post treatment [402/12]   \n",
       "\n",
       "                geographical location                              status  \\\n",
       "GSM_ID                                                                      \n",
       "GSM996408  South Africa patient blood             active TB pre-treatment   \n",
       "GSM996330  South Africa patient blood  active TB 12 months post treatment   \n",
       "GSM996398  South Africa patient blood             active TB pre-treatment   \n",
       "GSM996365  South Africa patient blood   active TB 6 months post treatment   \n",
       "GSM996453  South Africa patient blood  active TB 12 months post treatment   \n",
       "\n",
       "           time disease   ID  group              groupName  \n",
       "GSM_ID                                                      \n",
       "GSM996408     0     PTB  401      1  0d prior to treatment  \n",
       "GSM996330   360     PTB  401      7   360d after treatment  \n",
       "GSM996398     0     PTB  402      1  0d prior to treatment  \n",
       "GSM996365   180     PTB  402      6   180d after treatment  \n",
       "GSM996453   360     PTB  402      7   360d after treatment  "
      ]
     },
     "execution_count": 22,
     "metadata": {},
     "output_type": "execute_result"
    }
   ],
   "source": [
    "gene_exp_info_df.head()"
   ]
  },
  {
   "cell_type": "code",
   "execution_count": 23,
   "metadata": {},
   "outputs": [
    {
     "data": {
      "text/plain": [
       "(131, 8)"
      ]
     },
     "execution_count": 23,
     "metadata": {},
     "output_type": "execute_result"
    }
   ],
   "source": [
    "np.shape(gene_exp_info_df)"
   ]
  },
  {
   "cell_type": "code",
   "execution_count": 24,
   "metadata": {},
   "outputs": [],
   "source": [
    "gene_exp_matrix_df = pd.read_csv(RNAseq_gene_exp_matrix_file).set_index('Unnamed: 0')\n",
    "gene_exp_matrix_df.index.rename('GSM_ID', inplace = True)\n",
    "gene_exp_matrix_df = gene_exp_matrix_df.T"
   ]
  },
  {
   "cell_type": "code",
   "execution_count": 25,
   "metadata": {},
   "outputs": [
    {
     "data": {
      "text/html": [
       "<div>\n",
       "<style scoped>\n",
       "    .dataframe tbody tr th:only-of-type {\n",
       "        vertical-align: middle;\n",
       "    }\n",
       "\n",
       "    .dataframe tbody tr th {\n",
       "        vertical-align: top;\n",
       "    }\n",
       "\n",
       "    .dataframe thead th {\n",
       "        text-align: right;\n",
       "    }\n",
       "</style>\n",
       "<table border=\"1\" class=\"dataframe\">\n",
       "  <thead>\n",
       "    <tr style=\"text-align: right;\">\n",
       "      <th>GSM_ID</th>\n",
       "      <th>EEF1A1</th>\n",
       "      <th>GAPDH</th>\n",
       "      <th>LOC643334</th>\n",
       "      <th>SLC35E2</th>\n",
       "      <th>DUSP22</th>\n",
       "      <th>LOC642820</th>\n",
       "      <th>RPS28</th>\n",
       "      <th>IPO13</th>\n",
       "      <th>TESSP1</th>\n",
       "      <th>LOC653113</th>\n",
       "      <th>...</th>\n",
       "      <th>hematopoietic_progenitor</th>\n",
       "      <th>macrophage_m0</th>\n",
       "      <th>macrophage_m1</th>\n",
       "      <th>macrophage_m2</th>\n",
       "      <th>memory_B_cell</th>\n",
       "      <th>myeloid_dendritic_cell</th>\n",
       "      <th>naive_B_cell</th>\n",
       "      <th>neutrophil</th>\n",
       "      <th>plasma_cell</th>\n",
       "      <th>plasmacytoid_dendritic_cell</th>\n",
       "    </tr>\n",
       "  </thead>\n",
       "  <tbody>\n",
       "    <tr>\n",
       "      <th>GSM996408</th>\n",
       "      <td>-0.262689</td>\n",
       "      <td>0.496376</td>\n",
       "      <td>0.306659</td>\n",
       "      <td>-0.281313</td>\n",
       "      <td>-0.882281</td>\n",
       "      <td>0.654244</td>\n",
       "      <td>-0.374078</td>\n",
       "      <td>-0.120265</td>\n",
       "      <td>-0.176062</td>\n",
       "      <td>0.205200</td>\n",
       "      <td>...</td>\n",
       "      <td>0.165424</td>\n",
       "      <td>0.031117</td>\n",
       "      <td>0.159177</td>\n",
       "      <td>0.000000</td>\n",
       "      <td>0.086135</td>\n",
       "      <td>0.0</td>\n",
       "      <td>0.000000</td>\n",
       "      <td>0.231802</td>\n",
       "      <td>0.096727</td>\n",
       "      <td>0.000000</td>\n",
       "    </tr>\n",
       "    <tr>\n",
       "      <th>GSM996330</th>\n",
       "      <td>-0.045556</td>\n",
       "      <td>0.015934</td>\n",
       "      <td>-0.369687</td>\n",
       "      <td>2.731641</td>\n",
       "      <td>1.562389</td>\n",
       "      <td>0.739739</td>\n",
       "      <td>-0.305610</td>\n",
       "      <td>0.278352</td>\n",
       "      <td>1.954948</td>\n",
       "      <td>0.342200</td>\n",
       "      <td>...</td>\n",
       "      <td>0.000000</td>\n",
       "      <td>0.000000</td>\n",
       "      <td>0.043323</td>\n",
       "      <td>0.000000</td>\n",
       "      <td>0.319639</td>\n",
       "      <td>0.0</td>\n",
       "      <td>0.000000</td>\n",
       "      <td>0.000000</td>\n",
       "      <td>0.021595</td>\n",
       "      <td>0.190413</td>\n",
       "    </tr>\n",
       "    <tr>\n",
       "      <th>GSM996398</th>\n",
       "      <td>0.153195</td>\n",
       "      <td>-0.086382</td>\n",
       "      <td>0.334537</td>\n",
       "      <td>1.816955</td>\n",
       "      <td>-0.854403</td>\n",
       "      <td>-0.548657</td>\n",
       "      <td>0.029551</td>\n",
       "      <td>0.455776</td>\n",
       "      <td>-0.148183</td>\n",
       "      <td>1.494945</td>\n",
       "      <td>...</td>\n",
       "      <td>0.000000</td>\n",
       "      <td>0.000000</td>\n",
       "      <td>0.284942</td>\n",
       "      <td>0.000000</td>\n",
       "      <td>0.388739</td>\n",
       "      <td>0.0</td>\n",
       "      <td>0.000000</td>\n",
       "      <td>0.000000</td>\n",
       "      <td>0.000000</td>\n",
       "      <td>0.000000</td>\n",
       "    </tr>\n",
       "    <tr>\n",
       "      <th>GSM996365</th>\n",
       "      <td>-0.416633</td>\n",
       "      <td>-0.761357</td>\n",
       "      <td>-0.654867</td>\n",
       "      <td>-1.242839</td>\n",
       "      <td>0.156193</td>\n",
       "      <td>-0.130404</td>\n",
       "      <td>0.271103</td>\n",
       "      <td>0.651323</td>\n",
       "      <td>-0.067198</td>\n",
       "      <td>-0.714906</td>\n",
       "      <td>...</td>\n",
       "      <td>0.000000</td>\n",
       "      <td>0.000000</td>\n",
       "      <td>0.053890</td>\n",
       "      <td>0.035400</td>\n",
       "      <td>0.000000</td>\n",
       "      <td>0.0</td>\n",
       "      <td>0.241711</td>\n",
       "      <td>0.173833</td>\n",
       "      <td>0.024274</td>\n",
       "      <td>0.000000</td>\n",
       "    </tr>\n",
       "    <tr>\n",
       "      <th>GSM996453</th>\n",
       "      <td>0.116076</td>\n",
       "      <td>-0.230482</td>\n",
       "      <td>-0.078740</td>\n",
       "      <td>-0.666712</td>\n",
       "      <td>0.732320</td>\n",
       "      <td>-0.694001</td>\n",
       "      <td>0.073566</td>\n",
       "      <td>-0.313820</td>\n",
       "      <td>1.640174</td>\n",
       "      <td>-0.544771</td>\n",
       "      <td>...</td>\n",
       "      <td>0.000000</td>\n",
       "      <td>0.000000</td>\n",
       "      <td>0.004827</td>\n",
       "      <td>0.005196</td>\n",
       "      <td>0.329905</td>\n",
       "      <td>0.0</td>\n",
       "      <td>0.046273</td>\n",
       "      <td>0.308311</td>\n",
       "      <td>0.063927</td>\n",
       "      <td>0.000000</td>\n",
       "    </tr>\n",
       "  </tbody>\n",
       "</table>\n",
       "<p>5 rows × 31354 columns</p>\n",
       "</div>"
      ],
      "text/plain": [
       "GSM_ID       EEF1A1     GAPDH  LOC643334   SLC35E2    DUSP22  LOC642820  \\\n",
       "GSM996408 -0.262689  0.496376   0.306659 -0.281313 -0.882281   0.654244   \n",
       "GSM996330 -0.045556  0.015934  -0.369687  2.731641  1.562389   0.739739   \n",
       "GSM996398  0.153195 -0.086382   0.334537  1.816955 -0.854403  -0.548657   \n",
       "GSM996365 -0.416633 -0.761357  -0.654867 -1.242839  0.156193  -0.130404   \n",
       "GSM996453  0.116076 -0.230482  -0.078740 -0.666712  0.732320  -0.694001   \n",
       "\n",
       "GSM_ID        RPS28     IPO13    TESSP1  LOC653113  ...  \\\n",
       "GSM996408 -0.374078 -0.120265 -0.176062   0.205200  ...   \n",
       "GSM996330 -0.305610  0.278352  1.954948   0.342200  ...   \n",
       "GSM996398  0.029551  0.455776 -0.148183   1.494945  ...   \n",
       "GSM996365  0.271103  0.651323 -0.067198  -0.714906  ...   \n",
       "GSM996453  0.073566 -0.313820  1.640174  -0.544771  ...   \n",
       "\n",
       "GSM_ID     hematopoietic_progenitor  macrophage_m0  macrophage_m1  \\\n",
       "GSM996408                  0.165424       0.031117       0.159177   \n",
       "GSM996330                  0.000000       0.000000       0.043323   \n",
       "GSM996398                  0.000000       0.000000       0.284942   \n",
       "GSM996365                  0.000000       0.000000       0.053890   \n",
       "GSM996453                  0.000000       0.000000       0.004827   \n",
       "\n",
       "GSM_ID     macrophage_m2  memory_B_cell  myeloid_dendritic_cell  naive_B_cell  \\\n",
       "GSM996408       0.000000       0.086135                     0.0      0.000000   \n",
       "GSM996330       0.000000       0.319639                     0.0      0.000000   \n",
       "GSM996398       0.000000       0.388739                     0.0      0.000000   \n",
       "GSM996365       0.035400       0.000000                     0.0      0.241711   \n",
       "GSM996453       0.005196       0.329905                     0.0      0.046273   \n",
       "\n",
       "GSM_ID     neutrophil  plasma_cell  plasmacytoid_dendritic_cell  \n",
       "GSM996408    0.231802     0.096727                     0.000000  \n",
       "GSM996330    0.000000     0.021595                     0.190413  \n",
       "GSM996398    0.000000     0.000000                     0.000000  \n",
       "GSM996365    0.173833     0.024274                     0.000000  \n",
       "GSM996453    0.308311     0.063927                     0.000000  \n",
       "\n",
       "[5 rows x 31354 columns]"
      ]
     },
     "execution_count": 25,
     "metadata": {},
     "output_type": "execute_result"
    }
   ],
   "source": [
    "gene_exp_matrix_df.head()"
   ]
  },
  {
   "cell_type": "code",
   "execution_count": 26,
   "metadata": {},
   "outputs": [
    {
     "data": {
      "text/plain": [
       "(131, 31354)"
      ]
     },
     "execution_count": 26,
     "metadata": {},
     "output_type": "execute_result"
    }
   ],
   "source": [
    "np.shape(gene_exp_matrix_df)"
   ]
  },
  {
   "cell_type": "markdown",
   "metadata": {},
   "source": [
    "## [2] Subset to top weighted Gene Sets for individuals during the duration of treatment"
   ]
  },
  {
   "cell_type": "markdown",
   "metadata": {},
   "source": [
    "- **group 1** : 0 days (prior to treatment)\n",
    "\n",
    "- **group 2** : 1 week after treatment\n",
    "\n",
    "- **group 3** : 2 weeks after treatment\n",
    "\n",
    "- **group 4** : 1 month after treatment\n",
    "\n",
    "- **group 5** : 2 months after treatment\n",
    "\n",
    "- **group 6** : 6 months after treatment\n",
    "\n",
    "- **group 7** : Healthy Controls / 1 year after treatment"
   ]
  },
  {
   "cell_type": "markdown",
   "metadata": {},
   "source": [
    "How many individuals are there in each group?"
   ]
  },
  {
   "cell_type": "code",
   "execution_count": 27,
   "metadata": {},
   "outputs": [
    {
     "data": {
      "text/plain": [
       "28"
      ]
     },
     "execution_count": 27,
     "metadata": {},
     "output_type": "execute_result"
    }
   ],
   "source": [
    "np.sum(gene_exp_info_df.group == 1)"
   ]
  },
  {
   "cell_type": "code",
   "execution_count": 28,
   "metadata": {},
   "outputs": [
    {
     "data": {
      "text/plain": [
       "0"
      ]
     },
     "execution_count": 28,
     "metadata": {},
     "output_type": "execute_result"
    }
   ],
   "source": [
    "np.sum(gene_exp_info_df.group == 2)"
   ]
  },
  {
   "cell_type": "code",
   "execution_count": 29,
   "metadata": {},
   "outputs": [
    {
     "data": {
      "text/plain": [
       "25"
      ]
     },
     "execution_count": 29,
     "metadata": {},
     "output_type": "execute_result"
    }
   ],
   "source": [
    "np.sum(gene_exp_info_df.group == 3)"
   ]
  },
  {
   "cell_type": "code",
   "execution_count": 30,
   "metadata": {},
   "outputs": [
    {
     "data": {
      "text/plain": [
       "0"
      ]
     },
     "execution_count": 30,
     "metadata": {},
     "output_type": "execute_result"
    }
   ],
   "source": [
    "np.sum(gene_exp_info_df.group == 4)"
   ]
  },
  {
   "cell_type": "code",
   "execution_count": 31,
   "metadata": {},
   "outputs": [
    {
     "data": {
      "text/plain": [
       "24"
      ]
     },
     "execution_count": 31,
     "metadata": {},
     "output_type": "execute_result"
    }
   ],
   "source": [
    "np.sum(gene_exp_info_df.group == 5)"
   ]
  },
  {
   "cell_type": "code",
   "execution_count": 32,
   "metadata": {},
   "outputs": [
    {
     "data": {
      "text/plain": [
       "25"
      ]
     },
     "execution_count": 32,
     "metadata": {},
     "output_type": "execute_result"
    }
   ],
   "source": [
    "np.sum(gene_exp_info_df.group == 6)"
   ]
  },
  {
   "cell_type": "code",
   "execution_count": 33,
   "metadata": {},
   "outputs": [
    {
     "data": {
      "text/plain": [
       "29"
      ]
     },
     "execution_count": 33,
     "metadata": {},
     "output_type": "execute_result"
    }
   ],
   "source": [
    "np.sum(gene_exp_info_df.group == 7)"
   ]
  },
  {
   "cell_type": "markdown",
   "metadata": {},
   "source": [
    "- **group 1** : 0 days (prior to treatment) , **Y = 1**\n",
    "\n",
    "- **group 3** : 2 weeks after treatment , **Y = 0.75**\n",
    "\n",
    "- **group 5** : 2 months after treatment , **Y = 0.5**\n",
    "\n",
    "- **group 6** : 6 months after treatment , **Y = 0.25**\n",
    "\n",
    "- **group 7** : 1 year after treatment , **Y = 0**"
   ]
  },
  {
   "cell_type": "code",
   "execution_count": 34,
   "metadata": {},
   "outputs": [],
   "source": [
    "group_ids = [1, 3, 5, 6, 7]\n",
    "group_tags = ['prior\\nto treatment', '2 weeks\\nafter treatment', '2 months\\nafter treatment', '6 months\\nafter treatment', '1 year\\nafter treatment']\n",
    "Y_value_dict = {1:1 , 3:0.75 , 5:0.5 , 6:0.25 , 7:0}"
   ]
  },
  {
   "cell_type": "markdown",
   "metadata": {},
   "source": [
    "### [2.1] subset to *N = 47* genes in gene signature & add *Y* values"
   ]
  },
  {
   "cell_type": "code",
   "execution_count": 35,
   "metadata": {},
   "outputs": [],
   "source": [
    "exp_matrix_gene_set_df = gene_exp_matrix_df.loc[: , gene_sig_set]"
   ]
  },
  {
   "cell_type": "code",
   "execution_count": 36,
   "metadata": {},
   "outputs": [
    {
     "data": {
      "text/plain": [
       "(131, 47)"
      ]
     },
     "execution_count": 36,
     "metadata": {},
     "output_type": "execute_result"
    }
   ],
   "source": [
    "np.shape(exp_matrix_gene_set_df)"
   ]
  },
  {
   "cell_type": "code",
   "execution_count": 37,
   "metadata": {},
   "outputs": [
    {
     "data": {
      "text/html": [
       "<div>\n",
       "<style scoped>\n",
       "    .dataframe tbody tr th:only-of-type {\n",
       "        vertical-align: middle;\n",
       "    }\n",
       "\n",
       "    .dataframe tbody tr th {\n",
       "        vertical-align: top;\n",
       "    }\n",
       "\n",
       "    .dataframe thead th {\n",
       "        text-align: right;\n",
       "    }\n",
       "</style>\n",
       "<table border=\"1\" class=\"dataframe\">\n",
       "  <thead>\n",
       "    <tr style=\"text-align: right;\">\n",
       "      <th>GSM_ID</th>\n",
       "      <th>GBP5</th>\n",
       "      <th>IFIT3</th>\n",
       "      <th>LAP3</th>\n",
       "      <th>VAMP5</th>\n",
       "      <th>PSTPIP2</th>\n",
       "      <th>C1QB</th>\n",
       "      <th>DUSP3</th>\n",
       "      <th>CEACAM1</th>\n",
       "      <th>WARS</th>\n",
       "      <th>XAF1</th>\n",
       "      <th>...</th>\n",
       "      <th>ID3</th>\n",
       "      <th>LY96</th>\n",
       "      <th>CD6</th>\n",
       "      <th>KLRB1</th>\n",
       "      <th>PIK3IP1</th>\n",
       "      <th>CCR7</th>\n",
       "      <th>FBXO6</th>\n",
       "      <th>KCNJ15</th>\n",
       "      <th>NELL2</th>\n",
       "      <th>SKAP1</th>\n",
       "    </tr>\n",
       "  </thead>\n",
       "  <tbody>\n",
       "    <tr>\n",
       "      <th>GSM996408</th>\n",
       "      <td>2.544450</td>\n",
       "      <td>1.287279</td>\n",
       "      <td>2.371635</td>\n",
       "      <td>2.093394</td>\n",
       "      <td>2.147355</td>\n",
       "      <td>5.551621</td>\n",
       "      <td>1.430134</td>\n",
       "      <td>1.824227</td>\n",
       "      <td>2.428189</td>\n",
       "      <td>1.187352</td>\n",
       "      <td>...</td>\n",
       "      <td>-5.695193</td>\n",
       "      <td>1.249040</td>\n",
       "      <td>-1.303784</td>\n",
       "      <td>-1.401154</td>\n",
       "      <td>-1.461660</td>\n",
       "      <td>-1.758700</td>\n",
       "      <td>1.798810</td>\n",
       "      <td>1.751590</td>\n",
       "      <td>-2.582731</td>\n",
       "      <td>-0.962018</td>\n",
       "    </tr>\n",
       "    <tr>\n",
       "      <th>GSM996330</th>\n",
       "      <td>0.086348</td>\n",
       "      <td>-1.599552</td>\n",
       "      <td>-0.525319</td>\n",
       "      <td>0.003380</td>\n",
       "      <td>-0.432540</td>\n",
       "      <td>0.208641</td>\n",
       "      <td>-0.676584</td>\n",
       "      <td>-1.264306</td>\n",
       "      <td>-0.340603</td>\n",
       "      <td>-0.890235</td>\n",
       "      <td>...</td>\n",
       "      <td>0.422877</td>\n",
       "      <td>-1.109254</td>\n",
       "      <td>0.460270</td>\n",
       "      <td>0.120360</td>\n",
       "      <td>0.296327</td>\n",
       "      <td>0.085922</td>\n",
       "      <td>-0.241946</td>\n",
       "      <td>-2.270071</td>\n",
       "      <td>0.060675</td>\n",
       "      <td>0.528861</td>\n",
       "    </tr>\n",
       "    <tr>\n",
       "      <th>GSM996398</th>\n",
       "      <td>1.623428</td>\n",
       "      <td>1.970092</td>\n",
       "      <td>1.201545</td>\n",
       "      <td>0.372142</td>\n",
       "      <td>0.816581</td>\n",
       "      <td>2.024758</td>\n",
       "      <td>-0.001465</td>\n",
       "      <td>1.054112</td>\n",
       "      <td>1.031686</td>\n",
       "      <td>1.460158</td>\n",
       "      <td>...</td>\n",
       "      <td>0.838894</td>\n",
       "      <td>0.508862</td>\n",
       "      <td>0.215425</td>\n",
       "      <td>-0.509872</td>\n",
       "      <td>0.429892</td>\n",
       "      <td>0.836312</td>\n",
       "      <td>1.564942</td>\n",
       "      <td>1.068775</td>\n",
       "      <td>0.160567</td>\n",
       "      <td>-0.017245</td>\n",
       "    </tr>\n",
       "    <tr>\n",
       "      <th>GSM996365</th>\n",
       "      <td>-1.267674</td>\n",
       "      <td>-0.771007</td>\n",
       "      <td>-1.245346</td>\n",
       "      <td>-0.637052</td>\n",
       "      <td>0.255246</td>\n",
       "      <td>-3.293770</td>\n",
       "      <td>-0.476916</td>\n",
       "      <td>-0.052356</td>\n",
       "      <td>-0.546444</td>\n",
       "      <td>-0.152990</td>\n",
       "      <td>...</td>\n",
       "      <td>0.311372</td>\n",
       "      <td>-0.396123</td>\n",
       "      <td>-0.085485</td>\n",
       "      <td>-0.061872</td>\n",
       "      <td>0.321228</td>\n",
       "      <td>0.269428</td>\n",
       "      <td>-1.407828</td>\n",
       "      <td>0.313338</td>\n",
       "      <td>0.163415</td>\n",
       "      <td>0.059354</td>\n",
       "    </tr>\n",
       "    <tr>\n",
       "      <th>GSM996453</th>\n",
       "      <td>-0.628804</td>\n",
       "      <td>0.556417</td>\n",
       "      <td>-0.851327</td>\n",
       "      <td>-0.621060</td>\n",
       "      <td>0.137016</td>\n",
       "      <td>-2.717643</td>\n",
       "      <td>0.014793</td>\n",
       "      <td>0.533602</td>\n",
       "      <td>-0.147141</td>\n",
       "      <td>0.406824</td>\n",
       "      <td>...</td>\n",
       "      <td>0.257476</td>\n",
       "      <td>0.336761</td>\n",
       "      <td>0.320899</td>\n",
       "      <td>-0.412101</td>\n",
       "      <td>0.477473</td>\n",
       "      <td>0.794112</td>\n",
       "      <td>-0.675125</td>\n",
       "      <td>1.056227</td>\n",
       "      <td>0.586922</td>\n",
       "      <td>-0.046036</td>\n",
       "    </tr>\n",
       "    <tr>\n",
       "      <th>...</th>\n",
       "      <td>...</td>\n",
       "      <td>...</td>\n",
       "      <td>...</td>\n",
       "      <td>...</td>\n",
       "      <td>...</td>\n",
       "      <td>...</td>\n",
       "      <td>...</td>\n",
       "      <td>...</td>\n",
       "      <td>...</td>\n",
       "      <td>...</td>\n",
       "      <td>...</td>\n",
       "      <td>...</td>\n",
       "      <td>...</td>\n",
       "      <td>...</td>\n",
       "      <td>...</td>\n",
       "      <td>...</td>\n",
       "      <td>...</td>\n",
       "      <td>...</td>\n",
       "      <td>...</td>\n",
       "      <td>...</td>\n",
       "      <td>...</td>\n",
       "    </tr>\n",
       "    <tr>\n",
       "      <th>GSM996383</th>\n",
       "      <td>1.288971</td>\n",
       "      <td>1.507113</td>\n",
       "      <td>1.909472</td>\n",
       "      <td>1.464977</td>\n",
       "      <td>0.558301</td>\n",
       "      <td>4.374000</td>\n",
       "      <td>0.831762</td>\n",
       "      <td>-0.174944</td>\n",
       "      <td>0.477525</td>\n",
       "      <td>1.692915</td>\n",
       "      <td>...</td>\n",
       "      <td>-0.726658</td>\n",
       "      <td>0.881540</td>\n",
       "      <td>0.232200</td>\n",
       "      <td>-0.297763</td>\n",
       "      <td>-0.226818</td>\n",
       "      <td>-0.021709</td>\n",
       "      <td>1.627938</td>\n",
       "      <td>1.026735</td>\n",
       "      <td>-0.705438</td>\n",
       "      <td>0.066882</td>\n",
       "    </tr>\n",
       "    <tr>\n",
       "      <th>GSM996423</th>\n",
       "      <td>1.423941</td>\n",
       "      <td>0.574954</td>\n",
       "      <td>1.266092</td>\n",
       "      <td>0.338390</td>\n",
       "      <td>0.059441</td>\n",
       "      <td>3.587731</td>\n",
       "      <td>0.565715</td>\n",
       "      <td>-0.064677</td>\n",
       "      <td>0.538907</td>\n",
       "      <td>0.108438</td>\n",
       "      <td>...</td>\n",
       "      <td>-0.449672</td>\n",
       "      <td>0.188292</td>\n",
       "      <td>0.048969</td>\n",
       "      <td>-0.031226</td>\n",
       "      <td>-0.395335</td>\n",
       "      <td>0.054000</td>\n",
       "      <td>0.394088</td>\n",
       "      <td>0.517297</td>\n",
       "      <td>0.014982</td>\n",
       "      <td>-0.130964</td>\n",
       "    </tr>\n",
       "    <tr>\n",
       "      <th>GSM996331</th>\n",
       "      <td>0.969721</td>\n",
       "      <td>-0.566873</td>\n",
       "      <td>0.362199</td>\n",
       "      <td>0.465951</td>\n",
       "      <td>-0.143024</td>\n",
       "      <td>2.448046</td>\n",
       "      <td>-0.103071</td>\n",
       "      <td>-0.786555</td>\n",
       "      <td>0.604133</td>\n",
       "      <td>-0.172804</td>\n",
       "      <td>...</td>\n",
       "      <td>-0.110454</td>\n",
       "      <td>-0.526509</td>\n",
       "      <td>0.424464</td>\n",
       "      <td>0.272557</td>\n",
       "      <td>-0.214043</td>\n",
       "      <td>0.109027</td>\n",
       "      <td>0.390550</td>\n",
       "      <td>-0.825635</td>\n",
       "      <td>-0.042079</td>\n",
       "      <td>-0.017666</td>\n",
       "    </tr>\n",
       "    <tr>\n",
       "      <th>GSM996456</th>\n",
       "      <td>-0.167454</td>\n",
       "      <td>-2.031970</td>\n",
       "      <td>-0.758971</td>\n",
       "      <td>-0.392632</td>\n",
       "      <td>-0.001422</td>\n",
       "      <td>0.835281</td>\n",
       "      <td>-0.358298</td>\n",
       "      <td>-0.615335</td>\n",
       "      <td>0.042762</td>\n",
       "      <td>-0.658489</td>\n",
       "      <td>...</td>\n",
       "      <td>0.413656</td>\n",
       "      <td>-0.720811</td>\n",
       "      <td>0.475857</td>\n",
       "      <td>0.501611</td>\n",
       "      <td>0.448009</td>\n",
       "      <td>0.293797</td>\n",
       "      <td>-0.531339</td>\n",
       "      <td>-1.066135</td>\n",
       "      <td>0.564585</td>\n",
       "      <td>0.196114</td>\n",
       "    </tr>\n",
       "    <tr>\n",
       "      <th>GSM996430</th>\n",
       "      <td>-0.528018</td>\n",
       "      <td>-1.654866</td>\n",
       "      <td>-0.497747</td>\n",
       "      <td>-0.154777</td>\n",
       "      <td>-0.932001</td>\n",
       "      <td>1.578278</td>\n",
       "      <td>-0.169200</td>\n",
       "      <td>-1.644779</td>\n",
       "      <td>-0.092711</td>\n",
       "      <td>-0.820393</td>\n",
       "      <td>...</td>\n",
       "      <td>1.059471</td>\n",
       "      <td>-0.765872</td>\n",
       "      <td>0.702485</td>\n",
       "      <td>0.646795</td>\n",
       "      <td>0.081460</td>\n",
       "      <td>0.433425</td>\n",
       "      <td>-0.270242</td>\n",
       "      <td>-1.165620</td>\n",
       "      <td>0.321922</td>\n",
       "      <td>0.288514</td>\n",
       "    </tr>\n",
       "  </tbody>\n",
       "</table>\n",
       "<p>131 rows × 47 columns</p>\n",
       "</div>"
      ],
      "text/plain": [
       "GSM_ID         GBP5     IFIT3      LAP3     VAMP5   PSTPIP2      C1QB  \\\n",
       "GSM996408  2.544450  1.287279  2.371635  2.093394  2.147355  5.551621   \n",
       "GSM996330  0.086348 -1.599552 -0.525319  0.003380 -0.432540  0.208641   \n",
       "GSM996398  1.623428  1.970092  1.201545  0.372142  0.816581  2.024758   \n",
       "GSM996365 -1.267674 -0.771007 -1.245346 -0.637052  0.255246 -3.293770   \n",
       "GSM996453 -0.628804  0.556417 -0.851327 -0.621060  0.137016 -2.717643   \n",
       "...             ...       ...       ...       ...       ...       ...   \n",
       "GSM996383  1.288971  1.507113  1.909472  1.464977  0.558301  4.374000   \n",
       "GSM996423  1.423941  0.574954  1.266092  0.338390  0.059441  3.587731   \n",
       "GSM996331  0.969721 -0.566873  0.362199  0.465951 -0.143024  2.448046   \n",
       "GSM996456 -0.167454 -2.031970 -0.758971 -0.392632 -0.001422  0.835281   \n",
       "GSM996430 -0.528018 -1.654866 -0.497747 -0.154777 -0.932001  1.578278   \n",
       "\n",
       "GSM_ID        DUSP3   CEACAM1      WARS      XAF1  ...       ID3      LY96  \\\n",
       "GSM996408  1.430134  1.824227  2.428189  1.187352  ... -5.695193  1.249040   \n",
       "GSM996330 -0.676584 -1.264306 -0.340603 -0.890235  ...  0.422877 -1.109254   \n",
       "GSM996398 -0.001465  1.054112  1.031686  1.460158  ...  0.838894  0.508862   \n",
       "GSM996365 -0.476916 -0.052356 -0.546444 -0.152990  ...  0.311372 -0.396123   \n",
       "GSM996453  0.014793  0.533602 -0.147141  0.406824  ...  0.257476  0.336761   \n",
       "...             ...       ...       ...       ...  ...       ...       ...   \n",
       "GSM996383  0.831762 -0.174944  0.477525  1.692915  ... -0.726658  0.881540   \n",
       "GSM996423  0.565715 -0.064677  0.538907  0.108438  ... -0.449672  0.188292   \n",
       "GSM996331 -0.103071 -0.786555  0.604133 -0.172804  ... -0.110454 -0.526509   \n",
       "GSM996456 -0.358298 -0.615335  0.042762 -0.658489  ...  0.413656 -0.720811   \n",
       "GSM996430 -0.169200 -1.644779 -0.092711 -0.820393  ...  1.059471 -0.765872   \n",
       "\n",
       "GSM_ID          CD6     KLRB1   PIK3IP1      CCR7     FBXO6    KCNJ15  \\\n",
       "GSM996408 -1.303784 -1.401154 -1.461660 -1.758700  1.798810  1.751590   \n",
       "GSM996330  0.460270  0.120360  0.296327  0.085922 -0.241946 -2.270071   \n",
       "GSM996398  0.215425 -0.509872  0.429892  0.836312  1.564942  1.068775   \n",
       "GSM996365 -0.085485 -0.061872  0.321228  0.269428 -1.407828  0.313338   \n",
       "GSM996453  0.320899 -0.412101  0.477473  0.794112 -0.675125  1.056227   \n",
       "...             ...       ...       ...       ...       ...       ...   \n",
       "GSM996383  0.232200 -0.297763 -0.226818 -0.021709  1.627938  1.026735   \n",
       "GSM996423  0.048969 -0.031226 -0.395335  0.054000  0.394088  0.517297   \n",
       "GSM996331  0.424464  0.272557 -0.214043  0.109027  0.390550 -0.825635   \n",
       "GSM996456  0.475857  0.501611  0.448009  0.293797 -0.531339 -1.066135   \n",
       "GSM996430  0.702485  0.646795  0.081460  0.433425 -0.270242 -1.165620   \n",
       "\n",
       "GSM_ID        NELL2     SKAP1  \n",
       "GSM996408 -2.582731 -0.962018  \n",
       "GSM996330  0.060675  0.528861  \n",
       "GSM996398  0.160567 -0.017245  \n",
       "GSM996365  0.163415  0.059354  \n",
       "GSM996453  0.586922 -0.046036  \n",
       "...             ...       ...  \n",
       "GSM996383 -0.705438  0.066882  \n",
       "GSM996423  0.014982 -0.130964  \n",
       "GSM996331 -0.042079 -0.017666  \n",
       "GSM996456  0.564585  0.196114  \n",
       "GSM996430  0.321922  0.288514  \n",
       "\n",
       "[131 rows x 47 columns]"
      ]
     },
     "execution_count": 37,
     "metadata": {},
     "output_type": "execute_result"
    }
   ],
   "source": [
    "exp_matrix_gene_set_df"
   ]
  },
  {
   "cell_type": "code",
   "execution_count": 38,
   "metadata": {},
   "outputs": [
    {
     "name": "stdout",
     "output_type": "stream",
     "text": [
      "GSM_ID\n",
      "GBP5       0.522555\n",
      "IFIT3      0.043764\n",
      "LAP3       0.307040\n",
      "VAMP5      0.191535\n",
      "PSTPIP2    0.370002\n",
      "C1QB       0.504029\n",
      "DUSP3      0.304744\n",
      "CEACAM1    0.189362\n",
      "WARS       0.200622\n",
      "XAF1       0.055311\n",
      "dtype: float64\n"
     ]
    }
   ],
   "source": [
    "print(exp_matrix_gene_set_df.mean().head(n=10))"
   ]
  },
  {
   "cell_type": "markdown",
   "metadata": {},
   "source": [
    "Variables (genes) don't look mean centered so we will **normalize** each variable when running **ElasticNet**"
   ]
  },
  {
   "cell_type": "code",
   "execution_count": 39,
   "metadata": {},
   "outputs": [],
   "source": [
    "Y_values = [Y_value_dict[gene_exp_info_df.loc[subject_id , 'group']] for subject_id in exp_matrix_gene_set_df.index]\n",
    "exp_matrix_gene_set_df.loc[: , 'Y'] = Y_values"
   ]
  },
  {
   "cell_type": "code",
   "execution_count": 40,
   "metadata": {},
   "outputs": [
    {
     "data": {
      "text/html": [
       "<div>\n",
       "<style scoped>\n",
       "    .dataframe tbody tr th:only-of-type {\n",
       "        vertical-align: middle;\n",
       "    }\n",
       "\n",
       "    .dataframe tbody tr th {\n",
       "        vertical-align: top;\n",
       "    }\n",
       "\n",
       "    .dataframe thead th {\n",
       "        text-align: right;\n",
       "    }\n",
       "</style>\n",
       "<table border=\"1\" class=\"dataframe\">\n",
       "  <thead>\n",
       "    <tr style=\"text-align: right;\">\n",
       "      <th>GSM_ID</th>\n",
       "      <th>GBP5</th>\n",
       "      <th>IFIT3</th>\n",
       "      <th>LAP3</th>\n",
       "      <th>VAMP5</th>\n",
       "      <th>PSTPIP2</th>\n",
       "      <th>C1QB</th>\n",
       "      <th>DUSP3</th>\n",
       "      <th>CEACAM1</th>\n",
       "      <th>WARS</th>\n",
       "      <th>XAF1</th>\n",
       "      <th>...</th>\n",
       "      <th>LY96</th>\n",
       "      <th>CD6</th>\n",
       "      <th>KLRB1</th>\n",
       "      <th>PIK3IP1</th>\n",
       "      <th>CCR7</th>\n",
       "      <th>FBXO6</th>\n",
       "      <th>KCNJ15</th>\n",
       "      <th>NELL2</th>\n",
       "      <th>SKAP1</th>\n",
       "      <th>Y</th>\n",
       "    </tr>\n",
       "  </thead>\n",
       "  <tbody>\n",
       "    <tr>\n",
       "      <th>GSM996408</th>\n",
       "      <td>2.544450</td>\n",
       "      <td>1.287279</td>\n",
       "      <td>2.371635</td>\n",
       "      <td>2.093394</td>\n",
       "      <td>2.147355</td>\n",
       "      <td>5.551621</td>\n",
       "      <td>1.430134</td>\n",
       "      <td>1.824227</td>\n",
       "      <td>2.428189</td>\n",
       "      <td>1.187352</td>\n",
       "      <td>...</td>\n",
       "      <td>1.249040</td>\n",
       "      <td>-1.303784</td>\n",
       "      <td>-1.401154</td>\n",
       "      <td>-1.461660</td>\n",
       "      <td>-1.758700</td>\n",
       "      <td>1.798810</td>\n",
       "      <td>1.751590</td>\n",
       "      <td>-2.582731</td>\n",
       "      <td>-0.962018</td>\n",
       "      <td>1.00</td>\n",
       "    </tr>\n",
       "    <tr>\n",
       "      <th>GSM996330</th>\n",
       "      <td>0.086348</td>\n",
       "      <td>-1.599552</td>\n",
       "      <td>-0.525319</td>\n",
       "      <td>0.003380</td>\n",
       "      <td>-0.432540</td>\n",
       "      <td>0.208641</td>\n",
       "      <td>-0.676584</td>\n",
       "      <td>-1.264306</td>\n",
       "      <td>-0.340603</td>\n",
       "      <td>-0.890235</td>\n",
       "      <td>...</td>\n",
       "      <td>-1.109254</td>\n",
       "      <td>0.460270</td>\n",
       "      <td>0.120360</td>\n",
       "      <td>0.296327</td>\n",
       "      <td>0.085922</td>\n",
       "      <td>-0.241946</td>\n",
       "      <td>-2.270071</td>\n",
       "      <td>0.060675</td>\n",
       "      <td>0.528861</td>\n",
       "      <td>0.00</td>\n",
       "    </tr>\n",
       "    <tr>\n",
       "      <th>GSM996398</th>\n",
       "      <td>1.623428</td>\n",
       "      <td>1.970092</td>\n",
       "      <td>1.201545</td>\n",
       "      <td>0.372142</td>\n",
       "      <td>0.816581</td>\n",
       "      <td>2.024758</td>\n",
       "      <td>-0.001465</td>\n",
       "      <td>1.054112</td>\n",
       "      <td>1.031686</td>\n",
       "      <td>1.460158</td>\n",
       "      <td>...</td>\n",
       "      <td>0.508862</td>\n",
       "      <td>0.215425</td>\n",
       "      <td>-0.509872</td>\n",
       "      <td>0.429892</td>\n",
       "      <td>0.836312</td>\n",
       "      <td>1.564942</td>\n",
       "      <td>1.068775</td>\n",
       "      <td>0.160567</td>\n",
       "      <td>-0.017245</td>\n",
       "      <td>1.00</td>\n",
       "    </tr>\n",
       "    <tr>\n",
       "      <th>GSM996365</th>\n",
       "      <td>-1.267674</td>\n",
       "      <td>-0.771007</td>\n",
       "      <td>-1.245346</td>\n",
       "      <td>-0.637052</td>\n",
       "      <td>0.255246</td>\n",
       "      <td>-3.293770</td>\n",
       "      <td>-0.476916</td>\n",
       "      <td>-0.052356</td>\n",
       "      <td>-0.546444</td>\n",
       "      <td>-0.152990</td>\n",
       "      <td>...</td>\n",
       "      <td>-0.396123</td>\n",
       "      <td>-0.085485</td>\n",
       "      <td>-0.061872</td>\n",
       "      <td>0.321228</td>\n",
       "      <td>0.269428</td>\n",
       "      <td>-1.407828</td>\n",
       "      <td>0.313338</td>\n",
       "      <td>0.163415</td>\n",
       "      <td>0.059354</td>\n",
       "      <td>0.25</td>\n",
       "    </tr>\n",
       "    <tr>\n",
       "      <th>GSM996453</th>\n",
       "      <td>-0.628804</td>\n",
       "      <td>0.556417</td>\n",
       "      <td>-0.851327</td>\n",
       "      <td>-0.621060</td>\n",
       "      <td>0.137016</td>\n",
       "      <td>-2.717643</td>\n",
       "      <td>0.014793</td>\n",
       "      <td>0.533602</td>\n",
       "      <td>-0.147141</td>\n",
       "      <td>0.406824</td>\n",
       "      <td>...</td>\n",
       "      <td>0.336761</td>\n",
       "      <td>0.320899</td>\n",
       "      <td>-0.412101</td>\n",
       "      <td>0.477473</td>\n",
       "      <td>0.794112</td>\n",
       "      <td>-0.675125</td>\n",
       "      <td>1.056227</td>\n",
       "      <td>0.586922</td>\n",
       "      <td>-0.046036</td>\n",
       "      <td>0.00</td>\n",
       "    </tr>\n",
       "    <tr>\n",
       "      <th>...</th>\n",
       "      <td>...</td>\n",
       "      <td>...</td>\n",
       "      <td>...</td>\n",
       "      <td>...</td>\n",
       "      <td>...</td>\n",
       "      <td>...</td>\n",
       "      <td>...</td>\n",
       "      <td>...</td>\n",
       "      <td>...</td>\n",
       "      <td>...</td>\n",
       "      <td>...</td>\n",
       "      <td>...</td>\n",
       "      <td>...</td>\n",
       "      <td>...</td>\n",
       "      <td>...</td>\n",
       "      <td>...</td>\n",
       "      <td>...</td>\n",
       "      <td>...</td>\n",
       "      <td>...</td>\n",
       "      <td>...</td>\n",
       "      <td>...</td>\n",
       "    </tr>\n",
       "    <tr>\n",
       "      <th>GSM996383</th>\n",
       "      <td>1.288971</td>\n",
       "      <td>1.507113</td>\n",
       "      <td>1.909472</td>\n",
       "      <td>1.464977</td>\n",
       "      <td>0.558301</td>\n",
       "      <td>4.374000</td>\n",
       "      <td>0.831762</td>\n",
       "      <td>-0.174944</td>\n",
       "      <td>0.477525</td>\n",
       "      <td>1.692915</td>\n",
       "      <td>...</td>\n",
       "      <td>0.881540</td>\n",
       "      <td>0.232200</td>\n",
       "      <td>-0.297763</td>\n",
       "      <td>-0.226818</td>\n",
       "      <td>-0.021709</td>\n",
       "      <td>1.627938</td>\n",
       "      <td>1.026735</td>\n",
       "      <td>-0.705438</td>\n",
       "      <td>0.066882</td>\n",
       "      <td>1.00</td>\n",
       "    </tr>\n",
       "    <tr>\n",
       "      <th>GSM996423</th>\n",
       "      <td>1.423941</td>\n",
       "      <td>0.574954</td>\n",
       "      <td>1.266092</td>\n",
       "      <td>0.338390</td>\n",
       "      <td>0.059441</td>\n",
       "      <td>3.587731</td>\n",
       "      <td>0.565715</td>\n",
       "      <td>-0.064677</td>\n",
       "      <td>0.538907</td>\n",
       "      <td>0.108438</td>\n",
       "      <td>...</td>\n",
       "      <td>0.188292</td>\n",
       "      <td>0.048969</td>\n",
       "      <td>-0.031226</td>\n",
       "      <td>-0.395335</td>\n",
       "      <td>0.054000</td>\n",
       "      <td>0.394088</td>\n",
       "      <td>0.517297</td>\n",
       "      <td>0.014982</td>\n",
       "      <td>-0.130964</td>\n",
       "      <td>0.75</td>\n",
       "    </tr>\n",
       "    <tr>\n",
       "      <th>GSM996331</th>\n",
       "      <td>0.969721</td>\n",
       "      <td>-0.566873</td>\n",
       "      <td>0.362199</td>\n",
       "      <td>0.465951</td>\n",
       "      <td>-0.143024</td>\n",
       "      <td>2.448046</td>\n",
       "      <td>-0.103071</td>\n",
       "      <td>-0.786555</td>\n",
       "      <td>0.604133</td>\n",
       "      <td>-0.172804</td>\n",
       "      <td>...</td>\n",
       "      <td>-0.526509</td>\n",
       "      <td>0.424464</td>\n",
       "      <td>0.272557</td>\n",
       "      <td>-0.214043</td>\n",
       "      <td>0.109027</td>\n",
       "      <td>0.390550</td>\n",
       "      <td>-0.825635</td>\n",
       "      <td>-0.042079</td>\n",
       "      <td>-0.017666</td>\n",
       "      <td>0.50</td>\n",
       "    </tr>\n",
       "    <tr>\n",
       "      <th>GSM996456</th>\n",
       "      <td>-0.167454</td>\n",
       "      <td>-2.031970</td>\n",
       "      <td>-0.758971</td>\n",
       "      <td>-0.392632</td>\n",
       "      <td>-0.001422</td>\n",
       "      <td>0.835281</td>\n",
       "      <td>-0.358298</td>\n",
       "      <td>-0.615335</td>\n",
       "      <td>0.042762</td>\n",
       "      <td>-0.658489</td>\n",
       "      <td>...</td>\n",
       "      <td>-0.720811</td>\n",
       "      <td>0.475857</td>\n",
       "      <td>0.501611</td>\n",
       "      <td>0.448009</td>\n",
       "      <td>0.293797</td>\n",
       "      <td>-0.531339</td>\n",
       "      <td>-1.066135</td>\n",
       "      <td>0.564585</td>\n",
       "      <td>0.196114</td>\n",
       "      <td>0.25</td>\n",
       "    </tr>\n",
       "    <tr>\n",
       "      <th>GSM996430</th>\n",
       "      <td>-0.528018</td>\n",
       "      <td>-1.654866</td>\n",
       "      <td>-0.497747</td>\n",
       "      <td>-0.154777</td>\n",
       "      <td>-0.932001</td>\n",
       "      <td>1.578278</td>\n",
       "      <td>-0.169200</td>\n",
       "      <td>-1.644779</td>\n",
       "      <td>-0.092711</td>\n",
       "      <td>-0.820393</td>\n",
       "      <td>...</td>\n",
       "      <td>-0.765872</td>\n",
       "      <td>0.702485</td>\n",
       "      <td>0.646795</td>\n",
       "      <td>0.081460</td>\n",
       "      <td>0.433425</td>\n",
       "      <td>-0.270242</td>\n",
       "      <td>-1.165620</td>\n",
       "      <td>0.321922</td>\n",
       "      <td>0.288514</td>\n",
       "      <td>0.00</td>\n",
       "    </tr>\n",
       "  </tbody>\n",
       "</table>\n",
       "<p>131 rows × 48 columns</p>\n",
       "</div>"
      ],
      "text/plain": [
       "GSM_ID         GBP5     IFIT3      LAP3     VAMP5   PSTPIP2      C1QB  \\\n",
       "GSM996408  2.544450  1.287279  2.371635  2.093394  2.147355  5.551621   \n",
       "GSM996330  0.086348 -1.599552 -0.525319  0.003380 -0.432540  0.208641   \n",
       "GSM996398  1.623428  1.970092  1.201545  0.372142  0.816581  2.024758   \n",
       "GSM996365 -1.267674 -0.771007 -1.245346 -0.637052  0.255246 -3.293770   \n",
       "GSM996453 -0.628804  0.556417 -0.851327 -0.621060  0.137016 -2.717643   \n",
       "...             ...       ...       ...       ...       ...       ...   \n",
       "GSM996383  1.288971  1.507113  1.909472  1.464977  0.558301  4.374000   \n",
       "GSM996423  1.423941  0.574954  1.266092  0.338390  0.059441  3.587731   \n",
       "GSM996331  0.969721 -0.566873  0.362199  0.465951 -0.143024  2.448046   \n",
       "GSM996456 -0.167454 -2.031970 -0.758971 -0.392632 -0.001422  0.835281   \n",
       "GSM996430 -0.528018 -1.654866 -0.497747 -0.154777 -0.932001  1.578278   \n",
       "\n",
       "GSM_ID        DUSP3   CEACAM1      WARS      XAF1  ...      LY96       CD6  \\\n",
       "GSM996408  1.430134  1.824227  2.428189  1.187352  ...  1.249040 -1.303784   \n",
       "GSM996330 -0.676584 -1.264306 -0.340603 -0.890235  ... -1.109254  0.460270   \n",
       "GSM996398 -0.001465  1.054112  1.031686  1.460158  ...  0.508862  0.215425   \n",
       "GSM996365 -0.476916 -0.052356 -0.546444 -0.152990  ... -0.396123 -0.085485   \n",
       "GSM996453  0.014793  0.533602 -0.147141  0.406824  ...  0.336761  0.320899   \n",
       "...             ...       ...       ...       ...  ...       ...       ...   \n",
       "GSM996383  0.831762 -0.174944  0.477525  1.692915  ...  0.881540  0.232200   \n",
       "GSM996423  0.565715 -0.064677  0.538907  0.108438  ...  0.188292  0.048969   \n",
       "GSM996331 -0.103071 -0.786555  0.604133 -0.172804  ... -0.526509  0.424464   \n",
       "GSM996456 -0.358298 -0.615335  0.042762 -0.658489  ... -0.720811  0.475857   \n",
       "GSM996430 -0.169200 -1.644779 -0.092711 -0.820393  ... -0.765872  0.702485   \n",
       "\n",
       "GSM_ID        KLRB1   PIK3IP1      CCR7     FBXO6    KCNJ15     NELL2  \\\n",
       "GSM996408 -1.401154 -1.461660 -1.758700  1.798810  1.751590 -2.582731   \n",
       "GSM996330  0.120360  0.296327  0.085922 -0.241946 -2.270071  0.060675   \n",
       "GSM996398 -0.509872  0.429892  0.836312  1.564942  1.068775  0.160567   \n",
       "GSM996365 -0.061872  0.321228  0.269428 -1.407828  0.313338  0.163415   \n",
       "GSM996453 -0.412101  0.477473  0.794112 -0.675125  1.056227  0.586922   \n",
       "...             ...       ...       ...       ...       ...       ...   \n",
       "GSM996383 -0.297763 -0.226818 -0.021709  1.627938  1.026735 -0.705438   \n",
       "GSM996423 -0.031226 -0.395335  0.054000  0.394088  0.517297  0.014982   \n",
       "GSM996331  0.272557 -0.214043  0.109027  0.390550 -0.825635 -0.042079   \n",
       "GSM996456  0.501611  0.448009  0.293797 -0.531339 -1.066135  0.564585   \n",
       "GSM996430  0.646795  0.081460  0.433425 -0.270242 -1.165620  0.321922   \n",
       "\n",
       "GSM_ID        SKAP1     Y  \n",
       "GSM996408 -0.962018  1.00  \n",
       "GSM996330  0.528861  0.00  \n",
       "GSM996398 -0.017245  1.00  \n",
       "GSM996365  0.059354  0.25  \n",
       "GSM996453 -0.046036  0.00  \n",
       "...             ...   ...  \n",
       "GSM996383  0.066882  1.00  \n",
       "GSM996423 -0.130964  0.75  \n",
       "GSM996331 -0.017666  0.50  \n",
       "GSM996456  0.196114  0.25  \n",
       "GSM996430  0.288514  0.00  \n",
       "\n",
       "[131 rows x 48 columns]"
      ]
     },
     "execution_count": 40,
     "metadata": {},
     "output_type": "execute_result"
    }
   ],
   "source": [
    "exp_matrix_gene_set_df"
   ]
  },
  {
   "cell_type": "markdown",
   "metadata": {},
   "source": [
    "## [3] Run Elastic Net"
   ]
  },
  {
   "cell_type": "markdown",
   "metadata": {},
   "source": [
    "use code below to ignore covergence warnings"
   ]
  },
  {
   "cell_type": "code",
   "execution_count": 41,
   "metadata": {},
   "outputs": [],
   "source": [
    "import warnings\n",
    "warnings.filterwarnings('ignore')"
   ]
  },
  {
   "cell_type": "markdown",
   "metadata": {},
   "source": [
    "Run Elastic Net on Data with gene expression for *47* genes as predictors\n",
    "\n",
    "- Going to use repeated 10-fold crossvalidation on each combination of **ratio** and **alpha**\n",
    "\n",
    "- **ratio**: float between 0 and 1 that is used for scaling between the **L1** and **L2** penalties \n",
    "    - ratio = 0, uses on L2 penalty and is equivalent to **Ridge Regression**\n",
    "    - ratio = 1, uses on L1 penalty and is equivalent to **Lasso Regression**\n",
    "\n",
    "- **alpha**: constant that multiplies the **L1** and **L2** penalties, tuning parameter that decides how much we want to penalize the model\n",
    "\n",
    "- Want the combination of **ratio** and **alpha** that has the least **mean squared error**"
   ]
  },
  {
   "cell_type": "code",
   "execution_count": 42,
   "metadata": {},
   "outputs": [
    {
     "data": {
      "text/plain": [
       "ElasticNetCV(alphas=[0.0001, 0.001, 0.01, 0.1, 0.3, 0.5, 0.7, 1],\n",
       "             cv=RepeatedKFold(n_repeats=3, n_splits=10, random_state=None),\n",
       "             l1_ratio=[0.1, 0.5, 0.7, 0.9, 0.95, 0.99, 1], n_jobs=-1,\n",
       "             normalize=True)"
      ]
     },
     "execution_count": 42,
     "metadata": {},
     "output_type": "execute_result"
    }
   ],
   "source": [
    "#split the dataset DF into X & y\n",
    "data = exp_matrix_gene_set_df.values\n",
    "X, y = data[:, :-1], data[:, -1]\n",
    "\n",
    "#define model evaluation method, 10-fold CV with 3 repeats (repeats K-Fold n times with diff. randomization in each repetition)\n",
    "cv = RepeatedKFold(n_splits=10, n_repeats=3)\n",
    "\n",
    "#set values for ratio & alpha that we will test\n",
    "ratios = [.1, .5, .7, .9, .95, .99, 1]\n",
    "alphas = [0.0001, 0.001, 0.01, 0.1, 0.3, 0.5, 0.7, 1]\n",
    "\n",
    "#define model, will cross validate over \n",
    "ElasticNet_model = ElasticNetCV(l1_ratio=ratios, alphas=alphas, cv=cv, normalize=True, n_jobs=-1)\n",
    "\n",
    "#use ElasticNet linear model to fit model to data\n",
    "ElasticNet_model.fit(X, y)"
   ]
  },
  {
   "cell_type": "markdown",
   "metadata": {},
   "source": [
    "Check to see which values of **alpha** and **ratio** were chosen from crossvalidation"
   ]
  },
  {
   "cell_type": "code",
   "execution_count": 43,
   "metadata": {},
   "outputs": [
    {
     "name": "stdout",
     "output_type": "stream",
     "text": [
      "alpha: 0.001000\n",
      "l1_ratio_: 0.700000\n"
     ]
    }
   ],
   "source": [
    "print('alpha: %f' % ElasticNet_model.alpha_)\n",
    "print('l1_ratio_: %f' % ElasticNet_model.l1_ratio_)"
   ]
  },
  {
   "cell_type": "markdown",
   "metadata": {},
   "source": [
    "print the **coefficients** for each gene/variable & check which were **non-zero**"
   ]
  },
  {
   "cell_type": "code",
   "execution_count": 44,
   "metadata": {},
   "outputs": [
    {
     "data": {
      "text/plain": [
       "array([ 0.06278647,  0.        ,  0.0294829 , -0.02008184, -0.        ,\n",
       "        0.        , -0.        , -0.        , -0.03414744,  0.        ,\n",
       "        0.        ,  0.        ,  0.01534152,  0.        ,  0.        ,\n",
       "        0.00445758, -0.00519993,  0.        ,  0.01922887,  0.        ,\n",
       "        0.02063406,  0.09991415,  0.01264066, -0.        , -0.        ,\n",
       "       -0.01540135, -0.        , -0.        ,  0.00304823,  0.        ,\n",
       "        0.        ,  0.        ,  0.0640534 , -0.        ,  0.        ,\n",
       "       -0.05702643, -0.        , -0.        ,  0.        ,  0.0326685 ,\n",
       "       -0.12166396, -0.11994626,  0.02801572,  0.        ,  0.        ,\n",
       "        0.        , -0.        ])"
      ]
     },
     "execution_count": 44,
     "metadata": {},
     "output_type": "execute_result"
    }
   ],
   "source": [
    "ElasticNet_model.coef_"
   ]
  },
  {
   "cell_type": "markdown",
   "metadata": {},
   "source": [
    "List of genes that had **non-zero** coefficients"
   ]
  },
  {
   "cell_type": "code",
   "execution_count": 45,
   "metadata": {},
   "outputs": [
    {
     "name": "stdout",
     "output_type": "stream",
     "text": [
      "['GBP5' 'LAP3' 'VAMP5' 'WARS' 'BATF2' 'SMARCD3' 'ADM' 'FCGR1B' 'EPSTI1'\n",
      " 'GBP1' 'IFITM3' 'DYSF' 'LHFPL2' 'IL7R' 'TNFSF13B' 'CD6' 'KLRB1' 'PIK3IP1'\n",
      " 'CCR7']\n"
     ]
    }
   ],
   "source": [
    "gene_set_list = np.array(exp_matrix_gene_set_df.columns[:-1])\n",
    "print(gene_set_list[ElasticNet_model.coef_ != 0])"
   ]
  },
  {
   "cell_type": "code",
   "execution_count": 47,
   "metadata": {},
   "outputs": [
    {
     "data": {
      "text/plain": [
       "19"
      ]
     },
     "execution_count": 47,
     "metadata": {},
     "output_type": "execute_result"
    }
   ],
   "source": [
    "len(gene_set_list[ElasticNet_model.coef_ != 0])"
   ]
  },
  {
   "cell_type": "markdown",
   "metadata": {},
   "source": [
    "What was the **mean squared error** for optimal **alpha** and **l1_ratio**?"
   ]
  },
  {
   "cell_type": "code",
   "execution_count": 50,
   "metadata": {},
   "outputs": [],
   "source": [
    "optimal_l1_ratio = ElasticNet_model.l1_ratio_\n",
    "optimal_alpha = ElasticNet_model.alpha_"
   ]
  },
  {
   "cell_type": "code",
   "execution_count": 49,
   "metadata": {},
   "outputs": [
    {
     "data": {
      "text/plain": [
       "(7, 8, 30)"
      ]
     },
     "execution_count": 49,
     "metadata": {},
     "output_type": "execute_result"
    }
   ],
   "source": [
    "np.shape(ElasticNet_model.mse_path_) #(n_l1_ratio , n_alpha , n_folds)"
   ]
  },
  {
   "cell_type": "code",
   "execution_count": 57,
   "metadata": {},
   "outputs": [
    {
     "data": {
      "text/plain": [
       "array([0.12568355, 0.13463334, 0.1449203 , 0.15119854, 0.17780762,\n",
       "       0.13005664, 0.154516  , 0.11257541, 0.11605446, 0.10229605,\n",
       "       0.14941872, 0.13868832, 0.14842939, 0.09669974, 0.14928741,\n",
       "       0.15103695, 0.08720831, 0.10996785, 0.16960374, 0.16726412,\n",
       "       0.10714286, 0.09431039, 0.17297886, 0.11958323, 0.15804477,\n",
       "       0.18269231, 0.11354116, 0.20687717, 0.10088454, 0.12880258])"
      ]
     },
     "execution_count": 57,
     "metadata": {},
     "output_type": "execute_result"
    }
   ],
   "source": [
    "ElasticNet_model.mse_path_[ratios.index(optimal_l1_ratio), alphas.index(optimal_alpha)]"
   ]
  },
  {
   "cell_type": "code",
   "execution_count": 58,
   "metadata": {},
   "outputs": [
    {
     "data": {
      "text/plain": [
       "0.13674014343391386"
      ]
     },
     "execution_count": 58,
     "metadata": {},
     "output_type": "execute_result"
    }
   ],
   "source": [
    "np.mean(ElasticNet_model.mse_path_[ratios.index(optimal_l1_ratio), alphas.index(optimal_alpha)])"
   ]
  },
  {
   "cell_type": "code",
   "execution_count": null,
   "metadata": {},
   "outputs": [],
   "source": []
  }
 ],
 "metadata": {
  "kernelspec": {
   "display_name": "Python [conda env:py36_MRI_virtualenv]",
   "language": "python",
   "name": "conda-env-py36_MRI_virtualenv-py"
  },
  "language_info": {
   "codemirror_mode": {
    "name": "ipython",
    "version": 3
   },
   "file_extension": ".py",
   "mimetype": "text/x-python",
   "name": "python",
   "nbconvert_exporter": "python",
   "pygments_lexer": "ipython3",
   "version": "3.6.10"
  }
 },
 "nbformat": 4,
 "nbformat_minor": 2
}

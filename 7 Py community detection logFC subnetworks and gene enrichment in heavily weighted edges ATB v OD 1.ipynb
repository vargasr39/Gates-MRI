{
 "cells": [
  {
   "cell_type": "code",
   "execution_count": 1,
   "metadata": {},
   "outputs": [
    {
     "data": {
      "text/html": [
       "<style>.container { width:100% !important; }</style>"
      ],
      "text/plain": [
       "<IPython.core.display.HTML object>"
      ]
     },
     "metadata": {},
     "output_type": "display_data"
    }
   ],
   "source": [
    "from IPython.core.display import display, HTML\n",
    "display(HTML(\"<style>.container { width:100% !important; }</style>\"))\n",
    "%matplotlib inline"
   ]
  },
  {
   "cell_type": "markdown",
   "metadata": {},
   "source": [
    "#### choose correct comparison groups"
   ]
  },
  {
   "cell_type": "code",
   "execution_count": 2,
   "metadata": {},
   "outputs": [],
   "source": [
    "comparison_X = 'ATB_v_OD'"
   ]
  },
  {
   "cell_type": "markdown",
   "metadata": {},
   "source": [
    "import packages"
   ]
  },
  {
   "cell_type": "code",
   "execution_count": 3,
   "metadata": {},
   "outputs": [],
   "source": [
    "import os\n",
    "import pandas as pd\n",
    "import numpy as np\n",
    "\n",
    "import matplotlib.pyplot as plt\n",
    "import matplotlib as mpl\n",
    "from matplotlib.ticker import FormatStrFormatter\n",
    "from matplotlib.ticker import MaxNLocator\n",
    "from matplotlib.gridspec import GridSpec\n",
    "import matplotlib.pylab as pl\n",
    "import matplotlib.colors as mcolors\n",
    "import matplotlib.patches as mpatches\n",
    "\n",
    "import fastcluster\n",
    "from scipy.cluster.hierarchy import dendrogram\n",
    "import scipy.cluster.hierarchy as hier\n",
    "\n",
    "import networkx as nx\n",
    "import networkx.algorithms.community as nxcom\n",
    "import community\n",
    "from collections import Counter\n",
    "import pickle\n",
    "from collections import defaultdict\n",
    "\n",
    "import gseapy as gp\n",
    "import warnings\n",
    "warnings.filterwarnings('ignore')"
   ]
  },
  {
   "cell_type": "markdown",
   "metadata": {},
   "source": [
    "#### set parameters for plotting"
   ]
  },
  {
   "cell_type": "code",
   "execution_count": 4,
   "metadata": {},
   "outputs": [],
   "source": [
    "plt.style.use('ggplot')\n",
    "plt.rcParams['lines.linewidth']=1.0\n",
    "plt.rcParams['axes.facecolor']='1.0'\n",
    "plt.rcParams['xtick.color']='black'\n",
    "plt.rcParams['axes.grid']=False\n",
    "plt.rcParams['axes.edgecolor']='black'\n",
    "plt.rcParams['grid.color']= '1.0'\n",
    "plt.rcParams.update({'font.size': 14})"
   ]
  },
  {
   "cell_type": "markdown",
   "metadata": {},
   "source": [
    "#### specify directory paths"
   ]
  },
  {
   "cell_type": "code",
   "execution_count": 5,
   "metadata": {},
   "outputs": [],
   "source": [
    "# use these paths for O2 computing cluster\n",
    "\n",
    "#specify directory for Data\n",
    "Data_files_dir = '/n/data1/hms/dbmi/farhat/Roger/gatesMRI/Projects/Biomarkers/Data/'\n",
    "\n",
    "#specify directory for pickling objects\n",
    "pickled_objects_dir = '/n/data1/hms/dbmi/farhat/Roger/gatesMRI/Projects/Biomarkers/Data/Pickled Files/'\n",
    "\n",
    "#specify directory for CSV files\n",
    "CSV_files_dir = '/n/data1/hms/dbmi/farhat/Roger/gatesMRI/Projects/Biomarkers/Data/CSV Files/'\n",
    "\n",
    "#specify directory for Gene Set Files\n",
    "Gene_Set_dir = '/n/data1/hms/dbmi/farhat/Roger/gatesMRI/Projects/Biomarkers/Data/Gene Set Files/CSV files/'"
   ]
  },
  {
   "cell_type": "markdown",
   "metadata": {},
   "source": [
    "# [1] Load Data"
   ]
  },
  {
   "cell_type": "markdown",
   "metadata": {},
   "source": [
    "### Network"
   ]
  },
  {
   "cell_type": "code",
   "execution_count": 6,
   "metadata": {},
   "outputs": [],
   "source": [
    "G = nx.read_gpickle(pickled_objects_dir + f'Network Files/networks/{comparison_X}.pkl')"
   ]
  },
  {
   "cell_type": "code",
   "execution_count": 7,
   "metadata": {},
   "outputs": [
    {
     "name": "stdout",
     "output_type": "stream",
     "text": [
      "Name: \n",
      "Type: Graph\n",
      "Number of nodes: 67\n",
      "Number of edges: 326\n",
      "Average degree:   9.7313\n"
     ]
    }
   ],
   "source": [
    "print(nx.info(G))"
   ]
  },
  {
   "cell_type": "code",
   "execution_count": 8,
   "metadata": {},
   "outputs": [],
   "source": [
    "num_nodes_overall_network = int(len(G.nodes()))"
   ]
  },
  {
   "cell_type": "markdown",
   "metadata": {},
   "source": [
    "### Weighted Degrees for Nodes (genes)"
   ]
  },
  {
   "cell_type": "code",
   "execution_count": 9,
   "metadata": {},
   "outputs": [],
   "source": [
    "weighted_deg_series = pd.read_pickle(pickled_objects_dir + f'Network Files/weighted degree series/{comparison_X}.pkl')"
   ]
  },
  {
   "cell_type": "code",
   "execution_count": 10,
   "metadata": {},
   "outputs": [
    {
     "data": {
      "text/plain": [
       "(67,)"
      ]
     },
     "execution_count": 10,
     "metadata": {},
     "output_type": "execute_result"
    }
   ],
   "source": [
    "np.shape(weighted_deg_series)"
   ]
  },
  {
   "cell_type": "markdown",
   "metadata": {},
   "source": [
    "### Mean $log_2(Fold Change)$ for Nodes (genes)"
   ]
  },
  {
   "cell_type": "code",
   "execution_count": 11,
   "metadata": {},
   "outputs": [],
   "source": [
    "mean_logFC_series = pd.read_pickle(pickled_objects_dir + f'Network Files/mean logFC network nodes series/{comparison_X}.pkl')"
   ]
  },
  {
   "cell_type": "code",
   "execution_count": 12,
   "metadata": {},
   "outputs": [
    {
     "data": {
      "text/plain": [
       "(67,)"
      ]
     },
     "execution_count": 12,
     "metadata": {},
     "output_type": "execute_result"
    }
   ],
   "source": [
    "np.shape(mean_logFC_series)"
   ]
  },
  {
   "cell_type": "markdown",
   "metadata": {},
   "source": [
    "### Compile into DataFrame"
   ]
  },
  {
   "cell_type": "code",
   "execution_count": 13,
   "metadata": {},
   "outputs": [],
   "source": [
    "G_deg_logFC_df = pd.DataFrame(index = mean_logFC_series.index)\n",
    "G_deg_logFC_df['mean_log2FC'] = mean_logFC_series.values\n",
    "G_deg_logFC_df['weighted_degree'] = weighted_deg_series[mean_logFC_series.index].values"
   ]
  },
  {
   "cell_type": "code",
   "execution_count": 14,
   "metadata": {},
   "outputs": [
    {
     "data": {
      "text/html": [
       "<div>\n",
       "<style scoped>\n",
       "    .dataframe tbody tr th:only-of-type {\n",
       "        vertical-align: middle;\n",
       "    }\n",
       "\n",
       "    .dataframe tbody tr th {\n",
       "        vertical-align: top;\n",
       "    }\n",
       "\n",
       "    .dataframe thead th {\n",
       "        text-align: right;\n",
       "    }\n",
       "</style>\n",
       "<table border=\"1\" class=\"dataframe\">\n",
       "  <thead>\n",
       "    <tr style=\"text-align: right;\">\n",
       "      <th></th>\n",
       "      <th>mean_log2FC</th>\n",
       "      <th>weighted_degree</th>\n",
       "    </tr>\n",
       "  </thead>\n",
       "  <tbody>\n",
       "    <tr>\n",
       "      <th>SEPT4</th>\n",
       "      <td>0.889510</td>\n",
       "      <td>5.7</td>\n",
       "    </tr>\n",
       "    <tr>\n",
       "      <th>ANKRD22</th>\n",
       "      <td>0.828368</td>\n",
       "      <td>6.1</td>\n",
       "    </tr>\n",
       "    <tr>\n",
       "      <th>C1QB</th>\n",
       "      <td>0.827058</td>\n",
       "      <td>5.4</td>\n",
       "    </tr>\n",
       "    <tr>\n",
       "      <th>BATF2</th>\n",
       "      <td>0.751017</td>\n",
       "      <td>9.4</td>\n",
       "    </tr>\n",
       "    <tr>\n",
       "      <th>SERPING1</th>\n",
       "      <td>0.732517</td>\n",
       "      <td>7.3</td>\n",
       "    </tr>\n",
       "  </tbody>\n",
       "</table>\n",
       "</div>"
      ],
      "text/plain": [
       "          mean_log2FC  weighted_degree\n",
       "SEPT4        0.889510              5.7\n",
       "ANKRD22      0.828368              6.1\n",
       "C1QB         0.827058              5.4\n",
       "BATF2        0.751017              9.4\n",
       "SERPING1     0.732517              7.3"
      ]
     },
     "execution_count": 14,
     "metadata": {},
     "output_type": "execute_result"
    }
   ],
   "source": [
    "G_deg_logFC_df.head()"
   ]
  },
  {
   "cell_type": "markdown",
   "metadata": {},
   "source": [
    "# [2] *Functions* for community detection"
   ]
  },
  {
   "cell_type": "markdown",
   "metadata": {},
   "source": [
    "### Louvain algorithm"
   ]
  },
  {
   "cell_type": "code",
   "execution_count": 15,
   "metadata": {},
   "outputs": [],
   "source": [
    "def run_louvain_alg(G, mod_only):\n",
    "    \n",
    "    '''\n",
    "    name: Louvain\n",
    "    nature: Modularity Optimization\n",
    "    complexity: O(L) where N = nodes, L = edges, and L~N for sparse networks\n",
    "    ref: V. D. Blondel, J.-L. Guillaume, R. Lambiotte, and E. Lefebvre. Fast unfolding of communities in large networks. J. Stat. Mech., 2008.\n",
    "    '''\n",
    "\n",
    "    # Starting with an initial partition of the graph and running the Louvain algorithm for Community Detection\n",
    "    partition = community.best_partition(G, weight='weight')\n",
    "    \n",
    "    # Grouping dictionary keys by value\n",
    "    communities = defaultdict(list)\n",
    "    for key, val in sorted(partition.items()):\n",
    "        communities[val].append(key)\n",
    "    communities = list(communities.values())\n",
    "\n",
    "    # Calculating modularity\n",
    "    mod = nxcom.modularity(G, communities, weight='weight')\n",
    "\n",
    "    if mod_only == True:\n",
    "        \n",
    "        return mod\n",
    "        \n",
    "    else:\n",
    "\n",
    "        # Creating a dictionary like {community_number:list_of_participants}\n",
    "        values=[partition.get(node) for node in G.nodes()]\n",
    "        list_com=partition.values()\n",
    "        dict_nodes={}\n",
    "\n",
    "        # Populating the dictionary with items\n",
    "        for each_item in partition.items():\n",
    "            community_num=each_item[1]\n",
    "            community_node=each_item[0]\n",
    "            if community_num in dict_nodes:\n",
    "                value=dict_nodes.get(community_num) + ' | ' + str(community_node)\n",
    "                dict_nodes.update({community_num:value})\n",
    "            else:\n",
    "                dict_nodes.update({community_num:community_node})\n",
    "\n",
    "        # Creating a dataframe from the dict\n",
    "        community_df=pd.DataFrame.from_dict(dict_nodes, orient='index',columns=['Members'])\n",
    "        community_df.index.rename('Community_Num' , inplace=True)\n",
    "        num_comm_members = [len(comm_i_member_list.split(' | ')) for comm_i_member_list in community_df.Members]\n",
    "        community_df.loc[: , 'Num_Members'] = num_comm_members\n",
    "        community_df.sort_values(by = 'Num_Members' , ascending = False , inplace = True)\n",
    "        community_df.reset_index(inplace = True , drop = True)\n",
    "\n",
    "        # Calculating the total number of communities\n",
    "        print(\"Modularity: \", mod)\n",
    "        print(\"Total number of Communities =\", np.shape(community_df)[0])\n",
    "\n",
    "        return community_df"
   ]
  },
  {
   "cell_type": "markdown",
   "metadata": {},
   "source": [
    "### Girvan-Newman algorithm"
   ]
  },
  {
   "cell_type": "code",
   "execution_count": 16,
   "metadata": {},
   "outputs": [],
   "source": [
    "def run_girvan_alg(G, mod_only):\n",
    "    \n",
    "    '''\n",
    "    name: Girvan-Newman\n",
    "    nature: Hierarchical Divisive\n",
    "    complexity: O(N^2) where N = nodes, L = edges, and L~N for sparse networks\n",
    "    ref: M. Girvan and M.E.J. Newman. Community structure in social and biological networks. PNAS, 99:7821–7826, 2002.\n",
    "    '''\n",
    "    \n",
    "    # Using the Girvan-Newman algorithm to create a Community Structure\n",
    "    comp=nxcom.girvan_newman(G)\n",
    "\n",
    "    # Creating a dictionary for the community number assocaited with each node\n",
    "    com = 0\n",
    "    thisdict={}\n",
    "\n",
    "    # Populating the items of the dictionary\n",
    "    for c in next(comp):\n",
    "        thislist=sorted(c)\n",
    "        for i in range(len(thislist)):\n",
    "            if thislist[i] in thisdict:\n",
    "                print('already found')\n",
    "            else:\n",
    "                thisdict.update({thislist[i]: com})\n",
    "            i+=1\n",
    "        com+=1\n",
    "\n",
    "    # Grouping dictionary keys by value\n",
    "    communities = defaultdict(list)\n",
    "    for key, val in sorted(thisdict.items()):\n",
    "        communities[val].append(key)\n",
    "    communities = list(communities.values())\n",
    "    \n",
    "    # Calculating modularity\n",
    "    mod = nxcom.modularity(G, communities, weight='weight')\n",
    "\n",
    "    if mod_only == True:\n",
    "        \n",
    "        return mod\n",
    "        \n",
    "    else:\n",
    "\n",
    "        values=[thisdict.get(node) for node in G.nodes()]\n",
    "\n",
    "        # Creating a dictionary like 'Community num':'List of participants'\n",
    "        dict_nodes={}\n",
    "        for each_item in thisdict.items():\n",
    "            community_num=each_item[1]\n",
    "            community_node=each_item[0]\n",
    "\n",
    "            if community_num in dict_nodes:\n",
    "                value=dict_nodes.get(community_num) + ' | ' + str(community_node)\n",
    "                dict_nodes.update({community_num: value})\n",
    "            else:\n",
    "                dict_nodes.update({community_num: community_node})\n",
    "\n",
    "        # Creating the output file\n",
    "        community_df=pd.DataFrame.from_dict(dict_nodes, orient='index',columns=['Members'])\n",
    "        community_df.index.rename('Community Num', inplace=True)\n",
    "        num_comm_members = [len(comm_i_member_list.split(' | ')) for comm_i_member_list in community_df.Members]\n",
    "        community_df.loc[: , 'Num_Members'] = num_comm_members\n",
    "        community_df.sort_values(by = 'Num_Members' , ascending = False , inplace = True)\n",
    "        community_df.reset_index(inplace = True , drop = True)\n",
    "\n",
    "        # Calculating the total number of communities\n",
    "        print(\"Modularity:\", mod)\n",
    "        print(\"Total number of Communities =\", np.shape(community_df)[0])\n",
    "        \n",
    "        return community_df"
   ]
  },
  {
   "cell_type": "markdown",
   "metadata": {},
   "source": [
    "### Clauset-Newman-Moore algorithm"
   ]
  },
  {
   "cell_type": "code",
   "execution_count": 17,
   "metadata": {},
   "outputs": [],
   "source": [
    "def run_clauset_alg(G, mod_only):\n",
    "    \n",
    "    '''\n",
    "    name: Greedy Modularity (optimized)\n",
    "    nature: Modularity Optimization\n",
    "    complexity: O(L) where N = nodes, L = edges, and L~N for sparse networks\n",
    "    ref: A. Clauset, M.E.J. Newman, and C. Moore. Finding community structure in very large networks. Physical Review E, 70:066111, 2004.\n",
    "    '''\n",
    "\n",
    "    # Using the Clauset-Newman-Moore algorithm to create a Community Structure\n",
    "    communities = nxcom.greedy_modularity_communities(G, weight='weight')\n",
    "    communities = [list(comm_i) for comm_i in communities] #convert from list of frozen sets to list of lists\n",
    "    \n",
    "    # Calculate the modularity\n",
    "    mod = nxcom.modularity(G, communities, weight='weight')\n",
    "\n",
    "    if mod_only == True:\n",
    "        \n",
    "        return mod\n",
    "        \n",
    "    else:\n",
    "        \n",
    "        # Creating a dictionary for the community number associated with each node\n",
    "        com = 0\n",
    "        thisdict = {}\n",
    "\n",
    "        # Populating the items of the dictionary\n",
    "        for comm_i in communities: #iterate through communities\n",
    "            for node_i in comm_i: #iterate through nodes within community\n",
    "                thisdict[node_i] = com\n",
    "            #update community ID\n",
    "            com += 1\n",
    "\n",
    "        # Creating a dictionary like 'Community num':'List of participants'\n",
    "        values=[thisdict.get(node) for node in G.nodes()]\n",
    "        dict_nodes={}\n",
    "        for each_item in thisdict.items():\n",
    "            community_num=each_item[1]\n",
    "            community_node=each_item[0]\n",
    "\n",
    "            if community_num in dict_nodes:\n",
    "                value=dict_nodes.get(community_num) + ' | ' + str(community_node)\n",
    "                dict_nodes.update({community_num: value})\n",
    "            else:\n",
    "                dict_nodes.update({community_num: community_node})\n",
    "\n",
    "        # Creating the output file\n",
    "        community_df=pd.DataFrame.from_dict(dict_nodes, orient='index',columns=['Members'])\n",
    "        community_df.index.rename('Community Num', inplace=True)\n",
    "        num_comm_members = [len(comm_i_member_list.split(' | ')) for comm_i_member_list in community_df.Members]\n",
    "        community_df.loc[: , 'Num_Members'] = num_comm_members\n",
    "        community_df.sort_values(by = 'Num_Members' , ascending = False , inplace = True)\n",
    "        community_df.reset_index(inplace = True , drop = True)\n",
    "\n",
    "        # Calculation of number of communities\n",
    "        print(\"Modularity:\", mod)\n",
    "        print(\"Total number of Communities =\", np.shape(community_df)[0])\n",
    "        \n",
    "        return community_df"
   ]
  },
  {
   "cell_type": "markdown",
   "metadata": {},
   "source": [
    "# [3] Get sub-network constructed from retaining only nodes with $mean(logFC) \\ge 0.5$ & detect communities"
   ]
  },
  {
   "cell_type": "markdown",
   "metadata": {},
   "source": [
    "## [3.1] Get most heavily weighted edges that pass optimal threshold & construct sub-graph"
   ]
  },
  {
   "cell_type": "code",
   "execution_count": 18,
   "metadata": {},
   "outputs": [
    {
     "data": {
      "text/plain": [
       "12"
      ]
     },
     "execution_count": 18,
     "metadata": {},
     "output_type": "execute_result"
    }
   ],
   "source": [
    "len(G_deg_logFC_df.mean_log2FC[abs(G_deg_logFC_df.mean_log2FC) >= 0.5].index)"
   ]
  },
  {
   "cell_type": "code",
   "execution_count": 19,
   "metadata": {},
   "outputs": [],
   "source": [
    "#get the nodes in the network that pass the logFC threshold\n",
    "nodes_high_abs_logFC_subset = list(G_deg_logFC_df.mean_log2FC[abs(G_deg_logFC_df.mean_log2FC) >= 0.5].index)\n",
    "\n",
    "#get the SUBGRAPH induced by the most these nodes (correspond to genes with >> |logFC|)\n",
    "S = G.subgraph(nodes_high_abs_logFC_subset)"
   ]
  },
  {
   "cell_type": "code",
   "execution_count": 20,
   "metadata": {},
   "outputs": [
    {
     "name": "stdout",
     "output_type": "stream",
     "text": [
      "Name: \n",
      "Type: Graph\n",
      "Number of nodes: 12\n",
      "Number of edges: 56\n",
      "Average degree:   9.3333\n"
     ]
    }
   ],
   "source": [
    "print(nx.info(S))"
   ]
  },
  {
   "cell_type": "markdown",
   "metadata": {},
   "source": [
    "Use **Spring Layout** to set the positions of the nodes"
   ]
  },
  {
   "cell_type": "code",
   "execution_count": 28,
   "metadata": {},
   "outputs": [],
   "source": [
    "pos = nx.spring_layout(S , weight = 'weight' , iterations = 350 , k = 0.5)"
   ]
  },
  {
   "cell_type": "code",
   "execution_count": 33,
   "metadata": {},
   "outputs": [
    {
     "data": {
      "image/png": "[encoded data removed]",
      "text/plain": [
       "<Figure size 540x540 with 1 Axes>"
      ]
     },
     "metadata": {},
     "output_type": "display_data"
    }
   ],
   "source": [
    "fig , ax = plt.subplots()\n",
    "\n",
    "nx.draw_networkx(\n",
    "    S, \n",
    "    pos = pos, \n",
    "    ax = ax,\n",
    "    node_size = 65, \n",
    "    node_color = 'xkcd:black',\n",
    "    linewidths = 0.0,\n",
    "    edge_color = \"0.9\",\n",
    "    width=0.25,\n",
    "    alpha = 0.75, \n",
    "    with_labels = False)\n",
    "\n",
    "fig = plt.gcf()\n",
    "fig.set_size_inches(7.5, 7.5)\n",
    "fig.tight_layout()\n",
    "plt.show()"
   ]
  },
  {
   "cell_type": "markdown",
   "metadata": {},
   "source": [
    "#### *Function* to retrieve node colors based of node values (i.e. weighted degree, logFC for gene)"
   ]
  },
  {
   "cell_type": "code",
   "execution_count": 30,
   "metadata": {},
   "outputs": [],
   "source": [
    "def get_node_colors(node_values):\n",
    "    \n",
    "    '''\n",
    "    This function takes a list of values for each node and color map, \n",
    "    normalizes the list of values from 0.0-1.0 and assigns each node \n",
    "    a color from a color map based on normalized values. Returns a \n",
    "    list of colors for nodes.\n",
    "    '''\n",
    "    color_map = []\n",
    "    color_scheme = plt.get_cmap('bwr')\n",
    "    node_values_normalized = (node_values-min(node_values))/(max(node_values) - min(node_values)) #normalize data\n",
    "\n",
    "    for node_value in node_values_normalized:\n",
    "        color_map.append(color_scheme(node_value))\n",
    "        \n",
    "    return color_map"
   ]
  },
  {
   "cell_type": "markdown",
   "metadata": {},
   "source": [
    "#### *Function* to visualize network by weighted degree & logFC based on gene values"
   ]
  },
  {
   "cell_type": "code",
   "execution_count": 34,
   "metadata": {},
   "outputs": [],
   "source": [
    "def visualize_network_color_by_weighted_deg_and_logFC(G, pos):\n",
    "    \n",
    "    #weighted degree for nodes in this network\n",
    "    node_weighted_deg_values = G_deg_logFC_df.weighted_degree[list(G.nodes)] \n",
    "    \n",
    "    #logFC for nodes in this network\n",
    "    node_logFC_values = G_deg_logFC_df.mean_log2FC[list(G.nodes)] \n",
    "    \n",
    "    fig = plt.figure(constrained_layout=True)\n",
    "\n",
    "    gs = GridSpec(1, 2, figure=fig)\n",
    "\n",
    "    ax1 = fig.add_subplot(gs[0, 0])\n",
    "    ax2 = fig.add_subplot(gs[0, 1])\n",
    "    \n",
    "    #color nodes by weighted deg\n",
    "    nx.draw_networkx(\n",
    "        G, \n",
    "        pos = pos, \n",
    "        ax = ax1,\n",
    "        node_size = 65, \n",
    "        node_color = get_node_colors(node_weighted_deg_values),\n",
    "        linewidths = 0.0,\n",
    "        edge_color = \"0.83\",\n",
    "        width=0.1,\n",
    "        alpha = 1.0, \n",
    "        with_labels = False)\n",
    "    \n",
    "    ax1.set_title(f'Nodes colored by Weighted Deg (blue -> red)', fontsize = 14, color = 'k')\n",
    "    \n",
    "    #color nodes by logFC\n",
    "    nx.draw_networkx(\n",
    "        G, \n",
    "        pos = pos, \n",
    "        ax = ax2,\n",
    "        node_size = 65, \n",
    "        node_color = get_node_colors(node_logFC_values),\n",
    "        linewidths = 0.0,\n",
    "        edge_color = \"0.83\",\n",
    "        width=0.1,\n",
    "        alpha = 1.0, \n",
    "        with_labels = False)\n",
    "    \n",
    "    ax2.set_title(f'Nodes colored by mean logFC (blue -> red)', fontsize = 14, color = 'k')\n",
    "\n",
    "    ################### Plot\n",
    "    fig = plt.gcf()\n",
    "    fig.set_size_inches(15.0, 7.5)\n",
    "    fig.tight_layout()\n",
    "\n",
    "    #file_name = '/n/data1/hms/dbmi/farhat/Roger/homoplasy_project/Figures/lab_meeting_12_12_19/pairwise_SNP_distance/distribution_of_pairwise_SNP_distances.png'\n",
    "    #plt.savefig(file_name, bbox_inches='tight', dpi = 300 , transparent = True)\n",
    "\n",
    "    plt.show()"
   ]
  },
  {
   "cell_type": "code",
   "execution_count": 35,
   "metadata": {},
   "outputs": [
    {
     "data": {
      "image/png": "[encoded data removed]",
      "text/plain": [
       "<Figure size 1080x540 with 2 Axes>"
      ]
     },
     "metadata": {},
     "output_type": "display_data"
    }
   ],
   "source": [
    "visualize_network_color_by_weighted_deg_and_logFC(S, pos)"
   ]
  },
  {
   "cell_type": "markdown",
   "metadata": {},
   "source": [
    "## [3.2] Run community detection algorithms and check to see which yields the highest modularity"
   ]
  },
  {
   "cell_type": "code",
   "execution_count": 36,
   "metadata": {},
   "outputs": [],
   "source": [
    "#run algorithms for COMMUNITY detection and return MODULARITY\n",
    "mod_louvain = run_louvain_alg(S, True)\n",
    "mod_girvan = run_girvan_alg(S, True)\n",
    "mod_clauset = run_clauset_alg(S, True)"
   ]
  },
  {
   "cell_type": "code",
   "execution_count": 37,
   "metadata": {},
   "outputs": [
    {
     "data": {
      "text/plain": [
       "0.2629323538414448"
      ]
     },
     "execution_count": 37,
     "metadata": {},
     "output_type": "execute_result"
    }
   ],
   "source": [
    "mod_louvain"
   ]
  },
  {
   "cell_type": "code",
   "execution_count": 38,
   "metadata": {},
   "outputs": [
    {
     "data": {
      "text/plain": [
       "0.026170798898071845"
      ]
     },
     "execution_count": 38,
     "metadata": {},
     "output_type": "execute_result"
    }
   ],
   "source": [
    "mod_girvan"
   ]
  },
  {
   "cell_type": "code",
   "execution_count": 39,
   "metadata": {
    "scrolled": true
   },
   "outputs": [
    {
     "data": {
      "text/plain": [
       "2.2428747972225386e-16"
      ]
     },
     "execution_count": 39,
     "metadata": {},
     "output_type": "execute_result"
    }
   ],
   "source": [
    "mod_clauset"
   ]
  },
  {
   "cell_type": "markdown",
   "metadata": {},
   "source": [
    "### Run *Louvain* algorithm on sub-network and return communities"
   ]
  },
  {
   "cell_type": "code",
   "execution_count": 40,
   "metadata": {},
   "outputs": [
    {
     "name": "stdout",
     "output_type": "stream",
     "text": [
      "Modularity:  0.2629323538414448\n",
      "Total number of Communities = 3\n"
     ]
    }
   ],
   "source": [
    "community_df = run_louvain_alg(S, False)"
   ]
  },
  {
   "cell_type": "code",
   "execution_count": 41,
   "metadata": {},
   "outputs": [
    {
     "data": {
      "text/html": [
       "<div>\n",
       "<style scoped>\n",
       "    .dataframe tbody tr th:only-of-type {\n",
       "        vertical-align: middle;\n",
       "    }\n",
       "\n",
       "    .dataframe tbody tr th {\n",
       "        vertical-align: top;\n",
       "    }\n",
       "\n",
       "    .dataframe thead th {\n",
       "        text-align: right;\n",
       "    }\n",
       "</style>\n",
       "<table border=\"1\" class=\"dataframe\">\n",
       "  <thead>\n",
       "    <tr style=\"text-align: right;\">\n",
       "      <th></th>\n",
       "      <th>Members</th>\n",
       "      <th>Num_Members</th>\n",
       "    </tr>\n",
       "  </thead>\n",
       "  <tbody>\n",
       "    <tr>\n",
       "      <th>0</th>\n",
       "      <td>GBP4 | BATF2 | GBP5 | P2RY14 | SERPING1</td>\n",
       "      <td>5</td>\n",
       "    </tr>\n",
       "    <tr>\n",
       "      <th>1</th>\n",
       "      <td>FCGR1A | AIM2 | CACNA1E | ANKRD22 | C1QB</td>\n",
       "      <td>5</td>\n",
       "    </tr>\n",
       "    <tr>\n",
       "      <th>2</th>\n",
       "      <td>FCGR1B | SEPT4</td>\n",
       "      <td>2</td>\n",
       "    </tr>\n",
       "  </tbody>\n",
       "</table>\n",
       "</div>"
      ],
      "text/plain": [
       "                                    Members  Num_Members\n",
       "0   GBP4 | BATF2 | GBP5 | P2RY14 | SERPING1            5\n",
       "1  FCGR1A | AIM2 | CACNA1E | ANKRD22 | C1QB            5\n",
       "2                            FCGR1B | SEPT4            2"
      ]
     },
     "execution_count": 41,
     "metadata": {},
     "output_type": "execute_result"
    }
   ],
   "source": [
    "community_df"
   ]
  },
  {
   "cell_type": "markdown",
   "metadata": {},
   "source": [
    "## [3.3] Visualize communites within sub-network"
   ]
  },
  {
   "cell_type": "markdown",
   "metadata": {},
   "source": [
    "#### *Function* to color a subset of nodes differently"
   ]
  },
  {
   "cell_type": "code",
   "execution_count": 47,
   "metadata": {},
   "outputs": [],
   "source": [
    "def draw_graph_and_color_subset_nodes(G, nodes_in_group, ax):\n",
    "\n",
    "    '''\n",
    "    This function takes in a graph, list of a subset of nodes and axis object,\n",
    "    then draws the network with the subset of nodes colored seperately from the \n",
    "    rest of the nodes in the network\n",
    "    '''\n",
    "\n",
    "    #draw nodes NOT in the (subset) group\n",
    "    size_map = []\n",
    "    for node in G:\n",
    "        if node not in nodes_in_group:\n",
    "            size_map.append(65)\n",
    "        elif node in nodes_in_group:\n",
    "            size_map.append(0)\n",
    "\n",
    "    nx.draw_networkx(\n",
    "        G, \n",
    "        ax = ax,\n",
    "        pos=pos, \n",
    "        node_size=size_map, \n",
    "        node_color = \"0.8\",\n",
    "        linewidths = 0.0,\n",
    "        edge_color=\"0.7\",\n",
    "        width=0.0,\n",
    "        alpha=1.0, \n",
    "        with_labels=False)\n",
    "\n",
    "    #draw nodes that ARE in the (subset) group\n",
    "    size_map = []\n",
    "    for node in G:\n",
    "        if node not in nodes_in_group:\n",
    "            size_map.append(0)\n",
    "        elif node in nodes_in_group:\n",
    "            size_map.append(65)\n",
    "\n",
    "    nx.draw_networkx(\n",
    "        G, \n",
    "        pos=pos, \n",
    "        ax = ax,\n",
    "        node_size=size_map, \n",
    "        node_color = 'xkcd:black',\n",
    "        linewidths = 0.0,\n",
    "        edge_color=\"0.7\",\n",
    "        width=0.0,\n",
    "        alpha=1.0, \n",
    "        with_labels=False)"
   ]
  },
  {
   "cell_type": "markdown",
   "metadata": {},
   "source": [
    "#### *Function* to plot a set of genes in within community"
   ]
  },
  {
   "cell_type": "code",
   "execution_count": 48,
   "metadata": {},
   "outputs": [],
   "source": [
    "def draw_community_subgraph_network(G, comm_i):\n",
    "    \n",
    "    fig = plt.figure(constrained_layout=True)\n",
    "\n",
    "    gs = GridSpec(1, 1, figure=fig)\n",
    "\n",
    "    ax1 = fig.add_subplot(gs[0, 0])\n",
    "    \n",
    "    ################### VISUALIZE COMMUNITY ###################\n",
    "    #get the set of nodes within the community\n",
    "    nodes_in_community = set(community_df.loc[comm_i, 'Members'].split(' | '))\n",
    "    number_of_nodes = len(nodes_in_community)\n",
    "\n",
    "    #get the subgraph generated by nodes in community\n",
    "    G_community_subgraph = G.subgraph(list(nodes_in_community)) \n",
    "\n",
    "    #draw the network & color the community differently\n",
    "    draw_graph_and_color_subset_nodes(G, nodes_in_community, ax1)\n",
    "    \n",
    "    ax1.set_title(f'Community {comm_i} with {number_of_nodes} members', fontsize = 12, color = 'k')\n",
    "\n",
    "    ################### Plot ###################\n",
    "    fig = plt.gcf()\n",
    "    fig.set_size_inches(7.5, 7.5)\n",
    "    fig.tight_layout()\n",
    "\n",
    "    #file_name = '/n/data1/hms/dbmi/farhat/Roger/homoplasy_project/Figures/lab_meeting_12_12_19/pairwise_SNP_distance/distribution_of_pairwise_SNP_distances.png'\n",
    "    #plt.savefig(file_name, bbox_inches='tight', dpi = 300 , transparent = True)\n",
    "\n",
    "    plt.show()"
   ]
  },
  {
   "cell_type": "markdown",
   "metadata": {},
   "source": [
    "### Visualize different communities"
   ]
  },
  {
   "cell_type": "code",
   "execution_count": 49,
   "metadata": {
    "scrolled": false
   },
   "outputs": [
    {
     "data": {
      "image/png": "[encoded data removed]",
      "text/plain": [
       "<Figure size 540x540 with 1 Axes>"
      ]
     },
     "metadata": {},
     "output_type": "display_data"
    }
   ],
   "source": [
    "draw_community_subgraph_network(S, 0)"
   ]
  },
  {
   "cell_type": "code",
   "execution_count": 50,
   "metadata": {},
   "outputs": [
    {
     "data": {
      "image/png": "[encoded data removed]",
      "text/plain": [
       "<Figure size 540x540 with 1 Axes>"
      ]
     },
     "metadata": {},
     "output_type": "display_data"
    }
   ],
   "source": [
    "draw_community_subgraph_network(S, 1)"
   ]
  },
  {
   "cell_type": "code",
   "execution_count": 51,
   "metadata": {},
   "outputs": [
    {
     "data": {
      "image/png": "[encoded data removed]",
      "text/plain": [
       "<Figure size 540x540 with 1 Axes>"
      ]
     },
     "metadata": {},
     "output_type": "display_data"
    }
   ],
   "source": [
    "draw_community_subgraph_network(S, 2)"
   ]
  },
  {
   "cell_type": "markdown",
   "metadata": {},
   "source": [
    "## [3.4] Run gene-enrichment analysis on genes within communities"
   ]
  },
  {
   "cell_type": "markdown",
   "metadata": {},
   "source": [
    "### Load and prepare gene sets"
   ]
  },
  {
   "cell_type": "markdown",
   "metadata": {},
   "source": [
    "DataFrame for the Gene Sets (excel files from Wen-Han)"
   ]
  },
  {
   "cell_type": "code",
   "execution_count": 52,
   "metadata": {},
   "outputs": [],
   "source": [
    "GeneSets_df = pd.read_csv(f'{Gene_Set_dir}GeneModule.csv')\n",
    "\n",
    "#subset to the first 298 modules (immune-related modules)\n",
    "GeneSets_df = GeneSets_df.loc[0:297, :]"
   ]
  },
  {
   "cell_type": "code",
   "execution_count": 53,
   "metadata": {},
   "outputs": [
    {
     "data": {
      "text/html": [
       "<div>\n",
       "<style scoped>\n",
       "    .dataframe tbody tr th:only-of-type {\n",
       "        vertical-align: middle;\n",
       "    }\n",
       "\n",
       "    .dataframe tbody tr th {\n",
       "        vertical-align: top;\n",
       "    }\n",
       "\n",
       "    .dataframe thead th {\n",
       "        text-align: right;\n",
       "    }\n",
       "</style>\n",
       "<table border=\"1\" class=\"dataframe\">\n",
       "  <thead>\n",
       "    <tr style=\"text-align: right;\">\n",
       "      <th></th>\n",
       "      <th>ID</th>\n",
       "      <th>Title</th>\n",
       "      <th>Category</th>\n",
       "      <th>B</th>\n",
       "    </tr>\n",
       "  </thead>\n",
       "  <tbody>\n",
       "    <tr>\n",
       "      <th>0</th>\n",
       "      <td>LI.M0</td>\n",
       "      <td>targets of FOSL1/2</td>\n",
       "      <td>TF targets</td>\n",
       "      <td>12</td>\n",
       "    </tr>\n",
       "    <tr>\n",
       "      <th>1</th>\n",
       "      <td>LI.M1.0</td>\n",
       "      <td>integrin cell surface interactions (I)</td>\n",
       "      <td>molecular function</td>\n",
       "      <td>29</td>\n",
       "    </tr>\n",
       "    <tr>\n",
       "      <th>2</th>\n",
       "      <td>LI.M1.1</td>\n",
       "      <td>integrin cell surface interactions (II)</td>\n",
       "      <td>molecular function</td>\n",
       "      <td>12</td>\n",
       "    </tr>\n",
       "    <tr>\n",
       "      <th>3</th>\n",
       "      <td>LI.M2.0</td>\n",
       "      <td>extracellular matrix (I)</td>\n",
       "      <td>location</td>\n",
       "      <td>30</td>\n",
       "    </tr>\n",
       "    <tr>\n",
       "      <th>4</th>\n",
       "      <td>LI.M2.1</td>\n",
       "      <td>extracellular matrix (II)</td>\n",
       "      <td>location</td>\n",
       "      <td>45</td>\n",
       "    </tr>\n",
       "  </tbody>\n",
       "</table>\n",
       "</div>"
      ],
      "text/plain": [
       "        ID                                    Title            Category   B\n",
       "0    LI.M0                       targets of FOSL1/2          TF targets  12\n",
       "1  LI.M1.0   integrin cell surface interactions (I)  molecular function  29\n",
       "2  LI.M1.1  integrin cell surface interactions (II)  molecular function  12\n",
       "3  LI.M2.0                 extracellular matrix (I)            location  30\n",
       "4  LI.M2.1                extracellular matrix (II)            location  45"
      ]
     },
     "execution_count": 53,
     "metadata": {},
     "output_type": "execute_result"
    }
   ],
   "source": [
    "GeneSets_df.head()"
   ]
  },
  {
   "cell_type": "code",
   "execution_count": 54,
   "metadata": {},
   "outputs": [
    {
     "data": {
      "text/plain": [
       "(298, 4)"
      ]
     },
     "execution_count": 54,
     "metadata": {},
     "output_type": "execute_result"
    }
   ],
   "source": [
    "np.shape(GeneSets_df)"
   ]
  },
  {
   "cell_type": "markdown",
   "metadata": {},
   "source": [
    "DataFrame for the genes that belong to each Gene Set"
   ]
  },
  {
   "cell_type": "code",
   "execution_count": 55,
   "metadata": {},
   "outputs": [],
   "source": [
    "GeneSet_GeneLists_df = pd.read_csv(f'{Gene_Set_dir}GeneModule_Genelist.csv')\n",
    "GeneSet_GeneLists_df.set_index('ID', drop = True, inplace = True)"
   ]
  },
  {
   "cell_type": "code",
   "execution_count": 56,
   "metadata": {},
   "outputs": [
    {
     "data": {
      "text/html": [
       "<div>\n",
       "<style scoped>\n",
       "    .dataframe tbody tr th:only-of-type {\n",
       "        vertical-align: middle;\n",
       "    }\n",
       "\n",
       "    .dataframe tbody tr th {\n",
       "        vertical-align: top;\n",
       "    }\n",
       "\n",
       "    .dataframe thead th {\n",
       "        text-align: right;\n",
       "    }\n",
       "</style>\n",
       "<table border=\"1\" class=\"dataframe\">\n",
       "  <thead>\n",
       "    <tr style=\"text-align: right;\">\n",
       "      <th></th>\n",
       "      <th>Gene</th>\n",
       "    </tr>\n",
       "    <tr>\n",
       "      <th>ID</th>\n",
       "      <th></th>\n",
       "    </tr>\n",
       "  </thead>\n",
       "  <tbody>\n",
       "    <tr>\n",
       "      <th>LI.M0</th>\n",
       "      <td>CCL2</td>\n",
       "    </tr>\n",
       "    <tr>\n",
       "      <th>LI.M0</th>\n",
       "      <td>DCN</td>\n",
       "    </tr>\n",
       "    <tr>\n",
       "      <th>LI.M0</th>\n",
       "      <td>LIF</td>\n",
       "    </tr>\n",
       "    <tr>\n",
       "      <th>LI.M0</th>\n",
       "      <td>PLAU</td>\n",
       "    </tr>\n",
       "    <tr>\n",
       "      <th>LI.M0</th>\n",
       "      <td>IL6</td>\n",
       "    </tr>\n",
       "  </tbody>\n",
       "</table>\n",
       "</div>"
      ],
      "text/plain": [
       "       Gene\n",
       "ID         \n",
       "LI.M0  CCL2\n",
       "LI.M0   DCN\n",
       "LI.M0   LIF\n",
       "LI.M0  PLAU\n",
       "LI.M0   IL6"
      ]
     },
     "execution_count": 56,
     "metadata": {},
     "output_type": "execute_result"
    }
   ],
   "source": [
    "GeneSet_GeneLists_df.head()"
   ]
  },
  {
   "cell_type": "code",
   "execution_count": 57,
   "metadata": {},
   "outputs": [
    {
     "data": {
      "text/plain": [
       "(84042, 1)"
      ]
     },
     "execution_count": 57,
     "metadata": {},
     "output_type": "execute_result"
    }
   ],
   "source": [
    "np.shape(GeneSet_GeneLists_df)"
   ]
  },
  {
   "cell_type": "markdown",
   "metadata": {},
   "source": [
    "#### Convert gene sets to a dictionary \n",
    "- keys: gene sets\n",
    "- values: list of genes belonging to each set"
   ]
  },
  {
   "cell_type": "code",
   "execution_count": 58,
   "metadata": {},
   "outputs": [],
   "source": [
    "gene_set_dict = {}\n",
    "for gene_set_i in GeneSets_df.ID:\n",
    "    gene_list_for_set_i = list(GeneSet_GeneLists_df[GeneSet_GeneLists_df.index == gene_set_i].Gene)\n",
    "    \n",
    "    if gene_list_for_set_i == []:\n",
    "        print(gene_set_i)\n",
    "    \n",
    "    gene_set_dict[gene_set_i] = gene_list_for_set_i"
   ]
  },
  {
   "cell_type": "code",
   "execution_count": 59,
   "metadata": {},
   "outputs": [
    {
     "data": {
      "text/plain": [
       "298"
      ]
     },
     "execution_count": 59,
     "metadata": {},
     "output_type": "execute_result"
    }
   ],
   "source": [
    "len(gene_set_dict.keys()) #number of gene sets"
   ]
  },
  {
   "cell_type": "markdown",
   "metadata": {},
   "source": [
    "#### *Function* to run gene set enrichment"
   ]
  },
  {
   "cell_type": "code",
   "execution_count": 68,
   "metadata": {},
   "outputs": [],
   "source": [
    "def run_enrichr_on_list_of_genes(gene_list):\n",
    "    \n",
    "    #run enrichr\n",
    "    enr = gp.enrichr(gene_list = gene_list,  \n",
    "        gene_sets = gene_set_dict,\n",
    "        background = 'hsapiens_gene_ensembl',\n",
    "        organism = 'Human',\n",
    "        description = f'community pathway enrichment',\n",
    "        outdir = f'{Data_files_dir}/enrichr gene set analyses bucket',\n",
    "        no_plot = True)\n",
    "\n",
    "    #filter & sort enrichr results df\n",
    "    enrichr_results_df = enr.results\n",
    "    enrichr_results_df = enrichr_results_df.loc[: , ['Term', 'P-value', 'Adjusted P-value', 'Overlap', 'Genes']] #subset to necessary columns\n",
    "    enrichr_results_df.rename(columns = {'Term':'ID'}, inplace = True) #rename column for merging with Gene Set df\n",
    "    enrichr_results_df = enrichr_results_df[enrichr_results_df.loc[: , 'Adjusted P-value'] <= 0.001] #keep hits with lowest adj. p-vals\n",
    "    enrichr_results_df.sort_values(by = 'Adjusted P-value', ascending = True , inplace = True) #sort by lowest p-val\n",
    "    enrichr_results_df.reset_index(inplace = True, drop = True) #reset index\n",
    "    enrichr_results_df = enrichr_results_df.merge(GeneSets_df.loc[: , ['ID','Title','Category']], how = 'left', on = 'ID') #get details for gene sets\n",
    "    \n",
    "    return enrichr_results_df"
   ]
  },
  {
   "cell_type": "markdown",
   "metadata": {},
   "source": [
    "### Run gene set enrichment on genes detected within different communities"
   ]
  },
  {
   "cell_type": "markdown",
   "metadata": {},
   "source": [
    "Community 0"
   ]
  },
  {
   "cell_type": "code",
   "execution_count": 69,
   "metadata": {},
   "outputs": [
    {
     "data": {
      "text/html": [
       "<div>\n",
       "<style scoped>\n",
       "    .dataframe tbody tr th:only-of-type {\n",
       "        vertical-align: middle;\n",
       "    }\n",
       "\n",
       "    .dataframe tbody tr th {\n",
       "        vertical-align: top;\n",
       "    }\n",
       "\n",
       "    .dataframe thead th {\n",
       "        text-align: right;\n",
       "    }\n",
       "</style>\n",
       "<table border=\"1\" class=\"dataframe\">\n",
       "  <thead>\n",
       "    <tr style=\"text-align: right;\">\n",
       "      <th></th>\n",
       "      <th>ID</th>\n",
       "      <th>P-value</th>\n",
       "      <th>Adjusted P-value</th>\n",
       "      <th>Overlap</th>\n",
       "      <th>Genes</th>\n",
       "      <th>Title</th>\n",
       "      <th>Category</th>\n",
       "    </tr>\n",
       "  </thead>\n",
       "  <tbody>\n",
       "    <tr>\n",
       "      <th>0</th>\n",
       "      <td>DC.M1.2</td>\n",
       "      <td>0.000019</td>\n",
       "      <td>0.000155</td>\n",
       "      <td>2/27</td>\n",
       "      <td>BATF2;SERPING1</td>\n",
       "      <td>Interferon</td>\n",
       "      <td>DC.M1</td>\n",
       "    </tr>\n",
       "    <tr>\n",
       "      <th>1</th>\n",
       "      <td>DC.M3.4</td>\n",
       "      <td>0.000076</td>\n",
       "      <td>0.000302</td>\n",
       "      <td>2/53</td>\n",
       "      <td>GBP4;GBP5</td>\n",
       "      <td>Interferon</td>\n",
       "      <td>DC.M3</td>\n",
       "    </tr>\n",
       "  </tbody>\n",
       "</table>\n",
       "</div>"
      ],
      "text/plain": [
       "        ID   P-value  Adjusted P-value Overlap           Genes       Title  \\\n",
       "0  DC.M1.2  0.000019          0.000155    2/27  BATF2;SERPING1  Interferon   \n",
       "1  DC.M3.4  0.000076          0.000302    2/53       GBP4;GBP5  Interferon   \n",
       "\n",
       "  Category  \n",
       "0    DC.M1  \n",
       "1    DC.M3  "
      ]
     },
     "execution_count": 69,
     "metadata": {},
     "output_type": "execute_result"
    }
   ],
   "source": [
    "community_i = 0\n",
    "community_node_list = community_df.loc[community_i,'Members'].split(' | ') #get list of genes that belong to the community\n",
    "run_enrichr_on_list_of_genes(community_node_list) #pathway enrichment"
   ]
  },
  {
   "cell_type": "markdown",
   "metadata": {},
   "source": [
    "Community 1"
   ]
  },
  {
   "cell_type": "code",
   "execution_count": 70,
   "metadata": {},
   "outputs": [
    {
     "data": {
      "text/html": [
       "<div>\n",
       "<style scoped>\n",
       "    .dataframe tbody tr th:only-of-type {\n",
       "        vertical-align: middle;\n",
       "    }\n",
       "\n",
       "    .dataframe tbody tr th {\n",
       "        vertical-align: top;\n",
       "    }\n",
       "\n",
       "    .dataframe thead th {\n",
       "        text-align: right;\n",
       "    }\n",
       "</style>\n",
       "<table border=\"1\" class=\"dataframe\">\n",
       "  <thead>\n",
       "    <tr style=\"text-align: right;\">\n",
       "      <th></th>\n",
       "      <th>P-value</th>\n",
       "      <th>Adjusted P-value</th>\n",
       "      <th>Overlap</th>\n",
       "      <th>Genes</th>\n",
       "      <th>ID</th>\n",
       "      <th>Title</th>\n",
       "      <th>Category</th>\n",
       "    </tr>\n",
       "  </thead>\n",
       "  <tbody>\n",
       "  </tbody>\n",
       "</table>\n",
       "</div>"
      ],
      "text/plain": [
       "Empty DataFrame\n",
       "Columns: [P-value, Adjusted P-value, Overlap, Genes, ID, Title, Category]\n",
       "Index: []"
      ]
     },
     "execution_count": 70,
     "metadata": {},
     "output_type": "execute_result"
    }
   ],
   "source": [
    "community_i = 1\n",
    "community_node_list = community_df.loc[community_i,'Members'].split(' | ') #get list of genes that belong to the community\n",
    "run_enrichr_on_list_of_genes(community_node_list) #pathway enrichment"
   ]
  },
  {
   "cell_type": "markdown",
   "metadata": {},
   "source": [
    "Community 2"
   ]
  },
  {
   "cell_type": "code",
   "execution_count": 71,
   "metadata": {},
   "outputs": [
    {
     "data": {
      "text/html": [
       "<div>\n",
       "<style scoped>\n",
       "    .dataframe tbody tr th:only-of-type {\n",
       "        vertical-align: middle;\n",
       "    }\n",
       "\n",
       "    .dataframe tbody tr th {\n",
       "        vertical-align: top;\n",
       "    }\n",
       "\n",
       "    .dataframe thead th {\n",
       "        text-align: right;\n",
       "    }\n",
       "</style>\n",
       "<table border=\"1\" class=\"dataframe\">\n",
       "  <thead>\n",
       "    <tr style=\"text-align: right;\">\n",
       "      <th></th>\n",
       "      <th>P-value</th>\n",
       "      <th>Adjusted P-value</th>\n",
       "      <th>Overlap</th>\n",
       "      <th>Genes</th>\n",
       "      <th>ID</th>\n",
       "      <th>Title</th>\n",
       "      <th>Category</th>\n",
       "    </tr>\n",
       "  </thead>\n",
       "  <tbody>\n",
       "  </tbody>\n",
       "</table>\n",
       "</div>"
      ],
      "text/plain": [
       "Empty DataFrame\n",
       "Columns: [P-value, Adjusted P-value, Overlap, Genes, ID, Title, Category]\n",
       "Index: []"
      ]
     },
     "execution_count": 71,
     "metadata": {},
     "output_type": "execute_result"
    }
   ],
   "source": [
    "community_i = 2\n",
    "community_node_list = community_df.loc[community_i,'Members'].split(' | ') #get list of genes that belong to the community\n",
    "run_enrichr_on_list_of_genes(community_node_list) #pathway enrichment"
   ]
  },
  {
   "cell_type": "markdown",
   "metadata": {},
   "source": [
    "## [4] Calculate *mean edge weight*, *mean weighted degree*, *num edges*, *num nodes* & *community modularities* for subgraphs induced by highest weighted edges"
   ]
  },
  {
   "cell_type": "markdown",
   "metadata": {},
   "source": [
    "### Edges Weights for Node Pairs (gene pairs)"
   ]
  },
  {
   "cell_type": "code",
   "execution_count": 72,
   "metadata": {},
   "outputs": [],
   "source": [
    "edge_weight_dict = nx.get_edge_attributes(G, 'weight') #keys: node pairs; values: edge weights\n",
    "edge_weight_array = np.array(list(edge_weight_dict.values())) #array of edge weights in graph"
   ]
  },
  {
   "cell_type": "code",
   "execution_count": 73,
   "metadata": {},
   "outputs": [
    {
     "data": {
      "text/plain": [
       "326"
      ]
     },
     "execution_count": 73,
     "metadata": {},
     "output_type": "execute_result"
    }
   ],
   "source": [
    "len(edge_weight_array)"
   ]
  },
  {
   "cell_type": "code",
   "execution_count": 74,
   "metadata": {},
   "outputs": [
    {
     "data": {
      "text/plain": [
       "0.3180981595092024"
      ]
     },
     "execution_count": 74,
     "metadata": {},
     "output_type": "execute_result"
    }
   ],
   "source": [
    "edge_weight_array.mean()"
   ]
  },
  {
   "cell_type": "markdown",
   "metadata": {},
   "source": [
    "### Distribution of Edge Weights in original Network"
   ]
  },
  {
   "cell_type": "code",
   "execution_count": 75,
   "metadata": {},
   "outputs": [],
   "source": [
    "def prettify_plot(ax):\n",
    "    ax.spines['right'].set_visible(False)\n",
    "    ax.spines['top'].set_visible(False)\n",
    "    ax.grid(False)\n",
    "    ax.tick_params(labelcolor = 'k')\n",
    "    ax.tick_params(axis='y', which='major', labelsize=12 , labelcolor = 'k')\n",
    "    ax.tick_params(axis='x', which='major', labelsize=12 , labelcolor = 'k')"
   ]
  },
  {
   "cell_type": "code",
   "execution_count": 76,
   "metadata": {},
   "outputs": [
    {
     "data": {
      "image/png": "[encoded data removed]",
      "text/plain": [
       "<Figure size 648x396 with 1 Axes>"
      ]
     },
     "metadata": {},
     "output_type": "display_data"
    }
   ],
   "source": [
    "fig = plt.figure(constrained_layout=True)\n",
    "\n",
    "gs = GridSpec(1, 1, figure=fig)\n",
    "\n",
    "ax1 = fig.add_subplot(gs[0, 0])\n",
    "\n",
    "#EDGE WEIGHTS\n",
    "ax1.hist(edge_weight_array , bins = len(set(edge_weight_array)), color = 'black' , rwidth = 0.95 , edgecolor='white', linewidth=0.0, align='left')\n",
    "\n",
    "ax1.set_ylabel('Number of Edges', fontsize = 12, color = 'k')\n",
    "ax1.set_xlabel('Edge Weight' , fontsize = 12, color = 'k')\n",
    "\n",
    "prettify_plot(ax1)\n",
    "#ax1.set_yscale('log')\n",
    "    \n",
    "################### Plot ###################\n",
    "fig = plt.gcf()\n",
    "fig.set_size_inches(9, 5.5)\n",
    "fig.tight_layout()\n",
    "\n",
    "#file_name = '/n/data1/hms/dbmi/farhat/Roger/homoplasy_project/Figures/lab_meeting_12_12_19/pairwise_SNP_distance/distribution_of_pairwise_SNP_distances.png'\n",
    "#plt.savefig(file_name, bbox_inches='tight', dpi = 300 , transparent = True)\n",
    "\n",
    "plt.show()"
   ]
  },
  {
   "cell_type": "code",
   "execution_count": 77,
   "metadata": {},
   "outputs": [
    {
     "data": {
      "text/plain": [
       "array([0.3, 0.4, 0.5])"
      ]
     },
     "execution_count": 77,
     "metadata": {},
     "output_type": "execute_result"
    }
   ],
   "source": [
    "edge_weight_thresholds = np.sort(np.array(list(set(edge_weight_array))))\n",
    "edge_weight_thresholds"
   ]
  },
  {
   "cell_type": "code",
   "execution_count": 78,
   "metadata": {},
   "outputs": [],
   "source": [
    "def get_characteristics_of_subgraph(edge_weight_thresh):\n",
    "    \n",
    "    '''\n",
    "    (1) This function returns the mean (edge weight) & (weighted degree) of the subgraph induced by the edges \n",
    "    that pass the edge weight threshold in the larger network.\n",
    "    \n",
    "    (2) Function returns the (# Edges) and (# Nodes) for these different subgraphs.\n",
    "    \n",
    "    (3) Function also returns the modularity after running a community detection\n",
    "    algorithm on the subgraph\n",
    "    '''\n",
    "    \n",
    "    #get the EDGE WEIGHTS for edges in the network that pass the edge weight threshold\n",
    "    edge_weight_dict_subset = {key:value for key, value in edge_weight_dict.items() if value >= edge_weight_thresh}\n",
    "    edge_weight_array_subset = np.array(list(edge_weight_dict_subset.values()))\n",
    "\n",
    "    #get the SUBGRAPH induced by the most heavily weighted edges\n",
    "    S = G.edge_subgraph(list(edge_weight_dict_subset.keys()))\n",
    "\n",
    "    #Get a series of the WEIGHTED DEGREE for each node in the subgraph \n",
    "    node_list = [node_deg[0] for node_deg in list(S.degree(weight = 'weight'))]\n",
    "    degree_list = [node_deg[1] for node_deg in list(S.degree(weight = 'weight'))]\n",
    "    subgraph_weighted_degree_series = pd.Series(degree_list , index = node_list).sort_values(ascending = False)\n",
    "    \n",
    "    #run algorithms for COMMUNITY detection and return MODULARITY\n",
    "    mod_louvain = run_louvain_alg(S, True)\n",
    "    mod_girvan = run_girvan_alg(S, True)\n",
    "    mod_clauset = run_clauset_alg(S, True)\n",
    "    \n",
    "    return [edge_weight_array_subset.mean() , subgraph_weighted_degree_series.mean() , float(len(edge_weight_array_subset)) , float(len(node_list)) , mod_louvain, mod_girvan, mod_clauset]"
   ]
  },
  {
   "cell_type": "markdown",
   "metadata": {},
   "source": [
    "#### Iterate through subnetworks of various sizes for different *edge weight thresholds* in original network"
   ]
  },
  {
   "cell_type": "code",
   "execution_count": 79,
   "metadata": {},
   "outputs": [
    {
     "name": "stdout",
     "output_type": "stream",
     "text": [
      "0.3\n",
      "0.4\n",
      "0.5\n"
     ]
    }
   ],
   "source": [
    "mean_edge_weight_for_subnetworks_list = []\n",
    "mean_weighted_deg_for_subnetworks_list = []\n",
    "num_edges_for_subnetworks_list = []\n",
    "num_nodes_for_subnetworks_list = []\n",
    "louvain_modularity_for_subnetworks_list = []\n",
    "girvan_modularity_for_subnetworks_list = []\n",
    "clauset_modularity_for_subnetworks_list = []\n",
    "\n",
    "for edge_weight_thresh in edge_weight_thresholds:\n",
    "    \n",
    "    subgraph_mean_edge_weight , subgraph_mean_weighted_deg , subgraph_num_edges , subgraph_num_nodes , subgraph_comm_mod_louvain , subgraph_comm_mod_girvan , subgraph_comm_mod_clauset = get_characteristics_of_subgraph(edge_weight_thresh)\n",
    "    \n",
    "    mean_edge_weight_for_subnetworks_list.append(subgraph_mean_edge_weight)\n",
    "    mean_weighted_deg_for_subnetworks_list.append(subgraph_mean_weighted_deg)\n",
    "    num_edges_for_subnetworks_list.append(subgraph_num_edges)\n",
    "    num_nodes_for_subnetworks_list.append(subgraph_num_nodes)\n",
    "    louvain_modularity_for_subnetworks_list.append(subgraph_comm_mod_louvain)\n",
    "    girvan_modularity_for_subnetworks_list.append(subgraph_comm_mod_girvan)\n",
    "    clauset_modularity_for_subnetworks_list.append(subgraph_comm_mod_clauset)\n",
    "    \n",
    "    print(edge_weight_thresh)\n",
    "    \n",
    "#convert to arrays\n",
    "mean_edge_weight_for_subnetworks = np.array(mean_edge_weight_for_subnetworks_list)\n",
    "mean_weighted_deg_for_subnetworks = np.array(mean_weighted_deg_for_subnetworks_list)\n",
    "num_edges_for_subnetworks = np.array(num_edges_for_subnetworks_list)\n",
    "num_nodes_for_subnetworks = np.array(num_nodes_for_subnetworks_list)\n",
    "louvain_modularity_for_subnetworks = np.array(louvain_modularity_for_subnetworks_list)\n",
    "girvan_modularity_for_subnetworks = np.array(girvan_modularity_for_subnetworks_list)\n",
    "clauset_modularity_for_subnetworks = np.array(clauset_modularity_for_subnetworks_list)"
   ]
  },
  {
   "cell_type": "markdown",
   "metadata": {},
   "source": [
    "#### Plot various characteristics of subgraphs induced by highest weighted edges"
   ]
  },
  {
   "cell_type": "code",
   "execution_count": 82,
   "metadata": {},
   "outputs": [
    {
     "data": {
      "image/png": "[encoded data removed]",
      "text/plain": [
       "<Figure size 1296x720 with 6 Axes>"
      ]
     },
     "metadata": {},
     "output_type": "display_data"
    }
   ],
   "source": [
    "fig = plt.figure(constrained_layout=True)\n",
    "\n",
    "gs = GridSpec(2, 3, figure=fig)\n",
    "\n",
    "ax1 = fig.add_subplot(gs[0, 0])\n",
    "ax2 = fig.add_subplot(gs[0, 1])\n",
    "ax3 = fig.add_subplot(gs[1, 0])\n",
    "ax4 = fig.add_subplot(gs[1, 1])\n",
    "ax5 = fig.add_subplot(gs[0, 2])\n",
    "ax6 = fig.add_subplot(gs[1, 2])\n",
    "\n",
    "#EDGE WEIGHT\n",
    "ax1.scatter(edge_weight_thresholds, mean_edge_weight_for_subnetworks , color = 'black' , linewidth=0.75 , edgecolor = 'white' , s = 35 , alpha = 1.0)\n",
    "ax1.plot(edge_weight_thresholds, mean_edge_weight_for_subnetworks , color = 'black' , linewidth=1.0)\n",
    "\n",
    "ax1.set_ylabel('Mean Edge Weight in Subgraph', fontsize = 12, color = 'k')\n",
    "ax1.set_title('Edges', fontsize = 12, color = 'k')\n",
    "\n",
    "prettify_plot(ax1)\n",
    "    \n",
    "#WEIGHTED DEGREE\n",
    "ax2.scatter(edge_weight_thresholds, mean_weighted_deg_for_subnetworks , color = 'black' , linewidth=0.75 , edgecolor = 'white' , s = 35 , alpha = 1.0)\n",
    "ax2.plot(edge_weight_thresholds, mean_weighted_deg_for_subnetworks , color = 'black' , linewidth=1.0)\n",
    "\n",
    "ax2.set_ylabel('Mean Weighted Degree in Subgraph', fontsize = 12, color = 'k')\n",
    "ax2.set_title('Nodes', fontsize = 12, color = 'k')\n",
    "\n",
    "prettify_plot(ax2)\n",
    "\n",
    "#NUMBER OF EDGES\n",
    "ax3.scatter(edge_weight_thresholds, num_edges_for_subnetworks , color = 'black' , linewidth=0.75 , edgecolor = 'white' , s = 35 , alpha = 1.0)\n",
    "ax3.plot(edge_weight_thresholds, num_edges_for_subnetworks , color = 'black' , linewidth=1.0)\n",
    "\n",
    "ax3.set_ylabel('Number of Edges in Subgraph', fontsize = 12, color = 'k')\n",
    "ax3.set_xlabel('Edge Weight Threshold used to construct Subgraph' , fontsize = 12, color = 'k')\n",
    "\n",
    "prettify_plot(ax3)\n",
    "\n",
    "#NUMBER OF NODES\n",
    "ax4.scatter(edge_weight_thresholds, num_nodes_for_subnetworks , color = 'black' , linewidth=0.75 , edgecolor = 'white' , s = 35 , alpha = 1.0)\n",
    "ax4.plot(edge_weight_thresholds, num_nodes_for_subnetworks , color = 'black' , linewidth=1.0)\n",
    "\n",
    "ax4.set_ylabel('Number of Nodes in Subgraph', fontsize = 12, color = 'k')\n",
    "ax4.set_xlabel('Edge Weight Threshold used to construct Subgraph' , fontsize = 12, color = 'k')\n",
    "\n",
    "prettify_plot(ax4)\n",
    "\n",
    "#MODULARITY\n",
    "#for communities detected in subnetworks using Lovain, Girvan-Newman, Clauset-Newman-Moore Algorithms\n",
    "ax5.scatter(edge_weight_thresholds, louvain_modularity_for_subnetworks , color = 'green' , linewidth=0.75 , edgecolor = 'white' , s = 35 , alpha = 1.0, label = 'Louvain')\n",
    "ax5.plot(edge_weight_thresholds, louvain_modularity_for_subnetworks , color = 'green' , linewidth=1.0)\n",
    "\n",
    "ax5.scatter(edge_weight_thresholds, girvan_modularity_for_subnetworks , color = 'blue' , linewidth=0.75 , edgecolor = 'white' , s = 35 , alpha = 1.0 , label = 'Girvan-Newman')\n",
    "ax5.plot(edge_weight_thresholds, girvan_modularity_for_subnetworks , color = 'blue' , linewidth=1.0)\n",
    "\n",
    "ax5.scatter(edge_weight_thresholds, clauset_modularity_for_subnetworks , color = 'red' , linewidth=0.75 , edgecolor = 'white' , s = 35 , alpha = 1.0 , label = 'Clauset-Newman-Moore')\n",
    "ax5.plot(edge_weight_thresholds, clauset_modularity_for_subnetworks , color = 'red' , linewidth=1.0)\n",
    "\n",
    "ax5.set_ylabel('Modularity', fontsize = 12, color = 'k')\n",
    "ax5.set_xlabel('Edge Weight Threshold used to construct Subgraph' , fontsize = 12, color = 'k')\n",
    "#ax5.set_title('Communities detected from Lovain Algorithm', fontsize = 12, color = 'k')\n",
    "ax5.legend(loc=\"lower right\", fancybox = False)\n",
    "\n",
    "prettify_plot(ax5)\n",
    "\n",
    "#MODULARITY v. NUMBER OF NODES\n",
    "ax6.scatter(num_nodes_for_subnetworks , louvain_modularity_for_subnetworks, color = 'green' , linewidth=0.75 , edgecolor = 'white' , s = 35 , alpha = 1.0)\n",
    "ax6.plot(num_nodes_for_subnetworks , louvain_modularity_for_subnetworks, color = 'green' , linewidth=1.0)\n",
    "\n",
    "ax6.scatter(num_nodes_for_subnetworks , girvan_modularity_for_subnetworks, color = 'blue' , linewidth=0.75 , edgecolor = 'white' , s = 35 , alpha = 1.0)\n",
    "ax6.plot(num_nodes_for_subnetworks , girvan_modularity_for_subnetworks, color = 'blue' , linewidth=1.0)\n",
    "\n",
    "ax6.scatter(num_nodes_for_subnetworks , clauset_modularity_for_subnetworks, color = 'red' , linewidth=0.75 , edgecolor = 'white' , s = 35 , alpha = 1.0)\n",
    "ax6.plot(num_nodes_for_subnetworks , clauset_modularity_for_subnetworks, color = 'red' , linewidth=1.0)\n",
    "\n",
    "ax6.set_ylabel('Modularity', fontsize = 12, color = 'k')\n",
    "ax6.set_xlabel('Number of Nodes in Subgraph' , fontsize = 12, color = 'k')\n",
    "\n",
    "prettify_plot(ax6)\n",
    "    \n",
    "################### Plot ###################\n",
    "fig = plt.gcf()\n",
    "fig.set_size_inches(18, 10)\n",
    "fig.tight_layout()\n",
    "\n",
    "#file_name = '/n/data1/hms/dbmi/farhat/Roger/homoplasy_project/Figures/lab_meeting_12_12_19/pairwise_SNP_distance/distribution_of_pairwise_SNP_distances.png'\n",
    "#plt.savefig(file_name, bbox_inches='tight', dpi = 300 , transparent = True)\n",
    "\n",
    "plt.show()"
   ]
  },
  {
   "cell_type": "markdown",
   "metadata": {},
   "source": [
    "## [5] Iterate through subnetworks constructed from most heavily weighted edges and preform gene enrichment analysis"
   ]
  },
  {
   "cell_type": "markdown",
   "metadata": {},
   "source": [
    "### *Function* to plot subnetworks (after thresholding edge weights) & perform gene enrichment on nodes"
   ]
  },
  {
   "cell_type": "code",
   "execution_count": 83,
   "metadata": {},
   "outputs": [],
   "source": [
    "def subgraph_visualize_and_gene_enrichment(edge_weight_thresh):\n",
    "    \n",
    "    '''\n",
    "    (1) This function returns visualizes the sub-network generated by \n",
    "    retaining only the edge weights above the input edge weight threshold.\n",
    "        (1.1) colors nodes by weighted degree\n",
    "        (1.2) colors nodes by mean logFC\n",
    "        \n",
    "    (2) This function also returns a dataframe from the gene enrichment \n",
    "    analysis run on the nodes of the subnetwork.\n",
    "    '''\n",
    "    \n",
    "    #get the EDGE WEIGHTS for edges in the network that pass the edge weight threshold\n",
    "    edge_weight_dict_subset = {key:value for key, value in edge_weight_dict.items() if value >= edge_weight_thresh}\n",
    "    edge_weight_array_subset = np.array(list(edge_weight_dict_subset.values()))\n",
    "\n",
    "    #get the SUBGRAPH induced by the most heavily weighted edges\n",
    "    S = G.edge_subgraph(list(edge_weight_dict_subset.keys()))\n",
    "    \n",
    "    #print some stats\n",
    "    print('')\n",
    "    print('')\n",
    "    print('')\n",
    "    print('')\n",
    "    print(f'Edge Weight Threshold = {edge_weight_thresh}')\n",
    "    print(f'Number of Nodes = {len(S.nodes)}')\n",
    "    print('---------------------------------------------')\n",
    "    \n",
    "    #visualize subgraph\n",
    "    pos = nx.spring_layout(S , weight = 'weight' , iterations = 350 , k = 1.75)\n",
    "    visualize_network_color_by_weighted_deg_and_logFC(S, pos)\n",
    "    \n",
    "    #gene set enrichment\n",
    "    gene_enrichr_df = run_enrichr_on_list_of_genes(list(S.nodes))\n",
    "    print(f'gene enrichment for nodes in this network: ')\n",
    "    display(gene_enrichr_df.head(n=40)) #return the top 40 hits if there are > 40\n",
    "    print('---------------------------------------------')\n",
    "    \n",
    "    ## return gene_enrichr_df"
   ]
  },
  {
   "cell_type": "markdown",
   "metadata": {},
   "source": [
    "### Iterate through subnetworks of various sizes for different *edge weight thresholds* in original network"
   ]
  },
  {
   "cell_type": "code",
   "execution_count": 84,
   "metadata": {},
   "outputs": [
    {
     "name": "stdout",
     "output_type": "stream",
     "text": [
      "Edge Weight Threshold = 0.3 , Number of Nodes in Subnetwork = 67.0\n",
      "Edge Weight Threshold = 0.4 , Number of Nodes in Subnetwork = 20.0\n",
      "Edge Weight Threshold = 0.5 , Number of Nodes in Subnetwork = 5.0\n"
     ]
    }
   ],
   "source": [
    "for edge_weight_thresh_i, num_nodes_subnetwork_i in zip(edge_weight_thresholds, num_nodes_for_subnetworks):\n",
    "    print(f'Edge Weight Threshold = {edge_weight_thresh_i} , Number of Nodes in Subnetwork = {num_nodes_subnetwork_i}')"
   ]
  },
  {
   "cell_type": "markdown",
   "metadata": {},
   "source": [
    "We're going to start with the smallest **edge weight threshold** and iterate down from there (increase edge weight threshold but decrease # of nodes) to preform gene enrichment"
   ]
  },
  {
   "cell_type": "code",
   "execution_count": 85,
   "metadata": {
    "scrolled": false
   },
   "outputs": [
    {
     "name": "stdout",
     "output_type": "stream",
     "text": [
      "\n",
      "\n",
      "\n",
      "\n",
      "Edge Weight Threshold = 0.3\n",
      "Number of Nodes = 67\n",
      "---------------------------------------------\n"
     ]
    },
    {
     "data": {
      "image/png": "[encoded data removed]",
      "text/plain": [
       "<Figure size 1080x540 with 2 Axes>"
      ]
     },
     "metadata": {},
     "output_type": "display_data"
    },
    {
     "name": "stdout",
     "output_type": "stream",
     "text": [
      "gene enrichment for nodes in this network: \n"
     ]
    },
    {
     "data": {
      "text/html": [
       "<div>\n",
       "<style scoped>\n",
       "    .dataframe tbody tr th:only-of-type {\n",
       "        vertical-align: middle;\n",
       "    }\n",
       "\n",
       "    .dataframe tbody tr th {\n",
       "        vertical-align: top;\n",
       "    }\n",
       "\n",
       "    .dataframe thead th {\n",
       "        text-align: right;\n",
       "    }\n",
       "</style>\n",
       "<table border=\"1\" class=\"dataframe\">\n",
       "  <thead>\n",
       "    <tr style=\"text-align: right;\">\n",
       "      <th></th>\n",
       "      <th>ID</th>\n",
       "      <th>P-value</th>\n",
       "      <th>Adjusted P-value</th>\n",
       "      <th>Overlap</th>\n",
       "      <th>Genes</th>\n",
       "      <th>Title</th>\n",
       "      <th>Category</th>\n",
       "    </tr>\n",
       "  </thead>\n",
       "  <tbody>\n",
       "    <tr>\n",
       "      <th>0</th>\n",
       "      <td>DC.M3.4</td>\n",
       "      <td>2.260747e-23</td>\n",
       "      <td>1.220803e-21</td>\n",
       "      <td>14/53</td>\n",
       "      <td>GBP4;IFIT2;SAMD9L;CARD17;GBP1;GBP5;TIMM10;SEPT...</td>\n",
       "      <td>Interferon</td>\n",
       "      <td>DC.M3</td>\n",
       "    </tr>\n",
       "    <tr>\n",
       "      <th>1</th>\n",
       "      <td>DC.M4.2</td>\n",
       "      <td>5.150442e-12</td>\n",
       "      <td>1.390619e-10</td>\n",
       "      <td>8/48</td>\n",
       "      <td>MGAM;CASP5;GPR141;FCAR;SAMSN1;S100A12;ANXA3;TLR5</td>\n",
       "      <td>Inflammation</td>\n",
       "      <td>DC.M4</td>\n",
       "    </tr>\n",
       "    <tr>\n",
       "      <th>2</th>\n",
       "      <td>DC.M1.2</td>\n",
       "      <td>4.215716e-10</td>\n",
       "      <td>7.588288e-09</td>\n",
       "      <td>6/27</td>\n",
       "      <td>BATF2;IFI44L;XAF1;IFIT3;SERPING1;IFITM3</td>\n",
       "      <td>Interferon</td>\n",
       "      <td>DC.M1</td>\n",
       "    </tr>\n",
       "    <tr>\n",
       "      <th>3</th>\n",
       "      <td>LI.M16</td>\n",
       "      <td>1.266101e-08</td>\n",
       "      <td>1.709237e-07</td>\n",
       "      <td>6/46</td>\n",
       "      <td>FCGR1B;MGAM;FCGR1A;TLR1;FCAR;TLR5</td>\n",
       "      <td>TLR and inflammatory signaling</td>\n",
       "      <td>immune</td>\n",
       "    </tr>\n",
       "    <tr>\n",
       "      <th>4</th>\n",
       "      <td>LI.S4</td>\n",
       "      <td>9.645470e-07</td>\n",
       "      <td>1.041711e-05</td>\n",
       "      <td>6/94</td>\n",
       "      <td>FCGR1B;MGAM;TLR1;FCAR;CCR1;TLR5</td>\n",
       "      <td>Monocyte surface signature</td>\n",
       "      <td>immune</td>\n",
       "    </tr>\n",
       "    <tr>\n",
       "      <th>5</th>\n",
       "      <td>LI.M37.0</td>\n",
       "      <td>3.370970e-06</td>\n",
       "      <td>3.033873e-05</td>\n",
       "      <td>9/347</td>\n",
       "      <td>MGAM;TLR1;CD3G;CEACAM1;CLEC5A;FCAR;ANXA3;TLR5;...</td>\n",
       "      <td>immune activation - generic cluster</td>\n",
       "      <td>immune</td>\n",
       "    </tr>\n",
       "    <tr>\n",
       "      <th>6</th>\n",
       "      <td>LI.M165</td>\n",
       "      <td>6.752044e-06</td>\n",
       "      <td>5.208720e-05</td>\n",
       "      <td>4/35</td>\n",
       "      <td>PARP9;SERPING1;IFIT2;IFIT3</td>\n",
       "      <td>enriched in activated dendritic cells (II)</td>\n",
       "      <td>immune</td>\n",
       "    </tr>\n",
       "    <tr>\n",
       "      <th>7</th>\n",
       "      <td>LI.M11.0</td>\n",
       "      <td>5.332726e-05</td>\n",
       "      <td>3.599590e-04</td>\n",
       "      <td>6/189</td>\n",
       "      <td>FCGR1B;FCGR1A;FCAR;S100A12;CCR1;TLR5</td>\n",
       "      <td>enriched in monocytes (II)</td>\n",
       "      <td>immune</td>\n",
       "    </tr>\n",
       "    <tr>\n",
       "      <th>8</th>\n",
       "      <td>LI.M75</td>\n",
       "      <td>6.112869e-05</td>\n",
       "      <td>3.667721e-04</td>\n",
       "      <td>3/22</td>\n",
       "      <td>ANXA3;C1QB;SERPING1</td>\n",
       "      <td>antiviral IFN signature</td>\n",
       "      <td>immune</td>\n",
       "    </tr>\n",
       "  </tbody>\n",
       "</table>\n",
       "</div>"
      ],
      "text/plain": [
       "         ID       P-value  Adjusted P-value Overlap  \\\n",
       "0   DC.M3.4  2.260747e-23      1.220803e-21   14/53   \n",
       "1   DC.M4.2  5.150442e-12      1.390619e-10    8/48   \n",
       "2   DC.M1.2  4.215716e-10      7.588288e-09    6/27   \n",
       "3    LI.M16  1.266101e-08      1.709237e-07    6/46   \n",
       "4     LI.S4  9.645470e-07      1.041711e-05    6/94   \n",
       "5  LI.M37.0  3.370970e-06      3.033873e-05   9/347   \n",
       "6   LI.M165  6.752044e-06      5.208720e-05    4/35   \n",
       "7  LI.M11.0  5.332726e-05      3.599590e-04   6/189   \n",
       "8    LI.M75  6.112869e-05      3.667721e-04    3/22   \n",
       "\n",
       "                                               Genes  \\\n",
       "0  GBP4;IFIT2;SAMD9L;CARD17;GBP1;GBP5;TIMM10;SEPT...   \n",
       "1   MGAM;CASP5;GPR141;FCAR;SAMSN1;S100A12;ANXA3;TLR5   \n",
       "2            BATF2;IFI44L;XAF1;IFIT3;SERPING1;IFITM3   \n",
       "3                  FCGR1B;MGAM;FCGR1A;TLR1;FCAR;TLR5   \n",
       "4                    FCGR1B;MGAM;TLR1;FCAR;CCR1;TLR5   \n",
       "5  MGAM;TLR1;CD3G;CEACAM1;CLEC5A;FCAR;ANXA3;TLR5;...   \n",
       "6                         PARP9;SERPING1;IFIT2;IFIT3   \n",
       "7               FCGR1B;FCGR1A;FCAR;S100A12;CCR1;TLR5   \n",
       "8                                ANXA3;C1QB;SERPING1   \n",
       "\n",
       "                                        Title Category  \n",
       "0                                  Interferon    DC.M3  \n",
       "1                                Inflammation    DC.M4  \n",
       "2                                  Interferon    DC.M1  \n",
       "3              TLR and inflammatory signaling   immune  \n",
       "4                  Monocyte surface signature   immune  \n",
       "5         immune activation - generic cluster   immune  \n",
       "6  enriched in activated dendritic cells (II)   immune  \n",
       "7                  enriched in monocytes (II)   immune  \n",
       "8                     antiviral IFN signature   immune  "
      ]
     },
     "metadata": {},
     "output_type": "display_data"
    },
    {
     "name": "stdout",
     "output_type": "stream",
     "text": [
      "---------------------------------------------\n",
      "\n",
      "\n",
      "\n",
      "\n",
      "Edge Weight Threshold = 0.4\n",
      "Number of Nodes = 20\n",
      "---------------------------------------------\n"
     ]
    },
    {
     "data": {
      "image/png": "[encoded data removed]",
      "text/plain": [
       "<Figure size 1080x540 with 2 Axes>"
      ]
     },
     "metadata": {},
     "output_type": "display_data"
    },
    {
     "name": "stdout",
     "output_type": "stream",
     "text": [
      "gene enrichment for nodes in this network: \n"
     ]
    },
    {
     "data": {
      "text/html": [
       "<div>\n",
       "<style scoped>\n",
       "    .dataframe tbody tr th:only-of-type {\n",
       "        vertical-align: middle;\n",
       "    }\n",
       "\n",
       "    .dataframe tbody tr th {\n",
       "        vertical-align: top;\n",
       "    }\n",
       "\n",
       "    .dataframe thead th {\n",
       "        text-align: right;\n",
       "    }\n",
       "</style>\n",
       "<table border=\"1\" class=\"dataframe\">\n",
       "  <thead>\n",
       "    <tr style=\"text-align: right;\">\n",
       "      <th></th>\n",
       "      <th>ID</th>\n",
       "      <th>P-value</th>\n",
       "      <th>Adjusted P-value</th>\n",
       "      <th>Overlap</th>\n",
       "      <th>Genes</th>\n",
       "      <th>Title</th>\n",
       "      <th>Category</th>\n",
       "    </tr>\n",
       "  </thead>\n",
       "  <tbody>\n",
       "    <tr>\n",
       "      <th>0</th>\n",
       "      <td>DC.M3.4</td>\n",
       "      <td>1.306058e-11</td>\n",
       "      <td>2.873327e-10</td>\n",
       "      <td>6/53</td>\n",
       "      <td>GBP4;GBP1;GBP5;SEPT4;WARS;AIM2</td>\n",
       "      <td>Interferon</td>\n",
       "      <td>DC.M3</td>\n",
       "    </tr>\n",
       "    <tr>\n",
       "      <th>1</th>\n",
       "      <td>LI.M16</td>\n",
       "      <td>1.461561e-05</td>\n",
       "      <td>1.607717e-04</td>\n",
       "      <td>3/46</td>\n",
       "      <td>FCGR1B;TLR5;FCGR1A</td>\n",
       "      <td>TLR and inflammatory signaling</td>\n",
       "      <td>immune</td>\n",
       "    </tr>\n",
       "  </tbody>\n",
       "</table>\n",
       "</div>"
      ],
      "text/plain": [
       "        ID       P-value  Adjusted P-value Overlap  \\\n",
       "0  DC.M3.4  1.306058e-11      2.873327e-10    6/53   \n",
       "1   LI.M16  1.461561e-05      1.607717e-04    3/46   \n",
       "\n",
       "                            Genes                           Title Category  \n",
       "0  GBP4;GBP1;GBP5;SEPT4;WARS;AIM2                      Interferon    DC.M3  \n",
       "1              FCGR1B;TLR5;FCGR1A  TLR and inflammatory signaling   immune  "
      ]
     },
     "metadata": {},
     "output_type": "display_data"
    },
    {
     "name": "stdout",
     "output_type": "stream",
     "text": [
      "---------------------------------------------\n",
      "\n",
      "\n",
      "\n",
      "\n",
      "Edge Weight Threshold = 0.5\n",
      "Number of Nodes = 5\n",
      "---------------------------------------------\n"
     ]
    },
    {
     "data": {
      "image/png": "[encoded data removed]",
      "text/plain": [
       "<Figure size 1080x540 with 2 Axes>"
      ]
     },
     "metadata": {},
     "output_type": "display_data"
    },
    {
     "name": "stdout",
     "output_type": "stream",
     "text": [
      "gene enrichment for nodes in this network: \n"
     ]
    },
    {
     "data": {
      "text/html": [
       "<div>\n",
       "<style scoped>\n",
       "    .dataframe tbody tr th:only-of-type {\n",
       "        vertical-align: middle;\n",
       "    }\n",
       "\n",
       "    .dataframe tbody tr th {\n",
       "        vertical-align: top;\n",
       "    }\n",
       "\n",
       "    .dataframe thead th {\n",
       "        text-align: right;\n",
       "    }\n",
       "</style>\n",
       "<table border=\"1\" class=\"dataframe\">\n",
       "  <thead>\n",
       "    <tr style=\"text-align: right;\">\n",
       "      <th></th>\n",
       "      <th>P-value</th>\n",
       "      <th>Adjusted P-value</th>\n",
       "      <th>Overlap</th>\n",
       "      <th>Genes</th>\n",
       "      <th>ID</th>\n",
       "      <th>Title</th>\n",
       "      <th>Category</th>\n",
       "    </tr>\n",
       "  </thead>\n",
       "  <tbody>\n",
       "  </tbody>\n",
       "</table>\n",
       "</div>"
      ],
      "text/plain": [
       "Empty DataFrame\n",
       "Columns: [P-value, Adjusted P-value, Overlap, Genes, ID, Title, Category]\n",
       "Index: []"
      ]
     },
     "metadata": {},
     "output_type": "display_data"
    },
    {
     "name": "stdout",
     "output_type": "stream",
     "text": [
      "---------------------------------------------\n"
     ]
    }
   ],
   "source": [
    "for edge_weight_thresh in edge_weight_thresholds:\n",
    "    \n",
    "    subgraph_visualize_and_gene_enrichment(edge_weight_thresh)"
   ]
  },
  {
   "cell_type": "code",
   "execution_count": null,
   "metadata": {},
   "outputs": [],
   "source": []
  },
  {
   "cell_type": "code",
   "execution_count": null,
   "metadata": {},
   "outputs": [],
   "source": []
  }
 ],
 "metadata": {
  "kernelspec": {
   "display_name": "Python [conda env:py36_MRI_virtualenv]",
   "language": "python",
   "name": "conda-env-py36_MRI_virtualenv-py"
  },
  "language_info": {
   "codemirror_mode": {
    "name": "ipython",
    "version": 3
   },
   "file_extension": ".py",
   "mimetype": "text/x-python",
   "name": "python",
   "nbconvert_exporter": "python",
   "pygments_lexer": "ipython3",
   "version": "3.6.10"
  }
 },
 "nbformat": 4,
 "nbformat_minor": 2
}

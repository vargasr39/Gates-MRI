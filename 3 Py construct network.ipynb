{
 "cells": [
  {
   "cell_type": "code",
   "execution_count": 1,
   "metadata": {},
   "outputs": [
    {
     "data": {
      "text/html": [
       "<style>.container { width:100% !important; }</style>"
      ],
      "text/plain": [
       "<IPython.core.display.HTML object>"
      ]
     },
     "metadata": {},
     "output_type": "display_data"
    }
   ],
   "source": [
    "from IPython.core.display import display, HTML\n",
    "display(HTML(\"<style>.container { width:100% !important; }</style>\"))\n",
    "%matplotlib inline"
   ]
  },
  {
   "cell_type": "code",
   "execution_count": 2,
   "metadata": {},
   "outputs": [],
   "source": [
    "import os\n",
    "import pandas as pd\n",
    "import numpy as np\n",
    "\n",
    "import matplotlib.pyplot as plt\n",
    "import matplotlib as mpl\n",
    "from matplotlib import gridspec\n",
    "\n",
    "import fastcluster\n",
    "from scipy.cluster.hierarchy import dendrogram\n",
    "import scipy.cluster.hierarchy as hier\n",
    "\n",
    "import networkx as nx"
   ]
  },
  {
   "cell_type": "markdown",
   "metadata": {},
   "source": [
    "# ATB vs LTBI "
   ]
  },
  {
   "cell_type": "markdown",
   "metadata": {},
   "source": [
    "Load *significant* logFC changes for genes between ATB & LTBI samples collected from various studies"
   ]
  },
  {
   "cell_type": "code",
   "execution_count": 3,
   "metadata": {},
   "outputs": [],
   "source": [
    "#use this path for personal computer\n",
    "microarray_diff_exp_data = \"/Users/rogervargas/OneDrive - Bill & Melinda Gates Medical Research Institute/Projects/Biomarkers/Data/Pooled Differential Gene Expression/\"\n",
    "\n",
    "#use this path for Gates MRI computer\n",
    "#microarray_diff_exp_data = \"/Users/RogerVargas/OneDrive - Bill & Melinda Gates Medical Research Institute/Projects/Biomarkers/Pooled Differential Gene Expression/\"\n",
    "\n",
    "diff_gene_exp_df = pd.read_csv(microarray_diff_exp_data + 'ATB_v_LTBI_signif_logFC_across_studies.csv').set_index('Unnamed: 0')\n",
    "diff_gene_exp_df.rename_axis('gene' , inplace = True)"
   ]
  },
  {
   "cell_type": "code",
   "execution_count": 4,
   "metadata": {},
   "outputs": [
    {
     "data": {
      "text/html": [
       "<div>\n",
       "<style scoped>\n",
       "    .dataframe tbody tr th:only-of-type {\n",
       "        vertical-align: middle;\n",
       "    }\n",
       "\n",
       "    .dataframe tbody tr th {\n",
       "        vertical-align: top;\n",
       "    }\n",
       "\n",
       "    .dataframe thead th {\n",
       "        text-align: right;\n",
       "    }\n",
       "</style>\n",
       "<table border=\"1\" class=\"dataframe\">\n",
       "  <thead>\n",
       "    <tr style=\"text-align: right;\">\n",
       "      <th></th>\n",
       "      <th>GSE19439</th>\n",
       "      <th>GSE19442</th>\n",
       "      <th>GSE19444</th>\n",
       "      <th>GSE28623</th>\n",
       "      <th>GSE37250</th>\n",
       "      <th>GSE39939</th>\n",
       "      <th>GSE39940</th>\n",
       "      <th>GSE41055</th>\n",
       "      <th>GSE50834</th>\n",
       "      <th>GSE54992</th>\n",
       "      <th>GSE62525</th>\n",
       "      <th>GSE69581</th>\n",
       "      <th>GSE73408</th>\n",
       "      <th>GSE84076</th>\n",
       "      <th>GSE101705</th>\n",
       "      <th>GSE107994</th>\n",
       "    </tr>\n",
       "    <tr>\n",
       "      <th>gene</th>\n",
       "      <th></th>\n",
       "      <th></th>\n",
       "      <th></th>\n",
       "      <th></th>\n",
       "      <th></th>\n",
       "      <th></th>\n",
       "      <th></th>\n",
       "      <th></th>\n",
       "      <th></th>\n",
       "      <th></th>\n",
       "      <th></th>\n",
       "      <th></th>\n",
       "      <th></th>\n",
       "      <th></th>\n",
       "      <th></th>\n",
       "      <th></th>\n",
       "    </tr>\n",
       "  </thead>\n",
       "  <tbody>\n",
       "    <tr>\n",
       "      <th>DUSP5</th>\n",
       "      <td>0.0</td>\n",
       "      <td>0.000000</td>\n",
       "      <td>0.0</td>\n",
       "      <td>0.000000</td>\n",
       "      <td>0.0</td>\n",
       "      <td>0.000000</td>\n",
       "      <td>0.000000</td>\n",
       "      <td>0.0</td>\n",
       "      <td>0.0</td>\n",
       "      <td>0.000000</td>\n",
       "      <td>0.0</td>\n",
       "      <td>0.0</td>\n",
       "      <td>0.0</td>\n",
       "      <td>0.0</td>\n",
       "      <td>0.0</td>\n",
       "      <td>0.0</td>\n",
       "    </tr>\n",
       "    <tr>\n",
       "      <th>FBP2</th>\n",
       "      <td>0.0</td>\n",
       "      <td>0.000000</td>\n",
       "      <td>0.0</td>\n",
       "      <td>0.000000</td>\n",
       "      <td>0.0</td>\n",
       "      <td>0.000000</td>\n",
       "      <td>0.000000</td>\n",
       "      <td>0.0</td>\n",
       "      <td>0.0</td>\n",
       "      <td>0.000000</td>\n",
       "      <td>0.0</td>\n",
       "      <td>0.0</td>\n",
       "      <td>0.0</td>\n",
       "      <td>0.0</td>\n",
       "      <td>0.0</td>\n",
       "      <td>0.0</td>\n",
       "    </tr>\n",
       "    <tr>\n",
       "      <th>C15orf37</th>\n",
       "      <td>0.0</td>\n",
       "      <td>0.000000</td>\n",
       "      <td>0.0</td>\n",
       "      <td>0.000000</td>\n",
       "      <td>0.0</td>\n",
       "      <td>0.000000</td>\n",
       "      <td>0.000000</td>\n",
       "      <td>0.0</td>\n",
       "      <td>0.0</td>\n",
       "      <td>0.000000</td>\n",
       "      <td>0.0</td>\n",
       "      <td>0.0</td>\n",
       "      <td>0.0</td>\n",
       "      <td>0.0</td>\n",
       "      <td>0.0</td>\n",
       "      <td>0.0</td>\n",
       "    </tr>\n",
       "    <tr>\n",
       "      <th>PHB</th>\n",
       "      <td>0.0</td>\n",
       "      <td>-0.691022</td>\n",
       "      <td>0.0</td>\n",
       "      <td>-0.679743</td>\n",
       "      <td>0.0</td>\n",
       "      <td>-0.732874</td>\n",
       "      <td>-0.604802</td>\n",
       "      <td>0.0</td>\n",
       "      <td>0.0</td>\n",
       "      <td>0.810369</td>\n",
       "      <td>0.0</td>\n",
       "      <td>0.0</td>\n",
       "      <td>0.0</td>\n",
       "      <td>0.0</td>\n",
       "      <td>0.0</td>\n",
       "      <td>0.0</td>\n",
       "    </tr>\n",
       "    <tr>\n",
       "      <th>ZNF689</th>\n",
       "      <td>0.0</td>\n",
       "      <td>0.000000</td>\n",
       "      <td>0.0</td>\n",
       "      <td>-0.793707</td>\n",
       "      <td>0.0</td>\n",
       "      <td>0.000000</td>\n",
       "      <td>0.000000</td>\n",
       "      <td>0.0</td>\n",
       "      <td>0.0</td>\n",
       "      <td>0.000000</td>\n",
       "      <td>0.0</td>\n",
       "      <td>0.0</td>\n",
       "      <td>0.0</td>\n",
       "      <td>0.0</td>\n",
       "      <td>0.0</td>\n",
       "      <td>0.0</td>\n",
       "    </tr>\n",
       "  </tbody>\n",
       "</table>\n",
       "</div>"
      ],
      "text/plain": [
       "          GSE19439  GSE19442  GSE19444  GSE28623  GSE37250  GSE39939  \\\n",
       "gene                                                                   \n",
       "DUSP5          0.0  0.000000       0.0  0.000000       0.0  0.000000   \n",
       "FBP2           0.0  0.000000       0.0  0.000000       0.0  0.000000   \n",
       "C15orf37       0.0  0.000000       0.0  0.000000       0.0  0.000000   \n",
       "PHB            0.0 -0.691022       0.0 -0.679743       0.0 -0.732874   \n",
       "ZNF689         0.0  0.000000       0.0 -0.793707       0.0  0.000000   \n",
       "\n",
       "          GSE39940  GSE41055  GSE50834  GSE54992  GSE62525  GSE69581  \\\n",
       "gene                                                                   \n",
       "DUSP5     0.000000       0.0       0.0  0.000000       0.0       0.0   \n",
       "FBP2      0.000000       0.0       0.0  0.000000       0.0       0.0   \n",
       "C15orf37  0.000000       0.0       0.0  0.000000       0.0       0.0   \n",
       "PHB      -0.604802       0.0       0.0  0.810369       0.0       0.0   \n",
       "ZNF689    0.000000       0.0       0.0  0.000000       0.0       0.0   \n",
       "\n",
       "          GSE73408  GSE84076  GSE101705  GSE107994  \n",
       "gene                                                \n",
       "DUSP5          0.0       0.0        0.0        0.0  \n",
       "FBP2           0.0       0.0        0.0        0.0  \n",
       "C15orf37       0.0       0.0        0.0        0.0  \n",
       "PHB            0.0       0.0        0.0        0.0  \n",
       "ZNF689         0.0       0.0        0.0        0.0  "
      ]
     },
     "execution_count": 4,
     "metadata": {},
     "output_type": "execute_result"
    }
   ],
   "source": [
    "diff_gene_exp_df.head()"
   ]
  },
  {
   "cell_type": "markdown",
   "metadata": {},
   "source": [
    "### Construct simplified matrix of logFC *direction* from DataFrame with significant logFC changes across all analyses by converting values:\n",
    "   1. $+1$ if logFC > 0\n",
    "   1. $0$ if logFC = 0\n",
    "   1. $-1$ if logFC < 0"
   ]
  },
  {
   "cell_type": "code",
   "execution_count": 5,
   "metadata": {},
   "outputs": [],
   "source": [
    "#store copy of array from dataframe with sig. logFC values (rows = genes, columns = GSE ID)\n",
    "direc_diff_gene_exp_matrix = diff_gene_exp_df.copy().values \n",
    "\n",
    "#replace values in logFC matrix\n",
    "direc_diff_gene_exp_matrix[direc_diff_gene_exp_matrix > 0.0] = 1\n",
    "direc_diff_gene_exp_matrix[direc_diff_gene_exp_matrix == 0.0] = 0\n",
    "direc_diff_gene_exp_matrix[direc_diff_gene_exp_matrix < 0.0] = -1\n",
    "\n",
    "#convert to lower memory int8 datatype\n",
    "direc_diff_gene_exp_matrix = direc_diff_gene_exp_matrix.astype('int8')"
   ]
  },
  {
   "cell_type": "code",
   "execution_count": 6,
   "metadata": {},
   "outputs": [
    {
     "data": {
      "text/plain": [
       "array([[0, 0, 0, ..., 0, 0, 0],\n",
       "       [0, 0, 0, ..., 0, 0, 0],\n",
       "       [0, 0, 0, ..., 0, 0, 0],\n",
       "       ...,\n",
       "       [0, 0, 0, ..., 0, 0, 0],\n",
       "       [0, 0, 0, ..., 0, 0, 0],\n",
       "       [0, 0, 0, ..., 0, 0, 0]], dtype=int8)"
      ]
     },
     "execution_count": 6,
     "metadata": {},
     "output_type": "execute_result"
    }
   ],
   "source": [
    "direc_diff_gene_exp_matrix"
   ]
  },
  {
   "cell_type": "code",
   "execution_count": 7,
   "metadata": {},
   "outputs": [
    {
     "data": {
      "text/plain": [
       "(30641, 16)"
      ]
     },
     "execution_count": 7,
     "metadata": {},
     "output_type": "execute_result"
    }
   ],
   "source": [
    "np.shape(direc_diff_gene_exp_matrix)"
   ]
  },
  {
   "cell_type": "markdown",
   "metadata": {},
   "source": [
    "### Compute the dot product between every two pairs of gene vectors (will calculate the edges weights for our network)\n",
    "### Compute $M \\cdot M^T \\text{ to get } i \\cdot j \\text{ , } \\forall \\text{ pairs of rows } i, j \\text{ in matrix } M$ "
   ]
  },
  {
   "cell_type": "code",
   "execution_count": 8,
   "metadata": {},
   "outputs": [],
   "source": [
    "#multiply direction logFC matrix by its transpose to get the dot products between all pairs of rows\n",
    "network_edge_weight_matrix = direc_diff_gene_exp_matrix.dot(direc_diff_gene_exp_matrix.T)\n",
    "\n",
    "#the row/column annotation (genes) can be copied from the logFC differential gene expression DataFrame\n",
    "network_edge_weight_matrix_labels = pd.Series(list(diff_gene_exp_df.index) , index = range(0 , len(diff_gene_exp_df.index)))"
   ]
  },
  {
   "cell_type": "code",
   "execution_count": 9,
   "metadata": {},
   "outputs": [
    {
     "data": {
      "text/plain": [
       "array([[0, 0, 0, ..., 0, 0, 0],\n",
       "       [0, 0, 0, ..., 0, 0, 0],\n",
       "       [0, 0, 0, ..., 0, 0, 0],\n",
       "       ...,\n",
       "       [0, 0, 0, ..., 1, 0, 0],\n",
       "       [0, 0, 0, ..., 0, 0, 0],\n",
       "       [0, 0, 0, ..., 0, 0, 0]], dtype=int8)"
      ]
     },
     "execution_count": 9,
     "metadata": {},
     "output_type": "execute_result"
    }
   ],
   "source": [
    "network_edge_weight_matrix"
   ]
  },
  {
   "cell_type": "code",
   "execution_count": 10,
   "metadata": {},
   "outputs": [
    {
     "data": {
      "text/plain": [
       "(30641, 30641)"
      ]
     },
     "execution_count": 10,
     "metadata": {},
     "output_type": "execute_result"
    }
   ],
   "source": [
    "np.shape(network_edge_weight_matrix)"
   ]
  },
  {
   "cell_type": "code",
   "execution_count": 11,
   "metadata": {},
   "outputs": [
    {
     "data": {
      "text/plain": [
       "0       DUSP5\n",
       "1        FBP2\n",
       "2    C15orf37\n",
       "3         PHB\n",
       "4      ZNF689\n",
       "dtype: object"
      ]
     },
     "execution_count": 11,
     "metadata": {},
     "output_type": "execute_result"
    }
   ],
   "source": [
    "network_edge_weight_matrix_labels.head()"
   ]
  },
  {
   "cell_type": "code",
   "execution_count": 12,
   "metadata": {},
   "outputs": [
    {
     "data": {
      "text/plain": [
       "(30641,)"
      ]
     },
     "execution_count": 12,
     "metadata": {},
     "output_type": "execute_result"
    }
   ],
   "source": [
    "np.shape(network_edge_weight_matrix_labels)"
   ]
  },
  {
   "cell_type": "markdown",
   "metadata": {},
   "source": [
    "### Investigate sparsity of matrix"
   ]
  },
  {
   "cell_type": "code",
   "execution_count": 13,
   "metadata": {},
   "outputs": [
    {
     "data": {
      "text/plain": [
       "0.9356423314187332"
      ]
     },
     "execution_count": 13,
     "metadata": {},
     "output_type": "execute_result"
    }
   ],
   "source": [
    "float(np.sum(network_edge_weight_matrix == 0)) / float(np.shape(network_edge_weight_matrix)[0]*np.shape(network_edge_weight_matrix)[1])"
   ]
  },
  {
   "cell_type": "markdown",
   "metadata": {},
   "source": [
    "The matrix has ~93.5% sparsity, when constructing the network, we will **only** connect nodes (genes) with weights that are **non-zero** values. "
   ]
  },
  {
   "cell_type": "code",
   "execution_count": 33,
   "metadata": {},
   "outputs": [
    {
     "name": "stdout",
     "output_type": "stream",
     "text": [
      "Number of Non-Zero entries ~ 30211770\n"
     ]
    }
   ],
   "source": [
    "print( 'Number of Non-Zero entries ~ ' + str(int(float(np.sum(network_edge_weight_matrix != 0))/2.0)) )"
   ]
  },
  {
   "cell_type": "markdown",
   "metadata": {},
   "source": [
    "### Investigate the distribution of the Edge Weights"
   ]
  },
  {
   "cell_type": "code",
   "execution_count": 34,
   "metadata": {},
   "outputs": [],
   "source": [
    "#Return the upper triangular part of the matrix with elements in lower part zeroed out\n",
    "upper_tri_network_edge_weight_matrix = np.triu(network_edge_weight_matrix, k = 0)\n",
    "\n",
    "#Return all non-zero elements\n",
    "edge_weight_array = upper_tri_network_edge_weight_matrix[np.nonzero(upper_tri_network_edge_weight_matrix)]"
   ]
  },
  {
   "cell_type": "code",
   "execution_count": 71,
   "metadata": {},
   "outputs": [
    {
     "data": {
      "text/plain": [
       "array([ 5,  1,  3, ..., -1,  3,  1], dtype=int8)"
      ]
     },
     "execution_count": 71,
     "metadata": {},
     "output_type": "execute_result"
    }
   ],
   "source": [
    "edge_weight_array"
   ]
  },
  {
   "cell_type": "markdown",
   "metadata": {},
   "source": [
    "How many edges are non-zero?"
   ]
  },
  {
   "cell_type": "code",
   "execution_count": 72,
   "metadata": {},
   "outputs": [
    {
     "data": {
      "text/plain": [
       "30217928"
      ]
     },
     "execution_count": 72,
     "metadata": {},
     "output_type": "execute_result"
    }
   ],
   "source": [
    "len(edge_weight_array)"
   ]
  },
  {
   "cell_type": "markdown",
   "metadata": {},
   "source": [
    "How many edges are there with an abs(edge weight) $\\ge 6$?"
   ]
  },
  {
   "cell_type": "code",
   "execution_count": 116,
   "metadata": {},
   "outputs": [
    {
     "data": {
      "text/plain": [
       "82125"
      ]
     },
     "execution_count": 116,
     "metadata": {},
     "output_type": "execute_result"
    }
   ],
   "source": [
    "np.sum(edge_weight_array <= -6)"
   ]
  },
  {
   "cell_type": "code",
   "execution_count": 117,
   "metadata": {},
   "outputs": [
    {
     "data": {
      "text/plain": [
       "89548"
      ]
     },
     "execution_count": 117,
     "metadata": {},
     "output_type": "execute_result"
    }
   ],
   "source": [
    "np.sum(edge_weight_array >= 6)"
   ]
  },
  {
   "cell_type": "markdown",
   "metadata": {},
   "source": [
    "What is the range of edge weights that are non-zero?"
   ]
  },
  {
   "cell_type": "code",
   "execution_count": 37,
   "metadata": {},
   "outputs": [
    {
     "data": {
      "text/plain": [
       "-13"
      ]
     },
     "execution_count": 37,
     "metadata": {},
     "output_type": "execute_result"
    }
   ],
   "source": [
    "np.min(edge_weight_array)"
   ]
  },
  {
   "cell_type": "code",
   "execution_count": 38,
   "metadata": {},
   "outputs": [
    {
     "data": {
      "text/plain": [
       "14"
      ]
     },
     "execution_count": 38,
     "metadata": {},
     "output_type": "execute_result"
    }
   ],
   "source": [
    "np.max(edge_weight_array)"
   ]
  },
  {
   "cell_type": "code",
   "execution_count": 39,
   "metadata": {},
   "outputs": [],
   "source": [
    "plt.style.use('ggplot')\n",
    "plt.rcParams['lines.linewidth']=1.0\n",
    "plt.rcParams['axes.facecolor']='1.0'\n",
    "plt.rcParams['xtick.color']='black'\n",
    "plt.rcParams['axes.grid']=False\n",
    "plt.rcParams['axes.edgecolor']='black'\n",
    "plt.rcParams['grid.color']= '1.0'\n",
    "plt.rcParams.update({'font.size': 14})"
   ]
  },
  {
   "cell_type": "code",
   "execution_count": 40,
   "metadata": {},
   "outputs": [
    {
     "data": {
      "image/png": "[encoded data removed]",
      "text/plain": [
       "<Figure size 540x378 with 1 Axes>"
      ]
     },
     "metadata": {},
     "output_type": "display_data"
    }
   ],
   "source": [
    "fig , ax = plt.subplots()\n",
    "\n",
    "n , bins , patches = plt.hist(edge_weight_array , bins = 28 , color = 'k' , rwidth = 1.0 , edgecolor='white', linewidth=0.25)\n",
    "\n",
    "plt.title('Distribution of Edge Weights', fontsize = 12, color = 'k')\n",
    "plt.xlabel('Number of Edges', fontsize = 12, color = 'k')\n",
    "plt.ylabel('Edge Weights' , fontsize = 12, color = 'k')\n",
    "\n",
    "ax.spines['right'].set_visible(False)\n",
    "ax.spines['top'].set_visible(False)\n",
    "ax.grid(False)\n",
    "#ax.set_yscale('log')\n",
    "\n",
    "ax.tick_params(labelcolor = 'k')\n",
    "\n",
    "fig = plt.gcf()\n",
    "fig.set_size_inches(7.5, 5.25)\n",
    "fig.tight_layout()\n",
    "\n",
    "plt.tick_params(axis='y', which='major', labelsize=12 , labelcolor = 'k')\n",
    "plt.tick_params(axis='x', which='major', labelsize=12 , labelcolor = 'k')\n",
    "\n",
    "#file_name = '/n/data1/hms/dbmi/farhat/Roger/homoplasy_project/Figures/lab_meeting_12_12_19/pairwise_SNP_distance/distribution_of_pairwise_SNP_distances.png'\n",
    "#plt.savefig(file_name, bbox_inches='tight', dpi = 300 , transparent = True)\n",
    "\n",
    "plt.show()"
   ]
  },
  {
   "cell_type": "code",
   "execution_count": 41,
   "metadata": {},
   "outputs": [
    {
     "data": {
      "image/png": "[encoded data removed]",
      "text/plain": [
       "<Figure size 540x378 with 1 Axes>"
      ]
     },
     "metadata": {},
     "output_type": "display_data"
    }
   ],
   "source": [
    "fig , ax = plt.subplots()\n",
    "\n",
    "n , bins , patches = plt.hist(edge_weight_array , bins = 28 , color = 'k' , rwidth = 1.0 , edgecolor='white', linewidth=0.25)\n",
    "\n",
    "plt.title('Distribution of Edge Weights', fontsize = 12, color = 'k')\n",
    "plt.xlabel('Number of Edges', fontsize = 12, color = 'k')\n",
    "plt.ylabel('Edge Weights' , fontsize = 12, color = 'k')\n",
    "\n",
    "ax.spines['right'].set_visible(False)\n",
    "ax.spines['top'].set_visible(False)\n",
    "ax.grid(False)\n",
    "ax.set_yscale('log')\n",
    "\n",
    "ax.tick_params(labelcolor = 'k')\n",
    "\n",
    "fig = plt.gcf()\n",
    "fig.set_size_inches(7.5, 5.25)\n",
    "fig.tight_layout()\n",
    "\n",
    "plt.tick_params(axis='y', which='major', labelsize=12 , labelcolor = 'k')\n",
    "plt.tick_params(axis='x', which='major', labelsize=12 , labelcolor = 'k')\n",
    "\n",
    "#file_name = '/n/data1/hms/dbmi/farhat/Roger/homoplasy_project/Figures/lab_meeting_12_12_19/pairwise_SNP_distance/distribution_of_pairwise_SNP_distances.png'\n",
    "#plt.savefig(file_name, bbox_inches='tight', dpi = 300 , transparent = True)\n",
    "\n",
    "plt.show()"
   ]
  },
  {
   "cell_type": "markdown",
   "metadata": {},
   "source": [
    "### Construct NetworkX graph from edge weight matrix"
   ]
  },
  {
   "cell_type": "markdown",
   "metadata": {},
   "source": [
    "Test Graph construction on a **subset** of the edge weight matrix"
   ]
  },
  {
   "cell_type": "code",
   "execution_count": 42,
   "metadata": {},
   "outputs": [],
   "source": [
    "#network_edge_weight_matrix_test = network_edge_weight_matrix[0:1000 , 0:1000]"
   ]
  },
  {
   "cell_type": "code",
   "execution_count": 65,
   "metadata": {},
   "outputs": [
    {
     "data": {
      "text/plain": [
       "array([[0, 0, 0, ..., 0, 0, 0],\n",
       "       [0, 0, 0, ..., 0, 0, 0],\n",
       "       [0, 0, 0, ..., 0, 0, 0],\n",
       "       ...,\n",
       "       [0, 0, 0, ..., 1, 0, 0],\n",
       "       [0, 0, 0, ..., 0, 0, 0],\n",
       "       [0, 0, 0, ..., 0, 0, 0]], dtype=int8)"
      ]
     },
     "execution_count": 65,
     "metadata": {},
     "output_type": "execute_result"
    }
   ],
   "source": [
    "#network_edge_weight_matrix_test\n",
    "network_edge_weight_matrix"
   ]
  },
  {
   "cell_type": "code",
   "execution_count": 66,
   "metadata": {},
   "outputs": [
    {
     "data": {
      "text/plain": [
       "(30641, 30641)"
      ]
     },
     "execution_count": 66,
     "metadata": {},
     "output_type": "execute_result"
    }
   ],
   "source": [
    "#np.shape(network_edge_weight_matrix_test)\n",
    "np.shape(network_edge_weight_matrix)"
   ]
  },
  {
   "cell_type": "code",
   "execution_count": 45,
   "metadata": {},
   "outputs": [],
   "source": [
    "#network_edge_weight_matrix_labels_test = network_edge_weight_matrix_labels[0:1000]"
   ]
  },
  {
   "cell_type": "code",
   "execution_count": 67,
   "metadata": {},
   "outputs": [
    {
     "data": {
      "text/plain": [
       "0       DUSP5\n",
       "1        FBP2\n",
       "2    C15orf37\n",
       "3         PHB\n",
       "4      ZNF689\n",
       "dtype: object"
      ]
     },
     "execution_count": 67,
     "metadata": {},
     "output_type": "execute_result"
    }
   ],
   "source": [
    "#network_edge_weight_matrix_labels_test.head()\n",
    "network_edge_weight_matrix_labels.head()"
   ]
  },
  {
   "cell_type": "markdown",
   "metadata": {},
   "source": [
    "#### Retrieve the indices for the upper-triangular part of the matrix"
   ]
  },
  {
   "cell_type": "code",
   "execution_count": 84,
   "metadata": {},
   "outputs": [
    {
     "data": {
      "text/plain": [
       "array([[0, 0, 0, ..., 0, 0, 0],\n",
       "       [0, 0, 0, ..., 0, 0, 0],\n",
       "       [0, 0, 0, ..., 0, 0, 0],\n",
       "       ...,\n",
       "       [0, 0, 0, ..., 1, 0, 0],\n",
       "       [0, 0, 0, ..., 0, 0, 0],\n",
       "       [0, 0, 0, ..., 0, 0, 0]], dtype=int8)"
      ]
     },
     "execution_count": 84,
     "metadata": {},
     "output_type": "execute_result"
    }
   ],
   "source": [
    "abs(upper_tri_network_edge_weight_matrix)"
   ]
  },
  {
   "cell_type": "code",
   "execution_count": 113,
   "metadata": {},
   "outputs": [],
   "source": [
    "#Return the upper triangular part of the matrix with elements in lower part ZEROED out\n",
    "upper_tri_network_edge_weight_matrix = np.triu(network_edge_weight_matrix, k = 0)\n",
    "\n",
    "#Return a boolean for elements in the upper triangular part of the matrix for elments that are <= -6 OR >= 6\n",
    "upper_tri_network_edge_weight_matrix_bool = abs(upper_tri_network_edge_weight_matrix) >= 6\n",
    "\n",
    "#get the indices for the elements in the upper triangle where elements (edge weights) <= -6 OR >= 6\n",
    "node_i_indices = upper_tri_network_edge_weight_matrix_bool.nonzero()[0]\n",
    "node_j_indices = upper_tri_network_edge_weight_matrix_bool.nonzero()[1]\n",
    "\n",
    "#Create list of edges for NetworkX graph by iterating through numpy (adjancency) matrix (with edge weights) + node labels (rows/columns of matrix) & storing edges with weights <= -6 OR >= 6\n",
    "G_edge_list = [ (network_edge_weight_matrix_labels[node_i], network_edge_weight_matrix_labels[node_j], network_edge_weight_matrix[node_i, node_j]) for node_i, node_j in zip(node_i_indices, node_j_indices)]"
   ]
  },
  {
   "cell_type": "code",
   "execution_count": 114,
   "metadata": {},
   "outputs": [
    {
     "data": {
      "text/plain": [
       "[('IL23A', 'IL23A', 9),\n",
       " ('IL23A', 'MYL9', -7),\n",
       " ('IL23A', 'MYBPC3', -6),\n",
       " ('IL23A', 'ITK', 7),\n",
       " ('IL23A', 'LTF', -6)]"
      ]
     },
     "execution_count": 114,
     "metadata": {},
     "output_type": "execute_result"
    }
   ],
   "source": [
    "G_edge_list[0:5]"
   ]
  },
  {
   "cell_type": "code",
   "execution_count": 115,
   "metadata": {},
   "outputs": [
    {
     "data": {
      "text/plain": [
       "171673"
      ]
     },
     "execution_count": 115,
     "metadata": {},
     "output_type": "execute_result"
    }
   ],
   "source": [
    "len(G_edge_list) #number of edges (gene-gene pairs with edge weights <= -6 OR >= 6)"
   ]
  },
  {
   "cell_type": "markdown",
   "metadata": {},
   "source": [
    "#### Construct NetworkX graph from list of Edges"
   ]
  },
  {
   "cell_type": "code",
   "execution_count": 118,
   "metadata": {},
   "outputs": [],
   "source": [
    "G = nx.Graph()\n",
    "G.add_weighted_edges_from(G_edge_list)"
   ]
  },
  {
   "cell_type": "code",
   "execution_count": 119,
   "metadata": {},
   "outputs": [
    {
     "name": "stdout",
     "output_type": "stream",
     "text": [
      "Name: \n",
      "Type: Graph\n",
      "Number of nodes: 1000\n",
      "Number of edges: 171673\n",
      "Average degree: 343.3460\n"
     ]
    }
   ],
   "source": [
    "print(nx.info(G))"
   ]
  },
  {
   "cell_type": "markdown",
   "metadata": {},
   "source": [
    "#### Calculation Degree Centrality from NetworkX graph (doesn't take edge weights into account)"
   ]
  },
  {
   "cell_type": "code",
   "execution_count": 120,
   "metadata": {},
   "outputs": [],
   "source": [
    "centrality = nx.degree_centrality(G)"
   ]
  },
  {
   "cell_type": "code",
   "execution_count": 121,
   "metadata": {},
   "outputs": [],
   "source": [
    "centrality = pd.Series(centrality)"
   ]
  },
  {
   "cell_type": "code",
   "execution_count": 128,
   "metadata": {},
   "outputs": [
    {
     "name": "stdout",
     "output_type": "stream",
     "text": [
      "FCGR1B\n",
      "C1QB\n",
      "HP\n",
      "CCR7\n",
      "ID3\n",
      "BATF2\n",
      "EPHA4\n",
      "FBXO6\n",
      "SERPING1\n",
      "IL7R\n",
      "IFITM3\n",
      "S1PR1\n",
      "CLEC4D\n",
      "EPSTI1\n",
      "FLVCR2\n",
      "SMARCD3\n",
      "ASGR2\n",
      "ANKRD22\n",
      "GBP5\n",
      "ETV7\n",
      "NELL2\n",
      "AIM2\n",
      "PLEKHA1\n",
      "SLC26A8\n",
      "TMEM204\n"
     ]
    }
   ],
   "source": [
    "for gene_i in centrality.sort_values(ascending = False).head(n = 25).index:\n",
    "    print(gene_i)"
   ]
  },
  {
   "cell_type": "code",
   "execution_count": null,
   "metadata": {},
   "outputs": [],
   "source": []
  },
  {
   "cell_type": "code",
   "execution_count": null,
   "metadata": {},
   "outputs": [],
   "source": []
  },
  {
   "cell_type": "code",
   "execution_count": null,
   "metadata": {},
   "outputs": [],
   "source": []
  },
  {
   "cell_type": "code",
   "execution_count": null,
   "metadata": {},
   "outputs": [],
   "source": []
  },
  {
   "cell_type": "markdown",
   "metadata": {},
   "source": [
    "## Extra Stuff Below"
   ]
  },
  {
   "cell_type": "code",
   "execution_count": 24,
   "metadata": {},
   "outputs": [],
   "source": [
    "#Convert edge weight numpy array to DataFrame\n",
    "ATB_v_LTBI_network_edge_weight_df = pd.DataFrame(ATB_v_LTBI_network_edge_weight_matrix , index = ATB_v_LTBI_network_edge_weight_matrix_labels , columns = ATB_v_LTBI_network_edge_weight_matrix_labels)"
   ]
  },
  {
   "cell_type": "code",
   "execution_count": null,
   "metadata": {},
   "outputs": [],
   "source": []
  },
  {
   "cell_type": "markdown",
   "metadata": {},
   "source": [
    "### Agglomerative Clustering of genes by edge weights"
   ]
  },
  {
   "cell_type": "code",
   "execution_count": null,
   "metadata": {},
   "outputs": [],
   "source": [
    "#cluster\n",
    "gene_edge_weight_link = fastcluster.linkage_vector(ATB_v_LTBI_network_edge_weight_matrix, method='single', metric='euclidean')\n",
    "\n",
    "#get the new order of the genes\n",
    "gene_order = hier.leaves_list(gene_edge_weight_link)\n",
    "\n",
    "#re-order the pairwise SNP distance matrix according to the new clustering order\n",
    "reordered_data_subset = ATB_v_LTBI_network_edge_weight_matrix[gene_order, :]\n",
    "reordered_data_subset = reordered_data_subset[:, gene_order]"
   ]
  },
  {
   "cell_type": "markdown",
   "metadata": {},
   "source": [
    "Get the gene list according to the re-ordered edge weights array"
   ]
  },
  {
   "cell_type": "code",
   "execution_count": null,
   "metadata": {},
   "outputs": [],
   "source": [
    "ATB_v_LTBI_network_edge_weight_matrix_labels = ATB_v_LTBI_network_edge_weight_matrix_labels[gene_order]"
   ]
  },
  {
   "cell_type": "code",
   "execution_count": null,
   "metadata": {},
   "outputs": [],
   "source": [
    "ATB_v_LTBI_network_edge_weight_matrix_labels.head()"
   ]
  },
  {
   "cell_type": "markdown",
   "metadata": {},
   "source": []
  },
  {
   "cell_type": "markdown",
   "metadata": {},
   "source": [
    "### Heatmap of gene edge weights on clustered matrix"
   ]
  },
  {
   "cell_type": "code",
   "execution_count": null,
   "metadata": {},
   "outputs": [],
   "source": [
    "fig = plt.figure(figsize=(8, 8), dpi=300)\n",
    "gs = gridspec.GridSpec(3, 3,\n",
    "                       width_ratios=[1.5,10,0.25],\n",
    "                       height_ratios=[1.5,10,0.25],\n",
    "                       wspace=0.03,\n",
    "                       hspace=0.03)\n",
    "\n",
    "# # x ywidth height\n",
    "ax1 = fig.add_subplot(gs[0,1], frameon=False)\n",
    "Z1 = dendrogram(Z=gene_edge_weight_link, color_threshold=None, leaf_rotation=45, link_color_func=lambda x: link_cols[x] , no_labels = True , orientation='top', ax=ax1) # adding/removing the axes\n",
    "ax1.set_xticks([])\n",
    "ax1.set_yticks([])\n",
    "\n",
    "ax2 = fig.add_subplot(gs[1,0], frameon=False)\n",
    "Z2 = dendrogram(Z=gene_edge_weight_link, color_threshold=None, leaf_rotation=45, link_color_func=lambda x: link_cols[x] , no_labels = True , orientation='left', ax=ax2) # adding/removing the axes\n",
    "ax2.set_xticks([])\n",
    "ax2.set_yticks([])\n",
    "\n",
    "axmatrix = fig.add_subplot(gs[1,1])\n",
    "# norm=mpl.colors.Normalize(vmin=0, vmax=40)\n",
    "im = axmatrix.matshow(reordered_data_subset.T, aspect='auto', origin='lower', cmap=plt.cm.Greys_r, interpolation='none')\n",
    "\n",
    "ax_cbar = fig.add_subplot(gs[1,2])\n",
    "cbar = plt.colorbar(im , cax = ax_cbar)\n",
    "cbar.set_label('Gene Edge Weight' , rotation = -90, va='bottom')\n",
    "\n",
    "axmatrix.set_xticks([])\n",
    "axmatrix.set_yticks([])\n",
    "\n",
    "fig.tight_layout()\n",
    "#file_name = '/n/data1/hms/dbmi/farhat/Roger/homoplasy_project/FOR_CHANG_pairwise_SNP_distance/figures/isolates_genetic_aggl_clustered.pdf'\n",
    "#plt.savefig(file_name, bbox_inches='tight', dpi = 300 , transparent = True)\n",
    "\n",
    "plt.show()"
   ]
  },
  {
   "cell_type": "code",
   "execution_count": null,
   "metadata": {},
   "outputs": [],
   "source": []
  },
  {
   "cell_type": "code",
   "execution_count": null,
   "metadata": {},
   "outputs": [],
   "source": []
  }
 ],
 "metadata": {
  "kernelspec": {
   "display_name": "Python 3",
   "language": "python",
   "name": "python3"
  },
  "language_info": {
   "codemirror_mode": {
    "name": "ipython",
    "version": 3
   },
   "file_extension": ".py",
   "mimetype": "text/x-python",
   "name": "python",
   "nbconvert_exporter": "python",
   "pygments_lexer": "ipython3",
   "version": "3.7.7"
  }
 },
 "nbformat": 4,
 "nbformat_minor": 4
}

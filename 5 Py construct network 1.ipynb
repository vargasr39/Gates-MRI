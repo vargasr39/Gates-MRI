{
 "cells": [
  {
   "cell_type": "code",
   "execution_count": 1,
   "metadata": {},
   "outputs": [
    {
     "data": {
      "text/html": [
       "<style>.container { width:100% !important; }</style>"
      ],
      "text/plain": [
       "<IPython.core.display.HTML object>"
      ]
     },
     "metadata": {},
     "output_type": "display_data"
    }
   ],
   "source": [
    "from IPython.core.display import display, HTML\n",
    "display(HTML(\"<style>.container { width:100% !important; }</style>\"))\n",
    "%matplotlib inline"
   ]
  },
  {
   "cell_type": "code",
   "execution_count": 2,
   "metadata": {},
   "outputs": [],
   "source": [
    "import os\n",
    "import pandas as pd\n",
    "import numpy as np\n",
    "\n",
    "import matplotlib.pyplot as plt\n",
    "import matplotlib as mpl\n",
    "from matplotlib.ticker import FormatStrFormatter\n",
    "from matplotlib.ticker import MaxNLocator\n",
    "\n",
    "import fastcluster\n",
    "from scipy.cluster.hierarchy import dendrogram\n",
    "import scipy.cluster.hierarchy as hier\n",
    "\n",
    "import networkx as nx\n",
    "from collections import Counter\n",
    "import pickle\n",
    "from matplotlib.gridspec import GridSpec"
   ]
  },
  {
   "cell_type": "markdown",
   "metadata": {},
   "source": [
    "### specify directory where differential gene data is stored"
   ]
  },
  {
   "cell_type": "code",
   "execution_count": 3,
   "metadata": {},
   "outputs": [],
   "source": [
    "#use this path for personal computer\n",
    "#diff_exp_data_dir = \"/Users/rogervargas/OneDrive - Bill & Melinda Gates Medical Research Institute/Projects/Biomarkers/Data/Pooled Differential Gene Expression/\"\n",
    "\n",
    "#use this path for Gates MRI computer\n",
    "#diff_exp_data_dir = \"/Users/RogerVargas/OneDrive - Bill & Melinda Gates Medical Research Institute/Projects/Biomarkers/Data/Pooled Differential Gene Expression/\"\n",
    "\n",
    "#use this path for O2 computing cluster\n",
    "diff_exp_data_dir = \"/n/data1/hms/dbmi/farhat/Roger/gatesMRI/Projects/Biomarkers/Data/Pooled Differential Gene Expression/\""
   ]
  },
  {
   "cell_type": "markdown",
   "metadata": {},
   "source": [
    "### *Function* for visualizing distribution of edge weights from pooled (significant) logFC changes across datasets"
   ]
  },
  {
   "cell_type": "code",
   "execution_count": 4,
   "metadata": {},
   "outputs": [],
   "source": [
    "def plot_distribution_of_edge_weights(ax, edge_weight_distr_counter_dict, plot_title, linecolor):\n",
    "    \n",
    "    #convert Counter dict to series\n",
    "    edge_weight_distr_series = pd.Series(edge_weight_distr_counter_dict).sort_index()\n",
    "    \n",
    "    #get the keys & values from Counter dict (with Edge Weight distr)\n",
    "    edge_weight_values = edge_weight_distr_series.index\n",
    "    edge_weight_count = edge_weight_distr_series.values\n",
    "    edge_weight_count_norm = np.array(edge_weight_count) / float(np.sum(edge_weight_count)) #normalize counts\n",
    "    \n",
    "    ax.bar(edge_weight_values , edge_weight_count_norm, color = 'white' , width = 1.0 , edgecolor='black', linewidth=0.5)\n",
    "    ax.bar(edge_weight_values[edge_weight_distr_series.index <= -2] , edge_weight_count_norm[edge_weight_distr_series.index <= -2], color = 'blue' , width = 1.0 , edgecolor='black', linewidth=0.5)\n",
    "    ax.bar(edge_weight_values[edge_weight_distr_series.index >= 2] , edge_weight_count_norm[edge_weight_distr_series.index >= 2], color = 'blue' , width = 1.0 , edgecolor='black', linewidth=0.5)\n",
    "    ax.plot(edge_weight_values , edge_weight_count_norm, color = linecolor , linewidth = 2.5)\n",
    "    \n",
    "    # calculate the number of the edges that had weight <= -2\n",
    "    negative_edge_weights_for_network = edge_weight_count[edge_weight_distr_series.index <= -2].sum()\n",
    "    \n",
    "    # calculate the number of the edges that had weight >= 2\n",
    "    positive_edge_weights_for_network = edge_weight_count[edge_weight_distr_series.index >= 2].sum()\n",
    "\n",
    "    ax.set_title(plot_title, fontsize = 12, color = 'k')\n",
    "    ax.set_ylabel('Proportion of Edges', fontsize = 12, color = 'k')\n",
    "    ax.set_xlabel(f'Edge Weights \\n (Num Edges <= -2: {negative_edge_weights_for_network}) \\n (Num Edges >= 2: {positive_edge_weights_for_network})' , fontsize = 12, color = 'k')\n",
    "\n",
    "    ax.spines['right'].set_visible(False)\n",
    "    ax.spines['top'].set_visible(False)\n",
    "    ax.grid(False)\n",
    "    ax.set_yscale('log')\n",
    "\n",
    "    ax.tick_params(labelcolor = 'k')\n",
    "    ax.tick_params(axis='y', which='major', labelsize=12 , labelcolor = 'k')\n",
    "    ax.tick_params(axis='x', which='major', labelsize=12 , labelcolor = 'k')\n",
    "    \n",
    "    for axis in [ax.yaxis]:\n",
    "        axis.set_major_formatter(FormatStrFormatter('%.5f'))\n",
    "        \n",
    "    ax.xaxis.set_major_locator(MaxNLocator(integer=True))"
   ]
  },
  {
   "cell_type": "markdown",
   "metadata": {},
   "source": [
    "### set parameters for plotting"
   ]
  },
  {
   "cell_type": "code",
   "execution_count": 5,
   "metadata": {},
   "outputs": [],
   "source": [
    "plt.style.use('ggplot')\n",
    "plt.rcParams['lines.linewidth']=1.0\n",
    "plt.rcParams['axes.facecolor']='1.0'\n",
    "plt.rcParams['xtick.color']='black'\n",
    "plt.rcParams['axes.grid']=False\n",
    "plt.rcParams['axes.edgecolor']='black'\n",
    "plt.rcParams['grid.color']= '1.0'\n",
    "plt.rcParams.update({'font.size': 14})"
   ]
  },
  {
   "cell_type": "markdown",
   "metadata": {},
   "source": [
    "### set the *q-value* threshold & comparison"
   ]
  },
  {
   "cell_type": "code",
   "execution_count": 6,
   "metadata": {},
   "outputs": [],
   "source": [
    "qval_thresh = 0.05"
   ]
  },
  {
   "cell_type": "code",
   "execution_count": 7,
   "metadata": {},
   "outputs": [],
   "source": [
    "comparison_X = 'ATB_v_LTBI'"
   ]
  },
  {
   "cell_type": "code",
   "execution_count": 8,
   "metadata": {},
   "outputs": [],
   "source": [
    "logFC_table_filename = f'{comparison_X}_signif_logFC_qval_thresh_{qval_thresh}.csv'\n",
    "\n",
    "# read in CSV file with significant logFC changes for genes between comparison X samples collected from various datasets\n",
    "diff_gene_exp_df = pd.read_csv(diff_exp_data_dir + logFC_table_filename).set_index('Unnamed: 0')\n",
    "diff_gene_exp_df.rename_axis('gene' , inplace = True)\n",
    "\n",
    "# Construct simplified matrix of logFC direction from DataFrame with significant logFC changes across all analyses by converting values:\n",
    "# +1 if logFC > 0\n",
    "#  0 if logFC = 0\n",
    "# -1 if logFC < 0\n",
    "\n",
    "# store copy of array from dataframe with sig. logFC values (rows = genes, columns = GSE ID)\n",
    "direc_diff_gene_exp_matrix = diff_gene_exp_df.copy().values \n",
    "\n",
    "# replace values in logFC matrix\n",
    "direc_diff_gene_exp_matrix[direc_diff_gene_exp_matrix > 0.0] = 1\n",
    "direc_diff_gene_exp_matrix[direc_diff_gene_exp_matrix == 0.0] = 0\n",
    "direc_diff_gene_exp_matrix[direc_diff_gene_exp_matrix < 0.0] = -1\n",
    "\n",
    "# convert to lower memory int8 datatype\n",
    "direc_diff_gene_exp_matrix = direc_diff_gene_exp_matrix.astype('int8')\n",
    "\n",
    "# compute the dot product between every two pairs of gene vectors (will calculate the edges weights for our network)\n",
    "# Compute $M \\cdot M^T \\text{ to get } i \\cdot j \\text{ , } \\forall \\text{ pairs of rows } i, j \\text{ in matrix } M$\n",
    "# multiply direction logFC matrix by its transpose to get the dot products between all pairs of rows\n",
    "network_edge_weight_matrix = direc_diff_gene_exp_matrix.dot(direc_diff_gene_exp_matrix.T)\n",
    "\n",
    "# the row/column annotation (genes) can be copied from the logFC differential gene expression DataFrame\n",
    "network_edge_weight_matrix_labels = pd.Series(list(diff_gene_exp_df.index) , index = range(0 , len(diff_gene_exp_df.index)))\n",
    "\n",
    "# DISTRIBUTION OF EDGE WEIGHTS\n",
    "\n",
    "#number of rows / columns\n",
    "num_genes = np.shape(network_edge_weight_matrix)[0]\n",
    "\n",
    "# retrieve the distribution of the Edge Weights by returning the upper triangular part of the matrix\n",
    "edge_weight_array = network_edge_weight_matrix[np.triu_indices(num_genes, k = 0)]\n",
    "\n",
    "#convert array to a Counter dict to save space (keys: edge weight values, values: count of edge weights in edge weight distribution)\n",
    "edge_weight_distr_counter_dict = Counter(list(edge_weight_array))"
   ]
  },
  {
   "cell_type": "code",
   "execution_count": 9,
   "metadata": {},
   "outputs": [
    {
     "data": {
      "text/plain": [
       "array([[ 0,  0,  0, ...,  0,  0,  0],\n",
       "       [ 0,  1,  0, ...,  0,  0,  0],\n",
       "       [ 0,  0,  1, ..., -1,  0,  0],\n",
       "       ...,\n",
       "       [ 0,  0, -1, ...,  1,  0,  0],\n",
       "       [ 0,  0,  0, ...,  0,  0,  0],\n",
       "       [ 0,  0,  0, ...,  0,  0,  1]], dtype=int8)"
      ]
     },
     "execution_count": 9,
     "metadata": {},
     "output_type": "execute_result"
    }
   ],
   "source": [
    "network_edge_weight_matrix"
   ]
  },
  {
   "cell_type": "code",
   "execution_count": 10,
   "metadata": {},
   "outputs": [
    {
     "data": {
      "text/plain": [
       "(30641, 30641)"
      ]
     },
     "execution_count": 10,
     "metadata": {},
     "output_type": "execute_result"
    }
   ],
   "source": [
    "np.shape(network_edge_weight_matrix)"
   ]
  },
  {
   "cell_type": "code",
   "execution_count": 11,
   "metadata": {},
   "outputs": [
    {
     "data": {
      "text/plain": [
       "0     KRT36\n",
       "1     KIFC3\n",
       "2      REG4\n",
       "3     FADS2\n",
       "4    FANCD2\n",
       "dtype: object"
      ]
     },
     "execution_count": 11,
     "metadata": {},
     "output_type": "execute_result"
    }
   ],
   "source": [
    "network_edge_weight_matrix_labels.head()"
   ]
  },
  {
   "cell_type": "code",
   "execution_count": 12,
   "metadata": {},
   "outputs": [
    {
     "data": {
      "text/plain": [
       "(30641,)"
      ]
     },
     "execution_count": 12,
     "metadata": {},
     "output_type": "execute_result"
    }
   ],
   "source": [
    "np.shape(network_edge_weight_matrix_labels)"
   ]
  },
  {
   "cell_type": "code",
   "execution_count": 13,
   "metadata": {},
   "outputs": [
    {
     "data": {
      "image/png": "[encoded data removed]",
      "text/plain": [
       "<Figure size 540x396 with 1 Axes>"
      ]
     },
     "metadata": {},
     "output_type": "display_data"
    }
   ],
   "source": [
    "fig , ax = plt.subplots()\n",
    "\n",
    "plot_distribution_of_edge_weights(ax, edge_weight_distr_counter_dict, f'Distribution of Edge Weights for {comparison_X}', 'xkcd:green')\n",
    "\n",
    "fig = plt.gcf()\n",
    "fig.set_size_inches(7.5, 5.5)\n",
    "fig.tight_layout()\n",
    "\n",
    "#file_name = '/n/data1/hms/dbmi/farhat/Roger/homoplasy_project/Figures/lab_meeting_12_12_19/pairwise_SNP_distance/distribution_of_pairwise_SNP_distances.png'\n",
    "#plt.savefig(file_name, bbox_inches='tight', dpi = 300 , transparent = True)\n",
    "\n",
    "plt.show()"
   ]
  },
  {
   "cell_type": "markdown",
   "metadata": {},
   "source": [
    "### Normalize Edge Weights?"
   ]
  },
  {
   "cell_type": "code",
   "execution_count": 14,
   "metadata": {},
   "outputs": [
    {
     "data": {
      "text/plain": [
       "-13"
      ]
     },
     "execution_count": 14,
     "metadata": {},
     "output_type": "execute_result"
    }
   ],
   "source": [
    "np.min(network_edge_weight_matrix)"
   ]
  },
  {
   "cell_type": "code",
   "execution_count": 15,
   "metadata": {},
   "outputs": [
    {
     "data": {
      "text/plain": [
       "14"
      ]
     },
     "execution_count": 15,
     "metadata": {},
     "output_type": "execute_result"
    }
   ],
   "source": [
    "np.max(network_edge_weight_matrix)"
   ]
  },
  {
   "cell_type": "markdown",
   "metadata": {},
   "source": [
    "### Construct NetworkX graph from edge weight matrix"
   ]
  },
  {
   "cell_type": "markdown",
   "metadata": {},
   "source": [
    "#### Retrieve the indices for the upper-triangular part of the matrix"
   ]
  },
  {
   "cell_type": "code",
   "execution_count": 16,
   "metadata": {},
   "outputs": [],
   "source": [
    "#Return the upper triangular part of the matrix with elements in lower part ZEROED out\n",
    "upper_tri_network_edge_weight_matrix = np.triu(network_edge_weight_matrix, k = 0)\n",
    "\n",
    "#Return a boolean for elements in the upper triangular part of the matrix for elments that are <= -2 OR >= 2\n",
    "upper_tri_network_edge_weight_matrix_bool = abs(upper_tri_network_edge_weight_matrix) >= 2\n",
    "\n",
    "#get the indices for the elements in the upper triangle where elements (edge weights) <= -2 OR >= 2\n",
    "node_i_indices = upper_tri_network_edge_weight_matrix_bool.nonzero()[0]\n",
    "node_j_indices = upper_tri_network_edge_weight_matrix_bool.nonzero()[1]\n",
    "\n",
    "#Create list of edges for NetworkX graph by iterating through numpy (adjancency) matrix (with edge weights) + node labels (rows/columns of matrix) & storing edges with weights <= -2 OR >= 2\n",
    "G_edge_list = [ (network_edge_weight_matrix_labels[node_i], network_edge_weight_matrix_labels[node_j], network_edge_weight_matrix[node_i, node_j]) for node_i, node_j in zip(node_i_indices, node_j_indices)]"
   ]
  },
  {
   "cell_type": "code",
   "execution_count": 17,
   "metadata": {},
   "outputs": [
    {
     "data": {
      "text/plain": [
       "[('FANCD2', 'FANCD2', 3),\n",
       " ('FANCD2', 'TGFBR3', 3),\n",
       " ('FANCD2', 'EPHB6', 2),\n",
       " ('FANCD2', 'TMEM243', 2),\n",
       " ('FANCD2', 'TRIM68', 2),\n",
       " ('FANCD2', 'TIMM22', 2),\n",
       " ('FANCD2', 'C12orf57', 2),\n",
       " ('FANCD2', 'WRN', 2),\n",
       " ('FANCD2', 'CLEC2B', -2),\n",
       " ('FANCD2', 'CCDC85C', 2),\n",
       " ('FANCD2', 'CD6', 3),\n",
       " ('FANCD2', 'ZNF329', 2),\n",
       " ('FANCD2', 'IRAK1BP1', 3),\n",
       " ('FANCD2', 'CHMP5', -2),\n",
       " ('FANCD2', 'P2RY10', 2),\n",
       " ('FANCD2', 'TRIM32', 3),\n",
       " ('FANCD2', 'TOX2', 2),\n",
       " ('FANCD2', 'MAN1C1', 3),\n",
       " ('FANCD2', 'ACAD11', 2),\n",
       " ('FANCD2', 'GYPE', -2)]"
      ]
     },
     "execution_count": 17,
     "metadata": {},
     "output_type": "execute_result"
    }
   ],
   "source": [
    "G_edge_list[0:20]"
   ]
  },
  {
   "cell_type": "code",
   "execution_count": 18,
   "metadata": {},
   "outputs": [
    {
     "data": {
      "text/plain": [
       "2950385"
      ]
     },
     "execution_count": 18,
     "metadata": {},
     "output_type": "execute_result"
    }
   ],
   "source": [
    "len(G_edge_list) #number of edges (gene-gene pairs with edge weights <= -2 OR >= 2)"
   ]
  },
  {
   "cell_type": "markdown",
   "metadata": {},
   "source": [
    "#### Construct NetworkX graph from list of Edges"
   ]
  },
  {
   "cell_type": "code",
   "execution_count": 19,
   "metadata": {},
   "outputs": [],
   "source": [
    "G = nx.Graph()\n",
    "G.add_weighted_edges_from(G_edge_list)"
   ]
  },
  {
   "cell_type": "code",
   "execution_count": 20,
   "metadata": {},
   "outputs": [
    {
     "name": "stdout",
     "output_type": "stream",
     "text": [
      "Name: \n",
      "Type: Graph\n",
      "Number of nodes: 5433\n",
      "Number of edges: 2950385\n",
      "Average degree: 1086.0979\n"
     ]
    }
   ],
   "source": [
    "print(nx.info(G))"
   ]
  },
  {
   "cell_type": "markdown",
   "metadata": {},
   "source": [
    "#### Calculation Degree Centrality from NetworkX graph (doesn't take edge weights into account)"
   ]
  },
  {
   "cell_type": "code",
   "execution_count": 28,
   "metadata": {},
   "outputs": [],
   "source": [
    "centrality = nx.degree_centrality(G)\n",
    "centrality = pd.Series(centrality) #convert to series"
   ]
  },
  {
   "cell_type": "code",
   "execution_count": 29,
   "metadata": {},
   "outputs": [
    {
     "data": {
      "text/plain": [
       "FCGR1B      0.808358\n",
       "CCR7        0.806701\n",
       "FBXO6       0.806701\n",
       "IL7R        0.806701\n",
       "IFITM3      0.806701\n",
       "SLC38A1     0.798601\n",
       "SMARCD3     0.798601\n",
       "SCO2        0.798049\n",
       "VAMP5       0.798049\n",
       "ABLIM1      0.796760\n",
       "SERPING1    0.780560\n",
       "C1QB        0.772459\n",
       "BATF2       0.770619\n",
       "S1PR1       0.765648\n",
       "FLVCR2      0.764175\n",
       "LAX1        0.756075\n",
       "SYTL2       0.756075\n",
       "ADM         0.748343\n",
       "SKAP1       0.739507\n",
       "TNFAIP6     0.739507\n",
       "GK          0.739507\n",
       "CAMP        0.737297\n",
       "LY96        0.726436\n",
       "GPR183      0.722754\n",
       "TCN1        0.719993\n",
       "IL1B        0.717968\n",
       "ASGR2       0.714654\n",
       "MMP9        0.713549\n",
       "CD27        0.713549\n",
       "CEACAM1     0.712997\n",
       "GBP5        0.712997\n",
       "SLC26A8     0.712997\n",
       "AIM2        0.712997\n",
       "FCGR1A      0.711708\n",
       "MSRB2       0.711340\n",
       "LILRA5      0.710972\n",
       "LHFPL2      0.710788\n",
       "LAP3        0.710604\n",
       "BCL11B      0.710604\n",
       "CD6         0.710604\n",
       "DUSP3       0.710604\n",
       "SPOCK2      0.710052\n",
       "CLEC4D      0.710052\n",
       "ETS1        0.704345\n",
       "CD96        0.704345\n",
       "ITK         0.704345\n",
       "IFIT3       0.704345\n",
       "CD247       0.704345\n",
       "SLAMF6      0.704345\n",
       "EPSTI1      0.704345\n",
       "dtype: float64"
      ]
     },
     "execution_count": 29,
     "metadata": {},
     "output_type": "execute_result"
    }
   ],
   "source": [
    "centrality.sort_values(ascending = False).head(n = 50)"
   ]
  },
  {
   "cell_type": "code",
   "execution_count": null,
   "metadata": {},
   "outputs": [],
   "source": []
  },
  {
   "cell_type": "markdown",
   "metadata": {},
   "source": [
    "Can convert edge weight matrix into a dataframe with gene labels"
   ]
  },
  {
   "cell_type": "code",
   "execution_count": 55,
   "metadata": {},
   "outputs": [],
   "source": [
    "#Convert edge weight numpy array to DataFrame\n",
    "network_edge_weight_df = pd.DataFrame(network_edge_weight_matrix , index = network_edge_weight_matrix_labels , columns = network_edge_weight_matrix_labels)"
   ]
  },
  {
   "cell_type": "code",
   "execution_count": 56,
   "metadata": {},
   "outputs": [
    {
     "data": {
      "text/html": [
       "<div>\n",
       "<style scoped>\n",
       "    .dataframe tbody tr th:only-of-type {\n",
       "        vertical-align: middle;\n",
       "    }\n",
       "\n",
       "    .dataframe tbody tr th {\n",
       "        vertical-align: top;\n",
       "    }\n",
       "\n",
       "    .dataframe thead th {\n",
       "        text-align: right;\n",
       "    }\n",
       "</style>\n",
       "<table border=\"1\" class=\"dataframe\">\n",
       "  <thead>\n",
       "    <tr style=\"text-align: right;\">\n",
       "      <th></th>\n",
       "      <th>KRT36</th>\n",
       "      <th>KIFC3</th>\n",
       "      <th>REG4</th>\n",
       "      <th>FADS2</th>\n",
       "      <th>FANCD2</th>\n",
       "      <th>MIR181C</th>\n",
       "      <th>LOC645769</th>\n",
       "      <th>PEG13</th>\n",
       "      <th>CCDC130</th>\n",
       "      <th>FLJ11235</th>\n",
       "      <th>...</th>\n",
       "      <th>KIAA1826</th>\n",
       "      <th>STX11</th>\n",
       "      <th>LOC101928524</th>\n",
       "      <th>SYDE1</th>\n",
       "      <th>IL16</th>\n",
       "      <th>OSGEPL1</th>\n",
       "      <th>TAGAP</th>\n",
       "      <th>TCL1B</th>\n",
       "      <th>POM121L2</th>\n",
       "      <th>FUS</th>\n",
       "    </tr>\n",
       "  </thead>\n",
       "  <tbody>\n",
       "    <tr>\n",
       "      <th>KRT36</th>\n",
       "      <td>0</td>\n",
       "      <td>0</td>\n",
       "      <td>0</td>\n",
       "      <td>0</td>\n",
       "      <td>0</td>\n",
       "      <td>0</td>\n",
       "      <td>0</td>\n",
       "      <td>0</td>\n",
       "      <td>0</td>\n",
       "      <td>0</td>\n",
       "      <td>...</td>\n",
       "      <td>0</td>\n",
       "      <td>0</td>\n",
       "      <td>0</td>\n",
       "      <td>0</td>\n",
       "      <td>0</td>\n",
       "      <td>0</td>\n",
       "      <td>0</td>\n",
       "      <td>0</td>\n",
       "      <td>0</td>\n",
       "      <td>0</td>\n",
       "    </tr>\n",
       "    <tr>\n",
       "      <th>KIFC3</th>\n",
       "      <td>0</td>\n",
       "      <td>1</td>\n",
       "      <td>0</td>\n",
       "      <td>0</td>\n",
       "      <td>0</td>\n",
       "      <td>0</td>\n",
       "      <td>0</td>\n",
       "      <td>0</td>\n",
       "      <td>0</td>\n",
       "      <td>0</td>\n",
       "      <td>...</td>\n",
       "      <td>0</td>\n",
       "      <td>1</td>\n",
       "      <td>0</td>\n",
       "      <td>0</td>\n",
       "      <td>0</td>\n",
       "      <td>0</td>\n",
       "      <td>0</td>\n",
       "      <td>0</td>\n",
       "      <td>0</td>\n",
       "      <td>0</td>\n",
       "    </tr>\n",
       "    <tr>\n",
       "      <th>REG4</th>\n",
       "      <td>0</td>\n",
       "      <td>0</td>\n",
       "      <td>1</td>\n",
       "      <td>0</td>\n",
       "      <td>0</td>\n",
       "      <td>0</td>\n",
       "      <td>0</td>\n",
       "      <td>0</td>\n",
       "      <td>-1</td>\n",
       "      <td>0</td>\n",
       "      <td>...</td>\n",
       "      <td>0</td>\n",
       "      <td>1</td>\n",
       "      <td>0</td>\n",
       "      <td>0</td>\n",
       "      <td>0</td>\n",
       "      <td>0</td>\n",
       "      <td>0</td>\n",
       "      <td>-1</td>\n",
       "      <td>0</td>\n",
       "      <td>0</td>\n",
       "    </tr>\n",
       "    <tr>\n",
       "      <th>FADS2</th>\n",
       "      <td>0</td>\n",
       "      <td>0</td>\n",
       "      <td>0</td>\n",
       "      <td>0</td>\n",
       "      <td>0</td>\n",
       "      <td>0</td>\n",
       "      <td>0</td>\n",
       "      <td>0</td>\n",
       "      <td>0</td>\n",
       "      <td>0</td>\n",
       "      <td>...</td>\n",
       "      <td>0</td>\n",
       "      <td>0</td>\n",
       "      <td>0</td>\n",
       "      <td>0</td>\n",
       "      <td>0</td>\n",
       "      <td>0</td>\n",
       "      <td>0</td>\n",
       "      <td>0</td>\n",
       "      <td>0</td>\n",
       "      <td>0</td>\n",
       "    </tr>\n",
       "    <tr>\n",
       "      <th>FANCD2</th>\n",
       "      <td>0</td>\n",
       "      <td>0</td>\n",
       "      <td>0</td>\n",
       "      <td>0</td>\n",
       "      <td>3</td>\n",
       "      <td>0</td>\n",
       "      <td>0</td>\n",
       "      <td>0</td>\n",
       "      <td>0</td>\n",
       "      <td>0</td>\n",
       "      <td>...</td>\n",
       "      <td>0</td>\n",
       "      <td>-2</td>\n",
       "      <td>0</td>\n",
       "      <td>0</td>\n",
       "      <td>0</td>\n",
       "      <td>1</td>\n",
       "      <td>0</td>\n",
       "      <td>0</td>\n",
       "      <td>0</td>\n",
       "      <td>1</td>\n",
       "    </tr>\n",
       "  </tbody>\n",
       "</table>\n",
       "<p>5 rows × 30641 columns</p>\n",
       "</div>"
      ],
      "text/plain": [
       "        KRT36  KIFC3  REG4  FADS2  FANCD2  MIR181C  LOC645769  PEG13  CCDC130  \\\n",
       "KRT36       0      0     0      0       0        0          0      0        0   \n",
       "KIFC3       0      1     0      0       0        0          0      0        0   \n",
       "REG4        0      0     1      0       0        0          0      0       -1   \n",
       "FADS2       0      0     0      0       0        0          0      0        0   \n",
       "FANCD2      0      0     0      0       3        0          0      0        0   \n",
       "\n",
       "        FLJ11235  ...  KIAA1826  STX11  LOC101928524  SYDE1  IL16  OSGEPL1  \\\n",
       "KRT36          0  ...         0      0             0      0     0        0   \n",
       "KIFC3          0  ...         0      1             0      0     0        0   \n",
       "REG4           0  ...         0      1             0      0     0        0   \n",
       "FADS2          0  ...         0      0             0      0     0        0   \n",
       "FANCD2         0  ...         0     -2             0      0     0        1   \n",
       "\n",
       "        TAGAP  TCL1B  POM121L2  FUS  \n",
       "KRT36       0      0         0    0  \n",
       "KIFC3       0      0         0    0  \n",
       "REG4        0     -1         0    0  \n",
       "FADS2       0      0         0    0  \n",
       "FANCD2      0      0         0    1  \n",
       "\n",
       "[5 rows x 30641 columns]"
      ]
     },
     "execution_count": 56,
     "metadata": {},
     "output_type": "execute_result"
    }
   ],
   "source": [
    "network_edge_weight_df.head()"
   ]
  },
  {
   "cell_type": "code",
   "execution_count": null,
   "metadata": {},
   "outputs": [],
   "source": []
  }
 ],
 "metadata": {
  "kernelspec": {
   "display_name": "Python [conda env:py36_MRI_virtualenv]",
   "language": "python",
   "name": "conda-env-py36_MRI_virtualenv-py"
  },
  "language_info": {
   "codemirror_mode": {
    "name": "ipython",
    "version": 3
   },
   "file_extension": ".py",
   "mimetype": "text/x-python",
   "name": "python",
   "nbconvert_exporter": "python",
   "pygments_lexer": "ipython3",
   "version": "3.6.10"
  }
 },
 "nbformat": 4,
 "nbformat_minor": 4
}

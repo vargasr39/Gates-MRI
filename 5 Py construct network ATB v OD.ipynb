{
 "cells": [
  {
   "cell_type": "code",
   "execution_count": 1,
   "metadata": {},
   "outputs": [
    {
     "data": {
      "text/html": [
       "<style>.container { width:100% !important; }</style>"
      ],
      "text/plain": [
       "<IPython.core.display.HTML object>"
      ]
     },
     "metadata": {},
     "output_type": "display_data"
    }
   ],
   "source": [
    "from IPython.core.display import display, HTML\n",
    "display(HTML(\"<style>.container { width:100% !important; }</style>\"))\n",
    "%matplotlib inline"
   ]
  },
  {
   "cell_type": "code",
   "execution_count": 2,
   "metadata": {},
   "outputs": [],
   "source": [
    "project_dir_path = '/n/data1/hms/dbmi/farhat/Roger/gatesMRI/Projects/Biomarkers'"
   ]
  },
  {
   "cell_type": "markdown",
   "metadata": {},
   "source": [
    "#### Load Packages"
   ]
  },
  {
   "cell_type": "code",
   "execution_count": 3,
   "metadata": {},
   "outputs": [],
   "source": [
    "import os\n",
    "import pandas as pd\n",
    "import numpy as np\n",
    "import matplotlib.pyplot as plt\n",
    "import matplotlib as mpl\n",
    "from matplotlib.ticker import FormatStrFormatter\n",
    "from matplotlib.ticker import MaxNLocator\n",
    "from matplotlib.gridspec import GridSpec\n",
    "import matplotlib.pylab as pl\n",
    "import matplotlib.colors as mcolors\n",
    "import matplotlib.patches as mpatches\n",
    "import fastcluster\n",
    "from scipy.cluster.hierarchy import dendrogram\n",
    "import scipy.cluster.hierarchy as hier\n",
    "import networkx as nx\n",
    "import networkx.algorithms.community as nxcom\n",
    "import community\n",
    "from collections import Counter\n",
    "import pickle\n",
    "\n",
    "#for exporting to Adobe Illustrator\n",
    "mpl.rcParams['pdf.fonttype'] = 42\n",
    "mpl.rcParams['ps.fonttype'] = 42"
   ]
  },
  {
   "cell_type": "markdown",
   "metadata": {},
   "source": [
    "#### set the *q-value* threshold & *comparison type*"
   ]
  },
  {
   "cell_type": "code",
   "execution_count": 4,
   "metadata": {},
   "outputs": [],
   "source": [
    "qval_thresh = 0.05\n",
    "comparison_X = 'ATB_v_OD'"
   ]
  },
  {
   "cell_type": "markdown",
   "metadata": {},
   "source": [
    "Need # datasets used in each study to normalize edge weights"
   ]
  },
  {
   "cell_type": "code",
   "execution_count": 5,
   "metadata": {},
   "outputs": [],
   "source": [
    "num_datasets_per_comparison = {\n",
    "'ATB_v_LTBI': 16,\n",
    "'ATB_v_HC' : 15,\n",
    "'ATB_v_OD': 10,\n",
    "'LTBI_v_HC': 9}"
   ]
  },
  {
   "cell_type": "markdown",
   "metadata": {},
   "source": [
    "Create directory for figures"
   ]
  },
  {
   "cell_type": "code",
   "execution_count": 6,
   "metadata": {},
   "outputs": [],
   "source": [
    "figures_dir_path = f'{project_dir_path}/Figures/Notebook 5'\n",
    "if not os.path.exists(figures_dir_path):\n",
    "    os.makedirs(figures_dir_path)"
   ]
  },
  {
   "cell_type": "markdown",
   "metadata": {},
   "source": [
    "Specify directory to the *pooled* differential gene expression data"
   ]
  },
  {
   "cell_type": "code",
   "execution_count": 7,
   "metadata": {},
   "outputs": [],
   "source": [
    "diff_exp_data_dir = f'{project_dir_path}/Data/Pooled Differential Gene Expression/'"
   ]
  },
  {
   "cell_type": "markdown",
   "metadata": {},
   "source": [
    "Create directory for pickling objects"
   ]
  },
  {
   "cell_type": "code",
   "execution_count": 8,
   "metadata": {},
   "outputs": [],
   "source": [
    "pickled_objects_dir = f'{project_dir_path}/Data/Pickled Files/'\n",
    "if not os.path.exists(pickled_objects_dir):\n",
    "    os.makedirs(pickled_objects_dir)\n",
    "    \n",
    "#for degree series\n",
    "if not os.path.exists(pickled_objects_dir + f'Network Files/degree series'):\n",
    "    os.makedirs(pickled_objects_dir + f'Network Files/degree series')\n",
    "\n",
    "#for weighted degree series\n",
    "if not os.path.exists(pickled_objects_dir + f'Network Files/weighted degree series'):\n",
    "    os.makedirs(pickled_objects_dir + f'Network Files/weighted degree series')                \n",
    "\n",
    "#for eigenvector centrality series\n",
    "if not os.path.exists(pickled_objects_dir + f'Network Files/eigenvector centrality series'):\n",
    "    os.makedirs(pickled_objects_dir + f'Network Files/eigenvector centrality series')\n",
    "                \n",
    "#for networks\n",
    "if not os.path.exists(pickled_objects_dir + f'Network Files/networks'):\n",
    "    os.makedirs(pickled_objects_dir + f'Network Files/networks')\n",
    "                \n",
    "#for mean logFC series\n",
    "if not os.path.exists(pickled_objects_dir + f'Network Files/mean logFC network nodes series'):\n",
    "    os.makedirs(pickled_objects_dir + f'Network Files/mean logFC network nodes series')"
   ]
  },
  {
   "cell_type": "markdown",
   "metadata": {},
   "source": [
    "Set parameters for plotting"
   ]
  },
  {
   "cell_type": "code",
   "execution_count": 9,
   "metadata": {},
   "outputs": [],
   "source": [
    "plt.style.use('ggplot')\n",
    "plt.rcParams['lines.linewidth']=1.0\n",
    "plt.rcParams['axes.facecolor']='1.0'\n",
    "plt.rcParams['xtick.color']='black'\n",
    "plt.rcParams['axes.grid']=False\n",
    "plt.rcParams['axes.edgecolor']='black'\n",
    "plt.rcParams['grid.color']= '1.0'\n",
    "plt.rcParams.update({'font.size': 14})"
   ]
  },
  {
   "cell_type": "markdown",
   "metadata": {},
   "source": [
    "### *Function* for visualizing distribution of edge weights from pooled (significant) logFC changes across datasets"
   ]
  },
  {
   "cell_type": "code",
   "execution_count": 10,
   "metadata": {},
   "outputs": [],
   "source": [
    "def plot_distribution_of_edge_weights(ax, edge_weight_distr_counter_dict, plot_title, linecolor):\n",
    "    \n",
    "    #convert Counter dict to series\n",
    "    edge_weight_distr_series = pd.Series(edge_weight_distr_counter_dict).sort_index()\n",
    "    \n",
    "    #get the keys & values from Counter dict (with Edge Weight distr)\n",
    "    edge_weight_values = edge_weight_distr_series.index\n",
    "    edge_weight_count = edge_weight_distr_series.values\n",
    "    edge_weight_count_norm = np.array(edge_weight_count) / float(np.sum(edge_weight_count)) #normalize counts\n",
    "    \n",
    "    ax.bar(edge_weight_values , edge_weight_count_norm, color = 'white' , width = 1.0 , edgecolor='black', linewidth=0.5)\n",
    "    ax.bar(edge_weight_values[edge_weight_distr_series.index <= -3] , edge_weight_count_norm[edge_weight_distr_series.index <= -3], color = 'blue' , width = 1.0 , edgecolor='black', linewidth=0.5)\n",
    "    ax.bar(edge_weight_values[edge_weight_distr_series.index >= 3] , edge_weight_count_norm[edge_weight_distr_series.index >= 3], color = 'blue' , width = 1.0 , edgecolor='black', linewidth=0.5)\n",
    "    ax.plot(edge_weight_values , edge_weight_count_norm, color = linecolor , linewidth = 2.5)\n",
    "    \n",
    "    # calculate the number of the edges that had weight <= -3\n",
    "    negative_edge_weights_for_network = edge_weight_count[edge_weight_distr_series.index <= -3].sum()\n",
    "    \n",
    "    # calculate the number of the edges that had weight >= 3\n",
    "    positive_edge_weights_for_network = edge_weight_count[edge_weight_distr_series.index >= 3].sum()\n",
    "\n",
    "    ax.set_title(plot_title, fontsize = 12, color = 'k')\n",
    "    ax.set_ylabel('Proportion of Edges', fontsize = 12, color = 'k')\n",
    "    ax.set_xlabel(f'Edge Weights \\n (Num Edges <= -3: {negative_edge_weights_for_network}) \\n (Num Edges >= 3: {positive_edge_weights_for_network})' , fontsize = 12, color = 'k')\n",
    "\n",
    "    ax.spines['right'].set_visible(False)\n",
    "    ax.spines['top'].set_visible(False)\n",
    "    ax.grid(False)\n",
    "    ax.set_yscale('log')\n",
    "\n",
    "    ax.tick_params(labelcolor = 'k')\n",
    "    ax.tick_params(axis='y', which='major', labelsize=12 , labelcolor = 'k')\n",
    "    ax.tick_params(axis='x', which='major', labelsize=12 , labelcolor = 'k')\n",
    "    \n",
    "    for axis in [ax.yaxis]:\n",
    "        axis.set_major_formatter(FormatStrFormatter('%.5f'))\n",
    "        \n",
    "    ax.xaxis.set_major_locator(MaxNLocator(integer=True))"
   ]
  },
  {
   "cell_type": "markdown",
   "metadata": {},
   "source": [
    "## [1] Compute Edges (and corresponding weights) from pooled logFC matrix"
   ]
  },
  {
   "cell_type": "code",
   "execution_count": 11,
   "metadata": {},
   "outputs": [],
   "source": [
    "logFC_table_filename = f'{comparison_X}_signif_logFC_qval_thresh_{qval_thresh}.csv'\n",
    "\n",
    "# read in CSV file with significant logFC changes for genes between comparison X samples collected from various datasets\n",
    "diff_gene_exp_df = pd.read_csv(diff_exp_data_dir + logFC_table_filename).set_index('Unnamed: 0')\n",
    "diff_gene_exp_df.rename_axis('gene' , inplace = True)\n",
    "\n",
    "# Construct simplified matrix of logFC direction from DataFrame with significant logFC changes across all analyses by converting values:\n",
    "# +1 if logFC > 0\n",
    "#  0 if logFC = 0\n",
    "# -1 if logFC < 0\n",
    "\n",
    "# store copy of array from dataframe with sig. logFC values (rows = genes, columns = GSE ID)\n",
    "direc_diff_gene_exp_matrix = diff_gene_exp_df.copy().values \n",
    "\n",
    "# replace values in logFC matrix\n",
    "direc_diff_gene_exp_matrix[direc_diff_gene_exp_matrix > 0.0] = 1\n",
    "direc_diff_gene_exp_matrix[direc_diff_gene_exp_matrix == 0.0] = 0\n",
    "direc_diff_gene_exp_matrix[direc_diff_gene_exp_matrix < 0.0] = -1\n",
    "\n",
    "# convert to lower memory int8 datatype\n",
    "direc_diff_gene_exp_matrix = direc_diff_gene_exp_matrix.astype('int8')\n",
    "\n",
    "# compute the dot product between every two pairs of gene vectors (will calculate the edges weights for our network)\n",
    "# Compute $M \\cdot M^T \\text{ to get } i \\cdot j \\text{ , } \\forall \\text{ pairs of rows } i, j \\text{ in matrix } M$\n",
    "# multiply direction logFC matrix by its transpose to get the dot products between all pairs of rows\n",
    "network_edge_weight_matrix = direc_diff_gene_exp_matrix.dot(direc_diff_gene_exp_matrix.T)\n",
    "\n",
    "# the row/column annotation (genes) can be copied from the logFC differential gene expression DataFrame\n",
    "network_edge_weight_matrix_labels = pd.Series(list(diff_gene_exp_df.index) , index = range(0 , len(diff_gene_exp_df.index)))\n",
    "\n",
    "# DISTRIBUTION OF EDGE WEIGHTS\n",
    "\n",
    "#number of rows / columns\n",
    "num_genes = np.shape(network_edge_weight_matrix)[0]\n",
    "\n",
    "# retrieve the distribution of the Edge Weights by returning the upper triangular part of the matrix\n",
    "edge_weight_array = network_edge_weight_matrix[np.triu_indices(num_genes, k = 0)]\n",
    "\n",
    "#convert array to a Counter dict to save space (keys: edge weight values, values: count of edge weights in edge weight distribution)\n",
    "edge_weight_distr_counter_dict = Counter(list(edge_weight_array))"
   ]
  },
  {
   "cell_type": "code",
   "execution_count": 12,
   "metadata": {},
   "outputs": [
    {
     "data": {
      "text/plain": [
       "array([[0, 0, 0, ..., 0, 0, 0],\n",
       "       [0, 0, 0, ..., 0, 0, 0],\n",
       "       [0, 0, 0, ..., 0, 0, 0],\n",
       "       ...,\n",
       "       [0, 0, 0, ..., 0, 0, 0],\n",
       "       [0, 0, 0, ..., 0, 0, 0],\n",
       "       [0, 0, 0, ..., 0, 0, 0]], dtype=int8)"
      ]
     },
     "execution_count": 12,
     "metadata": {},
     "output_type": "execute_result"
    }
   ],
   "source": [
    "network_edge_weight_matrix"
   ]
  },
  {
   "cell_type": "code",
   "execution_count": 13,
   "metadata": {},
   "outputs": [
    {
     "data": {
      "text/plain": [
       "(23187, 23187)"
      ]
     },
     "execution_count": 13,
     "metadata": {},
     "output_type": "execute_result"
    }
   ],
   "source": [
    "np.shape(network_edge_weight_matrix)"
   ]
  },
  {
   "cell_type": "code",
   "execution_count": 14,
   "metadata": {},
   "outputs": [
    {
     "data": {
      "text/plain": [
       "0     SPOCK2\n",
       "1    HSFY1P1\n",
       "2     OR5H15\n",
       "3      ABCA8\n",
       "4      MEIS1\n",
       "dtype: object"
      ]
     },
     "execution_count": 14,
     "metadata": {},
     "output_type": "execute_result"
    }
   ],
   "source": [
    "network_edge_weight_matrix_labels.head()"
   ]
  },
  {
   "cell_type": "code",
   "execution_count": 15,
   "metadata": {},
   "outputs": [
    {
     "data": {
      "text/plain": [
       "(23187,)"
      ]
     },
     "execution_count": 15,
     "metadata": {},
     "output_type": "execute_result"
    }
   ],
   "source": [
    "np.shape(network_edge_weight_matrix_labels)"
   ]
  },
  {
   "cell_type": "code",
   "execution_count": 16,
   "metadata": {},
   "outputs": [
    {
     "data": {
      "image/png": "[encoded data removed]",
      "text/plain": [
       "<Figure size 540x396 with 1 Axes>"
      ]
     },
     "metadata": {},
     "output_type": "display_data"
    }
   ],
   "source": [
    "fig , ax = plt.subplots()\n",
    "\n",
    "plot_distribution_of_edge_weights(ax, edge_weight_distr_counter_dict, f'Distribution of Edge Weights for {comparison_X}', 'xkcd:green')\n",
    "\n",
    "fig = plt.gcf()\n",
    "fig.set_size_inches(7.5, 5.5)\n",
    "fig.tight_layout()\n",
    "\n",
    "file_name = f'{figures_dir_path}/{comparison_X}_distribution_of_edge_weights_in_network.pdf'\n",
    "plt.savefig(file_name, bbox_inches='tight', dpi = 300 , transparent = True)\n",
    "\n",
    "plt.show()"
   ]
  },
  {
   "cell_type": "markdown",
   "metadata": {},
   "source": [
    "#### minimum/maximum edge weights"
   ]
  },
  {
   "cell_type": "code",
   "execution_count": 17,
   "metadata": {},
   "outputs": [
    {
     "data": {
      "text/plain": [
       "-3"
      ]
     },
     "execution_count": 17,
     "metadata": {},
     "output_type": "execute_result"
    }
   ],
   "source": [
    "np.min(network_edge_weight_matrix)"
   ]
  },
  {
   "cell_type": "code",
   "execution_count": 18,
   "metadata": {},
   "outputs": [
    {
     "data": {
      "text/plain": [
       "5"
      ]
     },
     "execution_count": 18,
     "metadata": {},
     "output_type": "execute_result"
    }
   ],
   "source": [
    "np.max(network_edge_weight_matrix)"
   ]
  },
  {
   "cell_type": "markdown",
   "metadata": {},
   "source": [
    "## [2] Construct NetworkX graph from edge weight matrix"
   ]
  },
  {
   "cell_type": "markdown",
   "metadata": {},
   "source": [
    "#### Retrieve the indices for the upper-triangular part of the matrix, normalize edge weights & construct list of edges"
   ]
  },
  {
   "cell_type": "markdown",
   "metadata": {},
   "source": [
    "Have to (1) retrieve the edges from the upper-triangle of the matrix, (2) convert all to positive edge weights & (3) divide by the number of datasets"
   ]
  },
  {
   "cell_type": "code",
   "execution_count": 19,
   "metadata": {},
   "outputs": [],
   "source": [
    "#Return the upper triangular part of the matrix with elements in lower part ZEROED out\n",
    "upper_tri_network_edge_weight_matrix = np.triu(network_edge_weight_matrix, k = 0)\n",
    "\n",
    "#Return a boolean for elements in the upper triangular part of the matrix for elments that are <= -3 OR >= 3\n",
    "upper_tri_network_edge_weight_matrix_bool = abs(upper_tri_network_edge_weight_matrix) >= 3\n",
    "\n",
    "#get the indices for the elements in the upper triangle where elements (edge weights) <= -3 OR >= 3\n",
    "node_i_indices = upper_tri_network_edge_weight_matrix_bool.nonzero()[0]\n",
    "node_j_indices = upper_tri_network_edge_weight_matrix_bool.nonzero()[1]\n",
    "\n",
    "#get the normalization factor (number of datasets used to construct edge weights = maximum possible weight)\n",
    "edge_weight_norm_factor = float(num_datasets_per_comparison[comparison_X])\n",
    "\n",
    "#Create list of edges for NetworkX graph by iterating through numpy (adjancency) matrix (with edge weights) + node labels (rows/columns of matrix) & storing edges with weights <= -3 OR >= 3\n",
    "G_edge_list = [ ( network_edge_weight_matrix_labels[node_i], network_edge_weight_matrix_labels[node_j], (float(abs(network_edge_weight_matrix[node_i, node_j]))/edge_weight_norm_factor) ) for node_i, node_j in zip(node_i_indices, node_j_indices)]"
   ]
  },
  {
   "cell_type": "code",
   "execution_count": 20,
   "metadata": {},
   "outputs": [
    {
     "data": {
      "text/plain": [
       "[('SNORD3D', 'SNORD3D', 0.3),\n",
       " ('SNORD3D', 'SNORD3A', 0.3),\n",
       " ('GBP5', 'GBP5', 0.4),\n",
       " ('GBP5', 'WARS', 0.4),\n",
       " ('GBP5', 'FAM26F', 0.3),\n",
       " ('GBP5', 'SERPING1', 0.4),\n",
       " ('GBP5', 'HLA-DRB3', 0.3),\n",
       " ('GBP5', 'SEPT4', 0.3),\n",
       " ('GBP5', 'GBP4', 0.4),\n",
       " ('GBP5', 'P2RY14', 0.3)]"
      ]
     },
     "execution_count": 20,
     "metadata": {},
     "output_type": "execute_result"
    }
   ],
   "source": [
    "G_edge_list[0:10]"
   ]
  },
  {
   "cell_type": "code",
   "execution_count": 21,
   "metadata": {},
   "outputs": [
    {
     "data": {
      "text/plain": [
       "326"
      ]
     },
     "execution_count": 21,
     "metadata": {},
     "output_type": "execute_result"
    }
   ],
   "source": [
    "len(G_edge_list) #number of edges (gene-gene pairs with edge weights <= -3 OR >= 3)"
   ]
  },
  {
   "cell_type": "markdown",
   "metadata": {},
   "source": [
    "#### Construct NetworkX graph from list of Edges"
   ]
  },
  {
   "cell_type": "code",
   "execution_count": 22,
   "metadata": {},
   "outputs": [],
   "source": [
    "G = nx.Graph()\n",
    "G.add_weighted_edges_from(G_edge_list)"
   ]
  },
  {
   "cell_type": "code",
   "execution_count": 23,
   "metadata": {},
   "outputs": [
    {
     "name": "stdout",
     "output_type": "stream",
     "text": [
      "Name: \n",
      "Type: Graph\n",
      "Number of nodes: 67\n",
      "Number of edges: 326\n",
      "Average degree:   9.7313\n"
     ]
    }
   ],
   "source": [
    "print(nx.info(G))"
   ]
  },
  {
   "cell_type": "markdown",
   "metadata": {},
   "source": [
    "Pickle the network for downstream analysis"
   ]
  },
  {
   "cell_type": "code",
   "execution_count": 24,
   "metadata": {},
   "outputs": [],
   "source": [
    "nx.write_gpickle(G , pickled_objects_dir + f'Network Files/networks/{comparison_X}.pkl')"
   ]
  },
  {
   "cell_type": "markdown",
   "metadata": {},
   "source": [
    "## Visualize network"
   ]
  },
  {
   "cell_type": "markdown",
   "metadata": {},
   "source": [
    "Use **Spring Layout** to set the positions of the nodes"
   ]
  },
  {
   "cell_type": "code",
   "execution_count": 25,
   "metadata": {},
   "outputs": [],
   "source": [
    "pos = nx.spring_layout(G , k = 0.35 , weight = 'weight' , iterations = 100)"
   ]
  },
  {
   "cell_type": "code",
   "execution_count": 26,
   "metadata": {},
   "outputs": [
    {
     "data": {
      "image/png": "[encoded data removed]",
      "text/plain": [
       "<Figure size 648x648 with 1 Axes>"
      ]
     },
     "metadata": {},
     "output_type": "display_data"
    }
   ],
   "source": [
    "fig , ax = plt.subplots()\n",
    "\n",
    "nx.draw_networkx(\n",
    "    G, \n",
    "    pos = pos, \n",
    "    ax = ax,\n",
    "    node_size = 20, \n",
    "    node_color = 'xkcd:yellow',\n",
    "    edge_color = \"0.6\",\n",
    "    alpha = 0.2, \n",
    "    with_labels = False)\n",
    "\n",
    "fig = plt.gcf()\n",
    "fig.set_size_inches(9.0, 9.0)\n",
    "fig.tight_layout()\n",
    "\n",
    "file_name = f'{figures_dir_path}/{comparison_X}_network_visualization.pdf'\n",
    "plt.savefig(file_name, bbox_inches='tight', dpi = 300 , transparent = True)\n",
    "\n",
    "plt.show()"
   ]
  },
  {
   "cell_type": "markdown",
   "metadata": {},
   "source": [
    "### *Function* to color a subset of nodes differently"
   ]
  },
  {
   "cell_type": "code",
   "execution_count": 27,
   "metadata": {},
   "outputs": [],
   "source": [
    "def draw_graph_and_color_subset_nodes(G, nodes_in_group, ax):\n",
    "\n",
    "    '''\n",
    "    This function takes in a graph, list of a subset of nodes and axis object,\n",
    "    then draws the network with the subset of nodes colored seperately from the \n",
    "    rest of the nodes in the network\n",
    "    '''\n",
    "\n",
    "    #draw nodes NOT in the (subset) group\n",
    "    size_map = []\n",
    "    for node in G:\n",
    "        if node not in nodes_in_group:\n",
    "            size_map.append(25)\n",
    "        elif node in nodes_in_group:\n",
    "            size_map.append(0)\n",
    "\n",
    "    nx.draw_networkx(\n",
    "        G, \n",
    "        ax = ax,\n",
    "        pos=pos, \n",
    "        node_size=size_map, \n",
    "        node_color = 'xkcd:grey',\n",
    "        linewidths = 0.0,\n",
    "        edge_color=\"0.7\",\n",
    "        width=0.0,\n",
    "        alpha=0.25, \n",
    "        with_labels=False)\n",
    "\n",
    "    #draw nodes that ARE in the (subset) group\n",
    "    size_map = []\n",
    "    for node in G:\n",
    "        if node not in nodes_in_group:\n",
    "            size_map.append(0)\n",
    "        elif node in nodes_in_group:\n",
    "            size_map.append(25)\n",
    "\n",
    "    nx.draw_networkx(\n",
    "        G, \n",
    "        pos=pos, \n",
    "        ax = ax,\n",
    "        node_size=size_map, \n",
    "        node_color = 'xkcd:black',\n",
    "        linewidths = 0.0,\n",
    "        edge_color=\"0.7\",\n",
    "        width=0.0,\n",
    "        alpha=0.7, \n",
    "        with_labels=False)"
   ]
  },
  {
   "cell_type": "markdown",
   "metadata": {},
   "source": [
    "## [3] Centrality of Nodes from NetworkX graph"
   ]
  },
  {
   "cell_type": "markdown",
   "metadata": {},
   "source": [
    "Get a series of the **Degree** for each node"
   ]
  },
  {
   "cell_type": "code",
   "execution_count": 28,
   "metadata": {},
   "outputs": [],
   "source": [
    "node_list = [node_deg[0] for node_deg in list(G.degree())]\n",
    "degree_list = [node_deg[1] for node_deg in list(G.degree())]\n",
    "degree_series = pd.Series(degree_list , index = node_list).sort_values(ascending = False)"
   ]
  },
  {
   "cell_type": "markdown",
   "metadata": {},
   "source": [
    "Get a series of the **Weighted Degree** for each node"
   ]
  },
  {
   "cell_type": "code",
   "execution_count": 29,
   "metadata": {},
   "outputs": [],
   "source": [
    "node_list = [node_deg[0] for node_deg in list(G.degree(weight = 'weight'))]\n",
    "degree_list = [node_deg[1] for node_deg in list(G.degree(weight = 'weight'))]\n",
    "weighted_degree_series = pd.Series(degree_list , index = node_list).sort_values(ascending = False)"
   ]
  },
  {
   "cell_type": "markdown",
   "metadata": {},
   "source": [
    "Get a series of the **Eigenvector Centrality** for each node"
   ]
  },
  {
   "cell_type": "code",
   "execution_count": 30,
   "metadata": {},
   "outputs": [],
   "source": [
    "eigenvector_centrality_series = pd.Series(nx.eigenvector_centrality(G, weight = 'weight')).sort_values(ascending = False) #takes edge weight into account"
   ]
  },
  {
   "cell_type": "markdown",
   "metadata": {},
   "source": [
    "Pickle **Degree**, **Weighted Degree** and **Eigenvector Centrality** series for comparison with other networks"
   ]
  },
  {
   "cell_type": "code",
   "execution_count": 31,
   "metadata": {},
   "outputs": [],
   "source": [
    "degree_series.to_pickle(pickled_objects_dir + f'Network Files/degree series/{comparison_X}.pkl')\n",
    "weighted_degree_series.to_pickle(pickled_objects_dir + f'Network Files/weighted degree series/{comparison_X}.pkl')\n",
    "eigenvector_centrality_series.to_pickle(pickled_objects_dir + f'Network Files/eigenvector centrality series/{comparison_X}.pkl')"
   ]
  },
  {
   "cell_type": "markdown",
   "metadata": {},
   "source": [
    "Plot the distibution of **centrality** values for all nodes"
   ]
  },
  {
   "cell_type": "code",
   "execution_count": 32,
   "metadata": {},
   "outputs": [
    {
     "name": "stderr",
     "output_type": "stream",
     "text": [
      "/home/rv76/anaconda2/envs/py36_MRI_virtualenv/lib/python3.6/site-packages/ipykernel_launcher.py:51: UserWarning: This figure was using constrained_layout==True, but that is incompatible with subplots_adjust and or tight_layout: setting constrained_layout==False. \n"
     ]
    },
    {
     "data": {
      "image/png": "[encoded data removed]",
      "text/plain": [
       "<Figure size 1080x360 with 3 Axes>"
      ]
     },
     "metadata": {},
     "output_type": "display_data"
    }
   ],
   "source": [
    "fig = plt.figure(constrained_layout=True)\n",
    "\n",
    "gs = GridSpec(1, 3, figure=fig)\n",
    "\n",
    "ax1 = fig.add_subplot(gs[0, 0])\n",
    "ax2 = fig.add_subplot(gs[0, 1])\n",
    "ax3 = fig.add_subplot(gs[0, 2])\n",
    "\n",
    "#DEGREE CENTRALITY\n",
    "ax1.hist(degree_series , bins = 40, color = 'black' , rwidth = 1.0 , edgecolor='white', linewidth=0.75)\n",
    "\n",
    "ax1.set_ylabel('Number of Nodes', fontsize = 12, color = 'k')\n",
    "ax1.set_xlabel(f'Degree' , fontsize = 12, color = 'k')\n",
    "\n",
    "ax1.spines['right'].set_visible(False)\n",
    "ax1.spines['top'].set_visible(False)\n",
    "ax1.grid(False)\n",
    "ax1.tick_params(labelcolor = 'k')\n",
    "ax1.tick_params(axis='y', which='major', labelsize=12 , labelcolor = 'k')\n",
    "ax1.tick_params(axis='x', which='major', labelsize=12 , labelcolor = 'k')\n",
    "\n",
    "#WEIGHTED DEGREE CENTRALITY\n",
    "ax2.hist(weighted_degree_series , bins = 40, color = 'black' , rwidth = 1.0 , edgecolor='white', linewidth=0.75)\n",
    "\n",
    "ax2.set_ylabel('Number of Nodes', fontsize = 12, color = 'k')\n",
    "ax2.set_xlabel(f'Weighted Degree' , fontsize = 12, color = 'k')\n",
    "\n",
    "ax2.spines['right'].set_visible(False)\n",
    "ax2.spines['top'].set_visible(False)\n",
    "ax2.grid(False)\n",
    "ax2.tick_params(labelcolor = 'k')\n",
    "ax2.tick_params(axis='y', which='major', labelsize=12 , labelcolor = 'k')\n",
    "ax2.tick_params(axis='x', which='major', labelsize=12 , labelcolor = 'k')\n",
    "    \n",
    "#EIGENVECTOR CENTRALITY\n",
    "ax3.hist(eigenvector_centrality_series , bins = 40, color = 'black' , rwidth = 1.0 , edgecolor='white', linewidth=0.75)\n",
    "\n",
    "ax3.set_ylabel('Number of Nodes', fontsize = 12, color = 'k')\n",
    "ax3.set_xlabel(f'Eigenvector Centrality' , fontsize = 12, color = 'k')\n",
    "\n",
    "ax3.spines['right'].set_visible(False)\n",
    "ax3.spines['top'].set_visible(False)\n",
    "ax3.grid(False)\n",
    "ax3.tick_params(labelcolor = 'k')\n",
    "ax3.tick_params(axis='y', which='major', labelsize=12 , labelcolor = 'k')\n",
    "ax3.tick_params(axis='x', which='major', labelsize=12 , labelcolor = 'k')\n",
    "    \n",
    "################### Plot ###################\n",
    "fig = plt.gcf()\n",
    "fig.set_size_inches(15, 5.0)\n",
    "fig.tight_layout()\n",
    "\n",
    "file_name = f'{figures_dir_path}/{comparison_X}_network_centrality_distribution.pdf'\n",
    "plt.savefig(file_name, bbox_inches='tight', dpi = 300 , transparent = True)\n",
    "\n",
    "plt.show()"
   ]
  },
  {
   "cell_type": "code",
   "execution_count": 33,
   "metadata": {},
   "outputs": [
    {
     "name": "stderr",
     "output_type": "stream",
     "text": [
      "/home/rv76/anaconda2/envs/py36_MRI_virtualenv/lib/python3.6/site-packages/ipykernel_launcher.py:23: UserWarning: This figure was using constrained_layout==True, but that is incompatible with subplots_adjust and or tight_layout: setting constrained_layout==False. \n"
     ]
    },
    {
     "data": {
      "image/png": "[encoded data removed]",
      "text/plain": [
       "<Figure size 504x396 with 1 Axes>"
      ]
     },
     "metadata": {},
     "output_type": "display_data"
    }
   ],
   "source": [
    "fig = plt.figure(constrained_layout=True)\n",
    "\n",
    "gs = GridSpec(1, 1, figure=fig)\n",
    "\n",
    "ax2 = fig.add_subplot(gs[0])\n",
    "\n",
    "#WEIGHTED DEGREE CENTRALITY\n",
    "ax2.hist(weighted_degree_series , bins = 40, color = 'black' , rwidth = 1.0 , edgecolor='white', linewidth=0.75)\n",
    "\n",
    "ax2.set_ylabel('Number of Nodes', fontsize = 12, color = 'k')\n",
    "ax2.set_xlabel(f'Weighted Degree' , fontsize = 12, color = 'k')\n",
    "\n",
    "ax2.spines['right'].set_visible(False)\n",
    "ax2.spines['top'].set_visible(False)\n",
    "ax2.grid(False)\n",
    "ax2.tick_params(labelcolor = 'k')\n",
    "ax2.tick_params(axis='y', which='major', labelsize=12 , labelcolor = 'k')\n",
    "ax2.tick_params(axis='x', which='major', labelsize=12 , labelcolor = 'k')\n",
    "    \n",
    "################### Plot ###################\n",
    "fig = plt.gcf()\n",
    "fig.set_size_inches(7, 5.5)\n",
    "fig.tight_layout()\n",
    "\n",
    "file_name = f'{figures_dir_path}/{comparison_X}_network_weighted_degree_centrality_distribution.pdf'\n",
    "plt.savefig(file_name, bbox_inches='tight', dpi = 300 , transparent = True)\n",
    "\n",
    "plt.show()"
   ]
  },
  {
   "cell_type": "code",
   "execution_count": 34,
   "metadata": {},
   "outputs": [
    {
     "data": {
      "text/plain": [
       "BATF2     27\n",
       "VAMP5     26\n",
       "FCGR1A    26\n",
       "GBP1      22\n",
       "GBP5      22\n",
       "dtype: int64"
      ]
     },
     "execution_count": 34,
     "metadata": {},
     "output_type": "execute_result"
    }
   ],
   "source": [
    "degree_series.head(n=5)"
   ]
  },
  {
   "cell_type": "code",
   "execution_count": 35,
   "metadata": {},
   "outputs": [
    {
     "data": {
      "text/plain": [
       "BATF2     9.4\n",
       "VAMP5     9.0\n",
       "FCGR1A    9.0\n",
       "GBP1      7.3\n",
       "GBP5      7.3\n",
       "dtype: float64"
      ]
     },
     "execution_count": 35,
     "metadata": {},
     "output_type": "execute_result"
    }
   ],
   "source": [
    "weighted_degree_series.head(n=5)"
   ]
  },
  {
   "cell_type": "code",
   "execution_count": 36,
   "metadata": {},
   "outputs": [
    {
     "data": {
      "text/plain": [
       "BATF2     0.310594\n",
       "VAMP5     0.278795\n",
       "FCGR1A    0.278795\n",
       "GBP4      0.259283\n",
       "GBP5      0.259283\n",
       "dtype: float64"
      ]
     },
     "execution_count": 36,
     "metadata": {},
     "output_type": "execute_result"
    }
   ],
   "source": [
    "eigenvector_centrality_series.head(n=5)"
   ]
  },
  {
   "cell_type": "markdown",
   "metadata": {},
   "source": [
    "How does the ranking of centrality values between **Weighted Degree** and **Eigenvector** centrality compare?"
   ]
  },
  {
   "cell_type": "code",
   "execution_count": 37,
   "metadata": {},
   "outputs": [
    {
     "data": {
      "image/png": "[encoded data removed]",
      "text/plain": [
       "<Figure size 540x396 with 1 Axes>"
      ]
     },
     "metadata": {},
     "output_type": "display_data"
    }
   ],
   "source": [
    "fig , ax = plt.subplots()\n",
    "\n",
    "ax.scatter(weighted_degree_series[eigenvector_centrality_series.index], eigenvector_centrality_series , color = 'white' , linewidth=0.75 , edgecolor = 'black' , s = 20 , alpha = 0.75)\n",
    "\n",
    "#ax.set_title('Degree vs. Eigenvector Centrality', fontsize = 10, color = 'k')\n",
    "ax.set_ylabel('Eigenvector Centrality', fontsize = 12, color = 'k')\n",
    "ax.set_xlabel('Weighted Degree' , fontsize = 12, color = 'k')\n",
    "\n",
    "ax.spines['right'].set_visible(False)\n",
    "ax.spines['top'].set_visible(False)\n",
    "ax.grid(False)\n",
    "ax.tick_params(labelcolor = 'k')\n",
    "ax.tick_params(axis='y', which='major', labelsize=12 , labelcolor = 'k')\n",
    "ax.tick_params(axis='x', which='major', labelsize=12 , labelcolor = 'k')\n",
    "\n",
    "fig = plt.gcf()\n",
    "fig.set_size_inches(7.5, 5.5)\n",
    "fig.tight_layout()\n",
    "\n",
    "file_name = f'{figures_dir_path}/{comparison_X}_eigenvector_v_weighted_degree.pdf'\n",
    "plt.savefig(file_name, bbox_inches='tight', dpi = 300 , transparent = True)\n",
    "\n",
    "plt.show()"
   ]
  },
  {
   "cell_type": "code",
   "execution_count": 38,
   "metadata": {},
   "outputs": [
    {
     "name": "stdout",
     "output_type": "stream",
     "text": [
      "BATF2\n",
      "VAMP5\n",
      "FCGR1A\n",
      "GBP1\n",
      "GBP5\n",
      "WARS\n",
      "SERPING1\n",
      "GBP4\n",
      "ANKRD22\n",
      "FCGR1B\n"
     ]
    }
   ],
   "source": [
    "for edge in weighted_degree_series.head(n=10).index:\n",
    "    print(edge)"
   ]
  },
  {
   "cell_type": "markdown",
   "metadata": {},
   "source": [
    "Where are the **10** most **central** nodes located in the network?"
   ]
  },
  {
   "cell_type": "code",
   "execution_count": 39,
   "metadata": {},
   "outputs": [
    {
     "data": {
      "image/png": "[encoded data removed]",
      "text/plain": [
       "<Figure size 648x648 with 1 Axes>"
      ]
     },
     "metadata": {},
     "output_type": "display_data"
    }
   ],
   "source": [
    "central_nodes = set(weighted_degree_series[0:10].index)\n",
    "\n",
    "fig , ax = plt.subplots()\n",
    "\n",
    "draw_graph_and_color_subset_nodes(G, central_nodes, ax)\n",
    "\n",
    "fig = plt.gcf()\n",
    "fig.set_size_inches(9.0, 9.0)\n",
    "fig.tight_layout()\n",
    "\n",
    "file_name = f'{figures_dir_path}/{comparison_X}_top_10_weighted_nodes_in_network_visualization.pdf'\n",
    "plt.savefig(file_name, bbox_inches='tight', dpi = 300 , transparent = True)\n",
    "\n",
    "plt.show()"
   ]
  },
  {
   "cell_type": "markdown",
   "metadata": {},
   "source": [
    "## [4] Get mean $log_2$(Fold Change) for all genes in network"
   ]
  },
  {
   "cell_type": "markdown",
   "metadata": {},
   "source": [
    "Create a series that stores the mean $log2(FC)$ across datasets from the $log2(FC)$ matrix (rows = genes & columns = datasets)"
   ]
  },
  {
   "cell_type": "markdown",
   "metadata": {},
   "source": [
    "when averaging $log2(FC)$ across datasets, **include all** datasets (columns) (including non-zero & zero)\n",
    "\n",
    "- some datasets in which logFC for a gene = 0 are due to **q-value** threshold or **logFC** threshold or both"
   ]
  },
  {
   "cell_type": "code",
   "execution_count": 40,
   "metadata": {},
   "outputs": [
    {
     "name": "stderr",
     "output_type": "stream",
     "text": [
      "/home/rv76/anaconda2/envs/py36_MRI_virtualenv/lib/python3.6/site-packages/ipykernel_launcher.py:2: DeprecationWarning: The default dtype for empty Series will be 'object' instead of 'float64' in a future version. Specify a dtype explicitly to silence this warning.\n",
      "  \n"
     ]
    }
   ],
   "source": [
    "genes_in_network = list(G.nodes()) #get all nodes in the network\n",
    "mean_logFC_series = pd.Series(index = genes_in_network) #create series\n",
    "\n",
    "for gene_i in mean_logFC_series.index:\n",
    "    \n",
    "    #use code below to calculate average logFC for gene across ALL datasets/studies\n",
    "    gene_i_mean_logFC = diff_gene_exp_df.loc[gene_i , :].mean()\n",
    "    \n",
    "    #append to series\n",
    "    mean_logFC_series[gene_i] = gene_i_mean_logFC\n",
    "    \n",
    "mean_logFC_series.sort_values(inplace = True, ascending = False)"
   ]
  },
  {
   "cell_type": "code",
   "execution_count": 41,
   "metadata": {},
   "outputs": [
    {
     "data": {
      "text/plain": [
       "SEPT4       0.889510\n",
       "ANKRD22     0.828368\n",
       "C1QB        0.827058\n",
       "BATF2       0.751017\n",
       "SERPING1    0.732517\n",
       "dtype: float64"
      ]
     },
     "execution_count": 41,
     "metadata": {},
     "output_type": "execute_result"
    }
   ],
   "source": [
    "mean_logFC_series.head(n = 5)"
   ]
  },
  {
   "cell_type": "code",
   "execution_count": 42,
   "metadata": {},
   "outputs": [
    {
     "data": {
      "text/plain": [
       "SNORD3A   -0.112014\n",
       "SNORD3D   -0.118909\n",
       "S100A12   -0.119987\n",
       "ZDHHC19   -0.213950\n",
       "PCOLCE2   -0.259797\n",
       "dtype: float64"
      ]
     },
     "execution_count": 42,
     "metadata": {},
     "output_type": "execute_result"
    }
   ],
   "source": [
    "mean_logFC_series.tail(n = 5)"
   ]
  },
  {
   "cell_type": "code",
   "execution_count": 43,
   "metadata": {},
   "outputs": [
    {
     "data": {
      "text/plain": [
       "(67,)"
      ]
     },
     "execution_count": 43,
     "metadata": {},
     "output_type": "execute_result"
    }
   ],
   "source": [
    "np.shape(mean_logFC_series)"
   ]
  },
  {
   "cell_type": "markdown",
   "metadata": {},
   "source": [
    "#### Plot the distribution of mean logFC for genes (nodes) in the network"
   ]
  },
  {
   "cell_type": "code",
   "execution_count": 44,
   "metadata": {},
   "outputs": [
    {
     "data": {
      "image/png": "[encoded data removed]",
      "text/plain": [
       "<Figure size 504x396 with 1 Axes>"
      ]
     },
     "metadata": {},
     "output_type": "display_data"
    }
   ],
   "source": [
    "fig , ax = plt.subplots()\n",
    "\n",
    "n, bins, patches = ax.hist(mean_logFC_series , bins = 70, color = 'black' , rwidth = 1.0 , edgecolor='white', linewidth=0.75)\n",
    "\n",
    "ax.set_title(f'distribution of mean log2(FC) for genes in network', fontsize = 12, color = 'k')\n",
    "ax.set_ylabel(f'number of genes (nodes)', fontsize = 12, color = 'k')\n",
    "ax.set_xlabel('mean log2(FC) across datasets' , fontsize = 12, color = 'k')\n",
    "\n",
    "ax.spines['right'].set_visible(False)\n",
    "ax.spines['top'].set_visible(False)\n",
    "ax.grid(False)\n",
    "ax.tick_params(labelcolor = 'k')\n",
    "ax.tick_params(axis='y', which='major', labelsize=12 , labelcolor = 'k')\n",
    "ax.tick_params(axis='x', which='major', labelsize=12 , labelcolor = 'k')\n",
    "\n",
    "fig = plt.gcf()\n",
    "fig.set_size_inches(7.0, 5.5)\n",
    "fig.tight_layout()\n",
    "\n",
    "file_name = f'{figures_dir_path}/{comparison_X}_network_logFC_distribution.pdf'\n",
    "plt.savefig(file_name, bbox_inches='tight', dpi = 300 , transparent = True)\n",
    "\n",
    "plt.show()"
   ]
  },
  {
   "cell_type": "markdown",
   "metadata": {},
   "source": [
    "Pickle **mean $log2(FC)$** series for comparison with other networks and downstream analysis"
   ]
  },
  {
   "cell_type": "code",
   "execution_count": 45,
   "metadata": {},
   "outputs": [],
   "source": [
    "mean_logFC_series.to_pickle(pickled_objects_dir + f'Network Files/mean logFC network nodes series/{comparison_X}.pkl')"
   ]
  },
  {
   "cell_type": "code",
   "execution_count": null,
   "metadata": {},
   "outputs": [],
   "source": []
  }
 ],
 "metadata": {
  "kernelspec": {
   "display_name": "Python [conda env:py36_MRI_virtualenv]",
   "language": "python",
   "name": "conda-env-py36_MRI_virtualenv-py"
  },
  "language_info": {
   "codemirror_mode": {
    "name": "ipython",
    "version": 3
   },
   "file_extension": ".py",
   "mimetype": "text/x-python",
   "name": "python",
   "nbconvert_exporter": "python",
   "pygments_lexer": "ipython3",
   "version": "3.6.10"
  }
 },
 "nbformat": 4,
 "nbformat_minor": 4
}

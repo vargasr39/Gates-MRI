{
 "cells": [
  {
   "cell_type": "code",
   "execution_count": 1,
   "metadata": {},
   "outputs": [
    {
     "data": {
      "text/html": [
       "<style>.container { width:100% !important; }</style>"
      ],
      "text/plain": [
       "<IPython.core.display.HTML object>"
      ]
     },
     "metadata": {},
     "output_type": "display_data"
    }
   ],
   "source": [
    "from IPython.core.display import display, HTML\n",
    "display(HTML(\"<style>.container { width:100% !important; }</style>\"))\n",
    "%matplotlib inline"
   ]
  },
  {
   "cell_type": "code",
   "execution_count": 2,
   "metadata": {},
   "outputs": [],
   "source": [
    "project_dir_path = '/n/data1/hms/dbmi/farhat/Roger/gatesMRI/Projects/Biomarkers'"
   ]
  },
  {
   "cell_type": "markdown",
   "metadata": {},
   "source": [
    "#### Load Packages"
   ]
  },
  {
   "cell_type": "code",
   "execution_count": 3,
   "metadata": {},
   "outputs": [],
   "source": [
    "import os\n",
    "import pandas as pd\n",
    "import numpy as np\n",
    "import matplotlib.pyplot as plt\n",
    "import matplotlib as mpl\n",
    "from matplotlib.ticker import FormatStrFormatter\n",
    "from matplotlib.ticker import MaxNLocator\n",
    "from matplotlib.gridspec import GridSpec\n",
    "import matplotlib.pylab as pl\n",
    "import matplotlib.colors as mcolors\n",
    "import matplotlib.patches as mpatches\n",
    "import fastcluster\n",
    "from scipy.cluster.hierarchy import dendrogram\n",
    "import scipy.cluster.hierarchy as hier\n",
    "import networkx as nx\n",
    "import networkx.algorithms.community as nxcom\n",
    "import community\n",
    "from collections import Counter\n",
    "import pickle\n",
    "from collections import defaultdict\n",
    "import gseapy as gp\n",
    "import warnings\n",
    "warnings.filterwarnings('ignore')"
   ]
  },
  {
   "cell_type": "markdown",
   "metadata": {},
   "source": [
    "Create directory for figures"
   ]
  },
  {
   "cell_type": "code",
   "execution_count": 4,
   "metadata": {},
   "outputs": [],
   "source": [
    "figures_dir_path = f'{project_dir_path}/Figures/Notebook 8'\n",
    "if not os.path.exists(figures_dir_path):\n",
    "    os.makedirs(figures_dir_path)"
   ]
  },
  {
   "cell_type": "markdown",
   "metadata": {},
   "source": [
    "Specify directory paths"
   ]
  },
  {
   "cell_type": "code",
   "execution_count": 5,
   "metadata": {},
   "outputs": [],
   "source": [
    "#directory for Pickled Objects\n",
    "pickled_objects_dir = f'{project_dir_path}/Data/Pickled Files/'\n",
    "\n",
    "#directory for Data\n",
    "Data_files_dir = f'{project_dir_path}/Data/'\n",
    "\n",
    "#directory for Gene Set Files\n",
    "Gene_Set_dir = f'{project_dir_path}/Data/Gene Set Files/CSV files/'"
   ]
  },
  {
   "cell_type": "markdown",
   "metadata": {},
   "source": [
    "Set parameters for plotting"
   ]
  },
  {
   "cell_type": "code",
   "execution_count": 6,
   "metadata": {},
   "outputs": [],
   "source": [
    "plt.style.use('ggplot')\n",
    "plt.rcParams['lines.linewidth']=1.0\n",
    "plt.rcParams['axes.facecolor']='1.0'\n",
    "plt.rcParams['xtick.color']='black'\n",
    "plt.rcParams['axes.grid']=False\n",
    "plt.rcParams['axes.edgecolor']='black'\n",
    "plt.rcParams['grid.color']= '1.0'\n",
    "plt.rcParams.update({'font.size': 14})"
   ]
  },
  {
   "cell_type": "markdown",
   "metadata": {},
   "source": [
    "Choose a comparison group"
   ]
  },
  {
   "cell_type": "code",
   "execution_count": 7,
   "metadata": {},
   "outputs": [],
   "source": [
    "comparison_X = 'ATB_v_OD'"
   ]
  },
  {
   "cell_type": "markdown",
   "metadata": {},
   "source": [
    "## [1] Load Data"
   ]
  },
  {
   "cell_type": "markdown",
   "metadata": {},
   "source": [
    "#### Network"
   ]
  },
  {
   "cell_type": "code",
   "execution_count": 8,
   "metadata": {},
   "outputs": [],
   "source": [
    "G = nx.read_gpickle(pickled_objects_dir + f'Network Files/networks/{comparison_X}.pkl')"
   ]
  },
  {
   "cell_type": "code",
   "execution_count": 9,
   "metadata": {},
   "outputs": [
    {
     "name": "stdout",
     "output_type": "stream",
     "text": [
      "Name: \n",
      "Type: Graph\n",
      "Number of nodes: 67\n",
      "Number of edges: 326\n",
      "Average degree:   9.7313\n"
     ]
    }
   ],
   "source": [
    "print(nx.info(G))"
   ]
  },
  {
   "cell_type": "code",
   "execution_count": 10,
   "metadata": {},
   "outputs": [],
   "source": [
    "num_nodes_overall_network = int(len(G.nodes()))"
   ]
  },
  {
   "cell_type": "markdown",
   "metadata": {},
   "source": [
    "#### Weighted Degrees for Nodes (genes)"
   ]
  },
  {
   "cell_type": "code",
   "execution_count": 11,
   "metadata": {},
   "outputs": [],
   "source": [
    "weighted_deg_series = pd.read_pickle(pickled_objects_dir + f'Network Files/weighted degree series/{comparison_X}.pkl')"
   ]
  },
  {
   "cell_type": "code",
   "execution_count": 12,
   "metadata": {},
   "outputs": [
    {
     "data": {
      "text/plain": [
       "(67,)"
      ]
     },
     "execution_count": 12,
     "metadata": {},
     "output_type": "execute_result"
    }
   ],
   "source": [
    "np.shape(weighted_deg_series)"
   ]
  },
  {
   "cell_type": "markdown",
   "metadata": {},
   "source": [
    "#### Mean $log_2(Fold Change)$ for Nodes (genes)"
   ]
  },
  {
   "cell_type": "code",
   "execution_count": 13,
   "metadata": {},
   "outputs": [],
   "source": [
    "mean_logFC_series = pd.read_pickle(pickled_objects_dir + f'Network Files/mean logFC network nodes series/{comparison_X}.pkl')"
   ]
  },
  {
   "cell_type": "code",
   "execution_count": 14,
   "metadata": {},
   "outputs": [
    {
     "data": {
      "text/plain": [
       "(67,)"
      ]
     },
     "execution_count": 14,
     "metadata": {},
     "output_type": "execute_result"
    }
   ],
   "source": [
    "np.shape(mean_logFC_series)"
   ]
  },
  {
   "cell_type": "markdown",
   "metadata": {},
   "source": [
    "Compile into DataFrame"
   ]
  },
  {
   "cell_type": "code",
   "execution_count": 15,
   "metadata": {},
   "outputs": [],
   "source": [
    "G_deg_logFC_df = pd.DataFrame(index = mean_logFC_series.index)\n",
    "G_deg_logFC_df['mean_log2FC'] = mean_logFC_series.values\n",
    "G_deg_logFC_df['weighted_degree'] = weighted_deg_series[mean_logFC_series.index].values"
   ]
  },
  {
   "cell_type": "code",
   "execution_count": 16,
   "metadata": {},
   "outputs": [
    {
     "data": {
      "text/html": [
       "<div>\n",
       "<style scoped>\n",
       "    .dataframe tbody tr th:only-of-type {\n",
       "        vertical-align: middle;\n",
       "    }\n",
       "\n",
       "    .dataframe tbody tr th {\n",
       "        vertical-align: top;\n",
       "    }\n",
       "\n",
       "    .dataframe thead th {\n",
       "        text-align: right;\n",
       "    }\n",
       "</style>\n",
       "<table border=\"1\" class=\"dataframe\">\n",
       "  <thead>\n",
       "    <tr style=\"text-align: right;\">\n",
       "      <th></th>\n",
       "      <th>mean_log2FC</th>\n",
       "      <th>weighted_degree</th>\n",
       "    </tr>\n",
       "  </thead>\n",
       "  <tbody>\n",
       "    <tr>\n",
       "      <th>SEPT4</th>\n",
       "      <td>0.889510</td>\n",
       "      <td>5.7</td>\n",
       "    </tr>\n",
       "    <tr>\n",
       "      <th>ANKRD22</th>\n",
       "      <td>0.828368</td>\n",
       "      <td>6.1</td>\n",
       "    </tr>\n",
       "    <tr>\n",
       "      <th>C1QB</th>\n",
       "      <td>0.827058</td>\n",
       "      <td>5.4</td>\n",
       "    </tr>\n",
       "    <tr>\n",
       "      <th>BATF2</th>\n",
       "      <td>0.751017</td>\n",
       "      <td>9.4</td>\n",
       "    </tr>\n",
       "    <tr>\n",
       "      <th>SERPING1</th>\n",
       "      <td>0.732517</td>\n",
       "      <td>7.3</td>\n",
       "    </tr>\n",
       "  </tbody>\n",
       "</table>\n",
       "</div>"
      ],
      "text/plain": [
       "          mean_log2FC  weighted_degree\n",
       "SEPT4        0.889510              5.7\n",
       "ANKRD22      0.828368              6.1\n",
       "C1QB         0.827058              5.4\n",
       "BATF2        0.751017              9.4\n",
       "SERPING1     0.732517              7.3"
      ]
     },
     "execution_count": 16,
     "metadata": {},
     "output_type": "execute_result"
    }
   ],
   "source": [
    "G_deg_logFC_df.head()"
   ]
  },
  {
   "cell_type": "markdown",
   "metadata": {},
   "source": [
    "## [2] Get sub-network constructed from retaining only nodes with $mean(logFC) \\ge 0.5$ & detect communities"
   ]
  },
  {
   "cell_type": "markdown",
   "metadata": {},
   "source": [
    "### *Functions* to retrieve node colors based of node values (i.e. weighted degree, logFC for gene)"
   ]
  },
  {
   "cell_type": "code",
   "execution_count": 17,
   "metadata": {},
   "outputs": [],
   "source": [
    "def get_node_colors_continuous(node_values):\n",
    "    \n",
    "    '''\n",
    "    This function takes a list of values for each node and color map, \n",
    "    normalizes the colormap and assigns each node a color from a \n",
    "    color map based on normalized map. Returns a list of colors for nodes.\n",
    "    '''\n",
    "    \n",
    "    #load mpl colormap and normalize to data\n",
    "    color_scheme = plt.get_cmap('RdYlBu_r')\n",
    "    norm = mpl.colors.Normalize(vmin = min(node_values), vmax = max(node_values)) #get the normalization\n",
    "    color_scheme_norm = mpl.cm.ScalarMappable(norm = norm, cmap = color_scheme) #normalize the color map to the min/max values of the node values\n",
    "    \n",
    "    #get color for each node from color map\n",
    "    color_map = []\n",
    "    for node_value in node_values:\n",
    "        color_map.append(color_scheme_norm.to_rgba(node_value))\n",
    "        \n",
    "    return [color_map, norm, color_scheme]"
   ]
  },
  {
   "cell_type": "code",
   "execution_count": 18,
   "metadata": {},
   "outputs": [],
   "source": [
    "def discrete_cmap(N, base_cmap=None):\n",
    "    \"\"\"Create an N-bin discrete colormap from the specified input map\"\"\"\n",
    "\n",
    "    # Note that if base_cmap is a string or None, you can simply do\n",
    "    #    return plt.cm.get_cmap(base_cmap, N)\n",
    "    # The following works for string, None, or a colormap instance:\n",
    "\n",
    "    base = plt.cm.get_cmap(base_cmap)\n",
    "    color_list = base(np.linspace(0, 1, N))\n",
    "    cmap_name = base.name + str(N)\n",
    "    return base.from_list(cmap_name, color_list, N)"
   ]
  },
  {
   "cell_type": "code",
   "execution_count": 19,
   "metadata": {},
   "outputs": [],
   "source": [
    "def get_node_colors_discrete(node_values):\n",
    "    \n",
    "    '''\n",
    "    This function takes a list of values for each node and color map, \n",
    "    normalizes the colormap and assigns each node a color from a \n",
    "    color map based on normalized map. Returns a list of colors for nodes.\n",
    "    '''\n",
    "    \n",
    "    #load mpl colormap and normalize to data\n",
    "    color_scheme = discrete_cmap(5, 'RdYlBu_r')\n",
    "    norm = mpl.colors.Normalize(vmin = -1*max(abs(min(node_values)),max(node_values)), vmax = max(abs(min(node_values)),max(node_values))) #get the normalization\n",
    "    color_scheme_norm = mpl.cm.ScalarMappable(norm = norm, cmap = color_scheme) #normalize the color map to the min/max values of the node values\n",
    "\n",
    "    #get color for each node from color map\n",
    "    color_map = []\n",
    "    for node_value in node_values:\n",
    "        color_map.append(color_scheme_norm.to_rgba(node_value))\n",
    "        \n",
    "    return [color_map, norm, color_scheme]"
   ]
  },
  {
   "cell_type": "markdown",
   "metadata": {},
   "source": [
    "### *Function* to visualize network by weighted degree & logFC based on gene values"
   ]
  },
  {
   "cell_type": "code",
   "execution_count": 20,
   "metadata": {},
   "outputs": [],
   "source": [
    "def visualize_network_color_by_weighted_deg_and_logFC(G, pos, fig_name = None):\n",
    "    \n",
    "    #weighted degree for nodes in this network\n",
    "    node_list = [node_deg[0] for node_deg in list(G.degree(weight = 'weight'))]\n",
    "    degree_list = [node_deg[1] for node_deg in list(G.degree(weight = 'weight'))]\n",
    "    node_weighted_deg_values = pd.Series(degree_list , index = node_list) / float(len(node_list)) #normalize by # of nodes\n",
    "    \n",
    "    #logFC for nodes in this network\n",
    "    node_logFC_values = G_deg_logFC_df.mean_log2FC[list(G.nodes)] \n",
    "    \n",
    "    fig = plt.figure(constrained_layout=True)\n",
    "\n",
    "    gs = GridSpec(2, 3, figure=fig, height_ratios = [13,1])\n",
    "\n",
    "    ax1 = fig.add_subplot(gs[0, 0])\n",
    "    ax2 = fig.add_subplot(gs[0, 1])\n",
    "    ax3 = fig.add_subplot(gs[0, 2])\n",
    "    ax5 = fig.add_subplot(gs[1, 1])\n",
    "    ax6 = fig.add_subplot(gs[1, 2])\n",
    "    \n",
    "    #color nodes with edges\n",
    "    nx.draw_networkx(\n",
    "        G, \n",
    "        pos = pos, \n",
    "        ax = ax1,\n",
    "        node_size = 45, \n",
    "        node_color = 'xkcd:black',\n",
    "        linewidths = 0.0,\n",
    "        edge_color = \"0.8\",\n",
    "        width=0.2,\n",
    "        alpha = 1.0, \n",
    "        with_labels = False)\n",
    "    ax1.collections[0].set_edgecolor(\"black\") #color of the node outlines\n",
    "    \n",
    "    #color nodes by weighted deg \n",
    "    node_colors , color_bar_norm , color_scheme = get_node_colors_continuous(node_weighted_deg_values)\n",
    "    nx.draw_networkx(\n",
    "        G, \n",
    "        pos = pos, \n",
    "        ax = ax2,\n",
    "        node_size = 45, \n",
    "        node_color = node_colors,\n",
    "        linewidths = 0.2, #width of the node outlines\n",
    "        edge_color = \"0.83\",\n",
    "        width=0.0,\n",
    "        alpha = 1.0, \n",
    "        with_labels = False)\n",
    "    ax2.collections[0].set_edgecolor(\"black\") #color of the node outlines\n",
    "    cb1 = mpl.colorbar.ColorbarBase(ax5, cmap = color_scheme, norm = color_bar_norm, orientation='horizontal')\n",
    "    cb1.set_label('Weighted Degree', fontsize = 14, color = 'k', weight = 'bold')\n",
    "    \n",
    "    #color nodes by logFC\n",
    "    node_colors , color_bar_norm , color_scheme = get_node_colors_discrete(node_logFC_values)\n",
    "    nx.draw_networkx(\n",
    "        G, \n",
    "        pos = pos, \n",
    "        ax = ax3,\n",
    "        node_size = 45, \n",
    "        node_color = node_colors,\n",
    "        linewidths = 0.2,\n",
    "        edge_color = \"0.83\",\n",
    "        width=0.0,\n",
    "        alpha = 1.0, \n",
    "        with_labels = False)\n",
    "    ax3.collections[0].set_edgecolor(\"black\") #color of the node outlines\n",
    "    cb2 = mpl.colorbar.ColorbarBase(ax6, cmap = color_scheme, norm = color_bar_norm, orientation='horizontal')\n",
    "    cb2.set_label('Mean logFC', fontsize = 14, color = 'k', weight = 'bold')\n",
    "\n",
    "    ################### Plot\n",
    "    fig = plt.gcf()\n",
    "    fig.set_size_inches(24.5, 9.0)\n",
    "    fig.tight_layout()\n",
    "    \n",
    "    if fig_name != None:\n",
    "        file_name = f'{figures_dir_path}/{comparison_X} {fig_name}.pdf'\n",
    "        plt.savefig(file_name, bbox_inches='tight', dpi = 300 , transparent = True)\n",
    "\n",
    "    plt.show()"
   ]
  },
  {
   "cell_type": "markdown",
   "metadata": {},
   "source": [
    "### [2.1] Get most heavily weighted edges that pass optimal threshold & construct sub-graph"
   ]
  },
  {
   "cell_type": "code",
   "execution_count": 21,
   "metadata": {},
   "outputs": [
    {
     "data": {
      "text/plain": [
       "12"
      ]
     },
     "execution_count": 21,
     "metadata": {},
     "output_type": "execute_result"
    }
   ],
   "source": [
    "len(G_deg_logFC_df.mean_log2FC[abs(G_deg_logFC_df.mean_log2FC) >= 0.5].index)"
   ]
  },
  {
   "cell_type": "code",
   "execution_count": 22,
   "metadata": {},
   "outputs": [],
   "source": [
    "#get the nodes in the network that pass the logFC threshold\n",
    "nodes_high_abs_logFC_subset = list(G_deg_logFC_df.mean_log2FC[abs(G_deg_logFC_df.mean_log2FC) >= 0.5].index)\n",
    "\n",
    "#get the SUBGRAPH induced by the most these nodes (correspond to genes with >> |logFC|)\n",
    "S = G.subgraph(nodes_high_abs_logFC_subset)"
   ]
  },
  {
   "cell_type": "code",
   "execution_count": 23,
   "metadata": {},
   "outputs": [
    {
     "name": "stdout",
     "output_type": "stream",
     "text": [
      "Name: \n",
      "Type: Graph\n",
      "Number of nodes: 12\n",
      "Number of edges: 56\n",
      "Average degree:   9.3333\n"
     ]
    }
   ],
   "source": [
    "print(nx.info(S))"
   ]
  },
  {
   "cell_type": "markdown",
   "metadata": {},
   "source": [
    "Use **Spring Layout** to set the positions of the nodes"
   ]
  },
  {
   "cell_type": "code",
   "execution_count": 24,
   "metadata": {},
   "outputs": [],
   "source": [
    "pos = nx.spring_layout(S , weight = 'weight' , iterations = 350 , k = 3.75)"
   ]
  },
  {
   "cell_type": "code",
   "execution_count": 25,
   "metadata": {},
   "outputs": [
    {
     "data": {
      "image/png": "[encoded data removed]",
      "text/plain": [
       "<Figure size 1764x648 with 5 Axes>"
      ]
     },
     "metadata": {},
     "output_type": "display_data"
    }
   ],
   "source": [
    "visualize_network_color_by_weighted_deg_and_logFC(S, pos, 'network colored by weighted deg and mean logFC nodes with high logFC')"
   ]
  },
  {
   "cell_type": "markdown",
   "metadata": {},
   "source": [
    "### [2.2] Run gene-enrichment analysis on genes within subnetwork"
   ]
  },
  {
   "cell_type": "markdown",
   "metadata": {},
   "source": [
    "#### Load and prepare gene sets"
   ]
  },
  {
   "cell_type": "markdown",
   "metadata": {},
   "source": [
    "DataFrame for the Gene Sets (excel files from Wen-Han)"
   ]
  },
  {
   "cell_type": "code",
   "execution_count": 26,
   "metadata": {},
   "outputs": [],
   "source": [
    "GeneSets_df = pd.read_csv(f'{Gene_Set_dir}GeneModule.csv')\n",
    "\n",
    "#subset to the IMMUNE modules\n",
    "GeneSets_IMMUNE_df = GeneSets_df.loc[0:258, :] # 'LI' Immune Gene Sets\n",
    "#GeneSets_IMMUNE_df = GeneSets_df.loc[259:297, :] # 'DC' Immune Gene Sets\n",
    "\n",
    "#subset to the REACTOME modules\n",
    "GeneSets_REACTOME_df = GeneSets_df.loc[993:1666, :]"
   ]
  },
  {
   "cell_type": "code",
   "execution_count": 27,
   "metadata": {},
   "outputs": [
    {
     "data": {
      "text/html": [
       "<div>\n",
       "<style scoped>\n",
       "    .dataframe tbody tr th:only-of-type {\n",
       "        vertical-align: middle;\n",
       "    }\n",
       "\n",
       "    .dataframe tbody tr th {\n",
       "        vertical-align: top;\n",
       "    }\n",
       "\n",
       "    .dataframe thead th {\n",
       "        text-align: right;\n",
       "    }\n",
       "</style>\n",
       "<table border=\"1\" class=\"dataframe\">\n",
       "  <thead>\n",
       "    <tr style=\"text-align: right;\">\n",
       "      <th></th>\n",
       "      <th>ID</th>\n",
       "      <th>Title</th>\n",
       "      <th>Category</th>\n",
       "      <th>B</th>\n",
       "    </tr>\n",
       "  </thead>\n",
       "  <tbody>\n",
       "    <tr>\n",
       "      <th>0</th>\n",
       "      <td>LI.M0</td>\n",
       "      <td>targets of FOSL1/2</td>\n",
       "      <td>TF targets</td>\n",
       "      <td>12</td>\n",
       "    </tr>\n",
       "    <tr>\n",
       "      <th>1</th>\n",
       "      <td>LI.M1.0</td>\n",
       "      <td>integrin cell surface interactions (I)</td>\n",
       "      <td>molecular function</td>\n",
       "      <td>29</td>\n",
       "    </tr>\n",
       "    <tr>\n",
       "      <th>2</th>\n",
       "      <td>LI.M1.1</td>\n",
       "      <td>integrin cell surface interactions (II)</td>\n",
       "      <td>molecular function</td>\n",
       "      <td>12</td>\n",
       "    </tr>\n",
       "    <tr>\n",
       "      <th>3</th>\n",
       "      <td>LI.M2.0</td>\n",
       "      <td>extracellular matrix (I)</td>\n",
       "      <td>location</td>\n",
       "      <td>30</td>\n",
       "    </tr>\n",
       "    <tr>\n",
       "      <th>4</th>\n",
       "      <td>LI.M2.1</td>\n",
       "      <td>extracellular matrix (II)</td>\n",
       "      <td>location</td>\n",
       "      <td>45</td>\n",
       "    </tr>\n",
       "  </tbody>\n",
       "</table>\n",
       "</div>"
      ],
      "text/plain": [
       "        ID                                    Title            Category   B\n",
       "0    LI.M0                       targets of FOSL1/2          TF targets  12\n",
       "1  LI.M1.0   integrin cell surface interactions (I)  molecular function  29\n",
       "2  LI.M1.1  integrin cell surface interactions (II)  molecular function  12\n",
       "3  LI.M2.0                 extracellular matrix (I)            location  30\n",
       "4  LI.M2.1                extracellular matrix (II)            location  45"
      ]
     },
     "execution_count": 27,
     "metadata": {},
     "output_type": "execute_result"
    }
   ],
   "source": [
    "GeneSets_IMMUNE_df.head()"
   ]
  },
  {
   "cell_type": "code",
   "execution_count": 28,
   "metadata": {},
   "outputs": [
    {
     "data": {
      "text/plain": [
       "(259, 4)"
      ]
     },
     "execution_count": 28,
     "metadata": {},
     "output_type": "execute_result"
    }
   ],
   "source": [
    "np.shape(GeneSets_IMMUNE_df)"
   ]
  },
  {
   "cell_type": "code",
   "execution_count": 29,
   "metadata": {},
   "outputs": [
    {
     "data": {
      "text/html": [
       "<div>\n",
       "<style scoped>\n",
       "    .dataframe tbody tr th:only-of-type {\n",
       "        vertical-align: middle;\n",
       "    }\n",
       "\n",
       "    .dataframe tbody tr th {\n",
       "        vertical-align: top;\n",
       "    }\n",
       "\n",
       "    .dataframe thead th {\n",
       "        text-align: right;\n",
       "    }\n",
       "</style>\n",
       "<table border=\"1\" class=\"dataframe\">\n",
       "  <thead>\n",
       "    <tr style=\"text-align: right;\">\n",
       "      <th></th>\n",
       "      <th>ID</th>\n",
       "      <th>Title</th>\n",
       "      <th>Category</th>\n",
       "      <th>B</th>\n",
       "    </tr>\n",
       "  </thead>\n",
       "  <tbody>\n",
       "    <tr>\n",
       "      <th>993</th>\n",
       "      <td>M19193</td>\n",
       "      <td>Reactome glycogen breakdown glycogenolysis</td>\n",
       "      <td>C2:CP:REACTOME</td>\n",
       "      <td>18</td>\n",
       "    </tr>\n",
       "    <tr>\n",
       "      <th>994</th>\n",
       "      <td>M8229</td>\n",
       "      <td>Reactome translation</td>\n",
       "      <td>C2:CP:REACTOME</td>\n",
       "      <td>222</td>\n",
       "    </tr>\n",
       "    <tr>\n",
       "      <th>995</th>\n",
       "      <td>M10654</td>\n",
       "      <td>Reactome pyrimidine catabolism</td>\n",
       "      <td>C2:CP:REACTOME</td>\n",
       "      <td>12</td>\n",
       "    </tr>\n",
       "    <tr>\n",
       "      <th>996</th>\n",
       "      <td>M486</td>\n",
       "      <td>Reactome rna pol iii transcription initiation ...</td>\n",
       "      <td>C2:CP:REACTOME</td>\n",
       "      <td>23</td>\n",
       "    </tr>\n",
       "    <tr>\n",
       "      <th>997</th>\n",
       "      <td>M489</td>\n",
       "      <td>Reactome inhibition of the proteolytic activit...</td>\n",
       "      <td>C2:CP:REACTOME</td>\n",
       "      <td>24</td>\n",
       "    </tr>\n",
       "  </tbody>\n",
       "</table>\n",
       "</div>"
      ],
      "text/plain": [
       "         ID                                              Title  \\\n",
       "993  M19193         Reactome glycogen breakdown glycogenolysis   \n",
       "994   M8229                               Reactome translation   \n",
       "995  M10654                     Reactome pyrimidine catabolism   \n",
       "996    M486  Reactome rna pol iii transcription initiation ...   \n",
       "997    M489  Reactome inhibition of the proteolytic activit...   \n",
       "\n",
       "           Category    B  \n",
       "993  C2:CP:REACTOME   18  \n",
       "994  C2:CP:REACTOME  222  \n",
       "995  C2:CP:REACTOME   12  \n",
       "996  C2:CP:REACTOME   23  \n",
       "997  C2:CP:REACTOME   24  "
      ]
     },
     "execution_count": 29,
     "metadata": {},
     "output_type": "execute_result"
    }
   ],
   "source": [
    "GeneSets_REACTOME_df.head()"
   ]
  },
  {
   "cell_type": "code",
   "execution_count": 30,
   "metadata": {},
   "outputs": [
    {
     "data": {
      "text/plain": [
       "(674, 4)"
      ]
     },
     "execution_count": 30,
     "metadata": {},
     "output_type": "execute_result"
    }
   ],
   "source": [
    "np.shape(GeneSets_REACTOME_df)"
   ]
  },
  {
   "cell_type": "markdown",
   "metadata": {},
   "source": [
    "DataFrame for the genes that belong to each Gene Set"
   ]
  },
  {
   "cell_type": "code",
   "execution_count": 31,
   "metadata": {},
   "outputs": [],
   "source": [
    "GeneSet_GeneLists_df = pd.read_csv(f'{Gene_Set_dir}GeneModule_Genelist.csv')\n",
    "GeneSet_GeneLists_df.set_index('ID', drop = True, inplace = True)"
   ]
  },
  {
   "cell_type": "code",
   "execution_count": 32,
   "metadata": {},
   "outputs": [
    {
     "data": {
      "text/html": [
       "<div>\n",
       "<style scoped>\n",
       "    .dataframe tbody tr th:only-of-type {\n",
       "        vertical-align: middle;\n",
       "    }\n",
       "\n",
       "    .dataframe tbody tr th {\n",
       "        vertical-align: top;\n",
       "    }\n",
       "\n",
       "    .dataframe thead th {\n",
       "        text-align: right;\n",
       "    }\n",
       "</style>\n",
       "<table border=\"1\" class=\"dataframe\">\n",
       "  <thead>\n",
       "    <tr style=\"text-align: right;\">\n",
       "      <th></th>\n",
       "      <th>Gene</th>\n",
       "    </tr>\n",
       "    <tr>\n",
       "      <th>ID</th>\n",
       "      <th></th>\n",
       "    </tr>\n",
       "  </thead>\n",
       "  <tbody>\n",
       "    <tr>\n",
       "      <th>LI.M0</th>\n",
       "      <td>CCL2</td>\n",
       "    </tr>\n",
       "    <tr>\n",
       "      <th>LI.M0</th>\n",
       "      <td>DCN</td>\n",
       "    </tr>\n",
       "    <tr>\n",
       "      <th>LI.M0</th>\n",
       "      <td>LIF</td>\n",
       "    </tr>\n",
       "    <tr>\n",
       "      <th>LI.M0</th>\n",
       "      <td>PLAU</td>\n",
       "    </tr>\n",
       "    <tr>\n",
       "      <th>LI.M0</th>\n",
       "      <td>IL6</td>\n",
       "    </tr>\n",
       "  </tbody>\n",
       "</table>\n",
       "</div>"
      ],
      "text/plain": [
       "       Gene\n",
       "ID         \n",
       "LI.M0  CCL2\n",
       "LI.M0   DCN\n",
       "LI.M0   LIF\n",
       "LI.M0  PLAU\n",
       "LI.M0   IL6"
      ]
     },
     "execution_count": 32,
     "metadata": {},
     "output_type": "execute_result"
    }
   ],
   "source": [
    "GeneSet_GeneLists_df.head()"
   ]
  },
  {
   "cell_type": "code",
   "execution_count": 33,
   "metadata": {},
   "outputs": [
    {
     "data": {
      "text/plain": [
       "(84042, 1)"
      ]
     },
     "execution_count": 33,
     "metadata": {},
     "output_type": "execute_result"
    }
   ],
   "source": [
    "np.shape(GeneSet_GeneLists_df)"
   ]
  },
  {
   "cell_type": "markdown",
   "metadata": {},
   "source": [
    "#### Convert gene sets to a dictionary \n",
    "- keys: gene sets\n",
    "- values: list of genes belonging to each set"
   ]
  },
  {
   "cell_type": "code",
   "execution_count": 34,
   "metadata": {},
   "outputs": [],
   "source": [
    "#Immune-specific gene sets\n",
    "gene_set_IMMUNE_dict = {}\n",
    "for gene_set_i in GeneSets_IMMUNE_df.ID:\n",
    "    \n",
    "    gene_list_for_set_i = list(GeneSet_GeneLists_df[GeneSet_GeneLists_df.index == gene_set_i].Gene)\n",
    "    gene_set_IMMUNE_dict[gene_set_i] = gene_list_for_set_i\n",
    "\n",
    "#Reactome gene sets\n",
    "gene_set_REACTOME_dict = {}\n",
    "for gene_set_i in GeneSets_REACTOME_df.ID:\n",
    "    \n",
    "    gene_list_for_set_i = list(GeneSet_GeneLists_df[GeneSet_GeneLists_df.index == gene_set_i].Gene)\n",
    "    gene_set_REACTOME_dict[gene_set_i] = gene_list_for_set_i"
   ]
  },
  {
   "cell_type": "code",
   "execution_count": 35,
   "metadata": {},
   "outputs": [
    {
     "data": {
      "text/plain": [
       "259"
      ]
     },
     "execution_count": 35,
     "metadata": {},
     "output_type": "execute_result"
    }
   ],
   "source": [
    "len(gene_set_IMMUNE_dict.keys()) #number of gene sets"
   ]
  },
  {
   "cell_type": "code",
   "execution_count": 36,
   "metadata": {},
   "outputs": [
    {
     "data": {
      "text/plain": [
       "674"
      ]
     },
     "execution_count": 36,
     "metadata": {},
     "output_type": "execute_result"
    }
   ],
   "source": [
    "len(gene_set_REACTOME_dict.keys()) #number of gene sets"
   ]
  },
  {
   "cell_type": "markdown",
   "metadata": {},
   "source": [
    "### *Function* to run gene set enrichment"
   ]
  },
  {
   "cell_type": "code",
   "execution_count": 37,
   "metadata": {},
   "outputs": [],
   "source": [
    "def run_enrichr_on_list_of_genes(gene_list, gene_set_category):\n",
    "    \n",
    "    #specify which gene sets we'll probe for enrichment\n",
    "    if gene_set_category == 'IMMUNE':\n",
    "        gene_set_dict = gene_set_IMMUNE_dict\n",
    "    elif gene_set_category == 'REACTOME':\n",
    "        gene_set_dict = gene_set_REACTOME_dict\n",
    "    \n",
    "    #run enrichr\n",
    "    enr = gp.enrichr(gene_list = gene_list,  \n",
    "        gene_sets = gene_set_dict,\n",
    "        background = 'hsapiens_gene_ensembl',\n",
    "        organism = 'Human',\n",
    "        description = f'community pathway enrichment',\n",
    "        outdir = f'{Data_files_dir}/enrichr gene set analyses bucket',\n",
    "        no_plot = True)\n",
    "\n",
    "    #filter & sort enrichr results df\n",
    "    enrichr_results_df = enr.results\n",
    "    enrichr_results_df = enrichr_results_df.loc[: , ['Term', 'P-value', 'Adjusted P-value', 'Overlap', 'Genes']] #subset to necessary columns\n",
    "    enrichr_results_df.rename(columns = {'Term':'ID'}, inplace = True) #rename column for merging with Gene Set df\n",
    "    enrichr_results_df = enrichr_results_df[enrichr_results_df.loc[: , 'Adjusted P-value'] <= 0.001] #keep hits with lowest adj. p-vals\n",
    "    enrichr_results_df.sort_values(by = 'Adjusted P-value', ascending = True , inplace = True) #sort by lowest p-val\n",
    "    enrichr_results_df.reset_index(inplace = True, drop = True) #reset index\n",
    "    enrichr_results_df = enrichr_results_df.merge(GeneSets_df.loc[: , ['ID','Title','Category']], how = 'left', on = 'ID') #get details for gene sets\n",
    "    \n",
    "    #average the (mean logFC) for each gene detected as part of the gene set and append as another column\n",
    "    avg_meanlogFC = [mean_logFC_series[enrichr_results_df.Genes[pathway_i].split(';')].mean() for pathway_i in enrichr_results_df.index]\n",
    "    enrichr_results_df.loc[: , 'logFC'] = avg_meanlogFC\n",
    "    \n",
    "    return enrichr_results_df"
   ]
  },
  {
   "cell_type": "markdown",
   "metadata": {},
   "source": [
    "Run **gene set enrichment** on genes in subnetwork"
   ]
  },
  {
   "cell_type": "markdown",
   "metadata": {},
   "source": [
    "Pathway enrichment with **Immune** modules"
   ]
  },
  {
   "cell_type": "code",
   "execution_count": 38,
   "metadata": {},
   "outputs": [
    {
     "data": {
      "text/html": [
       "<div>\n",
       "<style scoped>\n",
       "    .dataframe tbody tr th:only-of-type {\n",
       "        vertical-align: middle;\n",
       "    }\n",
       "\n",
       "    .dataframe tbody tr th {\n",
       "        vertical-align: top;\n",
       "    }\n",
       "\n",
       "    .dataframe thead th {\n",
       "        text-align: right;\n",
       "    }\n",
       "</style>\n",
       "<table border=\"1\" class=\"dataframe\">\n",
       "  <thead>\n",
       "    <tr style=\"text-align: right;\">\n",
       "      <th></th>\n",
       "      <th>ID</th>\n",
       "      <th>P-value</th>\n",
       "      <th>Adjusted P-value</th>\n",
       "      <th>Overlap</th>\n",
       "      <th>Genes</th>\n",
       "      <th>Title</th>\n",
       "      <th>Category</th>\n",
       "      <th>logFC</th>\n",
       "    </tr>\n",
       "  </thead>\n",
       "  <tbody>\n",
       "    <tr>\n",
       "      <th>0</th>\n",
       "      <td>LI.M112.0</td>\n",
       "      <td>0.000049</td>\n",
       "      <td>0.000543</td>\n",
       "      <td>2/17</td>\n",
       "      <td>SERPING1;C1QB</td>\n",
       "      <td>complement activation (I)</td>\n",
       "      <td>immune</td>\n",
       "      <td>0.779788</td>\n",
       "    </tr>\n",
       "    <tr>\n",
       "      <th>1</th>\n",
       "      <td>LI.M75</td>\n",
       "      <td>0.000084</td>\n",
       "      <td>0.000543</td>\n",
       "      <td>2/22</td>\n",
       "      <td>SERPING1;C1QB</td>\n",
       "      <td>antiviral IFN signature</td>\n",
       "      <td>immune</td>\n",
       "      <td>0.779788</td>\n",
       "    </tr>\n",
       "  </tbody>\n",
       "</table>\n",
       "</div>"
      ],
      "text/plain": [
       "          ID   P-value  Adjusted P-value Overlap          Genes  \\\n",
       "0  LI.M112.0  0.000049          0.000543    2/17  SERPING1;C1QB   \n",
       "1     LI.M75  0.000084          0.000543    2/22  SERPING1;C1QB   \n",
       "\n",
       "                       Title Category     logFC  \n",
       "0  complement activation (I)   immune  0.779788  \n",
       "1    antiviral IFN signature   immune  0.779788  "
      ]
     },
     "execution_count": 38,
     "metadata": {},
     "output_type": "execute_result"
    }
   ],
   "source": [
    "run_enrichr_on_list_of_genes(list(S.nodes), 'IMMUNE')"
   ]
  },
  {
   "cell_type": "markdown",
   "metadata": {},
   "source": [
    "Pathway enrichment with **Reactome** modules"
   ]
  },
  {
   "cell_type": "code",
   "execution_count": 39,
   "metadata": {},
   "outputs": [
    {
     "data": {
      "text/html": [
       "<div>\n",
       "<style scoped>\n",
       "    .dataframe tbody tr th:only-of-type {\n",
       "        vertical-align: middle;\n",
       "    }\n",
       "\n",
       "    .dataframe tbody tr th {\n",
       "        vertical-align: top;\n",
       "    }\n",
       "\n",
       "    .dataframe thead th {\n",
       "        text-align: right;\n",
       "    }\n",
       "</style>\n",
       "<table border=\"1\" class=\"dataframe\">\n",
       "  <thead>\n",
       "    <tr style=\"text-align: right;\">\n",
       "      <th></th>\n",
       "      <th>ID</th>\n",
       "      <th>P-value</th>\n",
       "      <th>Adjusted P-value</th>\n",
       "      <th>Overlap</th>\n",
       "      <th>Genes</th>\n",
       "      <th>Title</th>\n",
       "      <th>Category</th>\n",
       "      <th>logFC</th>\n",
       "    </tr>\n",
       "  </thead>\n",
       "  <tbody>\n",
       "    <tr>\n",
       "      <th>0</th>\n",
       "      <td>M965</td>\n",
       "      <td>5.279262e-08</td>\n",
       "      <td>0.000001</td>\n",
       "      <td>4/63</td>\n",
       "      <td>GBP5;FCGR1A;GBP4;FCGR1B</td>\n",
       "      <td>Reactome interferon gamma signaling</td>\n",
       "      <td>C2:CP:REACTOME</td>\n",
       "      <td>0.617617</td>\n",
       "    </tr>\n",
       "    <tr>\n",
       "      <th>1</th>\n",
       "      <td>M983</td>\n",
       "      <td>2.199759e-06</td>\n",
       "      <td>0.000029</td>\n",
       "      <td>4/159</td>\n",
       "      <td>GBP5;FCGR1A;GBP4;FCGR1B</td>\n",
       "      <td>Reactome interferon signaling</td>\n",
       "      <td>C2:CP:REACTOME</td>\n",
       "      <td>0.617617</td>\n",
       "    </tr>\n",
       "    <tr>\n",
       "      <th>2</th>\n",
       "      <td>M1045</td>\n",
       "      <td>9.756855e-06</td>\n",
       "      <td>0.000085</td>\n",
       "      <td>6/933</td>\n",
       "      <td>AIM2;GBP5;C1QB;FCGR1B;FCGR1A;GBP4</td>\n",
       "      <td>Reactome immune system</td>\n",
       "      <td>C2:CP:REACTOME</td>\n",
       "      <td>0.638440</td>\n",
       "    </tr>\n",
       "    <tr>\n",
       "      <th>3</th>\n",
       "      <td>M1060</td>\n",
       "      <td>1.789569e-05</td>\n",
       "      <td>0.000116</td>\n",
       "      <td>4/270</td>\n",
       "      <td>GBP5;FCGR1A;GBP4;FCGR1B</td>\n",
       "      <td>Reactome cytokine signaling in immune system</td>\n",
       "      <td>C2:CP:REACTOME</td>\n",
       "      <td>0.617617</td>\n",
       "    </tr>\n",
       "  </tbody>\n",
       "</table>\n",
       "</div>"
      ],
      "text/plain": [
       "      ID       P-value  Adjusted P-value Overlap  \\\n",
       "0   M965  5.279262e-08          0.000001    4/63   \n",
       "1   M983  2.199759e-06          0.000029   4/159   \n",
       "2  M1045  9.756855e-06          0.000085   6/933   \n",
       "3  M1060  1.789569e-05          0.000116   4/270   \n",
       "\n",
       "                               Genes  \\\n",
       "0            GBP5;FCGR1A;GBP4;FCGR1B   \n",
       "1            GBP5;FCGR1A;GBP4;FCGR1B   \n",
       "2  AIM2;GBP5;C1QB;FCGR1B;FCGR1A;GBP4   \n",
       "3            GBP5;FCGR1A;GBP4;FCGR1B   \n",
       "\n",
       "                                          Title        Category     logFC  \n",
       "0           Reactome interferon gamma signaling  C2:CP:REACTOME  0.617617  \n",
       "1                 Reactome interferon signaling  C2:CP:REACTOME  0.617617  \n",
       "2                        Reactome immune system  C2:CP:REACTOME  0.638440  \n",
       "3  Reactome cytokine signaling in immune system  C2:CP:REACTOME  0.617617  "
      ]
     },
     "execution_count": 39,
     "metadata": {},
     "output_type": "execute_result"
    }
   ],
   "source": [
    "run_enrichr_on_list_of_genes(list(S.nodes), 'REACTOME')"
   ]
  },
  {
   "cell_type": "markdown",
   "metadata": {},
   "source": [
    "## [3] Calculate *num edges*, *mean edge weight*, *num nodes* & *mean weighted degree*  for subgraphs induced by highest weighted edges"
   ]
  },
  {
   "cell_type": "markdown",
   "metadata": {},
   "source": [
    "#### Edges Weights for Node Pairs (gene pairs)"
   ]
  },
  {
   "cell_type": "code",
   "execution_count": 40,
   "metadata": {},
   "outputs": [],
   "source": [
    "edge_weight_dict = nx.get_edge_attributes(G, 'weight') #keys: node pairs; values: edge weights\n",
    "edge_weight_array = np.array(list(edge_weight_dict.values())) #array of edge weights in graph"
   ]
  },
  {
   "cell_type": "code",
   "execution_count": 41,
   "metadata": {},
   "outputs": [
    {
     "data": {
      "text/plain": [
       "326"
      ]
     },
     "execution_count": 41,
     "metadata": {},
     "output_type": "execute_result"
    }
   ],
   "source": [
    "len(edge_weight_array)"
   ]
  },
  {
   "cell_type": "code",
   "execution_count": 42,
   "metadata": {},
   "outputs": [
    {
     "data": {
      "text/plain": [
       "0.3180981595092024"
      ]
     },
     "execution_count": 42,
     "metadata": {},
     "output_type": "execute_result"
    }
   ],
   "source": [
    "edge_weight_array.mean()"
   ]
  },
  {
   "cell_type": "markdown",
   "metadata": {},
   "source": [
    "#### Distribution of Edge Weights in original Network"
   ]
  },
  {
   "cell_type": "code",
   "execution_count": 43,
   "metadata": {},
   "outputs": [],
   "source": [
    "def prettify_plot(ax):\n",
    "    ax.spines['right'].set_visible(False)\n",
    "    ax.spines['top'].set_visible(False)\n",
    "    ax.grid(False)\n",
    "    ax.tick_params(labelcolor = 'k')\n",
    "    ax.tick_params(axis='y', which='major', labelsize=12 , labelcolor = 'k')\n",
    "    ax.tick_params(axis='x', which='major', labelsize=12 , labelcolor = 'k')"
   ]
  },
  {
   "cell_type": "code",
   "execution_count": 44,
   "metadata": {},
   "outputs": [
    {
     "data": {
      "image/png": "[encoded data removed]",
      "text/plain": [
       "<Figure size 648x396 with 1 Axes>"
      ]
     },
     "metadata": {},
     "output_type": "display_data"
    }
   ],
   "source": [
    "fig = plt.figure(constrained_layout=True)\n",
    "\n",
    "gs = GridSpec(1, 1, figure=fig)\n",
    "\n",
    "ax1 = fig.add_subplot(gs[0, 0])\n",
    "\n",
    "#EDGE WEIGHTS\n",
    "ax1.hist(edge_weight_array , bins = len(set(edge_weight_array)), color = 'black' , rwidth = 0.95 , edgecolor='white', linewidth=0.0, align='left')\n",
    "\n",
    "ax1.set_ylabel('Number of Edges', fontsize = 12, color = 'k')\n",
    "ax1.set_xlabel('Edge Weight' , fontsize = 12, color = 'k')\n",
    "\n",
    "prettify_plot(ax1)\n",
    "#ax1.set_yscale('log')\n",
    "    \n",
    "################### Plot ###################\n",
    "fig = plt.gcf()\n",
    "fig.set_size_inches(9, 5.5)\n",
    "fig.tight_layout()\n",
    "\n",
    "file_name = f'{figures_dir_path}/{comparison_X} distribution of edge weights in entire network.pdf'\n",
    "plt.savefig(file_name, bbox_inches='tight', dpi = 300 , transparent = True)\n",
    "\n",
    "plt.show()"
   ]
  },
  {
   "cell_type": "code",
   "execution_count": 45,
   "metadata": {},
   "outputs": [
    {
     "data": {
      "text/plain": [
       "array([0.3, 0.4, 0.5])"
      ]
     },
     "execution_count": 45,
     "metadata": {},
     "output_type": "execute_result"
    }
   ],
   "source": [
    "edge_weight_thresholds = np.sort(np.array(list(set(edge_weight_array))))\n",
    "edge_weight_thresholds"
   ]
  },
  {
   "cell_type": "markdown",
   "metadata": {},
   "source": [
    "### *Function* that returns attributes of a subgraph induced by setting a threshold on edge weights"
   ]
  },
  {
   "cell_type": "code",
   "execution_count": 46,
   "metadata": {},
   "outputs": [],
   "source": [
    "def get_characteristics_of_subgraph(edge_weight_thresh):\n",
    "    \n",
    "    '''\n",
    "    (1) This function returns the mean (edge weight) & (weighted degree) of the subgraph induced by the edges \n",
    "    that pass the edge weight threshold in the larger network.\n",
    "    \n",
    "    (2) Function returns the (# Edges) and (# Nodes) for these different subgraphs.\n",
    "    '''\n",
    "    \n",
    "    #get the EDGE WEIGHTS for edges in the network that pass the edge weight threshold\n",
    "    edge_weight_dict_subset = {key:value for key, value in edge_weight_dict.items() if value >= edge_weight_thresh}\n",
    "    edge_weight_array_subset = np.array(list(edge_weight_dict_subset.values()))\n",
    "\n",
    "    #get the SUBGRAPH induced by the most heavily weighted edges\n",
    "    S = G.edge_subgraph(list(edge_weight_dict_subset.keys()))\n",
    "\n",
    "    #Get a series of the WEIGHTED DEGREE for each node in the subgraph \n",
    "    node_list = [node_deg[0] for node_deg in list(S.degree(weight = 'weight'))]\n",
    "    degree_list = [node_deg[1] for node_deg in list(S.degree(weight = 'weight'))]\n",
    "    subgraph_weighted_degree_series = pd.Series(degree_list , index = node_list).sort_values(ascending = False)\n",
    "    \n",
    "    return [float(len(edge_weight_array_subset)), edge_weight_array_subset.mean(), float(len(node_list)), subgraph_weighted_degree_series.mean()]"
   ]
  },
  {
   "cell_type": "markdown",
   "metadata": {},
   "source": [
    "#### Iterate through subnetworks of various sizes for different *edge weight thresholds* in original network"
   ]
  },
  {
   "cell_type": "code",
   "execution_count": 47,
   "metadata": {},
   "outputs": [
    {
     "name": "stdout",
     "output_type": "stream",
     "text": [
      "0.3\n",
      "0.4\n",
      "0.5\n"
     ]
    }
   ],
   "source": [
    "num_edges_for_subnetworks_list = []\n",
    "mean_edge_weight_for_subnetworks_list = []\n",
    "num_nodes_for_subnetworks_list = []\n",
    "mean_weighted_deg_for_subnetworks_list = []\n",
    "\n",
    "for edge_weight_thresh in edge_weight_thresholds:\n",
    "    \n",
    "    subgraph_num_edges , subgraph_mean_edge_weight , subgraph_num_nodes , subgraph_mean_weighted_deg = get_characteristics_of_subgraph(edge_weight_thresh)\n",
    "    \n",
    "    num_edges_for_subnetworks_list.append(subgraph_num_edges)\n",
    "    mean_edge_weight_for_subnetworks_list.append(subgraph_mean_edge_weight)\n",
    "    num_nodes_for_subnetworks_list.append(subgraph_num_nodes)\n",
    "    mean_weighted_deg_for_subnetworks_list.append(subgraph_mean_weighted_deg)\n",
    "    \n",
    "    print(edge_weight_thresh)\n",
    "    \n",
    "#convert to arrays\n",
    "num_edges_for_subnetworks = np.array(num_edges_for_subnetworks_list)\n",
    "mean_edge_weight_for_subnetworks = np.array(mean_edge_weight_for_subnetworks_list)\n",
    "num_nodes_for_subnetworks = np.array(num_nodes_for_subnetworks_list)\n",
    "mean_weighted_deg_for_subnetworks = np.array(mean_weighted_deg_for_subnetworks_list)"
   ]
  },
  {
   "cell_type": "markdown",
   "metadata": {},
   "source": [
    "#### Plot various characteristics of subgraphs induced by highest weighted edges"
   ]
  },
  {
   "cell_type": "code",
   "execution_count": 49,
   "metadata": {},
   "outputs": [
    {
     "data": {
      "image/png": "[encoded data removed]",
      "text/plain": [
       "<Figure size 864x720 with 4 Axes>"
      ]
     },
     "metadata": {},
     "output_type": "display_data"
    }
   ],
   "source": [
    "fig = plt.figure(constrained_layout=True)\n",
    "\n",
    "gs = GridSpec(2, 2, figure=fig)\n",
    "\n",
    "ax1 = fig.add_subplot(gs[0, 0])\n",
    "ax2 = fig.add_subplot(gs[0, 1])\n",
    "ax3 = fig.add_subplot(gs[1, 0])\n",
    "ax4 = fig.add_subplot(gs[1, 1])\n",
    "\n",
    "#NUMBER OF EDGES\n",
    "ax1.scatter(edge_weight_thresholds, num_edges_for_subnetworks , color = 'black' , linewidth=0.75 , edgecolor = 'white' , s = 40 , alpha = 1.0)\n",
    "ax1.plot(edge_weight_thresholds, num_edges_for_subnetworks , color = 'black' , linewidth=1.0)\n",
    "\n",
    "ax1.set_ylabel('Number of Edges in Subgraph', fontsize = 12, color = 'k')\n",
    "ax1.set_title('# of Edges', fontsize = 12, color = 'k' , weight = 'bold')\n",
    "\n",
    "prettify_plot(ax1)\n",
    "\n",
    "#EDGE WEIGHT\n",
    "ax2.scatter(edge_weight_thresholds, mean_edge_weight_for_subnetworks , color = 'black' , linewidth=0.75 , edgecolor = 'white' , s = 40 , alpha = 1.0)\n",
    "ax2.plot(edge_weight_thresholds, mean_edge_weight_for_subnetworks , color = 'black' , linewidth=1.0)\n",
    "\n",
    "ax2.set_ylabel('Mean Edge Weight in Subgraph', fontsize = 12, color = 'k')\n",
    "ax2.set_title('Mean Edge Weight', fontsize = 12, color = 'k' , weight = 'bold')\n",
    "\n",
    "prettify_plot(ax2)\n",
    "\n",
    "#NUMBER OF NODES\n",
    "\n",
    "#targeting sub-networks with around ~50-500 nodes\n",
    "#ax3.axhline(y = 500, linewidth = 1.0, color = 'green', linestyle = '--')\n",
    "#ax3.axhline(y = 50, linewidth = 1.0, color = 'green', linestyle = '--')\n",
    "\n",
    "ax3.scatter(edge_weight_thresholds, num_nodes_for_subnetworks , color = 'black' , linewidth=0.75 , edgecolor = 'white' , s = 40 , alpha = 1.0)\n",
    "ax3.plot(edge_weight_thresholds, num_nodes_for_subnetworks , color = 'black' , linewidth=1.0)\n",
    "\n",
    "ax3.set_ylabel('Number of Nodes in Subgraph', fontsize = 12, color = 'k')\n",
    "ax3.set_xlabel('Edge Weight Threshold used to construct Subgraph' , fontsize = 12, color = 'k')\n",
    "ax3.set_title('# of Nodes', fontsize = 12, color = 'k' , weight = 'bold')\n",
    "\n",
    "prettify_plot(ax3)\n",
    "    \n",
    "#WEIGHTED DEGREE\n",
    "ax4.scatter(edge_weight_thresholds, mean_weighted_deg_for_subnetworks , color = 'black' , linewidth=0.75 , edgecolor = 'white' , s = 40 , alpha = 1.0)\n",
    "ax4.plot(edge_weight_thresholds, mean_weighted_deg_for_subnetworks , color = 'black' , linewidth=1.0)\n",
    "\n",
    "ax4.set_ylabel('Mean Weighted Degree in Subgraph', fontsize = 12, color = 'k')\n",
    "ax4.set_xlabel('Edge Weight Threshold used to construct Subgraph' , fontsize = 12, color = 'k')\n",
    "ax4.set_title('Mean Weighted Degree', fontsize = 12, color = 'k' , weight = 'bold')\n",
    "\n",
    "prettify_plot(ax4)\n",
    "    \n",
    "################### Plot ###################\n",
    "fig = plt.gcf()\n",
    "fig.set_size_inches(12, 10)\n",
    "fig.tight_layout()\n",
    "\n",
    "file_name = f'{figures_dir_path}/{comparison_X} characteristics of subgraphs from increasing edge weight threshold.pdf'\n",
    "plt.savefig(file_name, bbox_inches='tight', dpi = 300 , transparent = True)\n",
    "\n",
    "plt.show()"
   ]
  },
  {
   "cell_type": "markdown",
   "metadata": {},
   "source": [
    "How does the **edge weight threshold** affect the **number of nodes** in the subnetwork?"
   ]
  },
  {
   "cell_type": "code",
   "execution_count": 50,
   "metadata": {},
   "outputs": [
    {
     "name": "stdout",
     "output_type": "stream",
     "text": [
      "Edge Weight Threshold = 0.3 , Number of Nodes in Subnetwork = 67.0\n",
      "Edge Weight Threshold = 0.4 , Number of Nodes in Subnetwork = 20.0\n",
      "Edge Weight Threshold = 0.5 , Number of Nodes in Subnetwork = 5.0\n"
     ]
    }
   ],
   "source": [
    "for edge_weight_thresh_i, num_nodes_subnetwork_i in zip(edge_weight_thresholds, num_nodes_for_subnetworks):\n",
    "    print(f'Edge Weight Threshold = {edge_weight_thresh_i} , Number of Nodes in Subnetwork = {num_nodes_subnetwork_i}')"
   ]
  },
  {
   "cell_type": "markdown",
   "metadata": {},
   "source": [
    "We're aiming to run enrichment analysis on **ALL nodes** so we have to adjust the edge-weight thresholds for this."
   ]
  },
  {
   "cell_type": "code",
   "execution_count": 51,
   "metadata": {
    "scrolled": true
   },
   "outputs": [
    {
     "name": "stdout",
     "output_type": "stream",
     "text": [
      "[0.3 0.4 0.5]\n"
     ]
    }
   ],
   "source": [
    "print(edge_weight_thresholds[:])"
   ]
  },
  {
   "cell_type": "code",
   "execution_count": 52,
   "metadata": {},
   "outputs": [],
   "source": [
    "edge_weight_thresholds = edge_weight_thresholds[:]"
   ]
  },
  {
   "cell_type": "markdown",
   "metadata": {},
   "source": [
    "## [4] Iterate through subnetworks constructed from most heavily weighted edges and preform gene enrichment analysis"
   ]
  },
  {
   "cell_type": "markdown",
   "metadata": {},
   "source": [
    "### *Function* to plot subnetworks (after thresholding edge weights) & perform gene enrichment on nodes"
   ]
  },
  {
   "cell_type": "code",
   "execution_count": 55,
   "metadata": {},
   "outputs": [],
   "source": [
    "def subgraph_visualize_and_gene_enrichment(edge_weight_thresh, gene_set_category):\n",
    "    \n",
    "    '''\n",
    "    (1) This function returns visualizes the sub-network generated by \n",
    "    retaining only the edge weights above the input edge weight threshold.\n",
    "        (1.1) colors nodes by weighted degree\n",
    "        (1.2) colors nodes by mean logFC\n",
    "        \n",
    "    (2) This function also returns a dataframe from the gene enrichment \n",
    "    analysis run on the nodes of the subnetwork.\n",
    "    '''\n",
    "    \n",
    "    #get the EDGE WEIGHTS for edges in the network that pass the edge weight threshold\n",
    "    edge_weight_dict_subset = {key:value for key, value in edge_weight_dict.items() if value >= edge_weight_thresh}\n",
    "    edge_weight_array_subset = np.array(list(edge_weight_dict_subset.values()))\n",
    "\n",
    "    #get the SUBGRAPH induced by the most heavily weighted edges\n",
    "    S = G.edge_subgraph(list(edge_weight_dict_subset.keys()))\n",
    "    \n",
    "    #print some stats\n",
    "    print('')\n",
    "    print('')\n",
    "    print('')\n",
    "    print('')\n",
    "    print(f'Edge Weight Threshold = {edge_weight_thresh}')\n",
    "    print(f'Number of Nodes = {len(S.nodes)}')\n",
    "    print('---------------------------------------------')\n",
    "    \n",
    "    #visualize subgraph\n",
    "    pos = nx.spring_layout(S , weight = 'weight' , iterations = 350 , k = 1.0)\n",
    "    visualize_network_color_by_weighted_deg_and_logFC(S, pos)\n",
    "    \n",
    "    #gene set enrichment\n",
    "    gene_enrichr_df = run_enrichr_on_list_of_genes(list(S.nodes), gene_set_category)\n",
    "    print(f'gene enrichment for nodes in this network: ')\n",
    "    display(gene_enrichr_df.head(n=40)) #return the top 40 hits if there are > 40\n",
    "    print('---------------------------------------------')\n",
    "    \n",
    "    ## return gene_enrichr_df #uncomment to return dataframe"
   ]
  },
  {
   "cell_type": "markdown",
   "metadata": {},
   "source": [
    "#### Iterate through subnetworks of various sizes for different *edge weight thresholds* in original network"
   ]
  },
  {
   "cell_type": "markdown",
   "metadata": {},
   "source": [
    "We're going to start with the largest **edge weight threshold** and iterate up from there (decrease edge weight threshold but decrease # of nodes) to preform gene enrichment"
   ]
  },
  {
   "cell_type": "markdown",
   "metadata": {},
   "source": [
    "### [4.1] Using *Immune* Gene Sets for gene enrichment"
   ]
  },
  {
   "cell_type": "code",
   "execution_count": 56,
   "metadata": {
    "scrolled": false
   },
   "outputs": [
    {
     "name": "stdout",
     "output_type": "stream",
     "text": [
      "\n",
      "\n",
      "\n",
      "\n",
      "Edge Weight Threshold = 0.5\n",
      "Number of Nodes = 5\n",
      "---------------------------------------------\n"
     ]
    },
    {
     "data": {
      "image/png": "[encoded data removed]",
      "text/plain": [
       "<Figure size 1764x648 with 5 Axes>"
      ]
     },
     "metadata": {},
     "output_type": "display_data"
    },
    {
     "name": "stdout",
     "output_type": "stream",
     "text": [
      "gene enrichment for nodes in this network: \n"
     ]
    },
    {
     "data": {
      "text/html": [
       "<div>\n",
       "<style scoped>\n",
       "    .dataframe tbody tr th:only-of-type {\n",
       "        vertical-align: middle;\n",
       "    }\n",
       "\n",
       "    .dataframe tbody tr th {\n",
       "        vertical-align: top;\n",
       "    }\n",
       "\n",
       "    .dataframe thead th {\n",
       "        text-align: right;\n",
       "    }\n",
       "</style>\n",
       "<table border=\"1\" class=\"dataframe\">\n",
       "  <thead>\n",
       "    <tr style=\"text-align: right;\">\n",
       "      <th></th>\n",
       "      <th>P-value</th>\n",
       "      <th>Adjusted P-value</th>\n",
       "      <th>Overlap</th>\n",
       "      <th>Genes</th>\n",
       "      <th>ID</th>\n",
       "      <th>Title</th>\n",
       "      <th>Category</th>\n",
       "      <th>logFC</th>\n",
       "    </tr>\n",
       "  </thead>\n",
       "  <tbody>\n",
       "  </tbody>\n",
       "</table>\n",
       "</div>"
      ],
      "text/plain": [
       "Empty DataFrame\n",
       "Columns: [P-value, Adjusted P-value, Overlap, Genes, ID, Title, Category, logFC]\n",
       "Index: []"
      ]
     },
     "metadata": {},
     "output_type": "display_data"
    },
    {
     "name": "stdout",
     "output_type": "stream",
     "text": [
      "---------------------------------------------\n",
      "\n",
      "\n",
      "\n",
      "\n",
      "Edge Weight Threshold = 0.4\n",
      "Number of Nodes = 20\n",
      "---------------------------------------------\n"
     ]
    },
    {
     "data": {
      "image/png": "[encoded data removed]",
      "text/plain": [
       "<Figure size 1764x648 with 5 Axes>"
      ]
     },
     "metadata": {},
     "output_type": "display_data"
    },
    {
     "name": "stdout",
     "output_type": "stream",
     "text": [
      "gene enrichment for nodes in this network: \n"
     ]
    },
    {
     "data": {
      "text/html": [
       "<div>\n",
       "<style scoped>\n",
       "    .dataframe tbody tr th:only-of-type {\n",
       "        vertical-align: middle;\n",
       "    }\n",
       "\n",
       "    .dataframe tbody tr th {\n",
       "        vertical-align: top;\n",
       "    }\n",
       "\n",
       "    .dataframe thead th {\n",
       "        text-align: right;\n",
       "    }\n",
       "</style>\n",
       "<table border=\"1\" class=\"dataframe\">\n",
       "  <thead>\n",
       "    <tr style=\"text-align: right;\">\n",
       "      <th></th>\n",
       "      <th>ID</th>\n",
       "      <th>P-value</th>\n",
       "      <th>Adjusted P-value</th>\n",
       "      <th>Overlap</th>\n",
       "      <th>Genes</th>\n",
       "      <th>Title</th>\n",
       "      <th>Category</th>\n",
       "      <th>logFC</th>\n",
       "    </tr>\n",
       "  </thead>\n",
       "  <tbody>\n",
       "    <tr>\n",
       "      <th>0</th>\n",
       "      <td>LI.M16</td>\n",
       "      <td>0.000015</td>\n",
       "      <td>0.000248</td>\n",
       "      <td>3/46</td>\n",
       "      <td>TLR5;FCGR1A;FCGR1B</td>\n",
       "      <td>TLR and inflammatory signaling</td>\n",
       "      <td>immune</td>\n",
       "      <td>0.470727</td>\n",
       "    </tr>\n",
       "  </tbody>\n",
       "</table>\n",
       "</div>"
      ],
      "text/plain": [
       "       ID   P-value  Adjusted P-value Overlap               Genes  \\\n",
       "0  LI.M16  0.000015          0.000248    3/46  TLR5;FCGR1A;FCGR1B   \n",
       "\n",
       "                            Title Category     logFC  \n",
       "0  TLR and inflammatory signaling   immune  0.470727  "
      ]
     },
     "metadata": {},
     "output_type": "display_data"
    },
    {
     "name": "stdout",
     "output_type": "stream",
     "text": [
      "---------------------------------------------\n",
      "\n",
      "\n",
      "\n",
      "\n",
      "Edge Weight Threshold = 0.3\n",
      "Number of Nodes = 67\n",
      "---------------------------------------------\n"
     ]
    },
    {
     "data": {
      "image/png": "[encoded data removed]",
      "text/plain": [
       "<Figure size 1764x648 with 5 Axes>"
      ]
     },
     "metadata": {},
     "output_type": "display_data"
    },
    {
     "name": "stdout",
     "output_type": "stream",
     "text": [
      "gene enrichment for nodes in this network: \n"
     ]
    },
    {
     "data": {
      "text/html": [
       "<div>\n",
       "<style scoped>\n",
       "    .dataframe tbody tr th:only-of-type {\n",
       "        vertical-align: middle;\n",
       "    }\n",
       "\n",
       "    .dataframe tbody tr th {\n",
       "        vertical-align: top;\n",
       "    }\n",
       "\n",
       "    .dataframe thead th {\n",
       "        text-align: right;\n",
       "    }\n",
       "</style>\n",
       "<table border=\"1\" class=\"dataframe\">\n",
       "  <thead>\n",
       "    <tr style=\"text-align: right;\">\n",
       "      <th></th>\n",
       "      <th>ID</th>\n",
       "      <th>P-value</th>\n",
       "      <th>Adjusted P-value</th>\n",
       "      <th>Overlap</th>\n",
       "      <th>Genes</th>\n",
       "      <th>Title</th>\n",
       "      <th>Category</th>\n",
       "      <th>logFC</th>\n",
       "    </tr>\n",
       "  </thead>\n",
       "  <tbody>\n",
       "    <tr>\n",
       "      <th>0</th>\n",
       "      <td>LI.M16</td>\n",
       "      <td>1.266101e-08</td>\n",
       "      <td>5.444235e-07</td>\n",
       "      <td>6/46</td>\n",
       "      <td>MGAM;TLR5;FCAR;FCGR1B;FCGR1A;TLR1</td>\n",
       "      <td>TLR and inflammatory signaling</td>\n",
       "      <td>immune</td>\n",
       "      <td>0.344067</td>\n",
       "    </tr>\n",
       "    <tr>\n",
       "      <th>1</th>\n",
       "      <td>LI.S4</td>\n",
       "      <td>9.645470e-07</td>\n",
       "      <td>2.073776e-05</td>\n",
       "      <td>6/94</td>\n",
       "      <td>MGAM;CCR1;TLR5;FCAR;FCGR1B;TLR1</td>\n",
       "      <td>Monocyte surface signature</td>\n",
       "      <td>immune</td>\n",
       "      <td>0.273047</td>\n",
       "    </tr>\n",
       "    <tr>\n",
       "      <th>2</th>\n",
       "      <td>LI.M37.0</td>\n",
       "      <td>3.370970e-06</td>\n",
       "      <td>4.831724e-05</td>\n",
       "      <td>9/347</td>\n",
       "      <td>MGAM;TLR5;ANXA3;FCAR;NLRC4;CLEC5A;CD3G;TLR1;CE...</td>\n",
       "      <td>immune activation - generic cluster</td>\n",
       "      <td>immune</td>\n",
       "      <td>0.171077</td>\n",
       "    </tr>\n",
       "    <tr>\n",
       "      <th>3</th>\n",
       "      <td>LI.M165</td>\n",
       "      <td>6.752044e-06</td>\n",
       "      <td>7.258447e-05</td>\n",
       "      <td>4/35</td>\n",
       "      <td>PARP9;SERPING1;IFIT3;IFIT2</td>\n",
       "      <td>enriched in activated dendritic cells (II)</td>\n",
       "      <td>immune</td>\n",
       "      <td>0.402732</td>\n",
       "    </tr>\n",
       "    <tr>\n",
       "      <th>4</th>\n",
       "      <td>LI.M11.0</td>\n",
       "      <td>5.332726e-05</td>\n",
       "      <td>4.380889e-04</td>\n",
       "      <td>6/189</td>\n",
       "      <td>S100A12;CCR1;TLR5;FCAR;FCGR1B;FCGR1A</td>\n",
       "      <td>enriched in monocytes (II)</td>\n",
       "      <td>immune</td>\n",
       "      <td>0.307827</td>\n",
       "    </tr>\n",
       "    <tr>\n",
       "      <th>5</th>\n",
       "      <td>LI.M75</td>\n",
       "      <td>6.112869e-05</td>\n",
       "      <td>4.380889e-04</td>\n",
       "      <td>3/22</td>\n",
       "      <td>SERPING1;C1QB;ANXA3</td>\n",
       "      <td>antiviral IFN signature</td>\n",
       "      <td>immune</td>\n",
       "      <td>0.549688</td>\n",
       "    </tr>\n",
       "  </tbody>\n",
       "</table>\n",
       "</div>"
      ],
      "text/plain": [
       "         ID       P-value  Adjusted P-value Overlap  \\\n",
       "0    LI.M16  1.266101e-08      5.444235e-07    6/46   \n",
       "1     LI.S4  9.645470e-07      2.073776e-05    6/94   \n",
       "2  LI.M37.0  3.370970e-06      4.831724e-05   9/347   \n",
       "3   LI.M165  6.752044e-06      7.258447e-05    4/35   \n",
       "4  LI.M11.0  5.332726e-05      4.380889e-04   6/189   \n",
       "5    LI.M75  6.112869e-05      4.380889e-04    3/22   \n",
       "\n",
       "                                               Genes  \\\n",
       "0                  MGAM;TLR5;FCAR;FCGR1B;FCGR1A;TLR1   \n",
       "1                    MGAM;CCR1;TLR5;FCAR;FCGR1B;TLR1   \n",
       "2  MGAM;TLR5;ANXA3;FCAR;NLRC4;CLEC5A;CD3G;TLR1;CE...   \n",
       "3                         PARP9;SERPING1;IFIT3;IFIT2   \n",
       "4               S100A12;CCR1;TLR5;FCAR;FCGR1B;FCGR1A   \n",
       "5                                SERPING1;C1QB;ANXA3   \n",
       "\n",
       "                                        Title Category     logFC  \n",
       "0              TLR and inflammatory signaling   immune  0.344067  \n",
       "1                  Monocyte surface signature   immune  0.273047  \n",
       "2         immune activation - generic cluster   immune  0.171077  \n",
       "3  enriched in activated dendritic cells (II)   immune  0.402732  \n",
       "4                  enriched in monocytes (II)   immune  0.307827  \n",
       "5                     antiviral IFN signature   immune  0.549688  "
      ]
     },
     "metadata": {},
     "output_type": "display_data"
    },
    {
     "name": "stdout",
     "output_type": "stream",
     "text": [
      "---------------------------------------------\n"
     ]
    }
   ],
   "source": [
    "for edge_weight_thresh in reversed(edge_weight_thresholds):\n",
    "    \n",
    "    subgraph_visualize_and_gene_enrichment(edge_weight_thresh, 'IMMUNE')"
   ]
  },
  {
   "cell_type": "markdown",
   "metadata": {},
   "source": [
    "## [5] Construct subnetwork from thresholding weighted edges that yields ~500 nodes; preform gene enrichment analysis & color pathways in network"
   ]
  },
  {
   "cell_type": "markdown",
   "metadata": {},
   "source": [
    "Pick the edge weight threshold that yields all 67 nodes in the subgraph"
   ]
  },
  {
   "cell_type": "code",
   "execution_count": 57,
   "metadata": {},
   "outputs": [],
   "source": [
    "edge_weight_thresh = 0.3"
   ]
  },
  {
   "cell_type": "markdown",
   "metadata": {},
   "source": [
    "Visualize sub-network induced by setting edge weight cut-off above"
   ]
  },
  {
   "cell_type": "code",
   "execution_count": 58,
   "metadata": {},
   "outputs": [
    {
     "name": "stdout",
     "output_type": "stream",
     "text": [
      "Number of Nodes = 67\n"
     ]
    },
    {
     "data": {
      "image/png": "[encoded data removed]",
      "text/plain": [
       "<Figure size 1764x648 with 5 Axes>"
      ]
     },
     "metadata": {},
     "output_type": "display_data"
    }
   ],
   "source": [
    "#get the EDGE WEIGHTS for edges in the network that pass the edge weight threshold\n",
    "edge_weight_dict_subset = {key:value for key, value in edge_weight_dict.items() if value >= edge_weight_thresh}\n",
    "edge_weight_array_subset = np.array(list(edge_weight_dict_subset.values()))\n",
    "\n",
    "#get the SUBGRAPH induced by the most heavily weighted edges\n",
    "S = G.edge_subgraph(list(edge_weight_dict_subset.keys()))\n",
    "\n",
    "#print some stats\n",
    "print(f'Number of Nodes = {len(S.nodes)}')\n",
    "\n",
    "#visualize subgraph\n",
    "pos = nx.spring_layout(S , weight = 'weight' , iterations = 350 , k = 1.0) #positions of nodes will be used for this visualization and downstream\n",
    "visualize_network_color_by_weighted_deg_and_logFC(S, pos, 'network colored by weighted deg and mean logFC nodes with edgweight thresh 0.3')"
   ]
  },
  {
   "cell_type": "markdown",
   "metadata": {},
   "source": [
    "Run **gene set enrichment** on the nodes in this network"
   ]
  },
  {
   "cell_type": "code",
   "execution_count": 59,
   "metadata": {},
   "outputs": [],
   "source": [
    "#gene set enrichment\n",
    "gene_enrichr_df = run_enrichr_on_list_of_genes(list(S.nodes), 'IMMUNE')\n",
    "\n",
    "#average the (weighted degree) for each gene detected as part of the gene set and append as another column\n",
    "#weighted degree for nodes in this network\n",
    "node_list = [node_deg[0] for node_deg in list(S.degree(weight = 'weight'))]\n",
    "degree_list = [node_deg[1] for node_deg in list(S.degree(weight = 'weight'))]\n",
    "node_weighted_deg_values = pd.Series(degree_list , index = node_list) / float(len(node_list)) #normalize by # of nodes\n",
    "avg_weighted_deg = [node_weighted_deg_values[gene_enrichr_df.Genes[pathway_i].split(';')].mean() for pathway_i in gene_enrichr_df.index]\n",
    "gene_enrichr_df.loc[: , 'weighted_deg'] = avg_weighted_deg"
   ]
  },
  {
   "cell_type": "code",
   "execution_count": 60,
   "metadata": {},
   "outputs": [
    {
     "data": {
      "text/html": [
       "<div>\n",
       "<style scoped>\n",
       "    .dataframe tbody tr th:only-of-type {\n",
       "        vertical-align: middle;\n",
       "    }\n",
       "\n",
       "    .dataframe tbody tr th {\n",
       "        vertical-align: top;\n",
       "    }\n",
       "\n",
       "    .dataframe thead th {\n",
       "        text-align: right;\n",
       "    }\n",
       "</style>\n",
       "<table border=\"1\" class=\"dataframe\">\n",
       "  <thead>\n",
       "    <tr style=\"text-align: right;\">\n",
       "      <th></th>\n",
       "      <th>ID</th>\n",
       "      <th>P-value</th>\n",
       "      <th>Adjusted P-value</th>\n",
       "      <th>Overlap</th>\n",
       "      <th>Genes</th>\n",
       "      <th>Title</th>\n",
       "      <th>Category</th>\n",
       "      <th>logFC</th>\n",
       "      <th>weighted_deg</th>\n",
       "    </tr>\n",
       "  </thead>\n",
       "  <tbody>\n",
       "    <tr>\n",
       "      <th>0</th>\n",
       "      <td>LI.M16</td>\n",
       "      <td>1.266101e-08</td>\n",
       "      <td>5.444235e-07</td>\n",
       "      <td>6/46</td>\n",
       "      <td>MGAM;TLR5;FCAR;FCGR1B;FCGR1A;TLR1</td>\n",
       "      <td>TLR and inflammatory signaling</td>\n",
       "      <td>immune</td>\n",
       "      <td>0.344067</td>\n",
       "      <td>0.053483</td>\n",
       "    </tr>\n",
       "    <tr>\n",
       "      <th>1</th>\n",
       "      <td>LI.S4</td>\n",
       "      <td>9.645470e-07</td>\n",
       "      <td>2.073776e-05</td>\n",
       "      <td>6/94</td>\n",
       "      <td>MGAM;CCR1;TLR5;FCAR;FCGR1B;TLR1</td>\n",
       "      <td>Monocyte surface signature</td>\n",
       "      <td>immune</td>\n",
       "      <td>0.273047</td>\n",
       "      <td>0.032587</td>\n",
       "    </tr>\n",
       "    <tr>\n",
       "      <th>2</th>\n",
       "      <td>LI.M37.0</td>\n",
       "      <td>3.370970e-06</td>\n",
       "      <td>4.831724e-05</td>\n",
       "      <td>9/347</td>\n",
       "      <td>MGAM;TLR5;ANXA3;FCAR;NLRC4;CLEC5A;CD3G;TLR1;CE...</td>\n",
       "      <td>immune activation - generic cluster</td>\n",
       "      <td>immune</td>\n",
       "      <td>0.171077</td>\n",
       "      <td>0.027197</td>\n",
       "    </tr>\n",
       "    <tr>\n",
       "      <th>3</th>\n",
       "      <td>LI.M165</td>\n",
       "      <td>6.752044e-06</td>\n",
       "      <td>7.258447e-05</td>\n",
       "      <td>4/35</td>\n",
       "      <td>PARP9;SERPING1;IFIT3;IFIT2</td>\n",
       "      <td>enriched in activated dendritic cells (II)</td>\n",
       "      <td>immune</td>\n",
       "      <td>0.402732</td>\n",
       "      <td>0.057463</td>\n",
       "    </tr>\n",
       "    <tr>\n",
       "      <th>4</th>\n",
       "      <td>LI.M11.0</td>\n",
       "      <td>5.332726e-05</td>\n",
       "      <td>4.380889e-04</td>\n",
       "      <td>6/189</td>\n",
       "      <td>S100A12;CCR1;TLR5;FCAR;FCGR1B;FCGR1A</td>\n",
       "      <td>enriched in monocytes (II)</td>\n",
       "      <td>immune</td>\n",
       "      <td>0.307827</td>\n",
       "      <td>0.051244</td>\n",
       "    </tr>\n",
       "    <tr>\n",
       "      <th>5</th>\n",
       "      <td>LI.M75</td>\n",
       "      <td>6.112869e-05</td>\n",
       "      <td>4.380889e-04</td>\n",
       "      <td>3/22</td>\n",
       "      <td>SERPING1;C1QB;ANXA3</td>\n",
       "      <td>antiviral IFN signature</td>\n",
       "      <td>immune</td>\n",
       "      <td>0.549688</td>\n",
       "      <td>0.073632</td>\n",
       "    </tr>\n",
       "  </tbody>\n",
       "</table>\n",
       "</div>"
      ],
      "text/plain": [
       "         ID       P-value  Adjusted P-value Overlap  \\\n",
       "0    LI.M16  1.266101e-08      5.444235e-07    6/46   \n",
       "1     LI.S4  9.645470e-07      2.073776e-05    6/94   \n",
       "2  LI.M37.0  3.370970e-06      4.831724e-05   9/347   \n",
       "3   LI.M165  6.752044e-06      7.258447e-05    4/35   \n",
       "4  LI.M11.0  5.332726e-05      4.380889e-04   6/189   \n",
       "5    LI.M75  6.112869e-05      4.380889e-04    3/22   \n",
       "\n",
       "                                               Genes  \\\n",
       "0                  MGAM;TLR5;FCAR;FCGR1B;FCGR1A;TLR1   \n",
       "1                    MGAM;CCR1;TLR5;FCAR;FCGR1B;TLR1   \n",
       "2  MGAM;TLR5;ANXA3;FCAR;NLRC4;CLEC5A;CD3G;TLR1;CE...   \n",
       "3                         PARP9;SERPING1;IFIT3;IFIT2   \n",
       "4               S100A12;CCR1;TLR5;FCAR;FCGR1B;FCGR1A   \n",
       "5                                SERPING1;C1QB;ANXA3   \n",
       "\n",
       "                                        Title Category     logFC  weighted_deg  \n",
       "0              TLR and inflammatory signaling   immune  0.344067      0.053483  \n",
       "1                  Monocyte surface signature   immune  0.273047      0.032587  \n",
       "2         immune activation - generic cluster   immune  0.171077      0.027197  \n",
       "3  enriched in activated dendritic cells (II)   immune  0.402732      0.057463  \n",
       "4                  enriched in monocytes (II)   immune  0.307827      0.051244  \n",
       "5                     antiviral IFN signature   immune  0.549688      0.073632  "
      ]
     },
     "execution_count": 60,
     "metadata": {},
     "output_type": "execute_result"
    }
   ],
   "source": [
    "gene_enrichr_df"
   ]
  },
  {
   "cell_type": "code",
   "execution_count": 61,
   "metadata": {},
   "outputs": [
    {
     "data": {
      "text/plain": [
       "(6, 9)"
      ]
     },
     "execution_count": 61,
     "metadata": {},
     "output_type": "execute_result"
    }
   ],
   "source": [
    "np.shape(gene_enrichr_df)"
   ]
  },
  {
   "cell_type": "markdown",
   "metadata": {},
   "source": [
    "#### Organize gene sets into bigger buckets"
   ]
  },
  {
   "cell_type": "markdown",
   "metadata": {},
   "source": [
    "We're going to manually organize the gene sets above into broader gene set classifications\n",
    "\n",
    "- **Interferon Type I**:\n",
    "\n",
    "- **Interferon Type II**: LI.M75\n",
    "\n",
    "- **T-cell Response**:\n",
    "\n",
    "- **Toll-like Receptor**: LI.M16\n",
    "\n",
    "- **Antigen Presentation**:\n",
    "\n",
    "- **Dendritic Cells**: LI.M165\n",
    "\n",
    "- **Monoctyes**: LI.M11.0 - LI.S4\n",
    "\n",
    "- **Myeloid Cells**:\n",
    "\n",
    "- **B Cells**:\n",
    "\n",
    "- **Complement**:\n",
    "\n",
    "- **Natural Killer Cells**:\n",
    "\n",
    "- **Neutrophils**:"
   ]
  },
  {
   "cell_type": "code",
   "execution_count": 62,
   "metadata": {},
   "outputs": [],
   "source": [
    "gene_set_group_dict = {\n",
    "    'Interferon Type II': ['LI.M75'],\n",
    "    'Toll-like Receptor': ['LI.M16'],\n",
    "    'Dendritic Cells': ['LI.M165'],\n",
    "    'Monoctyes': ['LI.M11.0', 'LI.S4']\n",
    "    }"
   ]
  },
  {
   "cell_type": "markdown",
   "metadata": {},
   "source": [
    "Add **column** to gene enriched df to indicate gene group assignment"
   ]
  },
  {
   "cell_type": "code",
   "execution_count": 63,
   "metadata": {},
   "outputs": [],
   "source": [
    "gene_set_list_for_df = []\n",
    "#iterate through each enriched pathway and find corresponding gene group assignment\n",
    "for gene_pathway_id in gene_enrichr_df.ID:\n",
    "    gene_group_assignment = ''\n",
    "    for gene_group in gene_set_group_dict.keys():\n",
    "        if gene_pathway_id in gene_set_group_dict[gene_group]:\n",
    "            if gene_group_assignment == '':\n",
    "                gene_group_assignment = gene_group\n",
    "            else:\n",
    "                gene_group_assignment = gene_group_assignment + '/' + gene_group\n",
    "    gene_set_list_for_df.append(gene_group_assignment)\n",
    "    \n",
    "gene_enrichr_df.loc[:  , 'Gene Group'] = gene_set_list_for_df "
   ]
  },
  {
   "cell_type": "code",
   "execution_count": 64,
   "metadata": {},
   "outputs": [
    {
     "data": {
      "text/html": [
       "<div>\n",
       "<style scoped>\n",
       "    .dataframe tbody tr th:only-of-type {\n",
       "        vertical-align: middle;\n",
       "    }\n",
       "\n",
       "    .dataframe tbody tr th {\n",
       "        vertical-align: top;\n",
       "    }\n",
       "\n",
       "    .dataframe thead th {\n",
       "        text-align: right;\n",
       "    }\n",
       "</style>\n",
       "<table border=\"1\" class=\"dataframe\">\n",
       "  <thead>\n",
       "    <tr style=\"text-align: right;\">\n",
       "      <th></th>\n",
       "      <th>ID</th>\n",
       "      <th>P-value</th>\n",
       "      <th>Adjusted P-value</th>\n",
       "      <th>Overlap</th>\n",
       "      <th>Genes</th>\n",
       "      <th>Title</th>\n",
       "      <th>Category</th>\n",
       "      <th>logFC</th>\n",
       "      <th>weighted_deg</th>\n",
       "      <th>Gene Group</th>\n",
       "    </tr>\n",
       "  </thead>\n",
       "  <tbody>\n",
       "    <tr>\n",
       "      <th>0</th>\n",
       "      <td>LI.M16</td>\n",
       "      <td>1.266101e-08</td>\n",
       "      <td>5.444235e-07</td>\n",
       "      <td>6/46</td>\n",
       "      <td>MGAM;TLR5;FCAR;FCGR1B;FCGR1A;TLR1</td>\n",
       "      <td>TLR and inflammatory signaling</td>\n",
       "      <td>immune</td>\n",
       "      <td>0.344067</td>\n",
       "      <td>0.053483</td>\n",
       "      <td>Toll-like Receptor</td>\n",
       "    </tr>\n",
       "    <tr>\n",
       "      <th>1</th>\n",
       "      <td>LI.S4</td>\n",
       "      <td>9.645470e-07</td>\n",
       "      <td>2.073776e-05</td>\n",
       "      <td>6/94</td>\n",
       "      <td>MGAM;CCR1;TLR5;FCAR;FCGR1B;TLR1</td>\n",
       "      <td>Monocyte surface signature</td>\n",
       "      <td>immune</td>\n",
       "      <td>0.273047</td>\n",
       "      <td>0.032587</td>\n",
       "      <td>Monoctyes</td>\n",
       "    </tr>\n",
       "    <tr>\n",
       "      <th>2</th>\n",
       "      <td>LI.M37.0</td>\n",
       "      <td>3.370970e-06</td>\n",
       "      <td>4.831724e-05</td>\n",
       "      <td>9/347</td>\n",
       "      <td>MGAM;TLR5;ANXA3;FCAR;NLRC4;CLEC5A;CD3G;TLR1;CE...</td>\n",
       "      <td>immune activation - generic cluster</td>\n",
       "      <td>immune</td>\n",
       "      <td>0.171077</td>\n",
       "      <td>0.027197</td>\n",
       "      <td></td>\n",
       "    </tr>\n",
       "    <tr>\n",
       "      <th>3</th>\n",
       "      <td>LI.M165</td>\n",
       "      <td>6.752044e-06</td>\n",
       "      <td>7.258447e-05</td>\n",
       "      <td>4/35</td>\n",
       "      <td>PARP9;SERPING1;IFIT3;IFIT2</td>\n",
       "      <td>enriched in activated dendritic cells (II)</td>\n",
       "      <td>immune</td>\n",
       "      <td>0.402732</td>\n",
       "      <td>0.057463</td>\n",
       "      <td>Dendritic Cells</td>\n",
       "    </tr>\n",
       "    <tr>\n",
       "      <th>4</th>\n",
       "      <td>LI.M11.0</td>\n",
       "      <td>5.332726e-05</td>\n",
       "      <td>4.380889e-04</td>\n",
       "      <td>6/189</td>\n",
       "      <td>S100A12;CCR1;TLR5;FCAR;FCGR1B;FCGR1A</td>\n",
       "      <td>enriched in monocytes (II)</td>\n",
       "      <td>immune</td>\n",
       "      <td>0.307827</td>\n",
       "      <td>0.051244</td>\n",
       "      <td>Monoctyes</td>\n",
       "    </tr>\n",
       "    <tr>\n",
       "      <th>5</th>\n",
       "      <td>LI.M75</td>\n",
       "      <td>6.112869e-05</td>\n",
       "      <td>4.380889e-04</td>\n",
       "      <td>3/22</td>\n",
       "      <td>SERPING1;C1QB;ANXA3</td>\n",
       "      <td>antiviral IFN signature</td>\n",
       "      <td>immune</td>\n",
       "      <td>0.549688</td>\n",
       "      <td>0.073632</td>\n",
       "      <td>Interferon Type II</td>\n",
       "    </tr>\n",
       "  </tbody>\n",
       "</table>\n",
       "</div>"
      ],
      "text/plain": [
       "         ID       P-value  Adjusted P-value Overlap  \\\n",
       "0    LI.M16  1.266101e-08      5.444235e-07    6/46   \n",
       "1     LI.S4  9.645470e-07      2.073776e-05    6/94   \n",
       "2  LI.M37.0  3.370970e-06      4.831724e-05   9/347   \n",
       "3   LI.M165  6.752044e-06      7.258447e-05    4/35   \n",
       "4  LI.M11.0  5.332726e-05      4.380889e-04   6/189   \n",
       "5    LI.M75  6.112869e-05      4.380889e-04    3/22   \n",
       "\n",
       "                                               Genes  \\\n",
       "0                  MGAM;TLR5;FCAR;FCGR1B;FCGR1A;TLR1   \n",
       "1                    MGAM;CCR1;TLR5;FCAR;FCGR1B;TLR1   \n",
       "2  MGAM;TLR5;ANXA3;FCAR;NLRC4;CLEC5A;CD3G;TLR1;CE...   \n",
       "3                         PARP9;SERPING1;IFIT3;IFIT2   \n",
       "4               S100A12;CCR1;TLR5;FCAR;FCGR1B;FCGR1A   \n",
       "5                                SERPING1;C1QB;ANXA3   \n",
       "\n",
       "                                        Title Category     logFC  \\\n",
       "0              TLR and inflammatory signaling   immune  0.344067   \n",
       "1                  Monocyte surface signature   immune  0.273047   \n",
       "2         immune activation - generic cluster   immune  0.171077   \n",
       "3  enriched in activated dendritic cells (II)   immune  0.402732   \n",
       "4                  enriched in monocytes (II)   immune  0.307827   \n",
       "5                     antiviral IFN signature   immune  0.549688   \n",
       "\n",
       "   weighted_deg          Gene Group  \n",
       "0      0.053483  Toll-like Receptor  \n",
       "1      0.032587           Monoctyes  \n",
       "2      0.027197                      \n",
       "3      0.057463     Dendritic Cells  \n",
       "4      0.051244           Monoctyes  \n",
       "5      0.073632  Interferon Type II  "
      ]
     },
     "execution_count": 64,
     "metadata": {},
     "output_type": "execute_result"
    }
   ],
   "source": [
    "gene_enrichr_df"
   ]
  },
  {
   "cell_type": "markdown",
   "metadata": {},
   "source": [
    "### *Function* to visualize a color a specific list of nodes"
   ]
  },
  {
   "cell_type": "code",
   "execution_count": 65,
   "metadata": {},
   "outputs": [],
   "source": [
    "def visualize_network_color_by_inclusion_in_node_set(G, ax, pos, node_set, color, pathway_name, num_nodes):\n",
    "    \n",
    "    #color nodes by whether they belong in gene set (given color) or not (grey)\n",
    "    node_color_dict = {True:color, False:'0.85'}\n",
    "    node_colors = [node_color_dict[node_i in node_set] for node_i in G.nodes]\n",
    "    \n",
    "    #nodes in node set\n",
    "    H = G.subgraph(node_set)\n",
    "    collection = nx.draw_networkx_nodes(\n",
    "        H, \n",
    "        pos = pos, \n",
    "        ax = ax,\n",
    "        node_size = 25, \n",
    "        node_color = color,\n",
    "        linewidths = 0.25,\n",
    "        edge_color = \"0.83\",\n",
    "        width=0.0,\n",
    "        alpha = 1.0, \n",
    "        with_labels = False)\n",
    "    collection.set_zorder(2)\n",
    "    ax.collections[0].set_edgecolor(\"black\") #color of the node outlines\n",
    "    \n",
    "    #nodes not in node set\n",
    "    H = G.subgraph([node_i for node_i in G.nodes if node_i not in node_set])\n",
    "    collection = nx.draw_networkx_nodes(\n",
    "        H, \n",
    "        pos = pos, \n",
    "        ax = ax,\n",
    "        node_size = 20, \n",
    "        node_color = '0.85',\n",
    "        linewidths = 0.0,\n",
    "        edge_color = \"0.83\",\n",
    "        width=0.0,\n",
    "        alpha = 0.8, \n",
    "        with_labels = False)\n",
    "    collection.set_zorder(1)\n",
    "    \n",
    "    #average the (weighted degree) for each gene detected as part of the gene set\n",
    "    avg_weighted_deg = round(node_weighted_deg_values[genes_in_category_i].mean(), 2)\n",
    "    \n",
    "    #average the (mean logFC) for each gene detected as part of the gene set\n",
    "    avg_meanlogFC = round(mean_logFC_series[genes_in_category_i].mean(), 2)\n",
    "    \n",
    "    ax.set_title(f'{pathway_name}\\nN={num_nodes} / avg weight deg={avg_weighted_deg} / avg logFC={avg_meanlogFC}', color = 'k', fontsize = 11)"
   ]
  },
  {
   "cell_type": "markdown",
   "metadata": {},
   "source": [
    "Assign a color to each gene category by pulling from a color map"
   ]
  },
  {
   "cell_type": "code",
   "execution_count": 66,
   "metadata": {},
   "outputs": [],
   "source": [
    "num_gene_categories = len(gene_set_group_dict.keys()) #number of gene categories (subplots)\n",
    "color_scheme = discrete_cmap(num_gene_categories, 'jet') #pull a color map and discretize it\n",
    "norm = mpl.colors.Normalize(vmin = 0, vmax = num_gene_categories) #get the normalization\n",
    "color_scheme_norm = mpl.cm.ScalarMappable(norm = norm, cmap = color_scheme) #normalize the color map to the min/max values of the node values\n",
    "\n",
    "#get color for each node from color map\n",
    "gene_category_color_dict = {}\n",
    "i = 0\n",
    "for gene_category_i in gene_set_group_dict.keys(): #iterate through gene categories\n",
    "    gene_category_color_dict[gene_category_i] = 'k' # color_scheme_norm.to_rgba(i)\n",
    "    i += 1"
   ]
  },
  {
   "cell_type": "code",
   "execution_count": 67,
   "metadata": {},
   "outputs": [
    {
     "name": "stdout",
     "output_type": "stream",
     "text": [
      "Number of Gene Groups = 4\n"
     ]
    }
   ],
   "source": [
    "print(f'Number of Gene Groups = {len(gene_category_color_dict.keys())}')"
   ]
  },
  {
   "cell_type": "markdown",
   "metadata": {},
   "source": [
    "#### Visualize nodes that belong to the enriched gene categories"
   ]
  },
  {
   "cell_type": "code",
   "execution_count": 69,
   "metadata": {},
   "outputs": [
    {
     "data": {
      "image/png": "[encoded data removed]",
      "text/plain": [
       "<Figure size 1152x792 with 4 Axes>"
      ]
     },
     "metadata": {},
     "output_type": "display_data"
    }
   ],
   "source": [
    "fig = plt.figure(constrained_layout=True)\n",
    "\n",
    "gs = GridSpec(2, 3, figure=fig)\n",
    "\n",
    "ax1 = fig.add_subplot(gs[0, 0])\n",
    "ax2 = fig.add_subplot(gs[0, 1])\n",
    "ax3 = fig.add_subplot(gs[0, 2])\n",
    "ax4 = fig.add_subplot(gs[1, 0])\n",
    "\n",
    "#iterate through each gene category & axis\n",
    "for gene_category_i, ax in zip(gene_set_group_dict.keys(), [ax1, ax2, ax3, ax4]):\n",
    "    \n",
    "    #get all the genes that belongs to the enriched pathways for this gene category\n",
    "    genes_in_category_i = []\n",
    "    \n",
    "    #iterate through each pathway tied to this gene category\n",
    "    for enriched_pathway_i in gene_set_group_dict[gene_category_i]:\n",
    "\n",
    "        genes_in_enriched_pathway_i = gene_enrichr_df[gene_enrichr_df.ID == enriched_pathway_i].Genes.values[0]\n",
    "        genes_in_enriched_pathway_i = genes_in_enriched_pathway_i.split(';')\n",
    "        genes_in_category_i = genes_in_category_i + genes_in_enriched_pathway_i\n",
    "\n",
    "    genes_in_category_i = list(set(genes_in_category_i)) #get rid of repeat genes\n",
    "    gene_category_color = gene_category_color_dict[gene_category_i] #get the color assigned to this gene category\n",
    "    num_nodes_category_i = str(len(genes_in_category_i)) #number of nodes\n",
    "\n",
    "    visualize_network_color_by_inclusion_in_node_set(S, ax, pos, genes_in_category_i, gene_category_color, gene_category_i, num_nodes_category_i)\n",
    "\n",
    "################### Plot\n",
    "fig = plt.gcf()\n",
    "fig.set_size_inches(16.0, 11.0)\n",
    "fig.tight_layout()\n",
    "\n",
    "file_name = f'{figures_dir_path}/{comparison_X} network with nodes colored according to functional immune gene groups.pdf'\n",
    "plt.savefig(file_name, bbox_inches='tight', dpi = 300 , transparent = True)\n",
    "\n",
    "plt.show()"
   ]
  },
  {
   "cell_type": "code",
   "execution_count": null,
   "metadata": {},
   "outputs": [],
   "source": []
  }
 ],
 "metadata": {
  "kernelspec": {
   "display_name": "Python [conda env:py36_MRI_virtualenv]",
   "language": "python",
   "name": "conda-env-py36_MRI_virtualenv-py"
  },
  "language_info": {
   "codemirror_mode": {
    "name": "ipython",
    "version": 3
   },
   "file_extension": ".py",
   "mimetype": "text/x-python",
   "name": "python",
   "nbconvert_exporter": "python",
   "pygments_lexer": "ipython3",
   "version": "3.6.10"
  }
 },
 "nbformat": 4,
 "nbformat_minor": 2
}

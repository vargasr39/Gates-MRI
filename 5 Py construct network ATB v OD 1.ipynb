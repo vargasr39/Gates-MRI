{
 "cells": [
  {
   "cell_type": "code",
   "execution_count": 1,
   "metadata": {},
   "outputs": [
    {
     "data": {
      "text/html": [
       "<style>.container { width:100% !important; }</style>"
      ],
      "text/plain": [
       "<IPython.core.display.HTML object>"
      ]
     },
     "metadata": {},
     "output_type": "display_data"
    }
   ],
   "source": [
    "from IPython.core.display import display, HTML\n",
    "display(HTML(\"<style>.container { width:100% !important; }</style>\"))\n",
    "%matplotlib inline"
   ]
  },
  {
   "cell_type": "code",
   "execution_count": 2,
   "metadata": {},
   "outputs": [],
   "source": [
    "import os\n",
    "import pandas as pd\n",
    "import numpy as np\n",
    "\n",
    "import matplotlib.pyplot as plt\n",
    "import matplotlib as mpl\n",
    "from matplotlib.ticker import FormatStrFormatter\n",
    "from matplotlib.ticker import MaxNLocator\n",
    "from matplotlib.gridspec import GridSpec\n",
    "import matplotlib.pylab as pl\n",
    "import matplotlib.colors as mcolors\n",
    "import matplotlib.patches as mpatches\n",
    "\n",
    "import fastcluster\n",
    "from scipy.cluster.hierarchy import dendrogram\n",
    "import scipy.cluster.hierarchy as hier\n",
    "\n",
    "import networkx as nx\n",
    "import networkx.algorithms.community as nxcom\n",
    "import community\n",
    "from collections import Counter\n",
    "import pickle"
   ]
  },
  {
   "cell_type": "code",
   "execution_count": 3,
   "metadata": {},
   "outputs": [],
   "source": [
    "num_datasets_per_comparison = {\n",
    "'ATB_v_LTBI': 16,\n",
    "'ATB_v_HC' : 15,\n",
    "'ATB_v_OD': 10,\n",
    "'LTBI_v_HC': 9}"
   ]
  },
  {
   "cell_type": "markdown",
   "metadata": {},
   "source": [
    "#### set the *q-value* threshold & comparison"
   ]
  },
  {
   "cell_type": "code",
   "execution_count": 4,
   "metadata": {},
   "outputs": [],
   "source": [
    "qval_thresh = 0.05"
   ]
  },
  {
   "cell_type": "code",
   "execution_count": 5,
   "metadata": {},
   "outputs": [],
   "source": [
    "comparison_X = 'ATB_v_OD'"
   ]
  },
  {
   "cell_type": "markdown",
   "metadata": {},
   "source": [
    "#### set parameters for plotting"
   ]
  },
  {
   "cell_type": "code",
   "execution_count": 6,
   "metadata": {},
   "outputs": [],
   "source": [
    "plt.style.use('ggplot')\n",
    "plt.rcParams['lines.linewidth']=1.0\n",
    "plt.rcParams['axes.facecolor']='1.0'\n",
    "plt.rcParams['xtick.color']='black'\n",
    "plt.rcParams['axes.grid']=False\n",
    "plt.rcParams['axes.edgecolor']='black'\n",
    "plt.rcParams['grid.color']= '1.0'\n",
    "plt.rcParams.update({'font.size': 14})"
   ]
  },
  {
   "cell_type": "markdown",
   "metadata": {},
   "source": [
    "#### specify directory where differential gene data is stored"
   ]
  },
  {
   "cell_type": "code",
   "execution_count": 7,
   "metadata": {},
   "outputs": [],
   "source": [
    "#use this path for personal computer\n",
    "#diff_exp_data_dir = \"/Users/rogervargas/OneDrive - Bill & Melinda Gates Medical Research Institute/Projects/Biomarkers/Data/Pooled Differential Gene Expression/\"\n",
    "\n",
    "#use this path for Gates MRI computer\n",
    "#diff_exp_data_dir = \"/Users/RogerVargas/OneDrive - Bill & Melinda Gates Medical Research Institute/Projects/Biomarkers/Data/Pooled Differential Gene Expression/\"\n",
    "\n",
    "#use this path for O2 computing cluster\n",
    "diff_exp_data_dir = \"/n/data1/hms/dbmi/farhat/Roger/gatesMRI/Projects/Biomarkers/Data/Pooled Differential Gene Expression/\""
   ]
  },
  {
   "cell_type": "markdown",
   "metadata": {},
   "source": [
    "#### specify directory for pickling objects"
   ]
  },
  {
   "cell_type": "code",
   "execution_count": 8,
   "metadata": {},
   "outputs": [],
   "source": [
    "#use this path for O2 computing cluster\n",
    "pickled_objects_dir = '/n/data1/hms/dbmi/farhat/Roger/gatesMRI/Projects/Biomarkers/Data/Pickled Files/'"
   ]
  },
  {
   "cell_type": "markdown",
   "metadata": {},
   "source": [
    "### *Function* for visualizing distribution of edge weights from pooled (significant) logFC changes across datasets"
   ]
  },
  {
   "cell_type": "code",
   "execution_count": 9,
   "metadata": {},
   "outputs": [],
   "source": [
    "def plot_distribution_of_edge_weights(ax, edge_weight_distr_counter_dict, plot_title, linecolor):\n",
    "    \n",
    "    #convert Counter dict to series\n",
    "    edge_weight_distr_series = pd.Series(edge_weight_distr_counter_dict).sort_index()\n",
    "    \n",
    "    #get the keys & values from Counter dict (with Edge Weight distr)\n",
    "    edge_weight_values = edge_weight_distr_series.index\n",
    "    edge_weight_count = edge_weight_distr_series.values\n",
    "    edge_weight_count_norm = np.array(edge_weight_count) / float(np.sum(edge_weight_count)) #normalize counts\n",
    "    \n",
    "    ax.bar(edge_weight_values , edge_weight_count_norm, color = 'white' , width = 1.0 , edgecolor='black', linewidth=0.5)\n",
    "    ax.bar(edge_weight_values[edge_weight_distr_series.index <= -3] , edge_weight_count_norm[edge_weight_distr_series.index <= -3], color = 'blue' , width = 1.0 , edgecolor='black', linewidth=0.5)\n",
    "    ax.bar(edge_weight_values[edge_weight_distr_series.index >= 3] , edge_weight_count_norm[edge_weight_distr_series.index >= 3], color = 'blue' , width = 1.0 , edgecolor='black', linewidth=0.5)\n",
    "    ax.plot(edge_weight_values , edge_weight_count_norm, color = linecolor , linewidth = 2.5)\n",
    "    \n",
    "    # calculate the number of the edges that had weight <= -3\n",
    "    negative_edge_weights_for_network = edge_weight_count[edge_weight_distr_series.index <= -3].sum()\n",
    "    \n",
    "    # calculate the number of the edges that had weight >= 3\n",
    "    positive_edge_weights_for_network = edge_weight_count[edge_weight_distr_series.index >= 3].sum()\n",
    "\n",
    "    ax.set_title(plot_title, fontsize = 12, color = 'k')\n",
    "    ax.set_ylabel('Proportion of Edges', fontsize = 12, color = 'k')\n",
    "    ax.set_xlabel(f'Edge Weights \\n (Num Edges <= -3: {negative_edge_weights_for_network}) \\n (Num Edges >= 3: {positive_edge_weights_for_network})' , fontsize = 12, color = 'k')\n",
    "\n",
    "    ax.spines['right'].set_visible(False)\n",
    "    ax.spines['top'].set_visible(False)\n",
    "    ax.grid(False)\n",
    "    ax.set_yscale('log')\n",
    "\n",
    "    ax.tick_params(labelcolor = 'k')\n",
    "    ax.tick_params(axis='y', which='major', labelsize=12 , labelcolor = 'k')\n",
    "    ax.tick_params(axis='x', which='major', labelsize=12 , labelcolor = 'k')\n",
    "    \n",
    "    for axis in [ax.yaxis]:\n",
    "        axis.set_major_formatter(FormatStrFormatter('%.5f'))\n",
    "        \n",
    "    ax.xaxis.set_major_locator(MaxNLocator(integer=True))"
   ]
  },
  {
   "cell_type": "markdown",
   "metadata": {},
   "source": [
    "## Compute Edges (and corresponding weights) from pooled logFC matrix"
   ]
  },
  {
   "cell_type": "code",
   "execution_count": 11,
   "metadata": {},
   "outputs": [],
   "source": [
    "logFC_table_filename = f'{comparison_X}_signif_logFC_qval_thresh_{qval_thresh}.csv'\n",
    "\n",
    "# read in CSV file with significant logFC changes for genes between comparison X samples collected from various datasets\n",
    "diff_gene_exp_df = pd.read_csv(diff_exp_data_dir + logFC_table_filename).set_index('Unnamed: 0')\n",
    "diff_gene_exp_df.rename_axis('gene' , inplace = True)\n",
    "\n",
    "# Construct simplified matrix of logFC direction from DataFrame with significant logFC changes across all analyses by converting values:\n",
    "# +1 if logFC > 0\n",
    "#  0 if logFC = 0\n",
    "# -1 if logFC < 0\n",
    "\n",
    "# store copy of array from dataframe with sig. logFC values (rows = genes, columns = GSE ID)\n",
    "direc_diff_gene_exp_matrix = diff_gene_exp_df.copy().values \n",
    "\n",
    "# replace values in logFC matrix\n",
    "direc_diff_gene_exp_matrix[direc_diff_gene_exp_matrix > 0.0] = 1\n",
    "direc_diff_gene_exp_matrix[direc_diff_gene_exp_matrix == 0.0] = 0\n",
    "direc_diff_gene_exp_matrix[direc_diff_gene_exp_matrix < 0.0] = -1\n",
    "\n",
    "# convert to lower memory int8 datatype\n",
    "direc_diff_gene_exp_matrix = direc_diff_gene_exp_matrix.astype('int8')\n",
    "\n",
    "# compute the dot product between every two pairs of gene vectors (will calculate the edges weights for our network)\n",
    "# Compute $M \\cdot M^T \\text{ to get } i \\cdot j \\text{ , } \\forall \\text{ pairs of rows } i, j \\text{ in matrix } M$\n",
    "# multiply direction logFC matrix by its transpose to get the dot products between all pairs of rows\n",
    "network_edge_weight_matrix = direc_diff_gene_exp_matrix.dot(direc_diff_gene_exp_matrix.T)\n",
    "\n",
    "# the row/column annotation (genes) can be copied from the logFC differential gene expression DataFrame\n",
    "network_edge_weight_matrix_labels = pd.Series(list(diff_gene_exp_df.index) , index = range(0 , len(diff_gene_exp_df.index)))\n",
    "\n",
    "# DISTRIBUTION OF EDGE WEIGHTS\n",
    "\n",
    "#number of rows / columns\n",
    "num_genes = np.shape(network_edge_weight_matrix)[0]\n",
    "\n",
    "# retrieve the distribution of the Edge Weights by returning the upper triangular part of the matrix\n",
    "edge_weight_array = network_edge_weight_matrix[np.triu_indices(num_genes, k = 0)]\n",
    "\n",
    "#convert array to a Counter dict to save space (keys: edge weight values, values: count of edge weights in edge weight distribution)\n",
    "edge_weight_distr_counter_dict = Counter(list(edge_weight_array))"
   ]
  },
  {
   "cell_type": "code",
   "execution_count": 12,
   "metadata": {},
   "outputs": [
    {
     "data": {
      "text/plain": [
       "array([[0, 0, 0, ..., 0, 0, 0],\n",
       "       [0, 0, 0, ..., 0, 0, 0],\n",
       "       [0, 0, 0, ..., 0, 0, 0],\n",
       "       ...,\n",
       "       [0, 0, 0, ..., 0, 0, 0],\n",
       "       [0, 0, 0, ..., 0, 0, 0],\n",
       "       [0, 0, 0, ..., 0, 0, 0]], dtype=int8)"
      ]
     },
     "execution_count": 12,
     "metadata": {},
     "output_type": "execute_result"
    }
   ],
   "source": [
    "network_edge_weight_matrix"
   ]
  },
  {
   "cell_type": "code",
   "execution_count": 13,
   "metadata": {},
   "outputs": [
    {
     "data": {
      "text/plain": [
       "(23187, 23187)"
      ]
     },
     "execution_count": 13,
     "metadata": {},
     "output_type": "execute_result"
    }
   ],
   "source": [
    "np.shape(network_edge_weight_matrix)"
   ]
  },
  {
   "cell_type": "code",
   "execution_count": 14,
   "metadata": {},
   "outputs": [
    {
     "data": {
      "text/plain": [
       "0     KRT36\n",
       "1     KIFC3\n",
       "2      REG4\n",
       "3     FADS2\n",
       "4    FANCD2\n",
       "dtype: object"
      ]
     },
     "execution_count": 14,
     "metadata": {},
     "output_type": "execute_result"
    }
   ],
   "source": [
    "network_edge_weight_matrix_labels.head()"
   ]
  },
  {
   "cell_type": "code",
   "execution_count": 15,
   "metadata": {},
   "outputs": [
    {
     "data": {
      "text/plain": [
       "(23187,)"
      ]
     },
     "execution_count": 15,
     "metadata": {},
     "output_type": "execute_result"
    }
   ],
   "source": [
    "np.shape(network_edge_weight_matrix_labels)"
   ]
  },
  {
   "cell_type": "code",
   "execution_count": 16,
   "metadata": {},
   "outputs": [
    {
     "data": {
      "image/png": "[encoded data removed]",
      "text/plain": [
       "<Figure size 540x396 with 1 Axes>"
      ]
     },
     "metadata": {},
     "output_type": "display_data"
    }
   ],
   "source": [
    "fig , ax = plt.subplots()\n",
    "\n",
    "plot_distribution_of_edge_weights(ax, edge_weight_distr_counter_dict, f'Distribution of Edge Weights for {comparison_X}', 'xkcd:green')\n",
    "\n",
    "fig = plt.gcf()\n",
    "fig.set_size_inches(7.5, 5.5)\n",
    "fig.tight_layout()\n",
    "\n",
    "#file_name = '/n/data1/hms/dbmi/farhat/Roger/homoplasy_project/Figures/lab_meeting_12_12_19/pairwise_SNP_distance/distribution_of_pairwise_SNP_distances.png'\n",
    "#plt.savefig(file_name, bbox_inches='tight', dpi = 300 , transparent = True)\n",
    "\n",
    "plt.show()"
   ]
  },
  {
   "cell_type": "markdown",
   "metadata": {},
   "source": [
    "#### minimum/maximum edge weights"
   ]
  },
  {
   "cell_type": "code",
   "execution_count": 17,
   "metadata": {},
   "outputs": [
    {
     "data": {
      "text/plain": [
       "-3"
      ]
     },
     "execution_count": 17,
     "metadata": {},
     "output_type": "execute_result"
    }
   ],
   "source": [
    "np.min(network_edge_weight_matrix)"
   ]
  },
  {
   "cell_type": "code",
   "execution_count": 18,
   "metadata": {},
   "outputs": [
    {
     "data": {
      "text/plain": [
       "5"
      ]
     },
     "execution_count": 18,
     "metadata": {},
     "output_type": "execute_result"
    }
   ],
   "source": [
    "np.max(network_edge_weight_matrix)"
   ]
  },
  {
   "cell_type": "markdown",
   "metadata": {},
   "source": [
    "## Construct NetworkX graph from edge weight matrix"
   ]
  },
  {
   "cell_type": "markdown",
   "metadata": {},
   "source": [
    "#### Retrieve the indices for the upper-triangular part of the matrix, normalize edge weights & construct list of edges"
   ]
  },
  {
   "cell_type": "markdown",
   "metadata": {},
   "source": [
    "Have to (1) retrieve the edges from the upper-triangle of the matrix, (2) convert all to positive edge weights & (3) divide by the number of datasets"
   ]
  },
  {
   "cell_type": "code",
   "execution_count": 19,
   "metadata": {},
   "outputs": [],
   "source": [
    "#Return the upper triangular part of the matrix with elements in lower part ZEROED out\n",
    "upper_tri_network_edge_weight_matrix = np.triu(network_edge_weight_matrix, k = 0)\n",
    "\n",
    "#Return a boolean for elements in the upper triangular part of the matrix for elments that are <= -3 OR >= 3\n",
    "upper_tri_network_edge_weight_matrix_bool = abs(upper_tri_network_edge_weight_matrix) >= 3\n",
    "\n",
    "#get the indices for the elements in the upper triangle where elements (edge weights) <= -3 OR >= 3\n",
    "node_i_indices = upper_tri_network_edge_weight_matrix_bool.nonzero()[0]\n",
    "node_j_indices = upper_tri_network_edge_weight_matrix_bool.nonzero()[1]\n",
    "\n",
    "#get the normalization factor (number of datasets used to construct edge weights = maximum possible weight)\n",
    "edge_weight_norm_factor = float(num_datasets_per_comparison[comparison_X])\n",
    "\n",
    "#Create list of edges for NetworkX graph by iterating through numpy (adjancency) matrix (with edge weights) + node labels (rows/columns of matrix) & storing edges with weights <= -3 OR >= 3\n",
    "G_edge_list = [ ( network_edge_weight_matrix_labels[node_i], network_edge_weight_matrix_labels[node_j], (float(abs(network_edge_weight_matrix[node_i, node_j]))/edge_weight_norm_factor) ) for node_i, node_j in zip(node_i_indices, node_j_indices)]"
   ]
  },
  {
   "cell_type": "code",
   "execution_count": 20,
   "metadata": {},
   "outputs": [
    {
     "data": {
      "text/plain": [
       "[('SERPING1', 'SERPING1', 0.4),\n",
       " ('SERPING1', 'GBP4', 0.4),\n",
       " ('SERPING1', 'LAP3', 0.3),\n",
       " ('SERPING1', 'FCGR1A', 0.3),\n",
       " ('SERPING1', 'SEPT4', 0.3),\n",
       " ('SERPING1', 'TRANK1', 0.3),\n",
       " ('SERPING1', 'VAMP5', 0.3),\n",
       " ('SERPING1', 'GBP5', 0.4),\n",
       " ('SERPING1', 'POLB', 0.3),\n",
       " ('SERPING1', 'IFIT2', 0.3)]"
      ]
     },
     "execution_count": 20,
     "metadata": {},
     "output_type": "execute_result"
    }
   ],
   "source": [
    "G_edge_list[0:10]"
   ]
  },
  {
   "cell_type": "code",
   "execution_count": 21,
   "metadata": {},
   "outputs": [
    {
     "data": {
      "text/plain": [
       "326"
      ]
     },
     "execution_count": 21,
     "metadata": {},
     "output_type": "execute_result"
    }
   ],
   "source": [
    "len(G_edge_list) #number of edges (gene-gene pairs with edge weights <= -3 OR >= 3)"
   ]
  },
  {
   "cell_type": "markdown",
   "metadata": {},
   "source": [
    "#### Construct NetworkX graph from list of Edges"
   ]
  },
  {
   "cell_type": "code",
   "execution_count": 22,
   "metadata": {},
   "outputs": [],
   "source": [
    "G = nx.Graph()\n",
    "G.add_weighted_edges_from(G_edge_list)"
   ]
  },
  {
   "cell_type": "code",
   "execution_count": 23,
   "metadata": {},
   "outputs": [
    {
     "name": "stdout",
     "output_type": "stream",
     "text": [
      "Name: \n",
      "Type: Graph\n",
      "Number of nodes: 67\n",
      "Number of edges: 326\n",
      "Average degree:   9.7313\n"
     ]
    }
   ],
   "source": [
    "print(nx.info(G))"
   ]
  },
  {
   "cell_type": "markdown",
   "metadata": {},
   "source": [
    "Pickle the network for downstream analysis"
   ]
  },
  {
   "cell_type": "code",
   "execution_count": 24,
   "metadata": {},
   "outputs": [],
   "source": [
    "nx.write_gpickle(G , pickled_objects_dir + f'Network Files/networks/{comparison_X}.pkl')\n",
    "# use nx.read_gpickle( pickled_objects_dir + f'Network Files/networks/{comparison_X}.pkl') to load"
   ]
  },
  {
   "cell_type": "markdown",
   "metadata": {},
   "source": [
    "## Visualize network"
   ]
  },
  {
   "cell_type": "markdown",
   "metadata": {},
   "source": [
    "Use **Spring Layout** to set the positions of the nodes"
   ]
  },
  {
   "cell_type": "code",
   "execution_count": 25,
   "metadata": {},
   "outputs": [],
   "source": [
    "pos = nx.spring_layout(G , k = 0.35 , weight = 'weight' , iterations = 100)"
   ]
  },
  {
   "cell_type": "code",
   "execution_count": 26,
   "metadata": {},
   "outputs": [
    {
     "data": {
      "image/png": "[encoded data removed]",
      "text/plain": [
       "<Figure size 648x540 with 1 Axes>"
      ]
     },
     "metadata": {},
     "output_type": "display_data"
    }
   ],
   "source": [
    "fig , ax = plt.subplots()\n",
    "\n",
    "nx.draw_networkx(\n",
    "    G, \n",
    "    pos = pos, \n",
    "    ax = ax,\n",
    "    node_size = 20, \n",
    "    node_color = 'xkcd:yellow',\n",
    "    edge_color = \"0.6\",\n",
    "    alpha = 0.2, \n",
    "    with_labels = False)\n",
    "\n",
    "fig = plt.gcf()\n",
    "fig.set_size_inches(9.0, 7.5)\n",
    "fig.tight_layout()\n",
    "plt.show()"
   ]
  },
  {
   "cell_type": "markdown",
   "metadata": {},
   "source": [
    "#### *Function* to color a subset of nodes differently"
   ]
  },
  {
   "cell_type": "code",
   "execution_count": 27,
   "metadata": {},
   "outputs": [],
   "source": [
    "def draw_graph_and_color_subset_nodes(G, nodes_in_group, ax):\n",
    "\n",
    "    '''\n",
    "    This function takes in a graph, list of a subset of nodes and axis object,\n",
    "    then draws the network with the subset of nodes colored seperately from the \n",
    "    rest of the nodes in the network\n",
    "    '''\n",
    "\n",
    "    #draw nodes NOT in the (subset) group\n",
    "    size_map = []\n",
    "    for node in G:\n",
    "        if node not in nodes_in_group:\n",
    "            size_map.append(25)\n",
    "        elif node in nodes_in_group:\n",
    "            size_map.append(0)\n",
    "\n",
    "    nx.draw_networkx(\n",
    "        G, \n",
    "        ax = ax,\n",
    "        pos=pos, \n",
    "        node_size=size_map, \n",
    "        node_color = 'xkcd:grey',\n",
    "        linewidths = 0.0,\n",
    "        edge_color=\"0.7\",\n",
    "        width=0.0,\n",
    "        alpha=0.25, \n",
    "        with_labels=False)\n",
    "\n",
    "    #draw nodes that ARE in the (subset) group\n",
    "    size_map = []\n",
    "    for node in G:\n",
    "        if node not in nodes_in_group:\n",
    "            size_map.append(0)\n",
    "        elif node in nodes_in_group:\n",
    "            size_map.append(25)\n",
    "\n",
    "    nx.draw_networkx(\n",
    "        G, \n",
    "        pos=pos, \n",
    "        ax = ax,\n",
    "        node_size=size_map, \n",
    "        node_color = 'xkcd:black',\n",
    "        linewidths = 0.0,\n",
    "        edge_color=\"0.7\",\n",
    "        width=0.0,\n",
    "        alpha=0.7, \n",
    "        with_labels=False)"
   ]
  },
  {
   "cell_type": "markdown",
   "metadata": {},
   "source": [
    "## Centrality of Nodes from NetworkX graph"
   ]
  },
  {
   "cell_type": "markdown",
   "metadata": {},
   "source": [
    "Get a series of the **Degree** for each node"
   ]
  },
  {
   "cell_type": "code",
   "execution_count": 28,
   "metadata": {},
   "outputs": [],
   "source": [
    "node_list = [node_deg[0] for node_deg in list(G.degree())]\n",
    "degree_list = [node_deg[1] for node_deg in list(G.degree())]\n",
    "degree_series = pd.Series(degree_list , index = node_list).sort_values(ascending = False)"
   ]
  },
  {
   "cell_type": "markdown",
   "metadata": {},
   "source": [
    "Get a series of the **Weighted Degree** for each node"
   ]
  },
  {
   "cell_type": "code",
   "execution_count": 29,
   "metadata": {},
   "outputs": [],
   "source": [
    "node_list = [node_deg[0] for node_deg in list(G.degree(weight = 'weight'))]\n",
    "degree_list = [node_deg[1] for node_deg in list(G.degree(weight = 'weight'))]\n",
    "weighted_degree_series = pd.Series(degree_list , index = node_list).sort_values(ascending = False)"
   ]
  },
  {
   "cell_type": "markdown",
   "metadata": {},
   "source": [
    "Get a series of the **Eigenvector Centrality** for each node"
   ]
  },
  {
   "cell_type": "code",
   "execution_count": 30,
   "metadata": {},
   "outputs": [],
   "source": [
    "eigenvector_centrality_series = pd.Series(nx.eigenvector_centrality(G, weight = 'weight')).sort_values(ascending = False) #takes edge weight into account"
   ]
  },
  {
   "cell_type": "markdown",
   "metadata": {},
   "source": [
    "Pickle **Degree**, **Weighted Degree** and **Eigenvector Centrality** series for comparison with other networks"
   ]
  },
  {
   "cell_type": "code",
   "execution_count": 31,
   "metadata": {},
   "outputs": [],
   "source": [
    "degree_series.to_pickle(pickled_objects_dir + f'Network Files/degree series/{comparison_X}.pkl')\n",
    "weighted_degree_series.to_pickle(pickled_objects_dir + f'Network Files/weighted degree series/{comparison_X}.pkl')\n",
    "eigenvector_centrality_series.to_pickle(pickled_objects_dir + f'Network Files/eigenvector centrality series/{comparison_X}.pkl')"
   ]
  },
  {
   "cell_type": "markdown",
   "metadata": {},
   "source": [
    "Plot the distibution of **centrality** values for all nodes"
   ]
  },
  {
   "cell_type": "code",
   "execution_count": 32,
   "metadata": {},
   "outputs": [
    {
     "name": "stderr",
     "output_type": "stream",
     "text": [
      "/home/rv76/anaconda2/envs/py36_MRI_virtualenv/lib/python3.6/site-packages/ipykernel_launcher.py:51: UserWarning: This figure was using constrained_layout==True, but that is incompatible with subplots_adjust and or tight_layout: setting constrained_layout==False. \n"
     ]
    },
    {
     "data": {
      "image/png": "[encoded data removed]",
      "text/plain": [
       "<Figure size 1080x360 with 3 Axes>"
      ]
     },
     "metadata": {},
     "output_type": "display_data"
    }
   ],
   "source": [
    "fig = plt.figure(constrained_layout=True)\n",
    "\n",
    "gs = GridSpec(1, 3, figure=fig)\n",
    "\n",
    "ax1 = fig.add_subplot(gs[0, 0])\n",
    "ax2 = fig.add_subplot(gs[0, 1])\n",
    "ax3 = fig.add_subplot(gs[0, 2])\n",
    "\n",
    "#DEGREE CENTRALITY\n",
    "ax1.hist(degree_series , bins = 40, color = 'black' , rwidth = 1.0 , edgecolor='white', linewidth=0.75)\n",
    "\n",
    "ax1.set_ylabel('Number of Nodes', fontsize = 12, color = 'k')\n",
    "ax1.set_xlabel(f'Degree' , fontsize = 12, color = 'k')\n",
    "\n",
    "ax1.spines['right'].set_visible(False)\n",
    "ax1.spines['top'].set_visible(False)\n",
    "ax1.grid(False)\n",
    "ax1.tick_params(labelcolor = 'k')\n",
    "ax1.tick_params(axis='y', which='major', labelsize=12 , labelcolor = 'k')\n",
    "ax1.tick_params(axis='x', which='major', labelsize=12 , labelcolor = 'k')\n",
    "\n",
    "#WEIGHTED DEGREE CENTRALITY\n",
    "ax2.hist(weighted_degree_series , bins = 40, color = 'black' , rwidth = 1.0 , edgecolor='white', linewidth=0.75)\n",
    "\n",
    "ax2.set_ylabel('Number of Nodes', fontsize = 12, color = 'k')\n",
    "ax2.set_xlabel(f'Weighted Degree' , fontsize = 12, color = 'k')\n",
    "\n",
    "ax2.spines['right'].set_visible(False)\n",
    "ax2.spines['top'].set_visible(False)\n",
    "ax2.grid(False)\n",
    "ax2.tick_params(labelcolor = 'k')\n",
    "ax2.tick_params(axis='y', which='major', labelsize=12 , labelcolor = 'k')\n",
    "ax2.tick_params(axis='x', which='major', labelsize=12 , labelcolor = 'k')\n",
    "    \n",
    "#EIGENVECTOR CENTRALITY\n",
    "ax3.hist(eigenvector_centrality_series , bins = 40, color = 'black' , rwidth = 1.0 , edgecolor='white', linewidth=0.75)\n",
    "\n",
    "ax3.set_ylabel('Number of Nodes', fontsize = 12, color = 'k')\n",
    "ax3.set_xlabel(f'Eigenvector Centrality' , fontsize = 12, color = 'k')\n",
    "\n",
    "ax3.spines['right'].set_visible(False)\n",
    "ax3.spines['top'].set_visible(False)\n",
    "ax3.grid(False)\n",
    "ax3.tick_params(labelcolor = 'k')\n",
    "ax3.tick_params(axis='y', which='major', labelsize=12 , labelcolor = 'k')\n",
    "ax3.tick_params(axis='x', which='major', labelsize=12 , labelcolor = 'k')\n",
    "    \n",
    "################### Plot ###################\n",
    "fig = plt.gcf()\n",
    "fig.set_size_inches(15, 5.0)\n",
    "fig.tight_layout()\n",
    "\n",
    "#file_name = '/n/data1/hms/dbmi/farhat/Roger/homoplasy_project/Figures/lab_meeting_12_12_19/pairwise_SNP_distance/distribution_of_pairwise_SNP_distances.png'\n",
    "#plt.savefig(file_name, bbox_inches='tight', dpi = 300 , transparent = True)\n",
    "\n",
    "plt.show()"
   ]
  },
  {
   "cell_type": "code",
   "execution_count": 33,
   "metadata": {},
   "outputs": [
    {
     "data": {
      "text/plain": [
       "BATF2       27\n",
       "FCGR1A      26\n",
       "VAMP5       26\n",
       "SERPING1    22\n",
       "WARS        22\n",
       "GBP4        22\n",
       "GBP5        22\n",
       "GBP1        22\n",
       "ANKRD22     18\n",
       "AIM2        17\n",
       "dtype: int64"
      ]
     },
     "execution_count": 33,
     "metadata": {},
     "output_type": "execute_result"
    }
   ],
   "source": [
    "degree_series.head(n=10)"
   ]
  },
  {
   "cell_type": "code",
   "execution_count": 34,
   "metadata": {},
   "outputs": [
    {
     "data": {
      "text/plain": [
       "BATF2       9.4\n",
       "FCGR1A      9.0\n",
       "VAMP5       9.0\n",
       "SERPING1    7.3\n",
       "WARS        7.3\n",
       "GBP4        7.3\n",
       "GBP1        7.3\n",
       "GBP5        7.3\n",
       "ANKRD22     6.1\n",
       "FCGR1B      5.7\n",
       "dtype: float64"
      ]
     },
     "execution_count": 34,
     "metadata": {},
     "output_type": "execute_result"
    }
   ],
   "source": [
    "weighted_degree_series.head(n=10)"
   ]
  },
  {
   "cell_type": "code",
   "execution_count": 35,
   "metadata": {},
   "outputs": [
    {
     "data": {
      "text/plain": [
       "BATF2       0.310594\n",
       "FCGR1A      0.278795\n",
       "VAMP5       0.278795\n",
       "SERPING1    0.259283\n",
       "GBP4        0.259283\n",
       "GBP5        0.259283\n",
       "WARS        0.259283\n",
       "GBP1        0.259283\n",
       "FCGR1B      0.226134\n",
       "SEPT4       0.226134\n",
       "dtype: float64"
      ]
     },
     "execution_count": 35,
     "metadata": {},
     "output_type": "execute_result"
    }
   ],
   "source": [
    "eigenvector_centrality_series.head(n=10)"
   ]
  },
  {
   "cell_type": "markdown",
   "metadata": {},
   "source": [
    "How does the ranking of centrality values between **Weighted Degree** and **Eigenvector** centrality compare?"
   ]
  },
  {
   "cell_type": "code",
   "execution_count": 36,
   "metadata": {},
   "outputs": [
    {
     "data": {
      "image/png": "[encoded data removed]",
      "text/plain": [
       "<Figure size 540x396 with 1 Axes>"
      ]
     },
     "metadata": {},
     "output_type": "display_data"
    }
   ],
   "source": [
    "fig , ax = plt.subplots()\n",
    "\n",
    "ax.scatter(weighted_degree_series[eigenvector_centrality_series.index], eigenvector_centrality_series , color = 'white' , linewidth=0.75 , edgecolor = 'black' , s = 20 , alpha = 0.75)\n",
    "\n",
    "#ax.set_title('Degree vs. Eigenvector Centrality', fontsize = 10, color = 'k')\n",
    "ax.set_ylabel('Eigenvector Centrality', fontsize = 12, color = 'k')\n",
    "ax.set_xlabel('Weighted Degree' , fontsize = 12, color = 'k')\n",
    "\n",
    "ax.spines['right'].set_visible(False)\n",
    "ax.spines['top'].set_visible(False)\n",
    "ax.grid(False)\n",
    "ax.tick_params(labelcolor = 'k')\n",
    "ax.tick_params(axis='y', which='major', labelsize=12 , labelcolor = 'k')\n",
    "ax.tick_params(axis='x', which='major', labelsize=12 , labelcolor = 'k')\n",
    "\n",
    "fig = plt.gcf()\n",
    "fig.set_size_inches(7.5, 5.5)\n",
    "fig.tight_layout()\n",
    "\n",
    "#file_name = '/n/data1/hms/dbmi/farhat/Roger/homoplasy_project/Figures/lab_meeting_12_12_19/pairwise_SNP_distance/distribution_of_pairwise_SNP_distances.png'\n",
    "#plt.savefig(file_name, bbox_inches='tight', dpi = 300 , transparent = True)\n",
    "\n",
    "plt.show()"
   ]
  },
  {
   "cell_type": "code",
   "execution_count": 37,
   "metadata": {},
   "outputs": [
    {
     "name": "stdout",
     "output_type": "stream",
     "text": [
      "BATF2\n",
      "FCGR1A\n",
      "VAMP5\n",
      "SERPING1\n",
      "WARS\n",
      "GBP4\n",
      "GBP1\n",
      "GBP5\n",
      "ANKRD22\n",
      "FCGR1B\n"
     ]
    }
   ],
   "source": [
    "for edge in weighted_degree_series.head(n=10).index:\n",
    "    print(edge)"
   ]
  },
  {
   "cell_type": "markdown",
   "metadata": {},
   "source": [
    "Where are the most **central** nodes located in the network?"
   ]
  },
  {
   "cell_type": "code",
   "execution_count": 39,
   "metadata": {},
   "outputs": [
    {
     "data": {
      "image/png": "[encoded data removed]",
      "text/plain": [
       "<Figure size 648x540 with 1 Axes>"
      ]
     },
     "metadata": {},
     "output_type": "display_data"
    }
   ],
   "source": [
    "central_nodes = set(weighted_degree_series[0:10].index)\n",
    "\n",
    "fig , ax = plt.subplots()\n",
    "\n",
    "draw_graph_and_color_subset_nodes(G, central_nodes, ax)\n",
    "\n",
    "fig = plt.gcf()\n",
    "fig.set_size_inches(9.0, 7.5)\n",
    "fig.tight_layout()\n",
    "plt.show()"
   ]
  },
  {
   "cell_type": "markdown",
   "metadata": {},
   "source": [
    "## Analyze Transcription Factors"
   ]
  },
  {
   "cell_type": "markdown",
   "metadata": {},
   "source": [
    "Load list of transcription factors from CSV file"
   ]
  },
  {
   "cell_type": "code",
   "execution_count": 40,
   "metadata": {},
   "outputs": [],
   "source": [
    "TF_df = pd.read_csv(\"/n/data1/hms/dbmi/farhat/Roger/gatesMRI/Projects/Biomarkers/Data/Transcription Factor list/DatabaseExtract_v_1.01.csv\").set_index('Unnamed: 0')"
   ]
  },
  {
   "cell_type": "code",
   "execution_count": 41,
   "metadata": {},
   "outputs": [
    {
     "data": {
      "text/html": [
       "<div>\n",
       "<style scoped>\n",
       "    .dataframe tbody tr th:only-of-type {\n",
       "        vertical-align: middle;\n",
       "    }\n",
       "\n",
       "    .dataframe tbody tr th {\n",
       "        vertical-align: top;\n",
       "    }\n",
       "\n",
       "    .dataframe thead th {\n",
       "        text-align: right;\n",
       "    }\n",
       "</style>\n",
       "<table border=\"1\" class=\"dataframe\">\n",
       "  <thead>\n",
       "    <tr style=\"text-align: right;\">\n",
       "      <th></th>\n",
       "      <th>Ensembl ID</th>\n",
       "      <th>HGNC symbol</th>\n",
       "      <th>DBD</th>\n",
       "      <th>Is TF?</th>\n",
       "      <th>TF assessment</th>\n",
       "      <th>Binding mode</th>\n",
       "      <th>Motif status</th>\n",
       "      <th>Final Notes</th>\n",
       "      <th>Final Comments</th>\n",
       "      <th>Interpro ID(s)</th>\n",
       "      <th>...</th>\n",
       "      <th>CisBP considers it a TF?</th>\n",
       "      <th>TFCat classification</th>\n",
       "      <th>Is a GO TF?</th>\n",
       "      <th>Initial assessment</th>\n",
       "      <th>Curator 1</th>\n",
       "      <th>Curator 2</th>\n",
       "      <th>TFclass considers it a TF?</th>\n",
       "      <th>Go Evidence</th>\n",
       "      <th>Pfam Domains (By ENSP ID)</th>\n",
       "      <th>Is C2H2 ZF(KRAB)?</th>\n",
       "    </tr>\n",
       "    <tr>\n",
       "      <th>Unnamed: 0</th>\n",
       "      <th></th>\n",
       "      <th></th>\n",
       "      <th></th>\n",
       "      <th></th>\n",
       "      <th></th>\n",
       "      <th></th>\n",
       "      <th></th>\n",
       "      <th></th>\n",
       "      <th></th>\n",
       "      <th></th>\n",
       "      <th></th>\n",
       "      <th></th>\n",
       "      <th></th>\n",
       "      <th></th>\n",
       "      <th></th>\n",
       "      <th></th>\n",
       "      <th></th>\n",
       "      <th></th>\n",
       "      <th></th>\n",
       "      <th></th>\n",
       "      <th></th>\n",
       "    </tr>\n",
       "  </thead>\n",
       "  <tbody>\n",
       "    <tr>\n",
       "      <th>0</th>\n",
       "      <td>ENSG00000137203</td>\n",
       "      <td>TFAP2A</td>\n",
       "      <td>AP-2</td>\n",
       "      <td>Yes</td>\n",
       "      <td>Known motif</td>\n",
       "      <td>Monomer or homomultimer</td>\n",
       "      <td>High-throughput in vitro</td>\n",
       "      <td>None</td>\n",
       "      <td>None</td>\n",
       "      <td>IPR008121;IPR013854</td>\n",
       "      <td>...</td>\n",
       "      <td>Yes</td>\n",
       "      <td>TF Gene_DNA-Binding: sequence-specific_DNA Bin...</td>\n",
       "      <td>Yes</td>\n",
       "      <td>1a1, Direct HQ evidence</td>\n",
       "      <td>Sam Lambert</td>\n",
       "      <td>Yimeng Yin</td>\n",
       "      <td>Yes</td>\n",
       "      <td>$#ENSG00000137203#GO:0000981#sequence-specific...</td>\n",
       "      <td>$#ENSP00000368928#ENSG00000137203#ENST00000379...</td>\n",
       "      <td>False</td>\n",
       "    </tr>\n",
       "    <tr>\n",
       "      <th>1</th>\n",
       "      <td>ENSG00000008196</td>\n",
       "      <td>TFAP2B</td>\n",
       "      <td>AP-2</td>\n",
       "      <td>Yes</td>\n",
       "      <td>Known motif</td>\n",
       "      <td>Monomer or homomultimer</td>\n",
       "      <td>High-throughput in vitro</td>\n",
       "      <td>None</td>\n",
       "      <td>None</td>\n",
       "      <td>IPR008122;IPR013854</td>\n",
       "      <td>...</td>\n",
       "      <td>Yes</td>\n",
       "      <td>TF Gene_DNA-Binding: sequence-specific_DNA Bin...</td>\n",
       "      <td>Yes</td>\n",
       "      <td>1a1, Direct HQ evidence</td>\n",
       "      <td>Matt Weirauch</td>\n",
       "      <td>Yimeng Yin</td>\n",
       "      <td>Yes</td>\n",
       "      <td>$#ENSG00000008196#GO:0000981#sequence-specific...</td>\n",
       "      <td>$#ENSP00000377265#ENSG00000008196#ENST00000393...</td>\n",
       "      <td>False</td>\n",
       "    </tr>\n",
       "    <tr>\n",
       "      <th>2</th>\n",
       "      <td>ENSG00000087510</td>\n",
       "      <td>TFAP2C</td>\n",
       "      <td>AP-2</td>\n",
       "      <td>Yes</td>\n",
       "      <td>Known motif</td>\n",
       "      <td>Monomer or homomultimer</td>\n",
       "      <td>High-throughput in vitro</td>\n",
       "      <td>None</td>\n",
       "      <td>None</td>\n",
       "      <td>IPR008123;IPR013854</td>\n",
       "      <td>...</td>\n",
       "      <td>Yes</td>\n",
       "      <td>No</td>\n",
       "      <td>Yes</td>\n",
       "      <td>1a1, Direct HQ evidence</td>\n",
       "      <td>Matt Weirauch</td>\n",
       "      <td>Yimeng Yin</td>\n",
       "      <td>Yes</td>\n",
       "      <td>$#ENSG00000087510#GO:0001077#RNA polymerase II...</td>\n",
       "      <td>$#ENSP00000201031#ENSG00000087510#ENST00000201...</td>\n",
       "      <td>False</td>\n",
       "    </tr>\n",
       "    <tr>\n",
       "      <th>3</th>\n",
       "      <td>ENSG00000008197</td>\n",
       "      <td>TFAP2D</td>\n",
       "      <td>AP-2</td>\n",
       "      <td>Yes</td>\n",
       "      <td>Known motif</td>\n",
       "      <td>Monomer or homomultimer</td>\n",
       "      <td>In vivo/Misc source</td>\n",
       "      <td>Only known motifs are from Transfac or HocoMoc...</td>\n",
       "      <td>Binds the same GCCTGAGGC sequence as the other...</td>\n",
       "      <td>IPR013854;</td>\n",
       "      <td>...</td>\n",
       "      <td>Yes</td>\n",
       "      <td>No</td>\n",
       "      <td>Yes</td>\n",
       "      <td>2a1, Lower confidence direct evidence</td>\n",
       "      <td>Arttu Jolma</td>\n",
       "      <td>Sam Lambert</td>\n",
       "      <td>Yes</td>\n",
       "      <td>$#ENSG00000008197#GO:0000981#sequence-specific...</td>\n",
       "      <td>$#ENSP00000008391#ENSG00000008197#ENST00000008...</td>\n",
       "      <td>False</td>\n",
       "    </tr>\n",
       "    <tr>\n",
       "      <th>4</th>\n",
       "      <td>ENSG00000116819</td>\n",
       "      <td>TFAP2E</td>\n",
       "      <td>AP-2</td>\n",
       "      <td>Yes</td>\n",
       "      <td>Known motif</td>\n",
       "      <td>Monomer or homomultimer</td>\n",
       "      <td>High-throughput in vitro</td>\n",
       "      <td>None</td>\n",
       "      <td>None</td>\n",
       "      <td>IPR013854;</td>\n",
       "      <td>...</td>\n",
       "      <td>Yes</td>\n",
       "      <td>TF Gene_DNA-Binding: sequence-specific_DNA Bin...</td>\n",
       "      <td>Yes</td>\n",
       "      <td>1a1, Direct HQ evidence</td>\n",
       "      <td>Sam Lambert</td>\n",
       "      <td>Laura Campitelli</td>\n",
       "      <td>Yes</td>\n",
       "      <td>$#ENSG00000116819#GO:0000981#sequence-specific...</td>\n",
       "      <td>$#ENSP00000362332#ENSG00000116819#ENST00000373...</td>\n",
       "      <td>False</td>\n",
       "    </tr>\n",
       "  </tbody>\n",
       "</table>\n",
       "<p>5 rows × 28 columns</p>\n",
       "</div>"
      ],
      "text/plain": [
       "                 Ensembl ID HGNC symbol   DBD Is TF? TF assessment  \\\n",
       "Unnamed: 0                                                           \n",
       "0           ENSG00000137203      TFAP2A  AP-2    Yes   Known motif   \n",
       "1           ENSG00000008196      TFAP2B  AP-2    Yes   Known motif   \n",
       "2           ENSG00000087510      TFAP2C  AP-2    Yes   Known motif   \n",
       "3           ENSG00000008197      TFAP2D  AP-2    Yes   Known motif   \n",
       "4           ENSG00000116819      TFAP2E  AP-2    Yes   Known motif   \n",
       "\n",
       "                       Binding mode              Motif status  \\\n",
       "Unnamed: 0                                                      \n",
       "0           Monomer or homomultimer  High-throughput in vitro   \n",
       "1           Monomer or homomultimer  High-throughput in vitro   \n",
       "2           Monomer or homomultimer  High-throughput in vitro   \n",
       "3           Monomer or homomultimer       In vivo/Misc source   \n",
       "4           Monomer or homomultimer  High-throughput in vitro   \n",
       "\n",
       "                                                  Final Notes  \\\n",
       "Unnamed: 0                                                      \n",
       "0                                                        None   \n",
       "1                                                        None   \n",
       "2                                                        None   \n",
       "3           Only known motifs are from Transfac or HocoMoc...   \n",
       "4                                                        None   \n",
       "\n",
       "                                               Final Comments  \\\n",
       "Unnamed: 0                                                      \n",
       "0                                                        None   \n",
       "1                                                        None   \n",
       "2                                                        None   \n",
       "3           Binds the same GCCTGAGGC sequence as the other...   \n",
       "4                                                        None   \n",
       "\n",
       "                 Interpro ID(s)  ... CisBP considers it a TF?  \\\n",
       "Unnamed: 0                       ...                            \n",
       "0           IPR008121;IPR013854  ...                      Yes   \n",
       "1           IPR008122;IPR013854  ...                      Yes   \n",
       "2           IPR008123;IPR013854  ...                      Yes   \n",
       "3                    IPR013854;  ...                      Yes   \n",
       "4                    IPR013854;  ...                      Yes   \n",
       "\n",
       "                                         TFCat classification Is a GO TF?  \\\n",
       "Unnamed: 0                                                                  \n",
       "0           TF Gene_DNA-Binding: sequence-specific_DNA Bin...         Yes   \n",
       "1           TF Gene_DNA-Binding: sequence-specific_DNA Bin...         Yes   \n",
       "2                                                          No         Yes   \n",
       "3                                                          No         Yes   \n",
       "4           TF Gene_DNA-Binding: sequence-specific_DNA Bin...         Yes   \n",
       "\n",
       "                              Initial assessment       Curator 1  \\\n",
       "Unnamed: 0                                                         \n",
       "0                         1a1, Direct HQ evidence    Sam Lambert   \n",
       "1                         1a1, Direct HQ evidence  Matt Weirauch   \n",
       "2                         1a1, Direct HQ evidence  Matt Weirauch   \n",
       "3           2a1, Lower confidence direct evidence    Arttu Jolma   \n",
       "4                         1a1, Direct HQ evidence    Sam Lambert   \n",
       "\n",
       "                   Curator 2 TFclass considers it a TF?   \\\n",
       "Unnamed: 0                                                 \n",
       "0                 Yimeng Yin                         Yes   \n",
       "1                 Yimeng Yin                         Yes   \n",
       "2                 Yimeng Yin                         Yes   \n",
       "3                Sam Lambert                         Yes   \n",
       "4           Laura Campitelli                         Yes   \n",
       "\n",
       "                                                  Go Evidence  \\\n",
       "Unnamed: 0                                                      \n",
       "0           $#ENSG00000137203#GO:0000981#sequence-specific...   \n",
       "1           $#ENSG00000008196#GO:0000981#sequence-specific...   \n",
       "2           $#ENSG00000087510#GO:0001077#RNA polymerase II...   \n",
       "3           $#ENSG00000008197#GO:0000981#sequence-specific...   \n",
       "4           $#ENSG00000116819#GO:0000981#sequence-specific...   \n",
       "\n",
       "                                    Pfam Domains (By ENSP ID)  \\\n",
       "Unnamed: 0                                                      \n",
       "0           $#ENSP00000368928#ENSG00000137203#ENST00000379...   \n",
       "1           $#ENSP00000377265#ENSG00000008196#ENST00000393...   \n",
       "2           $#ENSP00000201031#ENSG00000087510#ENST00000201...   \n",
       "3           $#ENSP00000008391#ENSG00000008197#ENST00000008...   \n",
       "4           $#ENSP00000362332#ENSG00000116819#ENST00000373...   \n",
       "\n",
       "           Is C2H2 ZF(KRAB)?  \n",
       "Unnamed: 0                    \n",
       "0                      False  \n",
       "1                      False  \n",
       "2                      False  \n",
       "3                      False  \n",
       "4                      False  \n",
       "\n",
       "[5 rows x 28 columns]"
      ]
     },
     "execution_count": 41,
     "metadata": {},
     "output_type": "execute_result"
    }
   ],
   "source": [
    "TF_df.head()"
   ]
  },
  {
   "cell_type": "code",
   "execution_count": 42,
   "metadata": {},
   "outputs": [
    {
     "data": {
      "text/plain": [
       "(2765, 28)"
      ]
     },
     "execution_count": 42,
     "metadata": {},
     "output_type": "execute_result"
    }
   ],
   "source": [
    "np.shape(TF_df)"
   ]
  },
  {
   "cell_type": "markdown",
   "metadata": {},
   "source": [
    "Keep only the genes from list that are Transcription Factors"
   ]
  },
  {
   "cell_type": "code",
   "execution_count": 43,
   "metadata": {},
   "outputs": [],
   "source": [
    "TF_df = TF_df[TF_df.loc[: , 'Is TF?'] == 'Yes']\n",
    "TF_df.reset_index(inplace = True , drop = True)"
   ]
  },
  {
   "cell_type": "code",
   "execution_count": 44,
   "metadata": {},
   "outputs": [
    {
     "data": {
      "text/plain": [
       "(1639, 28)"
      ]
     },
     "execution_count": 44,
     "metadata": {},
     "output_type": "execute_result"
    }
   ],
   "source": [
    "np.shape(TF_df)"
   ]
  },
  {
   "cell_type": "markdown",
   "metadata": {},
   "source": [
    "Get list of TFs using the HGNC gene symbols"
   ]
  },
  {
   "cell_type": "code",
   "execution_count": 45,
   "metadata": {},
   "outputs": [],
   "source": [
    "TF_list = list(TF_df.loc[: , 'HGNC symbol'])"
   ]
  },
  {
   "cell_type": "code",
   "execution_count": 46,
   "metadata": {},
   "outputs": [
    {
     "data": {
      "text/plain": [
       "1639"
      ]
     },
     "execution_count": 46,
     "metadata": {},
     "output_type": "execute_result"
    }
   ],
   "source": [
    "len(TF_list)"
   ]
  },
  {
   "cell_type": "markdown",
   "metadata": {},
   "source": [
    "#### Get the weighted degree for the transcription factors that are present in nodes in the graph"
   ]
  },
  {
   "cell_type": "code",
   "execution_count": 47,
   "metadata": {},
   "outputs": [],
   "source": [
    "TF_node_gene_list = []\n",
    "TF_node_weighted_degree_list = []\n",
    "\n",
    "gene_nodes_in_G = set(weighted_degree_series.index)\n",
    "\n",
    "for gene_i in TF_list:\n",
    "    \n",
    "    if gene_i in gene_nodes_in_G:\n",
    "        \n",
    "        TF_node_gene_list.append(gene_i)\n",
    "        TF_node_weighted_degree_list.append(weighted_degree_series[gene_i])\n",
    "        \n",
    "TF_weighted_degree_series = pd.Series(TF_node_weighted_degree_list, index = TF_node_gene_list).sort_values(ascending = False)"
   ]
  },
  {
   "cell_type": "code",
   "execution_count": 48,
   "metadata": {},
   "outputs": [
    {
     "data": {
      "text/plain": [
       "BATF2    9.4\n",
       "ETS2     2.1\n",
       "ETV7     1.1\n",
       "dtype: float64"
      ]
     },
     "execution_count": 48,
     "metadata": {},
     "output_type": "execute_result"
    }
   ],
   "source": [
    "TF_weighted_degree_series.head(n=20)"
   ]
  },
  {
   "cell_type": "code",
   "execution_count": 49,
   "metadata": {},
   "outputs": [
    {
     "data": {
      "text/plain": [
       "3"
      ]
     },
     "execution_count": 49,
     "metadata": {},
     "output_type": "execute_result"
    }
   ],
   "source": [
    "len(TF_weighted_degree_series)"
   ]
  },
  {
   "cell_type": "code",
   "execution_count": 50,
   "metadata": {},
   "outputs": [
    {
     "data": {
      "image/png": "[encoded data removed]",
      "text/plain": [
       "<Figure size 648x540 with 1 Axes>"
      ]
     },
     "metadata": {},
     "output_type": "display_data"
    }
   ],
   "source": [
    "fig , ax = plt.subplots()\n",
    "\n",
    "draw_graph_and_color_subset_nodes(G, list(TF_weighted_degree_series.index), ax)\n",
    "\n",
    "fig = plt.gcf()\n",
    "fig.set_size_inches(9.0, 7.5)\n",
    "fig.tight_layout()\n",
    "plt.show()"
   ]
  },
  {
   "cell_type": "markdown",
   "metadata": {},
   "source": [
    "#### plot the distribution of centrality for nodes in the network that are transcription factors"
   ]
  },
  {
   "cell_type": "code",
   "execution_count": 53,
   "metadata": {},
   "outputs": [],
   "source": [
    "weighted_degree_TF_thresh = 5"
   ]
  },
  {
   "cell_type": "code",
   "execution_count": 54,
   "metadata": {},
   "outputs": [
    {
     "data": {
      "image/png": "[encoded data removed]",
      "text/plain": [
       "<Figure size 504x396 with 1 Axes>"
      ]
     },
     "metadata": {},
     "output_type": "display_data"
    }
   ],
   "source": [
    "fig , ax = plt.subplots()\n",
    "\n",
    "n, bins, patches = ax.hist(TF_weighted_degree_series , bins = 60, color = 'black' , rwidth = 1.0 , edgecolor='white', linewidth=0.75)\n",
    "ax.hist(TF_weighted_degree_series[TF_weighted_degree_series >= weighted_degree_TF_thresh] , bins = bins, color = 'xkcd:green' , rwidth = 1.0 , edgecolor='white', linewidth=0.75)\n",
    "\n",
    "ax.set_title(f'Transcription Factors in G\\n(# Nodes with high weighted degree = {len(TF_weighted_degree_series[TF_weighted_degree_series >= weighted_degree_TF_thresh].index)})', fontsize = 12, color = 'k')\n",
    "ax.set_ylabel(f'Number of Nodes\\n(Total # Nodes = {len(TF_weighted_degree_series.index)}) ', fontsize = 12, color = 'k')\n",
    "ax.set_xlabel('Weighted Degree' , fontsize = 12, color = 'k')\n",
    "\n",
    "ax.spines['right'].set_visible(False)\n",
    "ax.spines['top'].set_visible(False)\n",
    "ax.grid(False)\n",
    "ax.tick_params(labelcolor = 'k')\n",
    "ax.tick_params(axis='y', which='major', labelsize=12 , labelcolor = 'k')\n",
    "ax.tick_params(axis='x', which='major', labelsize=12 , labelcolor = 'k')\n",
    "\n",
    "fig = plt.gcf()\n",
    "fig.set_size_inches(7.0, 5.5)\n",
    "fig.tight_layout()"
   ]
  },
  {
   "cell_type": "code",
   "execution_count": 55,
   "metadata": {},
   "outputs": [
    {
     "data": {
      "image/png": "[encoded data removed]",
      "text/plain": [
       "<Figure size 648x540 with 1 Axes>"
      ]
     },
     "metadata": {},
     "output_type": "display_data"
    }
   ],
   "source": [
    "fig , ax = plt.subplots()\n",
    "\n",
    "draw_graph_and_color_subset_nodes(G, list(TF_weighted_degree_series[TF_weighted_degree_series >= weighted_degree_TF_thresh].index), ax)\n",
    "\n",
    "fig = plt.gcf()\n",
    "fig.set_size_inches(9.0, 7.5)\n",
    "fig.tight_layout()\n",
    "plt.show()"
   ]
  },
  {
   "cell_type": "code",
   "execution_count": 56,
   "metadata": {},
   "outputs": [
    {
     "name": "stdout",
     "output_type": "stream",
     "text": [
      "BATF2\n"
     ]
    }
   ],
   "source": [
    "for gene_i in TF_weighted_degree_series[TF_weighted_degree_series >= weighted_degree_TF_thresh].index:\n",
    "    print(gene_i)"
   ]
  },
  {
   "cell_type": "code",
   "execution_count": 57,
   "metadata": {},
   "outputs": [
    {
     "data": {
      "text/plain": [
       "BATF2    9.4\n",
       "ETS2     2.1\n",
       "ETV7     1.1\n",
       "dtype: float64"
      ]
     },
     "execution_count": 57,
     "metadata": {},
     "output_type": "execute_result"
    }
   ],
   "source": [
    "TF_weighted_degree_series.head(n=40)"
   ]
  },
  {
   "cell_type": "markdown",
   "metadata": {},
   "source": [
    "## Get mean $log_2$(Fold Change) for all genes in network"
   ]
  },
  {
   "cell_type": "markdown",
   "metadata": {},
   "source": [
    "Create a series that stores the mean $log2(FC)$ across datasets from the $log2(FC)$ matrix (rows = genes & columns = datasets)"
   ]
  },
  {
   "cell_type": "markdown",
   "metadata": {},
   "source": [
    "when averaging $log2(FC)$ across datasets, **only include the non-zero** datasets (columns)???\n",
    "\n",
    "- datasets in which logFC for a gene = 0 are due to q-value threshold or logFC threshold???"
   ]
  },
  {
   "cell_type": "code",
   "execution_count": 58,
   "metadata": {},
   "outputs": [
    {
     "name": "stderr",
     "output_type": "stream",
     "text": [
      "/home/rv76/anaconda2/envs/py36_MRI_virtualenv/lib/python3.6/site-packages/ipykernel_launcher.py:2: DeprecationWarning: The default dtype for empty Series will be 'object' instead of 'float64' in a future version. Specify a dtype explicitly to silence this warning.\n",
      "  \n"
     ]
    }
   ],
   "source": [
    "genes_in_network = list(G.nodes()) #get all nodes in the network\n",
    "mean_logFC_series = pd.Series(index = genes_in_network) #create series\n",
    "\n",
    "for gene_i in mean_logFC_series.index:\n",
    "    \n",
    "    #use code below to calculate average logFC for gene across datasets (ignoring the entries where logFC = 0)\n",
    "    #gene_i_mean_logFC = float(diff_gene_exp_df.loc[gene_i , :].sum()) / float(np.sum(diff_gene_exp_df.loc[gene_i , :] != 0.0))\n",
    "    \n",
    "    #use code below to calculate average logFC for gene across ALL datasets/studies\n",
    "    gene_i_mean_logFC = diff_gene_exp_df.loc[gene_i , :].mean()\n",
    "    \n",
    "    #append to series\n",
    "    mean_logFC_series[gene_i] = gene_i_mean_logFC\n",
    "    \n",
    "mean_logFC_series.sort_values(inplace = True, ascending = False)"
   ]
  },
  {
   "cell_type": "code",
   "execution_count": 59,
   "metadata": {},
   "outputs": [
    {
     "data": {
      "text/plain": [
       "SEPT4       0.889510\n",
       "ANKRD22     0.828368\n",
       "C1QB        0.827058\n",
       "BATF2       0.751017\n",
       "SERPING1    0.732517\n",
       "FCGR1A      0.710203\n",
       "P2RY14      0.695406\n",
       "GBP5        0.667358\n",
       "FCGR1B      0.560587\n",
       "AIM2        0.533111\n",
       "GBP4        0.532321\n",
       "CACNA1E     0.509538\n",
       "GBP1        0.496693\n",
       "CARD17      0.484252\n",
       "FAM26F      0.459859\n",
       "dtype: float64"
      ]
     },
     "execution_count": 59,
     "metadata": {},
     "output_type": "execute_result"
    }
   ],
   "source": [
    "mean_logFC_series.head(n = 15)"
   ]
  },
  {
   "cell_type": "code",
   "execution_count": 60,
   "metadata": {},
   "outputs": [
    {
     "data": {
      "text/plain": [
       "ADCY3      0.118786\n",
       "ANXA3      0.089488\n",
       "CD3G       0.087762\n",
       "GZMH       0.084985\n",
       "ADGRG1     0.071262\n",
       "NLRC4      0.042753\n",
       "GNLY       0.012073\n",
       "MGAM      -0.017555\n",
       "ETS2      -0.065810\n",
       "SAMSN1    -0.103744\n",
       "SNORD3A   -0.112014\n",
       "SNORD3D   -0.118909\n",
       "S100A12   -0.119987\n",
       "ZDHHC19   -0.213950\n",
       "PCOLCE2   -0.259797\n",
       "dtype: float64"
      ]
     },
     "execution_count": 60,
     "metadata": {},
     "output_type": "execute_result"
    }
   ],
   "source": [
    "mean_logFC_series.tail(n = 15)"
   ]
  },
  {
   "cell_type": "code",
   "execution_count": 61,
   "metadata": {},
   "outputs": [
    {
     "data": {
      "text/plain": [
       "(67,)"
      ]
     },
     "execution_count": 61,
     "metadata": {},
     "output_type": "execute_result"
    }
   ],
   "source": [
    "np.shape(mean_logFC_series)"
   ]
  },
  {
   "cell_type": "markdown",
   "metadata": {},
   "source": [
    "#### plot the distribution of mean logFC for genes (nodes) in the network"
   ]
  },
  {
   "cell_type": "code",
   "execution_count": 62,
   "metadata": {},
   "outputs": [
    {
     "data": {
      "image/png": "[encoded data removed]",
      "text/plain": [
       "<Figure size 504x396 with 1 Axes>"
      ]
     },
     "metadata": {},
     "output_type": "display_data"
    }
   ],
   "source": [
    "fig , ax = plt.subplots()\n",
    "\n",
    "n, bins, patches = ax.hist(mean_logFC_series , bins = 70, color = 'black' , rwidth = 1.0 , edgecolor='white', linewidth=0.75)\n",
    "\n",
    "ax.set_title(f'distribution of mean log2(FC) for genes in network', fontsize = 12, color = 'k')\n",
    "ax.set_ylabel(f'number of genes (nodes)', fontsize = 12, color = 'k')\n",
    "ax.set_xlabel('mean log2(FC) across datasets' , fontsize = 12, color = 'k')\n",
    "\n",
    "ax.spines['right'].set_visible(False)\n",
    "ax.spines['top'].set_visible(False)\n",
    "ax.grid(False)\n",
    "ax.tick_params(labelcolor = 'k')\n",
    "ax.tick_params(axis='y', which='major', labelsize=12 , labelcolor = 'k')\n",
    "ax.tick_params(axis='x', which='major', labelsize=12 , labelcolor = 'k')\n",
    "\n",
    "fig = plt.gcf()\n",
    "fig.set_size_inches(7.0, 5.5)\n",
    "fig.tight_layout()"
   ]
  },
  {
   "cell_type": "markdown",
   "metadata": {},
   "source": [
    "Pickle **mean $log2(FC)$** series for comparison with other networks and downstream analysis"
   ]
  },
  {
   "cell_type": "code",
   "execution_count": 63,
   "metadata": {},
   "outputs": [],
   "source": [
    "mean_logFC_series.to_pickle(pickled_objects_dir + f'Network Files/mean logFC network nodes series/{comparison_X}.pkl')"
   ]
  },
  {
   "cell_type": "code",
   "execution_count": null,
   "metadata": {},
   "outputs": [],
   "source": []
  },
  {
   "cell_type": "code",
   "execution_count": null,
   "metadata": {},
   "outputs": [],
   "source": []
  }
 ],
 "metadata": {
  "kernelspec": {
   "display_name": "Python [conda env:py36_MRI_virtualenv]",
   "language": "python",
   "name": "conda-env-py36_MRI_virtualenv-py"
  },
  "language_info": {
   "codemirror_mode": {
    "name": "ipython",
    "version": 3
   },
   "file_extension": ".py",
   "mimetype": "text/x-python",
   "name": "python",
   "nbconvert_exporter": "python",
   "pygments_lexer": "ipython3",
   "version": "3.6.10"
  }
 },
 "nbformat": 4,
 "nbformat_minor": 4
}
